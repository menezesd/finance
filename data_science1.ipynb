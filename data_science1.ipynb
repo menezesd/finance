{
  "nbformat": 4,
  "nbformat_minor": 0,
  "metadata": {
    "colab": {
      "provenance": []
    },
    "kernelspec": {
      "name": "python3",
      "display_name": "Python 3"
    },
    "language_info": {
      "name": "python"
    }
  },
  "cells": [
    {
      "cell_type": "code",
      "execution_count": null,
      "metadata": {
        "id": "szsOWvbjZ9u_"
      },
      "outputs": [],
      "source": []
    },
    {
      "cell_type": "markdown",
      "source": [
        "# Skewness"
      ],
      "metadata": {
        "id": "dyChdL8huNLE"
      }
    },
    {
      "cell_type": "markdown",
      "source": [
        "Skewness is a statistical measure that describes  the extent to which the data is skewed or lopsided. A normal distribution has a skewness of 0.\n",
        "\n",
        "The formula for skewness is\n",
        "\n",
        "$${\\tt skewness} = {1 \\over n} \\sum (x_i - \\mu)^3 / \\sigma^3$$\n",
        "\n",
        "A positive skewness indicates a distribution that is skewed to the right, meaning that it has a long tail on the right-hand side and most of the values are concentrated on the left-hand side. A negative skewness indicates a distribution that is skewed to the left, meaning that it has a long tail on the left-hand side and most of the values are concentrated on the right-hand side."
      ],
      "metadata": {
        "id": "Xo88l2lG4je3"
      }
    },
    {
      "cell_type": "code",
      "source": [
        "import pandas as pd\n",
        "census = pd.read_csv(\"https://raw.githubusercontent.com/Aditya-Mankar/Census-Income-Prediction/master/adult.csv\")\n",
        "census"
      ],
      "metadata": {
        "colab": {
          "base_uri": "https://localhost:8080/",
          "height": 424
        },
        "id": "3UgsmlyYImA2",
        "outputId": "3cecae7b-612a-417f-d4ad-0d58bfaf6277"
      },
      "execution_count": null,
      "outputs": [
        {
          "output_type": "execute_result",
          "data": {
            "text/plain": [
              "       age workclass  fnlwgt     education  education.num      marital.status  \\\n",
              "0       90         ?   77053       HS-grad              9             Widowed   \n",
              "1       82   Private  132870       HS-grad              9             Widowed   \n",
              "2       66         ?  186061  Some-college             10             Widowed   \n",
              "3       54   Private  140359       7th-8th              4            Divorced   \n",
              "4       41   Private  264663  Some-college             10           Separated   \n",
              "...    ...       ...     ...           ...            ...                 ...   \n",
              "32556   22   Private  310152  Some-college             10       Never-married   \n",
              "32557   27   Private  257302    Assoc-acdm             12  Married-civ-spouse   \n",
              "32558   40   Private  154374       HS-grad              9  Married-civ-spouse   \n",
              "32559   58   Private  151910       HS-grad              9             Widowed   \n",
              "32560   22   Private  201490       HS-grad              9       Never-married   \n",
              "\n",
              "              occupation   relationship   race     sex  capital.gain  \\\n",
              "0                      ?  Not-in-family  White  Female             0   \n",
              "1        Exec-managerial  Not-in-family  White  Female             0   \n",
              "2                      ?      Unmarried  Black  Female             0   \n",
              "3      Machine-op-inspct      Unmarried  White  Female             0   \n",
              "4         Prof-specialty      Own-child  White  Female             0   \n",
              "...                  ...            ...    ...     ...           ...   \n",
              "32556    Protective-serv  Not-in-family  White    Male             0   \n",
              "32557       Tech-support           Wife  White  Female             0   \n",
              "32558  Machine-op-inspct        Husband  White    Male             0   \n",
              "32559       Adm-clerical      Unmarried  White  Female             0   \n",
              "32560       Adm-clerical      Own-child  White    Male             0   \n",
              "\n",
              "       capital.loss  hours.per.week native.country income  \n",
              "0              4356              40  United-States  <=50K  \n",
              "1              4356              18  United-States  <=50K  \n",
              "2              4356              40  United-States  <=50K  \n",
              "3              3900              40  United-States  <=50K  \n",
              "4              3900              40  United-States  <=50K  \n",
              "...             ...             ...            ...    ...  \n",
              "32556             0              40  United-States  <=50K  \n",
              "32557             0              38  United-States  <=50K  \n",
              "32558             0              40  United-States   >50K  \n",
              "32559             0              40  United-States  <=50K  \n",
              "32560             0              20  United-States  <=50K  \n",
              "\n",
              "[32561 rows x 15 columns]"
            ],
            "text/html": [
              "\n",
              "  <div id=\"df-ac58259f-dfb5-4201-9122-cd30ced9b51e\">\n",
              "    <div class=\"colab-df-container\">\n",
              "      <div>\n",
              "<style scoped>\n",
              "    .dataframe tbody tr th:only-of-type {\n",
              "        vertical-align: middle;\n",
              "    }\n",
              "\n",
              "    .dataframe tbody tr th {\n",
              "        vertical-align: top;\n",
              "    }\n",
              "\n",
              "    .dataframe thead th {\n",
              "        text-align: right;\n",
              "    }\n",
              "</style>\n",
              "<table border=\"1\" class=\"dataframe\">\n",
              "  <thead>\n",
              "    <tr style=\"text-align: right;\">\n",
              "      <th></th>\n",
              "      <th>age</th>\n",
              "      <th>workclass</th>\n",
              "      <th>fnlwgt</th>\n",
              "      <th>education</th>\n",
              "      <th>education.num</th>\n",
              "      <th>marital.status</th>\n",
              "      <th>occupation</th>\n",
              "      <th>relationship</th>\n",
              "      <th>race</th>\n",
              "      <th>sex</th>\n",
              "      <th>capital.gain</th>\n",
              "      <th>capital.loss</th>\n",
              "      <th>hours.per.week</th>\n",
              "      <th>native.country</th>\n",
              "      <th>income</th>\n",
              "    </tr>\n",
              "  </thead>\n",
              "  <tbody>\n",
              "    <tr>\n",
              "      <th>0</th>\n",
              "      <td>90</td>\n",
              "      <td>?</td>\n",
              "      <td>77053</td>\n",
              "      <td>HS-grad</td>\n",
              "      <td>9</td>\n",
              "      <td>Widowed</td>\n",
              "      <td>?</td>\n",
              "      <td>Not-in-family</td>\n",
              "      <td>White</td>\n",
              "      <td>Female</td>\n",
              "      <td>0</td>\n",
              "      <td>4356</td>\n",
              "      <td>40</td>\n",
              "      <td>United-States</td>\n",
              "      <td>&lt;=50K</td>\n",
              "    </tr>\n",
              "    <tr>\n",
              "      <th>1</th>\n",
              "      <td>82</td>\n",
              "      <td>Private</td>\n",
              "      <td>132870</td>\n",
              "      <td>HS-grad</td>\n",
              "      <td>9</td>\n",
              "      <td>Widowed</td>\n",
              "      <td>Exec-managerial</td>\n",
              "      <td>Not-in-family</td>\n",
              "      <td>White</td>\n",
              "      <td>Female</td>\n",
              "      <td>0</td>\n",
              "      <td>4356</td>\n",
              "      <td>18</td>\n",
              "      <td>United-States</td>\n",
              "      <td>&lt;=50K</td>\n",
              "    </tr>\n",
              "    <tr>\n",
              "      <th>2</th>\n",
              "      <td>66</td>\n",
              "      <td>?</td>\n",
              "      <td>186061</td>\n",
              "      <td>Some-college</td>\n",
              "      <td>10</td>\n",
              "      <td>Widowed</td>\n",
              "      <td>?</td>\n",
              "      <td>Unmarried</td>\n",
              "      <td>Black</td>\n",
              "      <td>Female</td>\n",
              "      <td>0</td>\n",
              "      <td>4356</td>\n",
              "      <td>40</td>\n",
              "      <td>United-States</td>\n",
              "      <td>&lt;=50K</td>\n",
              "    </tr>\n",
              "    <tr>\n",
              "      <th>3</th>\n",
              "      <td>54</td>\n",
              "      <td>Private</td>\n",
              "      <td>140359</td>\n",
              "      <td>7th-8th</td>\n",
              "      <td>4</td>\n",
              "      <td>Divorced</td>\n",
              "      <td>Machine-op-inspct</td>\n",
              "      <td>Unmarried</td>\n",
              "      <td>White</td>\n",
              "      <td>Female</td>\n",
              "      <td>0</td>\n",
              "      <td>3900</td>\n",
              "      <td>40</td>\n",
              "      <td>United-States</td>\n",
              "      <td>&lt;=50K</td>\n",
              "    </tr>\n",
              "    <tr>\n",
              "      <th>4</th>\n",
              "      <td>41</td>\n",
              "      <td>Private</td>\n",
              "      <td>264663</td>\n",
              "      <td>Some-college</td>\n",
              "      <td>10</td>\n",
              "      <td>Separated</td>\n",
              "      <td>Prof-specialty</td>\n",
              "      <td>Own-child</td>\n",
              "      <td>White</td>\n",
              "      <td>Female</td>\n",
              "      <td>0</td>\n",
              "      <td>3900</td>\n",
              "      <td>40</td>\n",
              "      <td>United-States</td>\n",
              "      <td>&lt;=50K</td>\n",
              "    </tr>\n",
              "    <tr>\n",
              "      <th>...</th>\n",
              "      <td>...</td>\n",
              "      <td>...</td>\n",
              "      <td>...</td>\n",
              "      <td>...</td>\n",
              "      <td>...</td>\n",
              "      <td>...</td>\n",
              "      <td>...</td>\n",
              "      <td>...</td>\n",
              "      <td>...</td>\n",
              "      <td>...</td>\n",
              "      <td>...</td>\n",
              "      <td>...</td>\n",
              "      <td>...</td>\n",
              "      <td>...</td>\n",
              "      <td>...</td>\n",
              "    </tr>\n",
              "    <tr>\n",
              "      <th>32556</th>\n",
              "      <td>22</td>\n",
              "      <td>Private</td>\n",
              "      <td>310152</td>\n",
              "      <td>Some-college</td>\n",
              "      <td>10</td>\n",
              "      <td>Never-married</td>\n",
              "      <td>Protective-serv</td>\n",
              "      <td>Not-in-family</td>\n",
              "      <td>White</td>\n",
              "      <td>Male</td>\n",
              "      <td>0</td>\n",
              "      <td>0</td>\n",
              "      <td>40</td>\n",
              "      <td>United-States</td>\n",
              "      <td>&lt;=50K</td>\n",
              "    </tr>\n",
              "    <tr>\n",
              "      <th>32557</th>\n",
              "      <td>27</td>\n",
              "      <td>Private</td>\n",
              "      <td>257302</td>\n",
              "      <td>Assoc-acdm</td>\n",
              "      <td>12</td>\n",
              "      <td>Married-civ-spouse</td>\n",
              "      <td>Tech-support</td>\n",
              "      <td>Wife</td>\n",
              "      <td>White</td>\n",
              "      <td>Female</td>\n",
              "      <td>0</td>\n",
              "      <td>0</td>\n",
              "      <td>38</td>\n",
              "      <td>United-States</td>\n",
              "      <td>&lt;=50K</td>\n",
              "    </tr>\n",
              "    <tr>\n",
              "      <th>32558</th>\n",
              "      <td>40</td>\n",
              "      <td>Private</td>\n",
              "      <td>154374</td>\n",
              "      <td>HS-grad</td>\n",
              "      <td>9</td>\n",
              "      <td>Married-civ-spouse</td>\n",
              "      <td>Machine-op-inspct</td>\n",
              "      <td>Husband</td>\n",
              "      <td>White</td>\n",
              "      <td>Male</td>\n",
              "      <td>0</td>\n",
              "      <td>0</td>\n",
              "      <td>40</td>\n",
              "      <td>United-States</td>\n",
              "      <td>&gt;50K</td>\n",
              "    </tr>\n",
              "    <tr>\n",
              "      <th>32559</th>\n",
              "      <td>58</td>\n",
              "      <td>Private</td>\n",
              "      <td>151910</td>\n",
              "      <td>HS-grad</td>\n",
              "      <td>9</td>\n",
              "      <td>Widowed</td>\n",
              "      <td>Adm-clerical</td>\n",
              "      <td>Unmarried</td>\n",
              "      <td>White</td>\n",
              "      <td>Female</td>\n",
              "      <td>0</td>\n",
              "      <td>0</td>\n",
              "      <td>40</td>\n",
              "      <td>United-States</td>\n",
              "      <td>&lt;=50K</td>\n",
              "    </tr>\n",
              "    <tr>\n",
              "      <th>32560</th>\n",
              "      <td>22</td>\n",
              "      <td>Private</td>\n",
              "      <td>201490</td>\n",
              "      <td>HS-grad</td>\n",
              "      <td>9</td>\n",
              "      <td>Never-married</td>\n",
              "      <td>Adm-clerical</td>\n",
              "      <td>Own-child</td>\n",
              "      <td>White</td>\n",
              "      <td>Male</td>\n",
              "      <td>0</td>\n",
              "      <td>0</td>\n",
              "      <td>20</td>\n",
              "      <td>United-States</td>\n",
              "      <td>&lt;=50K</td>\n",
              "    </tr>\n",
              "  </tbody>\n",
              "</table>\n",
              "<p>32561 rows × 15 columns</p>\n",
              "</div>\n",
              "      <button class=\"colab-df-convert\" onclick=\"convertToInteractive('df-ac58259f-dfb5-4201-9122-cd30ced9b51e')\"\n",
              "              title=\"Convert this dataframe to an interactive table.\"\n",
              "              style=\"display:none;\">\n",
              "        \n",
              "  <svg xmlns=\"http://www.w3.org/2000/svg\" height=\"24px\"viewBox=\"0 0 24 24\"\n",
              "       width=\"24px\">\n",
              "    <path d=\"M0 0h24v24H0V0z\" fill=\"none\"/>\n",
              "    <path d=\"M18.56 5.44l.94 2.06.94-2.06 2.06-.94-2.06-.94-.94-2.06-.94 2.06-2.06.94zm-11 1L8.5 8.5l.94-2.06 2.06-.94-2.06-.94L8.5 2.5l-.94 2.06-2.06.94zm10 10l.94 2.06.94-2.06 2.06-.94-2.06-.94-.94-2.06-.94 2.06-2.06.94z\"/><path d=\"M17.41 7.96l-1.37-1.37c-.4-.4-.92-.59-1.43-.59-.52 0-1.04.2-1.43.59L10.3 9.45l-7.72 7.72c-.78.78-.78 2.05 0 2.83L4 21.41c.39.39.9.59 1.41.59.51 0 1.02-.2 1.41-.59l7.78-7.78 2.81-2.81c.8-.78.8-2.07 0-2.86zM5.41 20L4 18.59l7.72-7.72 1.47 1.35L5.41 20z\"/>\n",
              "  </svg>\n",
              "      </button>\n",
              "      \n",
              "  <style>\n",
              "    .colab-df-container {\n",
              "      display:flex;\n",
              "      flex-wrap:wrap;\n",
              "      gap: 12px;\n",
              "    }\n",
              "\n",
              "    .colab-df-convert {\n",
              "      background-color: #E8F0FE;\n",
              "      border: none;\n",
              "      border-radius: 50%;\n",
              "      cursor: pointer;\n",
              "      display: none;\n",
              "      fill: #1967D2;\n",
              "      height: 32px;\n",
              "      padding: 0 0 0 0;\n",
              "      width: 32px;\n",
              "    }\n",
              "\n",
              "    .colab-df-convert:hover {\n",
              "      background-color: #E2EBFA;\n",
              "      box-shadow: 0px 1px 2px rgba(60, 64, 67, 0.3), 0px 1px 3px 1px rgba(60, 64, 67, 0.15);\n",
              "      fill: #174EA6;\n",
              "    }\n",
              "\n",
              "    [theme=dark] .colab-df-convert {\n",
              "      background-color: #3B4455;\n",
              "      fill: #D2E3FC;\n",
              "    }\n",
              "\n",
              "    [theme=dark] .colab-df-convert:hover {\n",
              "      background-color: #434B5C;\n",
              "      box-shadow: 0px 1px 3px 1px rgba(0, 0, 0, 0.15);\n",
              "      filter: drop-shadow(0px 1px 2px rgba(0, 0, 0, 0.3));\n",
              "      fill: #FFFFFF;\n",
              "    }\n",
              "  </style>\n",
              "\n",
              "      <script>\n",
              "        const buttonEl =\n",
              "          document.querySelector('#df-ac58259f-dfb5-4201-9122-cd30ced9b51e button.colab-df-convert');\n",
              "        buttonEl.style.display =\n",
              "          google.colab.kernel.accessAllowed ? 'block' : 'none';\n",
              "\n",
              "        async function convertToInteractive(key) {\n",
              "          const element = document.querySelector('#df-ac58259f-dfb5-4201-9122-cd30ced9b51e');\n",
              "          const dataTable =\n",
              "            await google.colab.kernel.invokeFunction('convertToInteractive',\n",
              "                                                     [key], {});\n",
              "          if (!dataTable) return;\n",
              "\n",
              "          const docLinkHtml = 'Like what you see? Visit the ' +\n",
              "            '<a target=\"_blank\" href=https://colab.research.google.com/notebooks/data_table.ipynb>data table notebook</a>'\n",
              "            + ' to learn more about interactive tables.';\n",
              "          element.innerHTML = '';\n",
              "          dataTable['output_type'] = 'display_data';\n",
              "          await google.colab.output.renderOutput(dataTable, element);\n",
              "          const docLink = document.createElement('div');\n",
              "          docLink.innerHTML = docLinkHtml;\n",
              "          element.appendChild(docLink);\n",
              "        }\n",
              "      </script>\n",
              "    </div>\n",
              "  </div>\n",
              "  "
            ]
          },
          "metadata": {},
          "execution_count": 132
        }
      ]
    },
    {
      "cell_type": "code",
      "source": [
        "census['age'].describe()"
      ],
      "metadata": {
        "colab": {
          "base_uri": "https://localhost:8080/"
        },
        "id": "qVLFo-wWOSEB",
        "outputId": "9a62fc30-2461-4c6c-cc67-864d0f026b9c"
      },
      "execution_count": null,
      "outputs": [
        {
          "output_type": "execute_result",
          "data": {
            "text/plain": [
              "count    32561.000000\n",
              "mean        38.581647\n",
              "std         13.640433\n",
              "min         17.000000\n",
              "25%         28.000000\n",
              "50%         37.000000\n",
              "75%         48.000000\n",
              "max         90.000000\n",
              "Name: age, dtype: float64"
            ]
          },
          "metadata": {},
          "execution_count": 133
        }
      ]
    },
    {
      "cell_type": "code",
      "source": [
        "census['age'].hist()\n",
        "plt.ylabel(\"Frequency\")\n",
        "plt.title(\"Ages (years)\")"
      ],
      "metadata": {
        "colab": {
          "base_uri": "https://localhost:8080/",
          "height": 298
        },
        "id": "HStX0WVTLiTh",
        "outputId": "6c7b4b04-3f57-4f40-ae82-6c37a9dcfa9c"
      },
      "execution_count": null,
      "outputs": [
        {
          "output_type": "execute_result",
          "data": {
            "text/plain": [
              "Text(0.5, 1.0, 'Ages (years)')"
            ]
          },
          "metadata": {},
          "execution_count": 140
        },
        {
          "output_type": "display_data",
          "data": {
            "text/plain": [
              "<Figure size 432x288 with 1 Axes>"
            ],
            "image/png": "[encoded data removed]"
          },
          "metadata": {
            "needs_background": "light"
          }
        }
      ]
    },
    {
      "cell_type": "markdown",
      "source": [
        "We have plotted the ages of adult respondants to a US census survey and see that the mean age is 38.47, the median age is 37 and the 75th percentile age is 47.  We see that the data is right-skewed as there is a long tail of older people, up to 90 years old."
      ],
      "metadata": {
        "id": "z5rQFUQ2MDex"
      }
    },
    {
      "cell_type": "markdown",
      "source": [
        "## Diagnosis\n",
        "\n",
        "One of way to recognize skewness is to look at the data using histograms, density plots, or boxplots to see if there is a long tail on one side.\n",
        "\n",
        "Another way is to look at the mean, median and mode. If the mean is greater than the median, this suggests that the distribution is skewed to the right, while if the mean is less than the median, this suggests that the distribution is skewed to the left.\n",
        "\n",
        "A third way is to use the skewness formula given above.  A skewness value greater than 1 or less than -1 indicates a highly skewed distribution."
      ],
      "metadata": {
        "id": "xy-iHO087Gl-"
      }
    },
    {
      "cell_type": "markdown",
      "source": [
        "## Damage\n",
        "\n",
        "When a distribution is skewed, the mean is pulled in the direction of the longer tail, which can make it an inaccurate measure of the central tendency. In this case, the median may be a better measure of the central tendency. Similarly, the standard deviation may be influenced by the skewness, which can make it an inaccurate measure of the distribution of the data; we would underestimate the probability of certain data on the side with the long tail if we were to model based on a normal distribution with the given mean and standard deviation.\n",
        "\n",
        "Skewness can affect the distribution of returns, making it more difficult to estimate the true risk of an investment. In particular, the presence of  skewness can lead to a higher probability of extreme losses."
      ],
      "metadata": {
        "id": "dUdP8gm347Dj"
      }
    },
    {
      "cell_type": "markdown",
      "source": [
        "## Directions\n",
        "\n",
        "One approach to address skewness is to apply transformations to the data, such as logarithmic or power transformations. These transformations can help to make the distribution more symmetric and reduce the impact of outliers.\n",
        "\n",
        "Another approach is to try to use estimators that are robust to skewness, such as taking the median instead of the mean.\n",
        "\n",
        "We can also try to use different models such as a skewed-normal or skewed-t distribution which will help capture the skewness in the data.\n"
      ],
      "metadata": {
        "id": "Njma0tu_53CV"
      }
    },
    {
      "cell_type": "markdown",
      "source": [
        "# Kurtosis and Heteroscedasticity\n",
        "\n",
        "---\n",
        "\n"
      ],
      "metadata": {
        "id": "Fw39ZP_luKvF"
      }
    },
    {
      "cell_type": "markdown",
      "source": [
        "Kurtosis is a statistical measure that describes the shape of a distribution. It provides information about the degree of peakedness and the thickness of the tails of a probability distribution relative to the normal distribution.\n",
        "\n",
        "The formula for Kurtosis is:\n",
        "$${\\tt kurtosis} = {1 \\over n} \\sum (x_i - \\mu)^4 / \\sigma^4$$\n",
        "\n",
        "Sometimes we subtract 3 to get the excess kurtosis (a normal distribution will have kurtosis 3 according to the above formula).\n",
        "\n",
        "Higher kurtosis indicates a distribution that is more peaked and has heavier tails than the normal distribution, while lower kurtosis indicates a distribution that is less peaked and has lighter tails than the normal distribution.\n",
        "\n",
        "Heteroscedasticity is a term used in statistics to describe the situation where the variance of the errors or residuals of a statistical model is not constant across the range of values of the independent variable. In other words, the spread of the residuals is different for different values of the predictor variable.\n",
        "\n",
        "\n",
        "\n"
      ],
      "metadata": {
        "id": "dXK1M0Ol2sEq"
      }
    },
    {
      "cell_type": "code",
      "source": [
        "import requests\n",
        "import pandas as pd\n",
        "import re\n",
        "import matplotlib.pyplot as plt\n",
        "\n",
        "url = 'https://www.alphavantage.co/query?function=TIME_SERIES_DAILY_ADJUSTED&symbol=AAPL&outputsize=full&apikey=LIDXQ6GY1WVSIDYC'\n",
        "r = requests.get(url)\n",
        "data = r.json()\n",
        "apple = pd.DataFrame(data[\"Time Series (Daily)\"])\n",
        "apple = apple.T  # Transpose Dataframe for desired results\n",
        "apple = apple.rename(columns=lambda x: re.sub('\\d+\\. *','',x))\n",
        "apple =  apple.apply(lambda col:pd.to_numeric(col, errors='coerce'))\n",
        "apple.index = pd.to_datetime(apple.index)\n",
        "apple.index.name=\"date\""
      ],
      "metadata": {
        "id": "egQ4EBHA37Ba"
      },
      "execution_count": null,
      "outputs": []
    },
    {
      "cell_type": "code",
      "source": [
        "apple_daily_return = apple['adjusted close'].pct_change(1).dropna() # 1 for ONE DAY lookback\n",
        "apple_daily_return.hist(bins=50)\n",
        "plt.ylabel(\"Frequency\")\n",
        "plt.title(\"Histogram of Apple Computer (AAPL) daily returns\")\n",
        "plt.show()"
      ],
      "metadata": {
        "colab": {
          "base_uri": "https://localhost:8080/",
          "height": 281
        },
        "id": "-lD5AzjIQJSA",
        "outputId": "5ef08850-8977-4351-c628-aa064799eb4f"
      },
      "execution_count": null,
      "outputs": [
        {
          "output_type": "display_data",
          "data": {
            "text/plain": [
              "<Figure size 432x288 with 1 Axes>"
            ],
            "image/png": "[encoded data removed]"
          },
          "metadata": {
            "needs_background": "light"
          }
        }
      ]
    },
    {
      "cell_type": "code",
      "source": [
        "apple_daily_return.kurt() # Kurtosis obtained using Fisher’s definition of kurtosis (kurtosis of normal == 0.0)."
      ],
      "metadata": {
        "colab": {
          "base_uri": "https://localhost:8080/"
        },
        "id": "4w6hBavPQmwO",
        "outputId": "09132fe1-2267-49ec-f0ab-6b4ca1225dbc"
      },
      "execution_count": null,
      "outputs": [
        {
          "output_type": "execute_result",
          "data": {
            "text/plain": [
              "372.99671323426963"
            ]
          },
          "metadata": {},
          "execution_count": 176
        }
      ]
    },
    {
      "cell_type": "code",
      "source": [
        "import statsmodels.api as sm\n",
        "sm.qqplot(apple_daily_return, line='45')\n",
        "plt.show()"
      ],
      "metadata": {
        "colab": {
          "base_uri": "https://localhost:8080/",
          "height": 279
        },
        "id": "2szFFzGxRZ8t",
        "outputId": "63e6ccd1-d2ca-4e1d-a3e2-d11d191f0eda"
      },
      "execution_count": null,
      "outputs": [
        {
          "output_type": "display_data",
          "data": {
            "text/plain": [
              "<Figure size 432x288 with 1 Axes>"
            ],
            "image/png": "[encoded data removed]"
          },
          "metadata": {
            "needs_background": "light"
          }
        }
      ]
    },
    {
      "cell_type": "markdown",
      "source": [
        "The QQ plot and histogram indicate that the daily returns on Apple Computer Corporation stock is leptokurtic; it has a very high excess kurtosis. There are heavy tails in the distribution of returns.  This is confirmed by the numerical computation of the kurtosis given above."
      ],
      "metadata": {
        "id": "GkPdPcHnR2XW"
      }
    },
    {
      "cell_type": "code",
      "source": [
        "import numpy as np\n",
        "import pandas as pd\n",
        "import statsmodels.api as sm\n",
        "import statsmodels.stats.api as sms\n",
        "import statsmodels.formula.api as smf\n",
        "from matplotlib import pyplot as plt\n",
        "%matplotlib inline\n",
        "\n",
        "data = pd.read_csv('http://web.pdx.edu/~crkl/ceR/data/greene.txt',sep='\\s+',nrows=51).dropna()\n",
        "print(data.describe())\n",
        "\n",
        "spending = data['SPENDING']\n",
        "income = data['INCOME']\n",
        "\n",
        "df1 = pd.concat([spending,income],keys=['spending','income'],axis=1)\n",
        "model1 = smf.ols(formula='spending~income+I(income**2)',data = df1).fit()\n",
        "print(model1.summary())"
      ],
      "metadata": {
        "colab": {
          "base_uri": "https://localhost:8080/"
        },
        "id": "4nZHpa1SULwd",
        "outputId": "48ca2da1-d6cc-4b8d-ce9e-92007ce99136"
      },
      "execution_count": null,
      "outputs": [
        {
          "output_type": "stream",
          "name": "stdout",
          "text": [
            "         SPENDING        INCOME\n",
            "count   50.000000     50.000000\n",
            "mean   373.260000   7608.560000\n",
            "std     94.553259   1050.644412\n",
            "min    259.000000   5736.000000\n",
            "25%    315.250000   6655.000000\n",
            "50%    354.000000   7575.000000\n",
            "75%    426.250000   8296.250000\n",
            "max    821.000000  10851.000000\n",
            "                            OLS Regression Results                            \n",
            "==============================================================================\n",
            "Dep. Variable:               spending   R-squared:                       0.655\n",
            "Model:                            OLS   Adj. R-squared:                  0.641\n",
            "Method:                 Least Squares   F-statistic:                     44.68\n",
            "Date:                Mon, 13 Mar 2023   Prob (F-statistic):           1.34e-11\n",
            "Time:                        19:01:19   Log-Likelihood:                -271.27\n",
            "No. Observations:                  50   AIC:                             548.5\n",
            "Df Residuals:                      47   BIC:                             554.3\n",
            "Df Model:                           2                                         \n",
            "Covariance Type:            nonrobust                                         \n",
            "==================================================================================\n",
            "                     coef    std err          t      P>|t|      [0.025      0.975]\n",
            "----------------------------------------------------------------------------------\n",
            "Intercept        832.9144    327.292      2.545      0.014     174.487    1491.342\n",
            "income            -0.1834      0.083     -2.213      0.032      -0.350      -0.017\n",
            "I(income ** 2)  1.587e-05   5.19e-06      3.057      0.004    5.43e-06    2.63e-05\n",
            "==============================================================================\n",
            "Omnibus:                        1.040   Durbin-Watson:                   2.355\n",
            "Prob(Omnibus):                  0.595   Jarque-Bera (JB):                0.371\n",
            "Skew:                          -0.083   Prob(JB):                        0.831\n",
            "Kurtosis:                       3.388   Cond. No.                     2.50e+09\n",
            "==============================================================================\n",
            "\n",
            "Notes:\n",
            "[1] Standard Errors assume that the covariance matrix of the errors is correctly specified.\n",
            "[2] The condition number is large, 2.5e+09. This might indicate that there are\n",
            "strong multicollinearity or other numerical problems.\n"
          ]
        }
      ]
    },
    {
      "cell_type": "code",
      "source": [
        "resid1 = model1.resid\n",
        "# QQ-Plot of residuals\n",
        "fig1 = sm.qqplot(resid1,fit=True,line='45')\n",
        "plt.show()"
      ],
      "metadata": {
        "colab": {
          "base_uri": "https://localhost:8080/",
          "height": 279
        },
        "id": "yxSkXT61UU3C",
        "outputId": "bdb84ca6-8e26-491c-d9e2-cb53ec255649"
      },
      "execution_count": null,
      "outputs": [
        {
          "output_type": "display_data",
          "data": {
            "text/plain": [
              "<Figure size 432x288 with 1 Axes>"
            ],
            "image/png": "[encoded data removed]"
          },
          "metadata": {
            "needs_background": "light"
          }
        }
      ]
    },
    {
      "cell_type": "code",
      "source": [
        "import statsmodels.api as sm\n",
        "sm.graphics.plot_regress_exog(model1, 'income')"
      ],
      "metadata": {
        "colab": {
          "base_uri": "https://localhost:8080/",
          "height": 604
        },
        "id": "oiu8COWeUcRT",
        "outputId": "99b83cfb-7506-414b-ba0f-f452f6e3e64c"
      },
      "execution_count": null,
      "outputs": [
        {
          "output_type": "stream",
          "name": "stdout",
          "text": [
            "eval_env: 1\n"
          ]
        },
        {
          "output_type": "execute_result",
          "data": {
            "text/plain": [
              "<Figure size 432x288 with 4 Axes>"
            ],
            "image/png": "[encoded data removed]"
          },
          "metadata": {},
          "execution_count": 205
        },
        {
          "output_type": "display_data",
          "data": {
            "text/plain": [
              "<Figure size 432x288 with 4 Axes>"
            ],
            "image/png": "[encoded data removed]"
          },
          "metadata": {
            "needs_background": "light"
          }
        }
      ]
    },
    {
      "cell_type": "markdown",
      "source": [
        "The plot of residual vs income appears to indicate that the residuals are more spread apart for higher incomes, which indicates that there is a heteroskedastiity issue.  "
      ],
      "metadata": {
        "id": "i-cnXAdNWBL4"
      }
    },
    {
      "cell_type": "markdown",
      "source": [
        "## Diagnosis\n",
        "\n",
        "We can recognize kurtosis in different ways.  One way is to look at various plots such as a histogram or QQ-plot.  In a histogram we can try to see if the distribution looks too peaked or too flat compared to the normal distribution.  \n",
        "\n",
        "Another way is to use the kurtosis formula given above. For a normal distribution we should get kurtosis of 3; if the kurtosis is higher, the distribution is leptokurtic and has fat tails; if the kurtosis is lower the distribution is platykurtic.\n",
        "\n",
        "We can recognize heteroskecasticity by looking at the residual plots. If the data is heroscedastic, we will see a funnel shape or a pattern where the spread of data increases or decreases.\n",
        "\n",
        "You could also try a Breusch-Pagan test or White test to test for heteroskedasticity. These tests are available in `statsmodels.stats.api`"
      ],
      "metadata": {
        "id": "3IYv3-Zp6obU"
      }
    },
    {
      "cell_type": "markdown",
      "source": [
        "## Damage\n",
        "\n",
        "Kurtosis in financial data can lead to problems in estimates of the variance. It can also result in incorrect confidence intervals, as traditional statistical methods assume that the data are normally distributed. If the data are not normally distributed, the confidence intervals may be too wide or too narrow, leading to incorrect inferences about the true population parameters.\n",
        "It can lead to underestimating risk of extreme events.\n",
        "\n",
        "Heteroscedasticity can lead to poor estimates of the coefficients in regression models.\n",
        "\n",
        "Heteroscedasticity can lead to incorrect inferences about the relationships between variables. For example, if there is heteroscedasticity in the error term of a regression model, the t-statistics and confidence intervals may be incorrect, which can lead to incorrect conclusions about the significance of the variables.\n"
      ],
      "metadata": {
        "id": "3e9R9FK2988p"
      }
    },
    {
      "cell_type": "markdown",
      "source": [
        "## Directions\n",
        "\n",
        "One way to address kurtosis is to try to do a transform of the data such as Box-Cox transform. An alternative is to use a different model such as GARCH (Generalized autoregressive conditional heteroskedasticity) which is able to handle fat-tails.\n",
        "\n",
        "We can address heteroskedasticity by using weighted least squares (WLS) instead of OLS: WLS is a technique that assigns weights to observations based on their variances. This approach can help mitigate the effects of heteroskedasticity by giving less weight to observations with high variances and more weight to observations with low variances."
      ],
      "metadata": {
        "id": "FtcTgsUO_LzM"
      }
    },
    {
      "cell_type": "markdown",
      "source": [
        "# Over-reliance on the Gaussian distribution\n",
        "\n",
        "The Gaussian distribution is a symmetric probability distribution.  The probability distribution function (PDF) of a Gaussian distribution with mean $\\mu$ and standard deviation $\\sigma$ is $f(x) = \\frac{1}{\\sigma \\sqrt{2\\pi} } e^{-\\frac{1}{2}\\left(\\frac{x-\\mu}{\\sigma}\\right)^2}$.\n",
        "\n",
        "The graph of the gaussian distribution looks like a bell-shaped curve. The curve is centered around a single peak, and the data points on either side of the peak decrease in frequency in a symmetrical pattern.\n"
      ],
      "metadata": {
        "id": "kBcl2ml0uITl"
      }
    },
    {
      "cell_type": "code",
      "source": [
        "import requests\n",
        "import pandas as pd\n",
        "import re\n",
        "import matplotlib.pyplot as plt\n",
        "\n",
        "url = 'https://www.alphavantage.co/query?function=TIME_SERIES_DAILY_ADJUSTED&symbol=SPY&outputsize=full&apikey=LIDXQ6GY1WVSIDYC'\n",
        "r = requests.get(url)\n",
        "data = r.json()\n",
        "df = pd.DataFrame(data[\"Time Series (Daily)\"])\n",
        "df = df.T  # Transpose Dataframe for desired results\n",
        "df = df.rename(columns=lambda x: re.sub('\\d+\\. *','',x))\n",
        "df =  df.apply(lambda col:pd.to_numeric(col, errors='coerce'))\n",
        "df.index = pd.to_datetime(df.index)\n",
        "df.index.name=\"date\""
      ],
      "metadata": {
        "id": "9dTaiwGIvZO0"
      },
      "execution_count": null,
      "outputs": []
    },
    {
      "cell_type": "code",
      "source": [
        "daily_return = df['adjusted close'].pct_change(1).dropna() # 1 for ONE DAY lookback\n",
        "daily_return.hist(bins=1000)\n",
        "plt.ylabel(\"Frequency\")\n",
        "plt.title(\"Histogram of S&P 500 daily returns\")\n",
        "plt.show()"
      ],
      "metadata": {
        "colab": {
          "base_uri": "https://localhost:8080/",
          "height": 281
        },
        "id": "-9ujaW07wf8a",
        "outputId": "4fcb4883-f9e9-4caf-b653-47bdc7fecd0a"
      },
      "execution_count": null,
      "outputs": [
        {
          "output_type": "display_data",
          "data": {
            "text/plain": [
              "<Figure size 432x288 with 1 Axes>"
            ],
            "image/png": "[encoded data removed]"
          },
          "metadata": {
            "needs_background": "light"
          }
        }
      ]
    },
    {
      "cell_type": "code",
      "source": [
        "import scipy.stats\n",
        "scipy.stats.normaltest(daily_return)"
      ],
      "metadata": {
        "colab": {
          "base_uri": "https://localhost:8080/"
        },
        "id": "wtPDpI2WxYb7",
        "outputId": "fa72ee46-328f-4a29-dd2e-fbd28eaf6fe8"
      },
      "execution_count": null,
      "outputs": [
        {
          "output_type": "execute_result",
          "data": {
            "text/plain": [
              "NormaltestResult(statistic=1296.0814340377929, pvalue=3.626540651853405e-282)"
            ]
          },
          "metadata": {},
          "execution_count": 95
        }
      ]
    },
    {
      "cell_type": "markdown",
      "source": [
        "We have looked at the daily return on the SPY S&P 500 ETF.  We can see from the histogram plot that there appears to be skewness in the data.  We can also see from the normality test that we get a low p-value which indicates that we should reject the null hypothesis that the data is normal.\n",
        "\n",
        "This suggests that daily returns are not normal."
      ],
      "metadata": {
        "id": "9I19Fv-KxmAf"
      }
    },
    {
      "cell_type": "markdown",
      "source": [
        "## Diagnosis\n",
        "\n",
        "To determine if data satisfies a normal distribution, we can apply one of various statistical tests for normality.  One option is to use `scipy.stats.normaltest` which uses a test devised by D’Agostino and Pearson based on the skewness and kurtosis.  Another option is to use `scipy.stats.shapiro` which uses the Shapiro-Wilke test which is based on looking at the values of the data in order.\n",
        "\n",
        "We can also look at plots such as histograms, boxplots or viola plots.  We can also look at Q-Q plots: If the data are normally distributed, the points on the Q-Q plot should form a straight line."
      ],
      "metadata": {
        "id": "7rdNB36VzSQ3"
      }
    },
    {
      "cell_type": "markdown",
      "source": [
        "## Damage\n",
        "\n",
        "Underestimation of tails: The tails of a Gaussian distribution decrease rapidly; extreme values are unlikely to occur. However, in many real-world scenarios, extreme values are more common than predicted by the Gaussian distribution. This can lead to an underestimation of the probability of rare events, such as financial market crashes.\n",
        "\n",
        "Inaccurate parameter estimation: The Gaussian distribution is characterized by its mean and standard deviation. However, if the data does not follow a Gaussian distribution, using these parameters to estimate the distribution can lead to inaccurate results; for example if the data is skewed the mean is misleading because the data are not symmetrical about the mean, and the standard deviation is also misleading because we underestimate the probability of events on one side, where there is a long tail.\n",
        "\n",
        "Ignoring skewness and kurtosis: The Gaussian distribution is symmetric, which means that it has zero skewness and kurtosis. However, many real-world data sets are not symmetric, and ignoring these measures of asymmetry and peakedness can lead to incorrect conclusions.  In particular, leptokurtic data will have fat tails, where we will underestimate the probability of rare events."
      ],
      "metadata": {
        "id": "Qt8M70Iszyeo"
      }
    },
    {
      "cell_type": "markdown",
      "source": [
        "## Directions\n",
        "\n",
        "If tests indicate our data are non-normal then we can try to model the data with another distribution.\n",
        "\n",
        "For example, we can use a student t distribution if we want to have fatter tails, or we can use a skew-normal distribution if we want to model skewness.\n",
        "\n",
        "Another way to address non-normal data is to transform the data using mathematical functions such as logarithmic, exponential, or square root transformations. These transformations can help to normalize the data distribution and make it more suitable for traditional statistical methods such as linear regression."
      ],
      "metadata": {
        "id": "d3aXEssT1CVr"
      }
    },
    {
      "cell_type": "markdown",
      "source": [
        "# Non-Stationarity\n",
        "\n",
        "Non-stationarity means that the statistical properties of a times series change over time. A process is weakly stationary if its mean and autocovariance do not change over time, and the variance is always finite:\n",
        "$$\n",
        "\\begin{align}\n",
        "& \\mu_X(t) = \\mu_X(t + \\tau) & & \\text{for all } \\tau,t \\\\\n",
        "& \\text{cov}(X_{t-h},X_{t}) & & \\text{is independent of } t \\\\\n",
        "& \\operatorname E[|X_t|^2] < \\infty & & \\text{for all } t\n",
        "\\end{align}\n",
        "$$\n",
        "\n",
        "There is also strict stationarity, which is harder to check.  It says that the joint probability distribution of  joint probability distribution of $\\{ X_t \\}: \\{ x_{t_1}, x_{t_2}, \\cdots, x_{t_k} \\}$ is the same as that of $\\{ x_{t_{1}+h}, x_{t_{2}+h}, \\cdots, x_{t_{k}+h} \\}$.\n",
        "\n",
        "\n",
        "Examples of non-stationary processes are a random walk, which will have the same mean over time, but as time goes on, the variance of the difference tends to increase, hence the covariance will depend on time.\n"
      ],
      "metadata": {
        "id": "2XOgUKgLaCPY"
      }
    },
    {
      "cell_type": "markdown",
      "source": [],
      "metadata": {
        "id": "Jw3GucxxfjBj"
      }
    },
    {
      "cell_type": "code",
      "source": [
        "import requests\n",
        "import pandas as pd\n",
        "import re\n",
        "import matplotlib.pyplot as plt\n",
        "\n",
        "url = 'https://www.alphavantage.co/query?function=TIME_SERIES_DAILY_ADJUSTED&symbol=SPY&outputsize=full&apikey=LIDXQ6GY1WVSIDYC'\n",
        "r = requests.get(url)\n",
        "data = r.json()\n",
        "df = pd.DataFrame(data[\"Time Series (Daily)\"])\n",
        "df = df.T  # Transpose Dataframe for desired results\n",
        "df = df.rename(columns=lambda x: re.sub('\\d+\\. *','',x))\n",
        "df =  df.apply(lambda col:pd.to_numeric(col, errors='coerce'))\n",
        "df.index = pd.to_datetime(df.index)\n",
        "df.index.name=\"date\"\n"
      ],
      "metadata": {
        "id": "oq-beXuMhXSy"
      },
      "execution_count": null,
      "outputs": []
    },
    {
      "cell_type": "code",
      "source": [
        "df"
      ],
      "metadata": {
        "id": "42aiSTeXhoUX",
        "colab": {
          "base_uri": "https://localhost:8080/",
          "height": 455
        },
        "outputId": "0400bdaf-485f-4dde-91ab-b308f3d3bd8b"
      },
      "execution_count": null,
      "outputs": [
        {
          "output_type": "execute_result",
          "data": {
            "text/plain": [
              "                  open        high         low       close  adjusted close  \\\n",
              "date                                                                         \n",
              "2023-03-10  390.990000  393.160000  384.320000  385.910000      385.910000   \n",
              "2023-03-09  399.740000  401.480000  390.530000  391.560000      391.560000   \n",
              "2023-03-08  398.390000  399.710000  396.590000  398.920000      398.920000   \n",
              "2023-03-07  404.420000  404.670000  397.625000  398.270000      398.270000   \n",
              "2023-03-06  405.050000  407.450000  404.010000  404.470000      404.470000   \n",
              "...                ...         ...         ...         ...             ...   \n",
              "1999-11-05  138.625000  139.109299  136.781204  137.875000       90.068563   \n",
              "1999-11-04  136.750000  137.359299  135.765594  136.531204       89.190712   \n",
              "1999-11-03  136.000000  136.375000  135.125000  135.500000       88.517065   \n",
              "1999-11-02  135.968704  137.250000  134.593704  134.593704       87.925016   \n",
              "1999-11-01  136.500000  137.000000  135.562500  135.562500       88.557894   \n",
              "\n",
              "               volume  dividend amount  split coefficient  \n",
              "date                                                       \n",
              "2023-03-10  189252996              0.0                1.0  \n",
              "2023-03-09  111945322              0.0                1.0  \n",
              "2023-03-08   74746632              0.0                1.0  \n",
              "2023-03-07  108310596              0.0                1.0  \n",
              "2023-03-06   72795946              0.0                1.0  \n",
              "...               ...              ...                ...  \n",
              "1999-11-05    7431500              0.0                1.0  \n",
              "1999-11-04    7907500              0.0                1.0  \n",
              "1999-11-03    7222300              0.0                1.0  \n",
              "1999-11-02    6516900              0.0                1.0  \n",
              "1999-11-01    4006500              0.0                1.0  \n",
              "\n",
              "[5877 rows x 8 columns]"
            ],
            "text/html": [
              "\n",
              "  <div id=\"df-c1e6cbfd-d79a-4a66-a4b8-b9adb0f671a0\">\n",
              "    <div class=\"colab-df-container\">\n",
              "      <div>\n",
              "<style scoped>\n",
              "    .dataframe tbody tr th:only-of-type {\n",
              "        vertical-align: middle;\n",
              "    }\n",
              "\n",
              "    .dataframe tbody tr th {\n",
              "        vertical-align: top;\n",
              "    }\n",
              "\n",
              "    .dataframe thead th {\n",
              "        text-align: right;\n",
              "    }\n",
              "</style>\n",
              "<table border=\"1\" class=\"dataframe\">\n",
              "  <thead>\n",
              "    <tr style=\"text-align: right;\">\n",
              "      <th></th>\n",
              "      <th>open</th>\n",
              "      <th>high</th>\n",
              "      <th>low</th>\n",
              "      <th>close</th>\n",
              "      <th>adjusted close</th>\n",
              "      <th>volume</th>\n",
              "      <th>dividend amount</th>\n",
              "      <th>split coefficient</th>\n",
              "    </tr>\n",
              "    <tr>\n",
              "      <th>date</th>\n",
              "      <th></th>\n",
              "      <th></th>\n",
              "      <th></th>\n",
              "      <th></th>\n",
              "      <th></th>\n",
              "      <th></th>\n",
              "      <th></th>\n",
              "      <th></th>\n",
              "    </tr>\n",
              "  </thead>\n",
              "  <tbody>\n",
              "    <tr>\n",
              "      <th>2023-03-10</th>\n",
              "      <td>390.990000</td>\n",
              "      <td>393.160000</td>\n",
              "      <td>384.320000</td>\n",
              "      <td>385.910000</td>\n",
              "      <td>385.910000</td>\n",
              "      <td>189252996</td>\n",
              "      <td>0.0</td>\n",
              "      <td>1.0</td>\n",
              "    </tr>\n",
              "    <tr>\n",
              "      <th>2023-03-09</th>\n",
              "      <td>399.740000</td>\n",
              "      <td>401.480000</td>\n",
              "      <td>390.530000</td>\n",
              "      <td>391.560000</td>\n",
              "      <td>391.560000</td>\n",
              "      <td>111945322</td>\n",
              "      <td>0.0</td>\n",
              "      <td>1.0</td>\n",
              "    </tr>\n",
              "    <tr>\n",
              "      <th>2023-03-08</th>\n",
              "      <td>398.390000</td>\n",
              "      <td>399.710000</td>\n",
              "      <td>396.590000</td>\n",
              "      <td>398.920000</td>\n",
              "      <td>398.920000</td>\n",
              "      <td>74746632</td>\n",
              "      <td>0.0</td>\n",
              "      <td>1.0</td>\n",
              "    </tr>\n",
              "    <tr>\n",
              "      <th>2023-03-07</th>\n",
              "      <td>404.420000</td>\n",
              "      <td>404.670000</td>\n",
              "      <td>397.625000</td>\n",
              "      <td>398.270000</td>\n",
              "      <td>398.270000</td>\n",
              "      <td>108310596</td>\n",
              "      <td>0.0</td>\n",
              "      <td>1.0</td>\n",
              "    </tr>\n",
              "    <tr>\n",
              "      <th>2023-03-06</th>\n",
              "      <td>405.050000</td>\n",
              "      <td>407.450000</td>\n",
              "      <td>404.010000</td>\n",
              "      <td>404.470000</td>\n",
              "      <td>404.470000</td>\n",
              "      <td>72795946</td>\n",
              "      <td>0.0</td>\n",
              "      <td>1.0</td>\n",
              "    </tr>\n",
              "    <tr>\n",
              "      <th>...</th>\n",
              "      <td>...</td>\n",
              "      <td>...</td>\n",
              "      <td>...</td>\n",
              "      <td>...</td>\n",
              "      <td>...</td>\n",
              "      <td>...</td>\n",
              "      <td>...</td>\n",
              "      <td>...</td>\n",
              "    </tr>\n",
              "    <tr>\n",
              "      <th>1999-11-05</th>\n",
              "      <td>138.625000</td>\n",
              "      <td>139.109299</td>\n",
              "      <td>136.781204</td>\n",
              "      <td>137.875000</td>\n",
              "      <td>90.068563</td>\n",
              "      <td>7431500</td>\n",
              "      <td>0.0</td>\n",
              "      <td>1.0</td>\n",
              "    </tr>\n",
              "    <tr>\n",
              "      <th>1999-11-04</th>\n",
              "      <td>136.750000</td>\n",
              "      <td>137.359299</td>\n",
              "      <td>135.765594</td>\n",
              "      <td>136.531204</td>\n",
              "      <td>89.190712</td>\n",
              "      <td>7907500</td>\n",
              "      <td>0.0</td>\n",
              "      <td>1.0</td>\n",
              "    </tr>\n",
              "    <tr>\n",
              "      <th>1999-11-03</th>\n",
              "      <td>136.000000</td>\n",
              "      <td>136.375000</td>\n",
              "      <td>135.125000</td>\n",
              "      <td>135.500000</td>\n",
              "      <td>88.517065</td>\n",
              "      <td>7222300</td>\n",
              "      <td>0.0</td>\n",
              "      <td>1.0</td>\n",
              "    </tr>\n",
              "    <tr>\n",
              "      <th>1999-11-02</th>\n",
              "      <td>135.968704</td>\n",
              "      <td>137.250000</td>\n",
              "      <td>134.593704</td>\n",
              "      <td>134.593704</td>\n",
              "      <td>87.925016</td>\n",
              "      <td>6516900</td>\n",
              "      <td>0.0</td>\n",
              "      <td>1.0</td>\n",
              "    </tr>\n",
              "    <tr>\n",
              "      <th>1999-11-01</th>\n",
              "      <td>136.500000</td>\n",
              "      <td>137.000000</td>\n",
              "      <td>135.562500</td>\n",
              "      <td>135.562500</td>\n",
              "      <td>88.557894</td>\n",
              "      <td>4006500</td>\n",
              "      <td>0.0</td>\n",
              "      <td>1.0</td>\n",
              "    </tr>\n",
              "  </tbody>\n",
              "</table>\n",
              "<p>5877 rows × 8 columns</p>\n",
              "</div>\n",
              "      <button class=\"colab-df-convert\" onclick=\"convertToInteractive('df-c1e6cbfd-d79a-4a66-a4b8-b9adb0f671a0')\"\n",
              "              title=\"Convert this dataframe to an interactive table.\"\n",
              "              style=\"display:none;\">\n",
              "        \n",
              "  <svg xmlns=\"http://www.w3.org/2000/svg\" height=\"24px\"viewBox=\"0 0 24 24\"\n",
              "       width=\"24px\">\n",
              "    <path d=\"M0 0h24v24H0V0z\" fill=\"none\"/>\n",
              "    <path d=\"M18.56 5.44l.94 2.06.94-2.06 2.06-.94-2.06-.94-.94-2.06-.94 2.06-2.06.94zm-11 1L8.5 8.5l.94-2.06 2.06-.94-2.06-.94L8.5 2.5l-.94 2.06-2.06.94zm10 10l.94 2.06.94-2.06 2.06-.94-2.06-.94-.94-2.06-.94 2.06-2.06.94z\"/><path d=\"M17.41 7.96l-1.37-1.37c-.4-.4-.92-.59-1.43-.59-.52 0-1.04.2-1.43.59L10.3 9.45l-7.72 7.72c-.78.78-.78 2.05 0 2.83L4 21.41c.39.39.9.59 1.41.59.51 0 1.02-.2 1.41-.59l7.78-7.78 2.81-2.81c.8-.78.8-2.07 0-2.86zM5.41 20L4 18.59l7.72-7.72 1.47 1.35L5.41 20z\"/>\n",
              "  </svg>\n",
              "      </button>\n",
              "      \n",
              "  <style>\n",
              "    .colab-df-container {\n",
              "      display:flex;\n",
              "      flex-wrap:wrap;\n",
              "      gap: 12px;\n",
              "    }\n",
              "\n",
              "    .colab-df-convert {\n",
              "      background-color: #E8F0FE;\n",
              "      border: none;\n",
              "      border-radius: 50%;\n",
              "      cursor: pointer;\n",
              "      display: none;\n",
              "      fill: #1967D2;\n",
              "      height: 32px;\n",
              "      padding: 0 0 0 0;\n",
              "      width: 32px;\n",
              "    }\n",
              "\n",
              "    .colab-df-convert:hover {\n",
              "      background-color: #E2EBFA;\n",
              "      box-shadow: 0px 1px 2px rgba(60, 64, 67, 0.3), 0px 1px 3px 1px rgba(60, 64, 67, 0.15);\n",
              "      fill: #174EA6;\n",
              "    }\n",
              "\n",
              "    [theme=dark] .colab-df-convert {\n",
              "      background-color: #3B4455;\n",
              "      fill: #D2E3FC;\n",
              "    }\n",
              "\n",
              "    [theme=dark] .colab-df-convert:hover {\n",
              "      background-color: #434B5C;\n",
              "      box-shadow: 0px 1px 3px 1px rgba(0, 0, 0, 0.15);\n",
              "      filter: drop-shadow(0px 1px 2px rgba(0, 0, 0, 0.3));\n",
              "      fill: #FFFFFF;\n",
              "    }\n",
              "  </style>\n",
              "\n",
              "      <script>\n",
              "        const buttonEl =\n",
              "          document.querySelector('#df-c1e6cbfd-d79a-4a66-a4b8-b9adb0f671a0 button.colab-df-convert');\n",
              "        buttonEl.style.display =\n",
              "          google.colab.kernel.accessAllowed ? 'block' : 'none';\n",
              "\n",
              "        async function convertToInteractive(key) {\n",
              "          const element = document.querySelector('#df-c1e6cbfd-d79a-4a66-a4b8-b9adb0f671a0');\n",
              "          const dataTable =\n",
              "            await google.colab.kernel.invokeFunction('convertToInteractive',\n",
              "                                                     [key], {});\n",
              "          if (!dataTable) return;\n",
              "\n",
              "          const docLinkHtml = 'Like what you see? Visit the ' +\n",
              "            '<a target=\"_blank\" href=https://colab.research.google.com/notebooks/data_table.ipynb>data table notebook</a>'\n",
              "            + ' to learn more about interactive tables.';\n",
              "          element.innerHTML = '';\n",
              "          dataTable['output_type'] = 'display_data';\n",
              "          await google.colab.output.renderOutput(dataTable, element);\n",
              "          const docLink = document.createElement('div');\n",
              "          docLink.innerHTML = docLinkHtml;\n",
              "          element.appendChild(docLink);\n",
              "        }\n",
              "      </script>\n",
              "    </div>\n",
              "  </div>\n",
              "  "
            ]
          },
          "metadata": {},
          "execution_count": 64
        }
      ]
    },
    {
      "cell_type": "code",
      "source": [
        "df['adjusted close'].plot()\n",
        "plt.ylabel(\"adjusted closing price (USD)\")\n",
        "plt.title(\"Time series of  S&P 500 ETF adjusted close\")\n",
        "plt.show()"
      ],
      "metadata": {
        "id": "MrDvSCVZlwh7",
        "colab": {
          "base_uri": "https://localhost:8080/",
          "height": 285
        },
        "outputId": "edea28d2-95e2-4890-e3c8-aaadaa982f0d"
      },
      "execution_count": null,
      "outputs": [
        {
          "output_type": "display_data",
          "data": {
            "text/plain": [
              "<Figure size 432x288 with 1 Axes>"
            ],
            "image/png": "[encoded data removed]"
          },
          "metadata": {
            "needs_background": "light"
          }
        }
      ]
    },
    {
      "cell_type": "markdown",
      "source": [
        "This plot indicates that the S&P 500 price is increasing.  Hence the time series is not a stationary series because the mean is increasing. We can also see this in the data table of close values.  We can see that between 1999 and 2023 the S&P 500 has nearly quadrupled in price."
      ],
      "metadata": {
        "id": "XhF8gzekpALn"
      }
    },
    {
      "cell_type": "markdown",
      "source": [
        "## Diagnosis\n",
        "\n",
        "A basic way to check for stationarity in a time series is to look at a plot of the data and check for a trend or seasonal components.\n",
        "\n",
        "Another way is to sample and look at the mean and autocovariance.\n",
        "\n",
        "A more robust way is to do a Dickey–Fuller test or Augmented Dickey-Fuller (ADF. In this case we are trying to do statistical tests to try to use an autoregressive model.  We are trying to reject the null hypothesis that α=1; this will allow us to conclude that the series is nonstationary.\n",
        "\n",
        "We can use the `adfuller` function from `statsmodels.tsa.stattools` to run this\n",
        "\n",
        "\n"
      ],
      "metadata": {
        "id": "EiKev69opwjY"
      }
    },
    {
      "cell_type": "markdown",
      "source": [
        "## Damage\n",
        "\n",
        "If you apply time-series methods to a non-stationary series, several problems can occur:\n",
        "\n",
        "Misleading Results: Non-stationary time series can show spurious correlation, leading to false results For example, a correlation between two non-stationary variables may indicate a causal relationship, which may not be true.\n",
        "\n",
        "Inaccurate Forecasts: Time series models rely on the assumption that the statistical properties of the data remain constant over time. Non-stationary time series violate this assumption, and as a result, forecasts made using these models may be inaccurate. For example, a time series model may predict a trend to continue in the future, but if the trend is not stationary, the actual trend may be different.\n",
        "\n",
        "Incorrect Parameter Estimation: Time series models require the estimation of parameters based on the historical data. However, non-stationary time series can have changing statistical properties, and estimating parameters based on historical data may not be accurate. This can lead to incorrect model specifications and predictions.\n",
        "\n",
        "Model Instability: Non-stationary time series can also lead to model instability, which means that the model's coefficients may change over time. This can lead to inaccurate predictions and unreliable results."
      ],
      "metadata": {
        "id": "UQem5uIqrNwQ"
      }
    },
    {
      "cell_type": "markdown",
      "source": [
        "## Directions\n",
        "\n",
        "If a time series is non-stationary, then we can do various preprocessing techniques to make it stationary before applying time sires methods.\n",
        "\n",
        "* We can take differences to make the series stationary\n",
        "* We can use an ARIMA model which will incorporate taking differences\n",
        "* We can try to find a trend and then get a new series after subtracting out the trend\n",
        "* We can find a seasonal component and subtract it out"
      ],
      "metadata": {
        "id": "ia1ESY29sfYB"
      }
    },
    {
      "cell_type": "markdown",
      "source": [
        "References:\n",
        "\n",
        "Kempthorne, Peter J. \"Summarizing Data.\" MIT OpenCourseWare, 2015, https://ocw.mit.edu/courses/18-443-statistics-for-applications-spring-2015/60566d882db226c2f71b081d9fbc139d_MIT18_443S15_LEC12.pdf.\n",
        "\n"
      ],
      "metadata": {
        "id": "6wj1NzJOGWVZ"
      }
    }
  ]
}