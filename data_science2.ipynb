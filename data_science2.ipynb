{
  "nbformat": 4,
  "nbformat_minor": 0,
  "metadata": {
    "colab": {
      "provenance": []
    },
    "kernelspec": {
      "name": "python3",
      "display_name": "Python 3"
    },
    "language_info": {
      "name": "python"
    }
  },
  "cells": [
    {
      "cell_type": "markdown",
      "source": [
        "# Guide to Analysis of Time Series Data\n",
        "By Dean Menezes"
      ],
      "metadata": {
        "id": "w1MU9tt0sj3m"
      }
    },
    {
      "cell_type": "markdown",
      "source": [
        "# Multicolinearity\n",
        "\n",
        "Multicollinearity occurs when there is a high degree of correlation  between two or more independent variables in a regression model.\n",
        "\n",
        "Specifically we look at the Pearson correlation coefficient, which measures the degree of linear correlation between two variables.\n",
        "\n",
        "The Pearson correlation between two variables $X$ and $Y$ is defined as:\n",
        "\n",
        "$$\\rho_{X,Y} = \\frac{{\\bf E}[(X - \\mu_X)(Y - \\mu_Y)]}{\\sigma_X\\sigma_Y}$$\n",
        "\n",
        "where $\\mu_X$ and $\\mu_Y$ are the means of $X$ and $Y$, and $\\sigma_X$ and $\\sigma_Y$ are the standard deviations of $X$ and $Y$."
      ],
      "metadata": {
        "id": "MlH8tWWgGkax"
      }
    },
    {
      "cell_type": "code",
      "source": [
        "import pandas as pd\n",
        "from statsmodels.stats.outliers_influence import variance_inflation_factor\n",
        "import statsmodels.api as sm\n",
        "import seaborn as sns\n",
        "\n",
        "bp = pd.read_csv(\"http://math.ucla.edu/~dmenezes/bloodpress.csv\")\n",
        "bp.head(n=20)"
      ],
      "metadata": {
        "colab": {
          "base_uri": "https://localhost:8080/",
          "height": 677
        },
        "id": "6OBpys4lwPrU",
        "outputId": "b64af926-67a0-459c-8dd1-06ac0756fac9"
      },
      "execution_count": null,
      "outputs": [
        {
          "output_type": "execute_result",
          "data": {
            "text/plain": [
              "     BP  Age  Weight   BSA   Dur  Pulse  Stress\n",
              "0   105   47    85.4  1.75   5.1     63      33\n",
              "1   115   49    94.2  2.10   3.8     70      14\n",
              "2   116   49    95.3  1.98   8.2     72      10\n",
              "3   117   50    94.7  2.01   5.8     73      99\n",
              "4   112   51    89.4  1.89   7.0     72      95\n",
              "5   121   48    99.5  2.25   9.3     71      10\n",
              "6   121   49    99.8  2.25   2.5     69      42\n",
              "7   110   47    90.9  1.90   6.2     66       8\n",
              "8   110   49    89.2  1.83   7.1     69      62\n",
              "9   114   48    92.7  2.07   5.6     64      35\n",
              "10  114   47    94.4  2.07   5.3     74      90\n",
              "11  115   49    94.1  1.98   5.6     71      21\n",
              "12  114   50    91.6  2.05  10.2     68      47\n",
              "13  106   45    87.1  1.92   5.6     67      80\n",
              "14  125   52   101.3  2.19  10.0     76      98\n",
              "15  114   46    94.5  1.98   7.4     69      95\n",
              "16  106   46    87.0  1.87   3.6     62      18\n",
              "17  113   46    94.5  1.90   4.3     70      12\n",
              "18  110   48    90.5  1.88   9.0     71      99\n",
              "19  122   56    95.7  2.09   7.0     75      99"
            ],
            "text/html": [
              "\n",
              "  <div id=\"df-04e35cc8-1857-42b5-9e97-5bc33738494b\">\n",
              "    <div class=\"colab-df-container\">\n",
              "      <div>\n",
              "<style scoped>\n",
              "    .dataframe tbody tr th:only-of-type {\n",
              "        vertical-align: middle;\n",
              "    }\n",
              "\n",
              "    .dataframe tbody tr th {\n",
              "        vertical-align: top;\n",
              "    }\n",
              "\n",
              "    .dataframe thead th {\n",
              "        text-align: right;\n",
              "    }\n",
              "</style>\n",
              "<table border=\"1\" class=\"dataframe\">\n",
              "  <thead>\n",
              "    <tr style=\"text-align: right;\">\n",
              "      <th></th>\n",
              "      <th>BP</th>\n",
              "      <th>Age</th>\n",
              "      <th>Weight</th>\n",
              "      <th>BSA</th>\n",
              "      <th>Dur</th>\n",
              "      <th>Pulse</th>\n",
              "      <th>Stress</th>\n",
              "    </tr>\n",
              "  </thead>\n",
              "  <tbody>\n",
              "    <tr>\n",
              "      <th>0</th>\n",
              "      <td>105</td>\n",
              "      <td>47</td>\n",
              "      <td>85.4</td>\n",
              "      <td>1.75</td>\n",
              "      <td>5.1</td>\n",
              "      <td>63</td>\n",
              "      <td>33</td>\n",
              "    </tr>\n",
              "    <tr>\n",
              "      <th>1</th>\n",
              "      <td>115</td>\n",
              "      <td>49</td>\n",
              "      <td>94.2</td>\n",
              "      <td>2.10</td>\n",
              "      <td>3.8</td>\n",
              "      <td>70</td>\n",
              "      <td>14</td>\n",
              "    </tr>\n",
              "    <tr>\n",
              "      <th>2</th>\n",
              "      <td>116</td>\n",
              "      <td>49</td>\n",
              "      <td>95.3</td>\n",
              "      <td>1.98</td>\n",
              "      <td>8.2</td>\n",
              "      <td>72</td>\n",
              "      <td>10</td>\n",
              "    </tr>\n",
              "    <tr>\n",
              "      <th>3</th>\n",
              "      <td>117</td>\n",
              "      <td>50</td>\n",
              "      <td>94.7</td>\n",
              "      <td>2.01</td>\n",
              "      <td>5.8</td>\n",
              "      <td>73</td>\n",
              "      <td>99</td>\n",
              "    </tr>\n",
              "    <tr>\n",
              "      <th>4</th>\n",
              "      <td>112</td>\n",
              "      <td>51</td>\n",
              "      <td>89.4</td>\n",
              "      <td>1.89</td>\n",
              "      <td>7.0</td>\n",
              "      <td>72</td>\n",
              "      <td>95</td>\n",
              "    </tr>\n",
              "    <tr>\n",
              "      <th>5</th>\n",
              "      <td>121</td>\n",
              "      <td>48</td>\n",
              "      <td>99.5</td>\n",
              "      <td>2.25</td>\n",
              "      <td>9.3</td>\n",
              "      <td>71</td>\n",
              "      <td>10</td>\n",
              "    </tr>\n",
              "    <tr>\n",
              "      <th>6</th>\n",
              "      <td>121</td>\n",
              "      <td>49</td>\n",
              "      <td>99.8</td>\n",
              "      <td>2.25</td>\n",
              "      <td>2.5</td>\n",
              "      <td>69</td>\n",
              "      <td>42</td>\n",
              "    </tr>\n",
              "    <tr>\n",
              "      <th>7</th>\n",
              "      <td>110</td>\n",
              "      <td>47</td>\n",
              "      <td>90.9</td>\n",
              "      <td>1.90</td>\n",
              "      <td>6.2</td>\n",
              "      <td>66</td>\n",
              "      <td>8</td>\n",
              "    </tr>\n",
              "    <tr>\n",
              "      <th>8</th>\n",
              "      <td>110</td>\n",
              "      <td>49</td>\n",
              "      <td>89.2</td>\n",
              "      <td>1.83</td>\n",
              "      <td>7.1</td>\n",
              "      <td>69</td>\n",
              "      <td>62</td>\n",
              "    </tr>\n",
              "    <tr>\n",
              "      <th>9</th>\n",
              "      <td>114</td>\n",
              "      <td>48</td>\n",
              "      <td>92.7</td>\n",
              "      <td>2.07</td>\n",
              "      <td>5.6</td>\n",
              "      <td>64</td>\n",
              "      <td>35</td>\n",
              "    </tr>\n",
              "    <tr>\n",
              "      <th>10</th>\n",
              "      <td>114</td>\n",
              "      <td>47</td>\n",
              "      <td>94.4</td>\n",
              "      <td>2.07</td>\n",
              "      <td>5.3</td>\n",
              "      <td>74</td>\n",
              "      <td>90</td>\n",
              "    </tr>\n",
              "    <tr>\n",
              "      <th>11</th>\n",
              "      <td>115</td>\n",
              "      <td>49</td>\n",
              "      <td>94.1</td>\n",
              "      <td>1.98</td>\n",
              "      <td>5.6</td>\n",
              "      <td>71</td>\n",
              "      <td>21</td>\n",
              "    </tr>\n",
              "    <tr>\n",
              "      <th>12</th>\n",
              "      <td>114</td>\n",
              "      <td>50</td>\n",
              "      <td>91.6</td>\n",
              "      <td>2.05</td>\n",
              "      <td>10.2</td>\n",
              "      <td>68</td>\n",
              "      <td>47</td>\n",
              "    </tr>\n",
              "    <tr>\n",
              "      <th>13</th>\n",
              "      <td>106</td>\n",
              "      <td>45</td>\n",
              "      <td>87.1</td>\n",
              "      <td>1.92</td>\n",
              "      <td>5.6</td>\n",
              "      <td>67</td>\n",
              "      <td>80</td>\n",
              "    </tr>\n",
              "    <tr>\n",
              "      <th>14</th>\n",
              "      <td>125</td>\n",
              "      <td>52</td>\n",
              "      <td>101.3</td>\n",
              "      <td>2.19</td>\n",
              "      <td>10.0</td>\n",
              "      <td>76</td>\n",
              "      <td>98</td>\n",
              "    </tr>\n",
              "    <tr>\n",
              "      <th>15</th>\n",
              "      <td>114</td>\n",
              "      <td>46</td>\n",
              "      <td>94.5</td>\n",
              "      <td>1.98</td>\n",
              "      <td>7.4</td>\n",
              "      <td>69</td>\n",
              "      <td>95</td>\n",
              "    </tr>\n",
              "    <tr>\n",
              "      <th>16</th>\n",
              "      <td>106</td>\n",
              "      <td>46</td>\n",
              "      <td>87.0</td>\n",
              "      <td>1.87</td>\n",
              "      <td>3.6</td>\n",
              "      <td>62</td>\n",
              "      <td>18</td>\n",
              "    </tr>\n",
              "    <tr>\n",
              "      <th>17</th>\n",
              "      <td>113</td>\n",
              "      <td>46</td>\n",
              "      <td>94.5</td>\n",
              "      <td>1.90</td>\n",
              "      <td>4.3</td>\n",
              "      <td>70</td>\n",
              "      <td>12</td>\n",
              "    </tr>\n",
              "    <tr>\n",
              "      <th>18</th>\n",
              "      <td>110</td>\n",
              "      <td>48</td>\n",
              "      <td>90.5</td>\n",
              "      <td>1.88</td>\n",
              "      <td>9.0</td>\n",
              "      <td>71</td>\n",
              "      <td>99</td>\n",
              "    </tr>\n",
              "    <tr>\n",
              "      <th>19</th>\n",
              "      <td>122</td>\n",
              "      <td>56</td>\n",
              "      <td>95.7</td>\n",
              "      <td>2.09</td>\n",
              "      <td>7.0</td>\n",
              "      <td>75</td>\n",
              "      <td>99</td>\n",
              "    </tr>\n",
              "  </tbody>\n",
              "</table>\n",
              "</div>\n",
              "      <button class=\"colab-df-convert\" onclick=\"convertToInteractive('df-04e35cc8-1857-42b5-9e97-5bc33738494b')\"\n",
              "              title=\"Convert this dataframe to an interactive table.\"\n",
              "              style=\"display:none;\">\n",
              "        \n",
              "  <svg xmlns=\"http://www.w3.org/2000/svg\" height=\"24px\"viewBox=\"0 0 24 24\"\n",
              "       width=\"24px\">\n",
              "    <path d=\"M0 0h24v24H0V0z\" fill=\"none\"/>\n",
              "    <path d=\"M18.56 5.44l.94 2.06.94-2.06 2.06-.94-2.06-.94-.94-2.06-.94 2.06-2.06.94zm-11 1L8.5 8.5l.94-2.06 2.06-.94-2.06-.94L8.5 2.5l-.94 2.06-2.06.94zm10 10l.94 2.06.94-2.06 2.06-.94-2.06-.94-.94-2.06-.94 2.06-2.06.94z\"/><path d=\"M17.41 7.96l-1.37-1.37c-.4-.4-.92-.59-1.43-.59-.52 0-1.04.2-1.43.59L10.3 9.45l-7.72 7.72c-.78.78-.78 2.05 0 2.83L4 21.41c.39.39.9.59 1.41.59.51 0 1.02-.2 1.41-.59l7.78-7.78 2.81-2.81c.8-.78.8-2.07 0-2.86zM5.41 20L4 18.59l7.72-7.72 1.47 1.35L5.41 20z\"/>\n",
              "  </svg>\n",
              "      </button>\n",
              "      \n",
              "  <style>\n",
              "    .colab-df-container {\n",
              "      display:flex;\n",
              "      flex-wrap:wrap;\n",
              "      gap: 12px;\n",
              "    }\n",
              "\n",
              "    .colab-df-convert {\n",
              "      background-color: #E8F0FE;\n",
              "      border: none;\n",
              "      border-radius: 50%;\n",
              "      cursor: pointer;\n",
              "      display: none;\n",
              "      fill: #1967D2;\n",
              "      height: 32px;\n",
              "      padding: 0 0 0 0;\n",
              "      width: 32px;\n",
              "    }\n",
              "\n",
              "    .colab-df-convert:hover {\n",
              "      background-color: #E2EBFA;\n",
              "      box-shadow: 0px 1px 2px rgba(60, 64, 67, 0.3), 0px 1px 3px 1px rgba(60, 64, 67, 0.15);\n",
              "      fill: #174EA6;\n",
              "    }\n",
              "\n",
              "    [theme=dark] .colab-df-convert {\n",
              "      background-color: #3B4455;\n",
              "      fill: #D2E3FC;\n",
              "    }\n",
              "\n",
              "    [theme=dark] .colab-df-convert:hover {\n",
              "      background-color: #434B5C;\n",
              "      box-shadow: 0px 1px 3px 1px rgba(0, 0, 0, 0.15);\n",
              "      filter: drop-shadow(0px 1px 2px rgba(0, 0, 0, 0.3));\n",
              "      fill: #FFFFFF;\n",
              "    }\n",
              "  </style>\n",
              "\n",
              "      <script>\n",
              "        const buttonEl =\n",
              "          document.querySelector('#df-04e35cc8-1857-42b5-9e97-5bc33738494b button.colab-df-convert');\n",
              "        buttonEl.style.display =\n",
              "          google.colab.kernel.accessAllowed ? 'block' : 'none';\n",
              "\n",
              "        async function convertToInteractive(key) {\n",
              "          const element = document.querySelector('#df-04e35cc8-1857-42b5-9e97-5bc33738494b');\n",
              "          const dataTable =\n",
              "            await google.colab.kernel.invokeFunction('convertToInteractive',\n",
              "                                                     [key], {});\n",
              "          if (!dataTable) return;\n",
              "\n",
              "          const docLinkHtml = 'Like what you see? Visit the ' +\n",
              "            '<a target=\"_blank\" href=https://colab.research.google.com/notebooks/data_table.ipynb>data table notebook</a>'\n",
              "            + ' to learn more about interactive tables.';\n",
              "          element.innerHTML = '';\n",
              "          dataTable['output_type'] = 'display_data';\n",
              "          await google.colab.output.renderOutput(dataTable, element);\n",
              "          const docLink = document.createElement('div');\n",
              "          docLink.innerHTML = docLinkHtml;\n",
              "          element.appendChild(docLink);\n",
              "        }\n",
              "      </script>\n",
              "    </div>\n",
              "  </div>\n",
              "  "
            ]
          },
          "metadata": {},
          "execution_count": 3
        }
      ]
    },
    {
      "cell_type": "markdown",
      "source": [
        "The above data set lists the blood pressure data for various patients.  It shows their blood pressure in mmHg as well as age, weight, body surface area, pulse, etc."
      ],
      "metadata": {
        "id": "sBy1X3-nwpBz"
      }
    },
    {
      "cell_type": "code",
      "source": [
        "bp.corr()"
      ],
      "metadata": {
        "colab": {
          "base_uri": "https://localhost:8080/",
          "height": 269
        },
        "id": "hmLx-j-Yw5hx",
        "outputId": "fd0f3763-a809-49e9-99e2-dd23c1e76949"
      },
      "execution_count": null,
      "outputs": [
        {
          "output_type": "execute_result",
          "data": {
            "text/plain": [
              "              BP       Age    Weight       BSA       Dur     Pulse    Stress\n",
              "BP      1.000000  0.659093  0.950068  0.865879  0.292834  0.721413  0.163901\n",
              "Age     0.659093  1.000000  0.407349  0.378455  0.343792  0.618764  0.368224\n",
              "Weight  0.950068  0.407349  1.000000  0.875305  0.200650  0.659340  0.034355\n",
              "BSA     0.865879  0.378455  0.875305  1.000000  0.130540  0.464819  0.018446\n",
              "Dur     0.292834  0.343792  0.200650  0.130540  1.000000  0.401514  0.311640\n",
              "Pulse   0.721413  0.618764  0.659340  0.464819  0.401514  1.000000  0.506310\n",
              "Stress  0.163901  0.368224  0.034355  0.018446  0.311640  0.506310  1.000000"
            ],
            "text/html": [
              "\n",
              "  <div id=\"df-2da0e5e4-e97d-4048-bfe0-a8cf60c7e765\">\n",
              "    <div class=\"colab-df-container\">\n",
              "      <div>\n",
              "<style scoped>\n",
              "    .dataframe tbody tr th:only-of-type {\n",
              "        vertical-align: middle;\n",
              "    }\n",
              "\n",
              "    .dataframe tbody tr th {\n",
              "        vertical-align: top;\n",
              "    }\n",
              "\n",
              "    .dataframe thead th {\n",
              "        text-align: right;\n",
              "    }\n",
              "</style>\n",
              "<table border=\"1\" class=\"dataframe\">\n",
              "  <thead>\n",
              "    <tr style=\"text-align: right;\">\n",
              "      <th></th>\n",
              "      <th>BP</th>\n",
              "      <th>Age</th>\n",
              "      <th>Weight</th>\n",
              "      <th>BSA</th>\n",
              "      <th>Dur</th>\n",
              "      <th>Pulse</th>\n",
              "      <th>Stress</th>\n",
              "    </tr>\n",
              "  </thead>\n",
              "  <tbody>\n",
              "    <tr>\n",
              "      <th>BP</th>\n",
              "      <td>1.000000</td>\n",
              "      <td>0.659093</td>\n",
              "      <td>0.950068</td>\n",
              "      <td>0.865879</td>\n",
              "      <td>0.292834</td>\n",
              "      <td>0.721413</td>\n",
              "      <td>0.163901</td>\n",
              "    </tr>\n",
              "    <tr>\n",
              "      <th>Age</th>\n",
              "      <td>0.659093</td>\n",
              "      <td>1.000000</td>\n",
              "      <td>0.407349</td>\n",
              "      <td>0.378455</td>\n",
              "      <td>0.343792</td>\n",
              "      <td>0.618764</td>\n",
              "      <td>0.368224</td>\n",
              "    </tr>\n",
              "    <tr>\n",
              "      <th>Weight</th>\n",
              "      <td>0.950068</td>\n",
              "      <td>0.407349</td>\n",
              "      <td>1.000000</td>\n",
              "      <td>0.875305</td>\n",
              "      <td>0.200650</td>\n",
              "      <td>0.659340</td>\n",
              "      <td>0.034355</td>\n",
              "    </tr>\n",
              "    <tr>\n",
              "      <th>BSA</th>\n",
              "      <td>0.865879</td>\n",
              "      <td>0.378455</td>\n",
              "      <td>0.875305</td>\n",
              "      <td>1.000000</td>\n",
              "      <td>0.130540</td>\n",
              "      <td>0.464819</td>\n",
              "      <td>0.018446</td>\n",
              "    </tr>\n",
              "    <tr>\n",
              "      <th>Dur</th>\n",
              "      <td>0.292834</td>\n",
              "      <td>0.343792</td>\n",
              "      <td>0.200650</td>\n",
              "      <td>0.130540</td>\n",
              "      <td>1.000000</td>\n",
              "      <td>0.401514</td>\n",
              "      <td>0.311640</td>\n",
              "    </tr>\n",
              "    <tr>\n",
              "      <th>Pulse</th>\n",
              "      <td>0.721413</td>\n",
              "      <td>0.618764</td>\n",
              "      <td>0.659340</td>\n",
              "      <td>0.464819</td>\n",
              "      <td>0.401514</td>\n",
              "      <td>1.000000</td>\n",
              "      <td>0.506310</td>\n",
              "    </tr>\n",
              "    <tr>\n",
              "      <th>Stress</th>\n",
              "      <td>0.163901</td>\n",
              "      <td>0.368224</td>\n",
              "      <td>0.034355</td>\n",
              "      <td>0.018446</td>\n",
              "      <td>0.311640</td>\n",
              "      <td>0.506310</td>\n",
              "      <td>1.000000</td>\n",
              "    </tr>\n",
              "  </tbody>\n",
              "</table>\n",
              "</div>\n",
              "      <button class=\"colab-df-convert\" onclick=\"convertToInteractive('df-2da0e5e4-e97d-4048-bfe0-a8cf60c7e765')\"\n",
              "              title=\"Convert this dataframe to an interactive table.\"\n",
              "              style=\"display:none;\">\n",
              "        \n",
              "  <svg xmlns=\"http://www.w3.org/2000/svg\" height=\"24px\"viewBox=\"0 0 24 24\"\n",
              "       width=\"24px\">\n",
              "    <path d=\"M0 0h24v24H0V0z\" fill=\"none\"/>\n",
              "    <path d=\"M18.56 5.44l.94 2.06.94-2.06 2.06-.94-2.06-.94-.94-2.06-.94 2.06-2.06.94zm-11 1L8.5 8.5l.94-2.06 2.06-.94-2.06-.94L8.5 2.5l-.94 2.06-2.06.94zm10 10l.94 2.06.94-2.06 2.06-.94-2.06-.94-.94-2.06-.94 2.06-2.06.94z\"/><path d=\"M17.41 7.96l-1.37-1.37c-.4-.4-.92-.59-1.43-.59-.52 0-1.04.2-1.43.59L10.3 9.45l-7.72 7.72c-.78.78-.78 2.05 0 2.83L4 21.41c.39.39.9.59 1.41.59.51 0 1.02-.2 1.41-.59l7.78-7.78 2.81-2.81c.8-.78.8-2.07 0-2.86zM5.41 20L4 18.59l7.72-7.72 1.47 1.35L5.41 20z\"/>\n",
              "  </svg>\n",
              "      </button>\n",
              "      \n",
              "  <style>\n",
              "    .colab-df-container {\n",
              "      display:flex;\n",
              "      flex-wrap:wrap;\n",
              "      gap: 12px;\n",
              "    }\n",
              "\n",
              "    .colab-df-convert {\n",
              "      background-color: #E8F0FE;\n",
              "      border: none;\n",
              "      border-radius: 50%;\n",
              "      cursor: pointer;\n",
              "      display: none;\n",
              "      fill: #1967D2;\n",
              "      height: 32px;\n",
              "      padding: 0 0 0 0;\n",
              "      width: 32px;\n",
              "    }\n",
              "\n",
              "    .colab-df-convert:hover {\n",
              "      background-color: #E2EBFA;\n",
              "      box-shadow: 0px 1px 2px rgba(60, 64, 67, 0.3), 0px 1px 3px 1px rgba(60, 64, 67, 0.15);\n",
              "      fill: #174EA6;\n",
              "    }\n",
              "\n",
              "    [theme=dark] .colab-df-convert {\n",
              "      background-color: #3B4455;\n",
              "      fill: #D2E3FC;\n",
              "    }\n",
              "\n",
              "    [theme=dark] .colab-df-convert:hover {\n",
              "      background-color: #434B5C;\n",
              "      box-shadow: 0px 1px 3px 1px rgba(0, 0, 0, 0.15);\n",
              "      filter: drop-shadow(0px 1px 2px rgba(0, 0, 0, 0.3));\n",
              "      fill: #FFFFFF;\n",
              "    }\n",
              "  </style>\n",
              "\n",
              "      <script>\n",
              "        const buttonEl =\n",
              "          document.querySelector('#df-2da0e5e4-e97d-4048-bfe0-a8cf60c7e765 button.colab-df-convert');\n",
              "        buttonEl.style.display =\n",
              "          google.colab.kernel.accessAllowed ? 'block' : 'none';\n",
              "\n",
              "        async function convertToInteractive(key) {\n",
              "          const element = document.querySelector('#df-2da0e5e4-e97d-4048-bfe0-a8cf60c7e765');\n",
              "          const dataTable =\n",
              "            await google.colab.kernel.invokeFunction('convertToInteractive',\n",
              "                                                     [key], {});\n",
              "          if (!dataTable) return;\n",
              "\n",
              "          const docLinkHtml = 'Like what you see? Visit the ' +\n",
              "            '<a target=\"_blank\" href=https://colab.research.google.com/notebooks/data_table.ipynb>data table notebook</a>'\n",
              "            + ' to learn more about interactive tables.';\n",
              "          element.innerHTML = '';\n",
              "          dataTable['output_type'] = 'display_data';\n",
              "          await google.colab.output.renderOutput(dataTable, element);\n",
              "          const docLink = document.createElement('div');\n",
              "          docLink.innerHTML = docLinkHtml;\n",
              "          element.appendChild(docLink);\n",
              "        }\n",
              "      </script>\n",
              "    </div>\n",
              "  </div>\n",
              "  "
            ]
          },
          "metadata": {},
          "execution_count": 48
        }
      ]
    },
    {
      "cell_type": "code",
      "source": [
        "sns.heatmap(bp.corr(), annot=True, cmap='coolwarm')"
      ],
      "metadata": {
        "colab": {
          "base_uri": "https://localhost:8080/",
          "height": 286
        },
        "id": "cpZ8LHepbpAN",
        "outputId": "b8cc93ce-dcdb-4e0d-e457-227221f21719"
      },
      "execution_count": null,
      "outputs": [
        {
          "output_type": "execute_result",
          "data": {
            "text/plain": [
              "<Axes: >"
            ]
          },
          "metadata": {},
          "execution_count": 5
        },
        {
          "output_type": "display_data",
          "data": {
            "text/plain": [
              "<Figure size 432x288 with 2 Axes>"
            ],
            "image/png": "[encoded data removed]"
          },
          "metadata": {
            "needs_background": "light"
          }
        }
      ]
    },
    {
      "cell_type": "markdown",
      "source": [
        "The correlation matrix indicates that weight and body surface area (BSA) are strongly correlated.  The pulse is also relatively highly correlated with Weight, Stress, and Age.  If we are trying to predict blood pressure based on the other factors, it might be helpful to drop some variables.  We can visualize the correlation using a heatmap."
      ],
      "metadata": {
        "id": "j8W8HlgPzhKb"
      }
    },
    {
      "cell_type": "code",
      "source": [
        "vif = pd.DataFrame()\n",
        "X = bp.drop(columns=[\"BP\"])\n",
        "vif[\"variables\"] = X.columns\n",
        "vif[\"VIF\"] = [variance_inflation_factor(X.values, i) for i in range(X.shape[1])] # compute variance inflation factor\n",
        "print(vif) # print it"
      ],
      "metadata": {
        "colab": {
          "base_uri": "https://localhost:8080/"
        },
        "id": "tMgtikJRcJhu",
        "outputId": "fb9af47c-397b-4f2f-9264-0ce5def6f073"
      },
      "execution_count": null,
      "outputs": [
        {
          "output_type": "stream",
          "name": "stdout",
          "text": [
            "  variables          VIF\n",
            "0       Age   536.793041\n",
            "1    Weight  3187.057943\n",
            "2       BSA  1044.246904\n",
            "3       Dur    12.514432\n",
            "4     Pulse  1553.320340\n",
            "5    Stress     5.809743\n"
          ]
        }
      ]
    },
    {
      "cell_type": "markdown",
      "source": [
        "## Diagnosis\n",
        "\n",
        "A simple way to detect multicollinearity is to examine the correlation matrix between the predictor variables. If two or more variables are highly correlated (i.e., have correlation coefficients close to 1 or -1), this indicates that they are measuring similar concepts and may be redundant in the model.\n",
        "\n",
        "We can also use the VIF (variance inflation factor) to detect multicollinearity in the regression model. The VIF measures the extent to which each independent variable is linearly related to the other independent variables in the model."
      ],
      "metadata": {
        "id": "-QfRB1DcIuvT"
      }
    },
    {
      "cell_type": "markdown",
      "source": [
        "# Damage\n",
        "\n",
        "Multicollinearity can lead to unstable coefficient estimates: there will be larger standard errors for the coefficients. This can make it difficult to interpret the relationships between the predictor variables and the outcome variable. This can result in incorrect conclusions about the importance and significance of the variables.\n",
        "\n",
        "It can also make it hard to interpret the model results and identify the most important variables."
      ],
      "metadata": {
        "id": "99LdraBIJ9-q"
      }
    },
    {
      "cell_type": "markdown",
      "source": [
        "# Directions\n",
        "\n",
        "Multicollinearity issues can be addressed in several ways:\n",
        "\n",
        "* One way is to drop one of the correlated variables\n",
        "* Another way is to combine variables, either by creating another feature that captures the information by hand, or by using PCA (Principal Component Analysis).  If we use PCA, we use the eigenvalues and eigenvectors of the correlation matrix to construct a set of new variables called the principal components, which can be used in the model\n",
        "* Another way is to use regularized regression (ridge regression or LASSO regression) instead of ordinary least squares.  A LASSO regression is likely to select one of the predictors and drop the other (use a zero coefficient). The ridge regression will also reduce the variance in the regression coefficients."
      ],
      "metadata": {
        "id": "gBX8gVEtMH4U"
      }
    },
    {
      "cell_type": "markdown",
      "source": [
        "# Joining time series with different frequencies\n",
        "\n",
        "Joining time series with different frequencies refers to the process of combining two or more time series datasets that have different time intervals or frequencies. This can be a challenging task because the data may not align perfectly: that is, there might be  missing or overlapping observations, which can lead to issues with data quality and accuracy.\n",
        "\n",
        "The most common methods used to join time series data with different frequencies are:\n",
        "\n",
        "* **Upsampling**: This involves increasing the frequency of the lower-frequency data to match the higher-frequency data by inserting missing values.\n",
        "* **Downsampling**: This involves decreasing the frequency of the higher-frequency data to match the lower-frequency data by aggregating the higher-frequency data to the lower-frequency period.\n",
        "* **Interpolation**: This involves using statistical or mathematical techniques to estimate missing values.\n",
        "\n",
        "Joining time series with different frequencies is an essential task for portfolio and risk managers. However, it can be challenging as the data sets may have different time periods, which can make it difficult to analyze and compare them. The process of combining these data sets requires aligning them by their time indexes, which can be done by upsampling or downsampling the data. Interpolation is also a commonly used technique to estimate the missing values.\n",
        "\n"
      ],
      "metadata": {
        "id": "dnln-EmTH46H"
      }
    },
    {
      "cell_type": "code",
      "source": [
        "import pandas as pd\n",
        "import numpy as np\n",
        "\n",
        "\n",
        "import requests\n",
        "import pandas as pd\n",
        "import re\n",
        "import matplotlib.pyplot as plt\n",
        "\n",
        "url = 'https://www.alphavantage.co/query?function=TIME_SERIES_DAILY_ADJUSTED&symbol=AAPL&outputsize=full&apikey=LIDXQ6GY1WVSIDYC'\n",
        "r = requests.get(url)\n",
        "apple = r.json()\n",
        "apple = pd.DataFrame(apple[\"Time Series (Daily)\"])\n",
        "apple = apple.T  # Transpose Dataframe for desired results\n",
        "apple = apple.rename(columns=lambda x: re.sub('\\d+\\. *','',x))\n",
        "apple =  apple.apply(lambda col:pd.to_numeric(col, errors='coerce'))\n",
        "apple.index = pd.to_datetime(apple.index)\n",
        "apple.index.name=\"date\"\n",
        "apple[\"close\"] = apple[[\"adjusted close\"]]\n",
        "apple = apple[[\"close\"]]"
      ],
      "metadata": {
        "id": "nRndgQW_jx60"
      },
      "execution_count": null,
      "outputs": []
    },
    {
      "cell_type": "code",
      "source": [
        "apple"
      ],
      "metadata": {
        "colab": {
          "base_uri": "https://localhost:8080/",
          "height": 455
        },
        "id": "UQgx1g5EmYCB",
        "outputId": "25666f8c-08a0-4d5c-e1f5-ff152ace822f"
      },
      "execution_count": null,
      "outputs": [
        {
          "output_type": "execute_result",
          "data": {
            "text/plain": [
              "                 close\n",
              "date                  \n",
              "2023-03-24  160.250000\n",
              "2023-03-23  158.930000\n",
              "2023-03-22  157.830000\n",
              "2023-03-21  159.280000\n",
              "2023-03-20  157.400000\n",
              "...                ...\n",
              "1999-11-05    0.670165\n",
              "1999-11-04    0.634574\n",
              "1999-11-03    0.618485\n",
              "1999-11-02    0.608999\n",
              "1999-11-01    0.589041\n",
              "\n",
              "[5887 rows x 1 columns]"
            ],
            "text/html": [
              "\n",
              "  <div id=\"df-443b5dd8-de27-4de0-bf3b-b92fdf22d614\">\n",
              "    <div class=\"colab-df-container\">\n",
              "      <div>\n",
              "<style scoped>\n",
              "    .dataframe tbody tr th:only-of-type {\n",
              "        vertical-align: middle;\n",
              "    }\n",
              "\n",
              "    .dataframe tbody tr th {\n",
              "        vertical-align: top;\n",
              "    }\n",
              "\n",
              "    .dataframe thead th {\n",
              "        text-align: right;\n",
              "    }\n",
              "</style>\n",
              "<table border=\"1\" class=\"dataframe\">\n",
              "  <thead>\n",
              "    <tr style=\"text-align: right;\">\n",
              "      <th></th>\n",
              "      <th>close</th>\n",
              "    </tr>\n",
              "    <tr>\n",
              "      <th>date</th>\n",
              "      <th></th>\n",
              "    </tr>\n",
              "  </thead>\n",
              "  <tbody>\n",
              "    <tr>\n",
              "      <th>2023-03-24</th>\n",
              "      <td>160.250000</td>\n",
              "    </tr>\n",
              "    <tr>\n",
              "      <th>2023-03-23</th>\n",
              "      <td>158.930000</td>\n",
              "    </tr>\n",
              "    <tr>\n",
              "      <th>2023-03-22</th>\n",
              "      <td>157.830000</td>\n",
              "    </tr>\n",
              "    <tr>\n",
              "      <th>2023-03-21</th>\n",
              "      <td>159.280000</td>\n",
              "    </tr>\n",
              "    <tr>\n",
              "      <th>2023-03-20</th>\n",
              "      <td>157.400000</td>\n",
              "    </tr>\n",
              "    <tr>\n",
              "      <th>...</th>\n",
              "      <td>...</td>\n",
              "    </tr>\n",
              "    <tr>\n",
              "      <th>1999-11-05</th>\n",
              "      <td>0.670165</td>\n",
              "    </tr>\n",
              "    <tr>\n",
              "      <th>1999-11-04</th>\n",
              "      <td>0.634574</td>\n",
              "    </tr>\n",
              "    <tr>\n",
              "      <th>1999-11-03</th>\n",
              "      <td>0.618485</td>\n",
              "    </tr>\n",
              "    <tr>\n",
              "      <th>1999-11-02</th>\n",
              "      <td>0.608999</td>\n",
              "    </tr>\n",
              "    <tr>\n",
              "      <th>1999-11-01</th>\n",
              "      <td>0.589041</td>\n",
              "    </tr>\n",
              "  </tbody>\n",
              "</table>\n",
              "<p>5887 rows × 1 columns</p>\n",
              "</div>\n",
              "      <button class=\"colab-df-convert\" onclick=\"convertToInteractive('df-443b5dd8-de27-4de0-bf3b-b92fdf22d614')\"\n",
              "              title=\"Convert this dataframe to an interactive table.\"\n",
              "              style=\"display:none;\">\n",
              "        \n",
              "  <svg xmlns=\"http://www.w3.org/2000/svg\" height=\"24px\"viewBox=\"0 0 24 24\"\n",
              "       width=\"24px\">\n",
              "    <path d=\"M0 0h24v24H0V0z\" fill=\"none\"/>\n",
              "    <path d=\"M18.56 5.44l.94 2.06.94-2.06 2.06-.94-2.06-.94-.94-2.06-.94 2.06-2.06.94zm-11 1L8.5 8.5l.94-2.06 2.06-.94-2.06-.94L8.5 2.5l-.94 2.06-2.06.94zm10 10l.94 2.06.94-2.06 2.06-.94-2.06-.94-.94-2.06-.94 2.06-2.06.94z\"/><path d=\"M17.41 7.96l-1.37-1.37c-.4-.4-.92-.59-1.43-.59-.52 0-1.04.2-1.43.59L10.3 9.45l-7.72 7.72c-.78.78-.78 2.05 0 2.83L4 21.41c.39.39.9.59 1.41.59.51 0 1.02-.2 1.41-.59l7.78-7.78 2.81-2.81c.8-.78.8-2.07 0-2.86zM5.41 20L4 18.59l7.72-7.72 1.47 1.35L5.41 20z\"/>\n",
              "  </svg>\n",
              "      </button>\n",
              "      \n",
              "  <style>\n",
              "    .colab-df-container {\n",
              "      display:flex;\n",
              "      flex-wrap:wrap;\n",
              "      gap: 12px;\n",
              "    }\n",
              "\n",
              "    .colab-df-convert {\n",
              "      background-color: #E8F0FE;\n",
              "      border: none;\n",
              "      border-radius: 50%;\n",
              "      cursor: pointer;\n",
              "      display: none;\n",
              "      fill: #1967D2;\n",
              "      height: 32px;\n",
              "      padding: 0 0 0 0;\n",
              "      width: 32px;\n",
              "    }\n",
              "\n",
              "    .colab-df-convert:hover {\n",
              "      background-color: #E2EBFA;\n",
              "      box-shadow: 0px 1px 2px rgba(60, 64, 67, 0.3), 0px 1px 3px 1px rgba(60, 64, 67, 0.15);\n",
              "      fill: #174EA6;\n",
              "    }\n",
              "\n",
              "    [theme=dark] .colab-df-convert {\n",
              "      background-color: #3B4455;\n",
              "      fill: #D2E3FC;\n",
              "    }\n",
              "\n",
              "    [theme=dark] .colab-df-convert:hover {\n",
              "      background-color: #434B5C;\n",
              "      box-shadow: 0px 1px 3px 1px rgba(0, 0, 0, 0.15);\n",
              "      filter: drop-shadow(0px 1px 2px rgba(0, 0, 0, 0.3));\n",
              "      fill: #FFFFFF;\n",
              "    }\n",
              "  </style>\n",
              "\n",
              "      <script>\n",
              "        const buttonEl =\n",
              "          document.querySelector('#df-443b5dd8-de27-4de0-bf3b-b92fdf22d614 button.colab-df-convert');\n",
              "        buttonEl.style.display =\n",
              "          google.colab.kernel.accessAllowed ? 'block' : 'none';\n",
              "\n",
              "        async function convertToInteractive(key) {\n",
              "          const element = document.querySelector('#df-443b5dd8-de27-4de0-bf3b-b92fdf22d614');\n",
              "          const dataTable =\n",
              "            await google.colab.kernel.invokeFunction('convertToInteractive',\n",
              "                                                     [key], {});\n",
              "          if (!dataTable) return;\n",
              "\n",
              "          const docLinkHtml = 'Like what you see? Visit the ' +\n",
              "            '<a target=\"_blank\" href=https://colab.research.google.com/notebooks/data_table.ipynb>data table notebook</a>'\n",
              "            + ' to learn more about interactive tables.';\n",
              "          element.innerHTML = '';\n",
              "          dataTable['output_type'] = 'display_data';\n",
              "          await google.colab.output.renderOutput(dataTable, element);\n",
              "          const docLink = document.createElement('div');\n",
              "          docLink.innerHTML = docLinkHtml;\n",
              "          element.appendChild(docLink);\n",
              "        }\n",
              "      </script>\n",
              "    </div>\n",
              "  </div>\n",
              "  "
            ]
          },
          "metadata": {},
          "execution_count": 70
        }
      ]
    },
    {
      "cell_type": "code",
      "source": [
        "url = 'https://www.alphavantage.co/query?function=TIME_SERIES_MONTHLY&symbol=MSFT&outputsize=full&apikey=LIDXQ6GY1WVSIDYC'\n",
        "r = requests.get(url)\n",
        "msft = r.json()\n",
        "msft = pd.DataFrame(msft[\"Monthly Time Series\"])\n",
        "msft = msft.T  # Transpose Dataframe for desired results\n",
        "msft = msft.rename(columns=lambda x: re.sub('\\d+\\. *','',x))\n",
        "msft =  msft.apply(lambda col:pd.to_numeric(col, errors='coerce'))\n",
        "msft.index = pd.to_datetime(msft.index)\n",
        "msft.index.name=\"date\"\n",
        "msft = msft[[\"close\"]]"
      ],
      "metadata": {
        "id": "02mz2iAWlKun"
      },
      "execution_count": null,
      "outputs": []
    },
    {
      "cell_type": "code",
      "source": [
        "msft"
      ],
      "metadata": {
        "colab": {
          "base_uri": "https://localhost:8080/",
          "height": 455
        },
        "id": "fhjdL8WvlUaP",
        "outputId": "68383353-eab3-4389-9c1d-9f03cf0b4d6e"
      },
      "execution_count": null,
      "outputs": [
        {
          "output_type": "execute_result",
          "data": {
            "text/plain": [
              "             close\n",
              "date              \n",
              "2023-03-24  280.57\n",
              "2023-02-28  249.42\n",
              "2023-01-31  247.81\n",
              "2022-12-30  239.82\n",
              "2022-11-30  255.14\n",
              "...            ...\n",
              "2000-04-28   69.75\n",
              "2000-03-31  106.25\n",
              "2000-02-29   89.37\n",
              "2000-01-31   97.87\n",
              "1999-12-31  116.75\n",
              "\n",
              "[280 rows x 1 columns]"
            ],
            "text/html": [
              "\n",
              "  <div id=\"df-d38e7e78-14c5-431e-909c-dd6c52359284\">\n",
              "    <div class=\"colab-df-container\">\n",
              "      <div>\n",
              "<style scoped>\n",
              "    .dataframe tbody tr th:only-of-type {\n",
              "        vertical-align: middle;\n",
              "    }\n",
              "\n",
              "    .dataframe tbody tr th {\n",
              "        vertical-align: top;\n",
              "    }\n",
              "\n",
              "    .dataframe thead th {\n",
              "        text-align: right;\n",
              "    }\n",
              "</style>\n",
              "<table border=\"1\" class=\"dataframe\">\n",
              "  <thead>\n",
              "    <tr style=\"text-align: right;\">\n",
              "      <th></th>\n",
              "      <th>close</th>\n",
              "    </tr>\n",
              "    <tr>\n",
              "      <th>date</th>\n",
              "      <th></th>\n",
              "    </tr>\n",
              "  </thead>\n",
              "  <tbody>\n",
              "    <tr>\n",
              "      <th>2023-03-24</th>\n",
              "      <td>280.57</td>\n",
              "    </tr>\n",
              "    <tr>\n",
              "      <th>2023-02-28</th>\n",
              "      <td>249.42</td>\n",
              "    </tr>\n",
              "    <tr>\n",
              "      <th>2023-01-31</th>\n",
              "      <td>247.81</td>\n",
              "    </tr>\n",
              "    <tr>\n",
              "      <th>2022-12-30</th>\n",
              "      <td>239.82</td>\n",
              "    </tr>\n",
              "    <tr>\n",
              "      <th>2022-11-30</th>\n",
              "      <td>255.14</td>\n",
              "    </tr>\n",
              "    <tr>\n",
              "      <th>...</th>\n",
              "      <td>...</td>\n",
              "    </tr>\n",
              "    <tr>\n",
              "      <th>2000-04-28</th>\n",
              "      <td>69.75</td>\n",
              "    </tr>\n",
              "    <tr>\n",
              "      <th>2000-03-31</th>\n",
              "      <td>106.25</td>\n",
              "    </tr>\n",
              "    <tr>\n",
              "      <th>2000-02-29</th>\n",
              "      <td>89.37</td>\n",
              "    </tr>\n",
              "    <tr>\n",
              "      <th>2000-01-31</th>\n",
              "      <td>97.87</td>\n",
              "    </tr>\n",
              "    <tr>\n",
              "      <th>1999-12-31</th>\n",
              "      <td>116.75</td>\n",
              "    </tr>\n",
              "  </tbody>\n",
              "</table>\n",
              "<p>280 rows × 1 columns</p>\n",
              "</div>\n",
              "      <button class=\"colab-df-convert\" onclick=\"convertToInteractive('df-d38e7e78-14c5-431e-909c-dd6c52359284')\"\n",
              "              title=\"Convert this dataframe to an interactive table.\"\n",
              "              style=\"display:none;\">\n",
              "        \n",
              "  <svg xmlns=\"http://www.w3.org/2000/svg\" height=\"24px\"viewBox=\"0 0 24 24\"\n",
              "       width=\"24px\">\n",
              "    <path d=\"M0 0h24v24H0V0z\" fill=\"none\"/>\n",
              "    <path d=\"M18.56 5.44l.94 2.06.94-2.06 2.06-.94-2.06-.94-.94-2.06-.94 2.06-2.06.94zm-11 1L8.5 8.5l.94-2.06 2.06-.94-2.06-.94L8.5 2.5l-.94 2.06-2.06.94zm10 10l.94 2.06.94-2.06 2.06-.94-2.06-.94-.94-2.06-.94 2.06-2.06.94z\"/><path d=\"M17.41 7.96l-1.37-1.37c-.4-.4-.92-.59-1.43-.59-.52 0-1.04.2-1.43.59L10.3 9.45l-7.72 7.72c-.78.78-.78 2.05 0 2.83L4 21.41c.39.39.9.59 1.41.59.51 0 1.02-.2 1.41-.59l7.78-7.78 2.81-2.81c.8-.78.8-2.07 0-2.86zM5.41 20L4 18.59l7.72-7.72 1.47 1.35L5.41 20z\"/>\n",
              "  </svg>\n",
              "      </button>\n",
              "      \n",
              "  <style>\n",
              "    .colab-df-container {\n",
              "      display:flex;\n",
              "      flex-wrap:wrap;\n",
              "      gap: 12px;\n",
              "    }\n",
              "\n",
              "    .colab-df-convert {\n",
              "      background-color: #E8F0FE;\n",
              "      border: none;\n",
              "      border-radius: 50%;\n",
              "      cursor: pointer;\n",
              "      display: none;\n",
              "      fill: #1967D2;\n",
              "      height: 32px;\n",
              "      padding: 0 0 0 0;\n",
              "      width: 32px;\n",
              "    }\n",
              "\n",
              "    .colab-df-convert:hover {\n",
              "      background-color: #E2EBFA;\n",
              "      box-shadow: 0px 1px 2px rgba(60, 64, 67, 0.3), 0px 1px 3px 1px rgba(60, 64, 67, 0.15);\n",
              "      fill: #174EA6;\n",
              "    }\n",
              "\n",
              "    [theme=dark] .colab-df-convert {\n",
              "      background-color: #3B4455;\n",
              "      fill: #D2E3FC;\n",
              "    }\n",
              "\n",
              "    [theme=dark] .colab-df-convert:hover {\n",
              "      background-color: #434B5C;\n",
              "      box-shadow: 0px 1px 3px 1px rgba(0, 0, 0, 0.15);\n",
              "      filter: drop-shadow(0px 1px 2px rgba(0, 0, 0, 0.3));\n",
              "      fill: #FFFFFF;\n",
              "    }\n",
              "  </style>\n",
              "\n",
              "      <script>\n",
              "        const buttonEl =\n",
              "          document.querySelector('#df-d38e7e78-14c5-431e-909c-dd6c52359284 button.colab-df-convert');\n",
              "        buttonEl.style.display =\n",
              "          google.colab.kernel.accessAllowed ? 'block' : 'none';\n",
              "\n",
              "        async function convertToInteractive(key) {\n",
              "          const element = document.querySelector('#df-d38e7e78-14c5-431e-909c-dd6c52359284');\n",
              "          const dataTable =\n",
              "            await google.colab.kernel.invokeFunction('convertToInteractive',\n",
              "                                                     [key], {});\n",
              "          if (!dataTable) return;\n",
              "\n",
              "          const docLinkHtml = 'Like what you see? Visit the ' +\n",
              "            '<a target=\"_blank\" href=https://colab.research.google.com/notebooks/data_table.ipynb>data table notebook</a>'\n",
              "            + ' to learn more about interactive tables.';\n",
              "          element.innerHTML = '';\n",
              "          dataTable['output_type'] = 'display_data';\n",
              "          await google.colab.output.renderOutput(dataTable, element);\n",
              "          const docLink = document.createElement('div');\n",
              "          docLink.innerHTML = docLinkHtml;\n",
              "          element.appendChild(docLink);\n",
              "        }\n",
              "      </script>\n",
              "    </div>\n",
              "  </div>\n",
              "  "
            ]
          },
          "metadata": {},
          "execution_count": 72
        }
      ]
    },
    {
      "cell_type": "markdown",
      "source": [
        "To demonstrate the process of joining time series data with different frequencies, we can use the following example of stock prices for Apple and Microsoft. Assume that Apple stock prices are available on a daily basis, while Microsoft stock prices are available on a monthly basis.\n",
        "\n",
        "We can upsample the monthly Microsoft data to a daily frequency using the resample method and fill the missing values using the ffill method:"
      ],
      "metadata": {
        "id": "5k8Nga_tlci0"
      }
    },
    {
      "cell_type": "code",
      "source": [
        "msft_daily = msft.resample('D').ffill()"
      ],
      "metadata": {
        "id": "-wV1-ueNmZ36"
      },
      "execution_count": null,
      "outputs": []
    },
    {
      "cell_type": "markdown",
      "source": [
        "Finally, we can join the Apple and Microsoft data using the join method, which will automatically align the data sets by their time index:"
      ],
      "metadata": {
        "id": "jAFjRmREmfih"
      }
    },
    {
      "cell_type": "code",
      "source": [
        "combined_data = apple.join(msft_daily, how='outer',  lsuffix=\"_apple\", rsuffix=\"_msft\")\n",
        "combined_data"
      ],
      "metadata": {
        "colab": {
          "base_uri": "https://localhost:8080/",
          "height": 455
        },
        "id": "dxJd0Qyimi-e",
        "outputId": "98a90d23-19fc-40e1-aaee-c754b9c1e2b5"
      },
      "execution_count": null,
      "outputs": [
        {
          "output_type": "execute_result",
          "data": {
            "text/plain": [
              "            close_apple  close_msft\n",
              "date                               \n",
              "1999-11-01     0.589041         NaN\n",
              "1999-11-02     0.608999         NaN\n",
              "1999-11-03     0.618485         NaN\n",
              "1999-11-04     0.634574         NaN\n",
              "1999-11-05     0.670165         NaN\n",
              "...                 ...         ...\n",
              "2023-03-20   157.400000      249.42\n",
              "2023-03-21   159.280000      249.42\n",
              "2023-03-22   157.830000      249.42\n",
              "2023-03-23   158.930000      249.42\n",
              "2023-03-24   160.250000      280.57\n",
              "\n",
              "[8527 rows x 2 columns]"
            ],
            "text/html": [
              "\n",
              "  <div id=\"df-41a39f29-d39a-43dd-892e-bfde6b6958be\">\n",
              "    <div class=\"colab-df-container\">\n",
              "      <div>\n",
              "<style scoped>\n",
              "    .dataframe tbody tr th:only-of-type {\n",
              "        vertical-align: middle;\n",
              "    }\n",
              "\n",
              "    .dataframe tbody tr th {\n",
              "        vertical-align: top;\n",
              "    }\n",
              "\n",
              "    .dataframe thead th {\n",
              "        text-align: right;\n",
              "    }\n",
              "</style>\n",
              "<table border=\"1\" class=\"dataframe\">\n",
              "  <thead>\n",
              "    <tr style=\"text-align: right;\">\n",
              "      <th></th>\n",
              "      <th>close_apple</th>\n",
              "      <th>close_msft</th>\n",
              "    </tr>\n",
              "    <tr>\n",
              "      <th>date</th>\n",
              "      <th></th>\n",
              "      <th></th>\n",
              "    </tr>\n",
              "  </thead>\n",
              "  <tbody>\n",
              "    <tr>\n",
              "      <th>1999-11-01</th>\n",
              "      <td>0.589041</td>\n",
              "      <td>NaN</td>\n",
              "    </tr>\n",
              "    <tr>\n",
              "      <th>1999-11-02</th>\n",
              "      <td>0.608999</td>\n",
              "      <td>NaN</td>\n",
              "    </tr>\n",
              "    <tr>\n",
              "      <th>1999-11-03</th>\n",
              "      <td>0.618485</td>\n",
              "      <td>NaN</td>\n",
              "    </tr>\n",
              "    <tr>\n",
              "      <th>1999-11-04</th>\n",
              "      <td>0.634574</td>\n",
              "      <td>NaN</td>\n",
              "    </tr>\n",
              "    <tr>\n",
              "      <th>1999-11-05</th>\n",
              "      <td>0.670165</td>\n",
              "      <td>NaN</td>\n",
              "    </tr>\n",
              "    <tr>\n",
              "      <th>...</th>\n",
              "      <td>...</td>\n",
              "      <td>...</td>\n",
              "    </tr>\n",
              "    <tr>\n",
              "      <th>2023-03-20</th>\n",
              "      <td>157.400000</td>\n",
              "      <td>249.42</td>\n",
              "    </tr>\n",
              "    <tr>\n",
              "      <th>2023-03-21</th>\n",
              "      <td>159.280000</td>\n",
              "      <td>249.42</td>\n",
              "    </tr>\n",
              "    <tr>\n",
              "      <th>2023-03-22</th>\n",
              "      <td>157.830000</td>\n",
              "      <td>249.42</td>\n",
              "    </tr>\n",
              "    <tr>\n",
              "      <th>2023-03-23</th>\n",
              "      <td>158.930000</td>\n",
              "      <td>249.42</td>\n",
              "    </tr>\n",
              "    <tr>\n",
              "      <th>2023-03-24</th>\n",
              "      <td>160.250000</td>\n",
              "      <td>280.57</td>\n",
              "    </tr>\n",
              "  </tbody>\n",
              "</table>\n",
              "<p>8527 rows × 2 columns</p>\n",
              "</div>\n",
              "      <button class=\"colab-df-convert\" onclick=\"convertToInteractive('df-41a39f29-d39a-43dd-892e-bfde6b6958be')\"\n",
              "              title=\"Convert this dataframe to an interactive table.\"\n",
              "              style=\"display:none;\">\n",
              "        \n",
              "  <svg xmlns=\"http://www.w3.org/2000/svg\" height=\"24px\"viewBox=\"0 0 24 24\"\n",
              "       width=\"24px\">\n",
              "    <path d=\"M0 0h24v24H0V0z\" fill=\"none\"/>\n",
              "    <path d=\"M18.56 5.44l.94 2.06.94-2.06 2.06-.94-2.06-.94-.94-2.06-.94 2.06-2.06.94zm-11 1L8.5 8.5l.94-2.06 2.06-.94-2.06-.94L8.5 2.5l-.94 2.06-2.06.94zm10 10l.94 2.06.94-2.06 2.06-.94-2.06-.94-.94-2.06-.94 2.06-2.06.94z\"/><path d=\"M17.41 7.96l-1.37-1.37c-.4-.4-.92-.59-1.43-.59-.52 0-1.04.2-1.43.59L10.3 9.45l-7.72 7.72c-.78.78-.78 2.05 0 2.83L4 21.41c.39.39.9.59 1.41.59.51 0 1.02-.2 1.41-.59l7.78-7.78 2.81-2.81c.8-.78.8-2.07 0-2.86zM5.41 20L4 18.59l7.72-7.72 1.47 1.35L5.41 20z\"/>\n",
              "  </svg>\n",
              "      </button>\n",
              "      \n",
              "  <style>\n",
              "    .colab-df-container {\n",
              "      display:flex;\n",
              "      flex-wrap:wrap;\n",
              "      gap: 12px;\n",
              "    }\n",
              "\n",
              "    .colab-df-convert {\n",
              "      background-color: #E8F0FE;\n",
              "      border: none;\n",
              "      border-radius: 50%;\n",
              "      cursor: pointer;\n",
              "      display: none;\n",
              "      fill: #1967D2;\n",
              "      height: 32px;\n",
              "      padding: 0 0 0 0;\n",
              "      width: 32px;\n",
              "    }\n",
              "\n",
              "    .colab-df-convert:hover {\n",
              "      background-color: #E2EBFA;\n",
              "      box-shadow: 0px 1px 2px rgba(60, 64, 67, 0.3), 0px 1px 3px 1px rgba(60, 64, 67, 0.15);\n",
              "      fill: #174EA6;\n",
              "    }\n",
              "\n",
              "    [theme=dark] .colab-df-convert {\n",
              "      background-color: #3B4455;\n",
              "      fill: #D2E3FC;\n",
              "    }\n",
              "\n",
              "    [theme=dark] .colab-df-convert:hover {\n",
              "      background-color: #434B5C;\n",
              "      box-shadow: 0px 1px 3px 1px rgba(0, 0, 0, 0.15);\n",
              "      filter: drop-shadow(0px 1px 2px rgba(0, 0, 0, 0.3));\n",
              "      fill: #FFFFFF;\n",
              "    }\n",
              "  </style>\n",
              "\n",
              "      <script>\n",
              "        const buttonEl =\n",
              "          document.querySelector('#df-41a39f29-d39a-43dd-892e-bfde6b6958be button.colab-df-convert');\n",
              "        buttonEl.style.display =\n",
              "          google.colab.kernel.accessAllowed ? 'block' : 'none';\n",
              "\n",
              "        async function convertToInteractive(key) {\n",
              "          const element = document.querySelector('#df-41a39f29-d39a-43dd-892e-bfde6b6958be');\n",
              "          const dataTable =\n",
              "            await google.colab.kernel.invokeFunction('convertToInteractive',\n",
              "                                                     [key], {});\n",
              "          if (!dataTable) return;\n",
              "\n",
              "          const docLinkHtml = 'Like what you see? Visit the ' +\n",
              "            '<a target=\"_blank\" href=https://colab.research.google.com/notebooks/data_table.ipynb>data table notebook</a>'\n",
              "            + ' to learn more about interactive tables.';\n",
              "          element.innerHTML = '';\n",
              "          dataTable['output_type'] = 'display_data';\n",
              "          await google.colab.output.renderOutput(dataTable, element);\n",
              "          const docLink = document.createElement('div');\n",
              "          docLink.innerHTML = docLinkHtml;\n",
              "          element.appendChild(docLink);\n",
              "        }\n",
              "      </script>\n",
              "    </div>\n",
              "  </div>\n",
              "  "
            ]
          },
          "metadata": {},
          "execution_count": 74
        }
      ]
    },
    {
      "cell_type": "code",
      "source": [
        "import matplotlib.pyplot as plt\n",
        "plt.plot(combined_data['close_apple'], label='Apple')\n",
        "plt.plot(combined_data['close_msft'], label='Microsoft')\n",
        "plt.legend()\n",
        "plt.title(\"Apple and Microsoft stock prices\")\n",
        "plt.xlabel(\"Date\")\n",
        "plt.ylabel(\"Price\")\n",
        "plt.show()"
      ],
      "metadata": {
        "colab": {
          "base_uri": "https://localhost:8080/",
          "height": 295
        },
        "id": "CMRWgPA0nV_X",
        "outputId": "4de7d465-1190-403c-8f7e-29f49915ab06"
      },
      "execution_count": null,
      "outputs": [
        {
          "output_type": "display_data",
          "data": {
            "text/plain": [
              "<Figure size 432x288 with 1 Axes>"
            ],
            "image/png": "[encoded data removed]"
          },
          "metadata": {
            "needs_background": "light"
          }
        }
      ]
    },
    {
      "cell_type": "markdown",
      "source": [
        "## Diagnosis\n",
        "\n",
        "To diagnose the problem of joining time series with different frequencies, we can check the time indexes of the data sets. If the indexes are not aligned, the data sets will need to be resampled or interpolated to match the desired frequency.\n",
        "\n",
        "## Damage Statement\n",
        "The damage caused by joining time series with different frequencies can be incorrect or misleading analysis due to misalignment or missing data. If the data sets are not aligned correctly, the resulting analysis may be inaccurate, leading to poor investment decisions and increased risk.\n",
        "\n",
        "## Suggested Model\n",
        "To address the problem of joining time series with different frequencies, it is important to use a method that properly aligns the data sets while minimizing the loss of information. The choice of method will depend on the specific requirements of the analysis and the characteristics of the data. In general, upsampling or downsampling can be used to align the data sets, while interpolation can be used to estimate missing values. However, it is important to carefully consider the trade-offs between accuracy and loss of information when choosing a method."
      ],
      "metadata": {
        "id": "fQEMvHXAkDdI"
      }
    },
    {
      "cell_type": "markdown",
      "source": [
        "\n",
        "# Unit Root Testing\n",
        "\n",
        "Unit root testing is a method used to determine if a time series data has a unit root, which is a type of stochastic trend that can cause non-stationarity in the data. Non-stationarity refers to a property of a time series where statistical properties such as the mean and variance change over time.\n",
        "\n",
        "Mathematically, we are assuming that the series follows an AR(p) process:\n",
        "\n",
        " $\\nabla x_t = \\gamma x_{t-1} + \\sum_{i=2}^{p} \\beta_i \\nabla x_{t-i+1} + \\upsilon_t $\n",
        "\n",
        "and testing whether $\\gamma \\neq 0$; the null hypothesis $\\gamma = 0$ says that the series has a unit root.\n",
        "\n",
        "There are other versions of the test for models with a trend and drift."
      ],
      "metadata": {
        "id": "FA9P-qL3HRJd"
      }
    },
    {
      "cell_type": "code",
      "source": [
        "import requests\n",
        "import pandas as pd\n",
        "import re\n",
        "import matplotlib.pyplot as plt\n",
        "from arch.unitroot import ADF, KPSS\n",
        "\n",
        "url = 'https://www.alphavantage.co/query?function=TIME_SERIES_DAILY_ADJUSTED&symbol=META&outputsize=full&apikey=LIDXQ6GY1WVSIDYC'\n",
        "r = requests.get(url)\n",
        "data = r.json()\n",
        "df = pd.DataFrame(data[\"Time Series (Daily)\"])\n",
        "df = df.T  # Transpose Dataframe for desired results\n",
        "df = df.rename(columns=lambda x: re.sub('\\d+\\. *','',x))\n",
        "df =  df.apply(lambda col:pd.to_numeric(col, errors='coerce'))\n",
        "df.index = pd.to_datetime(df.index)\n",
        "df.index.name=\"date\""
      ],
      "metadata": {
        "id": "_skV4OpjaHxO"
      },
      "execution_count": null,
      "outputs": []
    },
    {
      "cell_type": "code",
      "source": [
        "df[\"adjusted close\"].plot(\n",
        "    linewidth=1,\n",
        "    xlabel=\"Date\",\n",
        "    ylabel=\"Facebook (META) stock Price\",\n",
        "    title=\"Time series of Facebook (META) Stock Price\",\n",
        ")\n",
        "plt.show()"
      ],
      "metadata": {
        "colab": {
          "base_uri": "https://localhost:8080/",
          "height": 285
        },
        "id": "oEYdhXJoaTOQ",
        "outputId": "ede0e5dd-7210-4e59-b2de-d2e0de05cdc0"
      },
      "execution_count": null,
      "outputs": [
        {
          "output_type": "display_data",
          "data": {
            "text/plain": [
              "<Figure size 432x288 with 1 Axes>"
            ],
            "image/png": "[encoded data removed]"
          },
          "metadata": {
            "needs_background": "light"
          }
        }
      ]
    },
    {
      "cell_type": "markdown",
      "source": [
        "As an example, we are going to perform a unit root test on the price of the SPY S&P 500 Exchange Traded Fund.  We have included a plot of the prices above."
      ],
      "metadata": {
        "id": "PXL5yiR2bKsj"
      }
    },
    {
      "cell_type": "markdown",
      "source": [
        "Let's perform a Augmented Dickey-Fuller Unit Root test without trend or drift:"
      ],
      "metadata": {
        "id": "0ASP59xZfCsH"
      }
    },
    {
      "cell_type": "code",
      "source": [
        "adf_none = ADF(df[\"adjusted close\"], trend=\"n\", method=\"bic\")\n",
        "print(\"Augmented Dickey-Fuller Unit Root Test\\n\", adf_none.regression.summary())\n",
        "print(\"\\nTest statistics and critical values: \\n\", adf_none)"
      ],
      "metadata": {
        "colab": {
          "base_uri": "https://localhost:8080/"
        },
        "id": "CaaCSyAKb86s",
        "outputId": "6ee3c732-db6f-47ea-9a19-8913fd589e3a"
      },
      "execution_count": null,
      "outputs": [
        {
          "output_type": "stream",
          "name": "stdout",
          "text": [
            "Augmented Dickey-Fuller Unit Root Test\n",
            "                                  OLS Regression Results                                \n",
            "=======================================================================================\n",
            "Dep. Variable:                      y   R-squared (uncentered):                   0.000\n",
            "Model:                            OLS   Adj. R-squared (uncentered):              0.000\n",
            "Method:                 Least Squares   F-statistic:                              1.299\n",
            "Date:                Tue, 21 Mar 2023   Prob (F-statistic):                       0.254\n",
            "Time:                        14:02:56   Log-Likelihood:                         -7783.6\n",
            "No. Observations:                2725   AIC:                                  1.557e+04\n",
            "Df Residuals:                    2724   BIC:                                  1.558e+04\n",
            "Df Model:                           1                                                  \n",
            "Covariance Type:            nonrobust                                                  \n",
            "==============================================================================\n",
            "                 coef    std err          t      P>|t|      [0.025      0.975]\n",
            "------------------------------------------------------------------------------\n",
            "Level.L1      -0.0005      0.000     -1.140      0.254      -0.001       0.000\n",
            "==============================================================================\n",
            "Omnibus:                     2363.496   Durbin-Watson:                   2.082\n",
            "Prob(Omnibus):                  0.000   Jarque-Bera (JB):           590510.408\n",
            "Skew:                           3.286   Prob(JB):                         0.00\n",
            "Kurtosis:                      74.817   Cond. No.                         1.00\n",
            "==============================================================================\n",
            "\n",
            "Notes:\n",
            "[1] R² is computed without centering (uncentered) since the model does not contain a constant.\n",
            "[2] Standard Errors assume that the covariance matrix of the errors is correctly specified.\n",
            "\n",
            "Test statistics and critical values: \n",
            "    Augmented Dickey-Fuller Results   \n",
            "=====================================\n",
            "Test Statistic                 -1.140\n",
            "P-value                         0.231\n",
            "Lags                                0\n",
            "-------------------------------------\n",
            "\n",
            "Trend: No Trend\n",
            "Critical Values: -2.57 (1%), -1.94 (5%), -1.62 (10%)\n",
            "Null Hypothesis: The process contains a unit root.\n",
            "Alternative Hypothesis: The process is weakly stationary.\n"
          ]
        }
      ]
    },
    {
      "cell_type": "markdown",
      "source": [
        "Now let's try an ADF test with trend:"
      ],
      "metadata": {
        "id": "9VYoNlyVfJPY"
      }
    },
    {
      "cell_type": "code",
      "source": [
        "adf_trend = ADF(df[\"adjusted close\"], trend=\"ct\", method=\"bic\")\n",
        "print(\"Augmented Dickey-Fuller Unit Root Test\\n\", adf_trend.regression.summary())\n",
        "print(\"\\nTest statistics and critical values: \\n\", adf_trend)"
      ],
      "metadata": {
        "colab": {
          "base_uri": "https://localhost:8080/"
        },
        "id": "bjgZnKUke4qC",
        "outputId": "ac0a4ace-af27-4f10-a8f8-89ad41ac392f"
      },
      "execution_count": null,
      "outputs": [
        {
          "output_type": "stream",
          "name": "stdout",
          "text": [
            "Augmented Dickey-Fuller Unit Root Test\n",
            "                             OLS Regression Results                            \n",
            "==============================================================================\n",
            "Dep. Variable:                      y   R-squared:                       0.003\n",
            "Model:                            OLS   Adj. R-squared:                  0.002\n",
            "Method:                 Least Squares   F-statistic:                     3.489\n",
            "Date:                Tue, 21 Mar 2023   Prob (F-statistic):             0.0307\n",
            "Time:                        14:03:56   Log-Likelihood:                -7780.5\n",
            "No. Observations:                2725   AIC:                         1.557e+04\n",
            "Df Residuals:                    2722   BIC:                         1.558e+04\n",
            "Df Model:                           2                                         \n",
            "Covariance Type:            nonrobust                                         \n",
            "==============================================================================\n",
            "                 coef    std err          t      P>|t|      [0.025      0.975]\n",
            "------------------------------------------------------------------------------\n",
            "Level.L1      -0.0044      0.002     -2.598      0.009      -0.008      -0.001\n",
            "const          1.2227      0.495      2.472      0.013       0.253       2.192\n",
            "trend         -0.0005      0.000     -2.436      0.015      -0.001   -8.91e-05\n",
            "==============================================================================\n",
            "Omnibus:                     2347.658   Durbin-Watson:                   2.079\n",
            "Prob(Omnibus):                  0.000   Jarque-Bera (JB):           588367.139\n",
            "Skew:                           3.245   Prob(JB):                         0.00\n",
            "Kurtosis:                      74.693   Cond. No.                     9.67e+03\n",
            "==============================================================================\n",
            "\n",
            "Notes:\n",
            "[1] Standard Errors assume that the covariance matrix of the errors is correctly specified.\n",
            "[2] The condition number is large, 9.67e+03. This might indicate that there are\n",
            "strong multicollinearity or other numerical problems.\n",
            "\n",
            "Test statistics and critical values: \n",
            "    Augmented Dickey-Fuller Results   \n",
            "=====================================\n",
            "Test Statistic                 -2.598\n",
            "P-value                         0.281\n",
            "Lags                                0\n",
            "-------------------------------------\n",
            "\n",
            "Trend: Constant and Linear Time Trend\n",
            "Critical Values: -3.96 (1%), -3.41 (5%), -3.13 (10%)\n",
            "Null Hypothesis: The process contains a unit root.\n",
            "Alternative Hypothesis: The process is weakly stationary.\n"
          ]
        }
      ]
    },
    {
      "cell_type": "markdown",
      "source": [
        "In both cases we get a p-value greater than 0.05.  Hence we fail to reject the hypothesis that the Facebook stock price time series contains a unit root, for both models. We can confirm that doing a KPSS test also indicates that the series is not trend stationary."
      ],
      "metadata": {
        "id": "VGFnxNm0dMHh"
      }
    },
    {
      "cell_type": "code",
      "source": [
        "print(KPSS(df[\"adjusted close\"], trend=\"ct\", lags=-1))"
      ],
      "metadata": {
        "colab": {
          "base_uri": "https://localhost:8080/"
        },
        "id": "nUMMSYcbf-40",
        "outputId": "795dd19d-8e7a-4c62-b4a1-b001f1fa5ad6"
      },
      "execution_count": null,
      "outputs": [
        {
          "output_type": "stream",
          "name": "stdout",
          "text": [
            "    KPSS Stationarity Test Results   \n",
            "=====================================\n",
            "Test Statistic                  0.435\n",
            "P-value                         0.000\n",
            "Lags                               28\n",
            "-------------------------------------\n",
            "\n",
            "Trend: Constant and Linear Time Trend\n",
            "Critical Values: 0.22 (1%), 0.15 (5%), 0.12 (10%)\n",
            "Null Hypothesis: The process is weakly stationary.\n",
            "Alternative Hypothesis: The process contains a unit root.\n"
          ]
        }
      ]
    },
    {
      "cell_type": "markdown",
      "source": [
        "## Diagnosis\n",
        "\n",
        "A common method for conducting unit root tests is the Augmented Dickey-Fuller (ADF) test, which involves regressing the time series on its own lagged values, and then testing the null hypothesis of a unit root against the alternative hypothesis of stationarity."
      ],
      "metadata": {
        "id": "1qsDmeRzIzTh"
      }
    },
    {
      "cell_type": "markdown",
      "source": [
        "## Damage\n",
        "A unit root can lead to spurious regression, where two non-stationary time series may appear to be related, but in fact, they are not.\n",
        "\n",
        "If a time series has a unit root, its future values are likely to be unpredictable and highly variable, which can lead to forecasting errors."
      ],
      "metadata": {
        "id": "caS-1A53LNWV"
      }
    },
    {
      "cell_type": "markdown",
      "source": [
        "## Directions\n",
        "\n",
        "To mitigate unit root issues, we can do various transforms to the data to make it stationary: for example, we can take differences, log differences, or try to subtract out a trend or seasonal component.  To see if a series can be made stationary after removing a trend we can use a Kwiatkowski-Phillips-Schmidt-Shin test.\n",
        "\n",
        "We can also try to do this automatically by using a different model such as ARIMA, ARCH or GARCH."
      ],
      "metadata": {
        "id": "ZUxv4o_SP2JE"
      }
    },
    {
      "cell_type": "code",
      "source": [
        "import numpy as np\n",
        "lfb = np.log(df[\"adjusted close\"]).diff().dropna()\n",
        "lfb.plot(\n",
        "    linewidth=1,\n",
        "    xlabel=\"Date\",\n",
        "    ylabel=\"Facebook Stock Price Log Difference\",\n",
        "    title=\"Facebook Stock Price log difference from 2012 to 2023\",\n",
        ")\n",
        "plt.show()"
      ],
      "metadata": {
        "colab": {
          "base_uri": "https://localhost:8080/",
          "height": 285
        },
        "id": "UQZg8ty4gM5P",
        "outputId": "76b5cc9b-f683-43f4-a331-9529973ad4ae"
      },
      "execution_count": null,
      "outputs": [
        {
          "output_type": "display_data",
          "data": {
            "text/plain": [
              "<Figure size 432x288 with 1 Axes>"
            ],
            "image/png": "[encoded data removed]"
          },
          "metadata": {
            "needs_background": "light"
          }
        }
      ]
    },
    {
      "cell_type": "code",
      "source": [
        "print(\"Facebook Stock Price Log Difference with no Drift no Trend\")\n",
        "print(ADF(lfb, trend=\"n\", method=\"bic\"))"
      ],
      "metadata": {
        "colab": {
          "base_uri": "https://localhost:8080/"
        },
        "id": "_osog6XfglxC",
        "outputId": "26a658a8-6438-4a75-ccd3-43b81f91d850"
      },
      "execution_count": null,
      "outputs": [
        {
          "output_type": "stream",
          "name": "stdout",
          "text": [
            "Facebook Stock Price Log Difference with no Drift no Trend\n",
            "   Augmented Dickey-Fuller Results   \n",
            "=====================================\n",
            "Test Statistic                -52.921\n",
            "P-value                         0.000\n",
            "Lags                                0\n",
            "-------------------------------------\n",
            "\n",
            "Trend: No Trend\n",
            "Critical Values: -2.57 (1%), -1.94 (5%), -1.62 (10%)\n",
            "Null Hypothesis: The process contains a unit root.\n",
            "Alternative Hypothesis: The process is weakly stationary.\n"
          ]
        }
      ]
    },
    {
      "cell_type": "markdown",
      "source": [
        "After taking log differences, the ADF test indicates that we get a weakly stationary series. The ADF test works by estimating a regression equation\n"
      ],
      "metadata": {
        "id": "8BggDX44gpjP"
      }
    },
    {
      "cell_type": "markdown",
      "source": [
        "# Regime Change Models\n",
        "\n",
        "Regime change models refer to statistical models that aim to capture changes in the underlying structure or behavior of a system over time. In financial markets, these changes can occur due to a variety of reasons such as changes in economic conditions, changes in monetary policy, or changes in market sentiment. Regime change models attempt to identify these changes and model them explicitly to improve the accuracy of financial forecasts.\n",
        "\n",
        "Regime change models are used to capture changes in the behavior of financial markets over time. These changes can be abrupt and difficult to predict using traditional models, leading to inaccurate forecasts and increased risk for investors. Regime change models aim to improve the accuracy of forecasts by explicitly modeling these changes in behavior.\n",
        "\n",
        "\n"
      ],
      "metadata": {
        "id": "h1IBuAd3ePka"
      }
    },
    {
      "cell_type": "code",
      "source": [
        "import statsmodels.api as sm\n",
        "import pandas as pd\n",
        "import numpy as np\n",
        "import requests\n",
        "import re\n",
        "from pandas_datareader.data import DataReader\n",
        "from datetime import datetime\n",
        "\n",
        "url = 'https://www.alphavantage.co/query?function=TIME_SERIES_DAILY_ADJUSTED&symbol=SPY&outputsize=full&apikey=LIDXQ6GY1WVSIDYC'\n",
        "r = requests.get(url)\n",
        "data = r.json()\n",
        "df = pd.DataFrame(data[\"Time Series (Daily)\"])\n",
        "df = df.T  # Transpose Dataframe for desired results\n",
        "df = df.rename(columns=lambda x: re.sub('\\d+\\. *','',x))\n",
        "df =  df.apply(lambda col:pd.to_numeric(col, errors='coerce'))\n",
        "df.index = pd.to_datetime(df.index)\n",
        "df.index.name=\"date\"\n",
        "df['return'] = np.log(df['adjusted close']).diff()\n"
      ],
      "metadata": {
        "id": "LgEZyr13effn"
      },
      "execution_count": null,
      "outputs": []
    },
    {
      "cell_type": "code",
      "source": [],
      "metadata": {
        "colab": {
          "base_uri": "https://localhost:8080/"
        },
        "id": "lYXBujWxhdgY",
        "outputId": "d75a8c41-82d1-47f6-d99f-e8fb74b8d703"
      },
      "execution_count": null,
      "outputs": [
        {
          "output_type": "execute_result",
          "data": {
            "text/plain": [
              "date\n",
              "2023-03-24    395.750000\n",
              "2023-03-23    393.170000\n",
              "2023-03-22    392.110000\n",
              "2023-03-21    398.910000\n",
              "2023-03-20    393.740000\n",
              "                 ...    \n",
              "1999-11-05     89.722043\n",
              "1999-11-04     88.847568\n",
              "1999-11-03     88.176513\n",
              "1999-11-02     87.586742\n",
              "1999-11-01     88.217185\n",
              "Name: adjusted close, Length: 5887, dtype: float64"
            ]
          },
          "metadata": {},
          "execution_count": 18
        }
      ]
    },
    {
      "cell_type": "code",
      "source": [
        "df[\"adjusted close\"].plot()\n",
        "plt.title(\"S&P 500 SPY ETF price\")\n",
        "plt.ylabel(\"Price of SPY ETF\")\n",
        "plt.xlabel(\"Date\")\n",
        "df.dropna(inplace=True)"
      ],
      "metadata": {
        "colab": {
          "base_uri": "https://localhost:8080/",
          "height": 285
        },
        "id": "g49o021PiNm9",
        "outputId": "34b0266c-ad96-45aa-8f21-ca311809eb63"
      },
      "execution_count": null,
      "outputs": [
        {
          "output_type": "display_data",
          "data": {
            "text/plain": [
              "<Figure size 432x288 with 1 Axes>"
            ],
            "image/png": "[encoded data removed]"
          },
          "metadata": {
            "needs_background": "light"
          }
        }
      ]
    },
    {
      "cell_type": "code",
      "source": [
        "model = sm.tsa.MarkovRegression(endog=df['return'],\n",
        "                                k_regimes=2,\n",
        "                                trend='c',\n",
        "                                switching_variance=True) #\n",
        "\n",
        "result = model.fit()\n",
        "\n",
        "regime_probability = result.smoothed_marginal_probabilities[1].to_frame('regime')\n",
        "\n",
        "regime_probability.plot(figsize=(16,4))\n",
        "\n",
        "plt.title('SPY Volatility Regimes')\n",
        "\n",
        "plt.axhline(.5, color='black')\n",
        "\n",
        "plt.ylabel('Low/High Volatility')\n",
        "\n",
        "plt.show()"
      ],
      "metadata": {
        "colab": {
          "base_uri": "https://localhost:8080/",
          "height": 354
        },
        "id": "9e17gPSEij4C",
        "outputId": "cd7b7d63-cb58-470b-aa31-e5de2ba7c1bc"
      },
      "execution_count": null,
      "outputs": [
        {
          "output_type": "stream",
          "name": "stderr",
          "text": [
            "/usr/local/lib/python3.9/dist-packages/statsmodels/tsa/base/tsa_model.py:471: ValueWarning: A date index has been provided, but it has no associated frequency information and so will be ignored when e.g. forecasting.\n",
            "  self._init_dates(dates, freq)\n",
            "/usr/local/lib/python3.9/dist-packages/statsmodels/tsa/base/tsa_model.py:471: ValueWarning: A date index has been provided, but it is not monotonic and so will be ignored when e.g. forecasting.\n",
            "  self._init_dates(dates, freq)\n"
          ]
        },
        {
          "output_type": "display_data",
          "data": {
            "text/plain": [
              "<Figure size 1152x288 with 1 Axes>"
            ],
            "image/png": "[encoded data removed]"
          },
          "metadata": {
            "needs_background": "light"
          }
        }
      ]
    },
    {
      "cell_type": "markdown",
      "source": [
        "We looked at the price of the SPDR S&P 500 ETF from 2000 to 2023.  We used a hidden Markov model to compute the probability of being in a low or high volatility regime."
      ],
      "metadata": {
        "id": "IU60nntVieMc"
      }
    },
    {
      "cell_type": "markdown",
      "source": [
        "## Diagnosis\n",
        "\n",
        "Regime change models are typically used when traditional models fail to accurately predict financial market behavior. Signs that a regime change model may be appropriate include sudden changes in market conditions, changes in the behavior of financial instruments, or unexpected changes in asset prices.\n",
        "\n",
        "## Damages\n",
        "\n",
        "Failure to account for regime changes can lead to inaccurate forecasts and increased risk for investors. This can result in financial losses or missed opportunities.  For example, a regime change model used in the stock market may assume that market conditions will remain stable over a certain period of time. However, if a major economic event occurs, such as a recession or a change in government policy, this assumption may no longer hold true, and the model may fail to accurately predict future market performance.\n",
        "\n",
        "\n",
        "\n",
        "## Directions\n",
        "\n",
        "Regime change models can be used to improve the accuracy of financial forecasts by explicitly modeling changes in market behavior. Other models that may be useful in this context include state-space models, structural break models, and time-varying parameter models. It's important to carefully evaluate the appropriateness of each model for the specific market conditions and data being analyzed.\n"
      ],
      "metadata": {
        "id": "-KCuyao3e-Nw"
      }
    },
    {
      "cell_type": "code",
      "source": [],
      "metadata": {
        "id": "QSdatrKCfBS6"
      },
      "execution_count": null,
      "outputs": []
    },
    {
      "cell_type": "markdown",
      "source": [
        "# Feature Extraction\n",
        "\n",
        "Feature extraction is a process of selecting and transforming raw data into a set of meaningful features that can be used as inputs for machine learning algorithms. The process involves identifying relevant patterns, reducing the dimensionality of the data, and creating new features based on domain knowledge. Some common techniques for feature extraction include principal component analysis (PCA), independent component analysis (ICA), and Fourier transforms. Principal component analysis selects features based on the eigenvalues and eigenvectors of the correlation matrix; the selected features are linear combinations of the original features.\n",
        "\n",
        "\n",
        "In many applications, the raw data can be too complex or high-dimensional to be used directly for analysis or modeling. Feature extraction involves identifying and selecting relevant information from the data, transforming it into a format that is more amenable for analysis, and creating new features that capture important patterns. This process can help to reduce the dimensionality of the data, remove noise or redundancy, and improve the performance of machine learning algorithms.\n",
        "For example, in image processing, feature extraction techniques can be used to identify important visual patterns such as edges, corners, and textures. In natural language processing, feature extraction can involve converting text into a vector representation based on word frequency or other linguistic features.\n",
        "\n",
        "## Demonstration\n",
        "\n",
        "Here is an example of feature extraction using the famous iris dataset in Python:"
      ],
      "metadata": {
        "id": "brRGEmzCG8e9"
      }
    },
    {
      "cell_type": "code",
      "source": [
        "import numpy as np\n",
        "import pandas as pd\n",
        "from sklearn.datasets import load_iris\n",
        "from sklearn.decomposition import PCA\n",
        "\n",
        "# Load the iris dataset\n",
        "iris = load_iris()\n",
        "\n",
        "# Convert the data into a pandas dataframe\n",
        "iris_df = pd.DataFrame(iris.data, columns=iris.feature_names)\n",
        "\n",
        "# Perform PCA to extract the principal components\n",
        "pca = PCA(n_components=2)\n",
        "iris_pca = pca.fit_transform(iris_df)\n",
        "\n",
        "# Plot the results\n",
        "import matplotlib.pyplot as plt\n",
        "plt.scatter(iris_pca[:,0], iris_pca[:,1], c=iris.target)\n",
        "plt.xlabel('PC1')\n",
        "plt.ylabel('PC2')\n",
        "plt.show()"
      ],
      "metadata": {
        "colab": {
          "base_uri": "https://localhost:8080/",
          "height": 283
        },
        "id": "VDVzzb1-dNbh",
        "outputId": "d271f9e6-8ede-4dd9-ddb4-e5bcb4ebad9d"
      },
      "execution_count": null,
      "outputs": [
        {
          "output_type": "display_data",
          "data": {
            "text/plain": [
              "<Figure size 432x288 with 1 Axes>"
            ],
            "image/png": "[encoded data removed]"
          },
          "metadata": {
            "needs_background": "light"
          }
        }
      ]
    },
    {
      "cell_type": "markdown",
      "source": [
        "In this example, we load the iris dataset, which consists of four features (sepal length, sepal width, petal length, and petal width) for 150 samples of three different species of iris. We then perform principal component analysis (PCA) to extract the two most important components that capture the majority of the variance in the data. Finally, we plot the results using a scatterplot, where each point corresponds to a sample of the iris dataset, colored by the species."
      ],
      "metadata": {
        "id": "6eYGfKDsdY6-"
      }
    },
    {
      "cell_type": "code",
      "source": [],
      "metadata": {
        "id": "dd9H5ehwdQK6"
      },
      "execution_count": null,
      "outputs": []
    },
    {
      "cell_type": "markdown",
      "source": [
        "## Diagnosis\n",
        "The need for feature extraction arises when the raw data is too complex or high-dimensional to be used directly for analysis or modeling. This can manifest as poor performance of machine learning algorithms, high computational costs, or difficulty in interpreting the results. One way to diagnose this problem is to compare the performance of different machine learning algorithms on the raw data versus the extracted features.\n",
        "\n",
        "## Damage\n",
        "Failure to perform feature extraction when necessary can lead to poor performance of machine learning algorithms, high computational costs, or difficulty in interpreting the results. In some cases, it may even result in incorrect or misleading conclusions.\n",
        "\n",
        "## Directions\n",
        "There are many techniques for feature extraction, each with their own strengths and weaknesses. Some common techniques include PCA, ICA, Fourier transforms, and wavelet transforms. The choice of technique depends on the nature of the data and the goals of the analysis. It is often useful to try several different techniques and compare their performance"
      ],
      "metadata": {
        "id": "QG03Sj8XddkH"
      }
    }
  ]
}