{
  "nbformat": 4,
  "nbformat_minor": 0,
  "metadata": {
    "colab": {
      "provenance": []
    },
    "kernelspec": {
      "name": "python3",
      "display_name": "Python 3"
    },
    "language_info": {
      "name": "python"
    }
  },
  "cells": [
    {
      "cell_type": "code",
      "execution_count": 2,
      "metadata": {
        "id": "ZAP3DgC2p2_I"
      },
      "outputs": [],
      "source": [
        "import matplotlib.pyplot as plt\n",
        "import numpy as np\n",
        "from scipy.stats import lognorm, norm\n",
        "import scipy.stats as ss"
      ]
    },
    {
      "cell_type": "code",
      "source": [
        "def bs_call_price(S, r, sigma, t, T, K):\n",
        "    ttm = T - t\n",
        "\n",
        "    if ttm < 0:\n",
        "        return 0.0\n",
        "    elif ttm == 0.0:\n",
        "        return np.maximum(S - K, 0.0)\n",
        "\n",
        "    vol = sigma * np.sqrt(ttm)\n",
        "\n",
        "    d_minus = np.log(S / K) + (r - 0.5 * sigma**2) * ttm\n",
        "    d_minus /= vol\n",
        "\n",
        "    d_plus = d_minus + vol\n",
        "\n",
        "    res = S * norm.cdf(d_plus)\n",
        "    res -= K * np.exp(-r * ttm) * norm.cdf(d_minus)\n",
        "\n",
        "    return res"
      ],
      "metadata": {
        "id": "vdgVeVImqPFY"
      },
      "execution_count": null,
      "outputs": []
    },
    {
      "cell_type": "code",
      "source": [
        "def option_price_greeks(S, r, vol, T, K, option_type):\n",
        "    # Compute d1 and d2\n",
        "    d1 = (np.log(S / K) + (r + 0.5 * vol**2) * T) / (vol * np.sqrt(T))\n",
        "    d2 = d1 - vol * np.sqrt(T)\n",
        "    if option_type in [\"C\", \"P\"]:\n",
        "        if option_type in [\"C\"]:\n",
        "            Opt_Price = S * ss.norm.cdf(d1) - K * np.exp(-r * T) * ss.norm.cdf(d2)\n",
        "            Delta = ss.norm.cdf(d1)\n",
        "            Gamma = ss.norm.pdf(d1) / (S * vol * np.sqrt(T))\n",
        "            Vega = S * ss.norm.pdf(d1) * np.sqrt(T)\n",
        "            Theta = -(S * ss.norm.pdf(d1) * vol) / (2 * np.sqrt(T)) - r * K * np.exp(\n",
        "                -r * T\n",
        "            ) * ss.norm.cdf(d2)\n",
        "            Rho = K * T * np.exp(-r * T) * ss.norm.cdf(d2)\n",
        "        else:\n",
        "            Opt_Price = K * np.exp(-r * T) * ss.norm.cdf(-d2) - S * ss.norm.cdf(-d1)\n",
        "            Delta = -ss.norm.cdf(-d1)\n",
        "            Gamma = ss.norm.pdf(d1) / (S * vol * np.sqrt(T))\n",
        "            Vega = S * ss.norm.pdf(d1) * np.sqrt(T)\n",
        "            Theta = -(S * ss.norm.pdf(d1) * vol) / (2 * np.sqrt(T)) + r * K * np.exp(\n",
        "                -r * T\n",
        "            ) * ss.norm.cdf(-d2)\n",
        "            Rho = -K * T * np.exp(-r * T) * ss.norm.cdf(-d2)\n",
        "    else:\n",
        "        Opt_Price = \"Error: option type incorrect. Choose P for a put option or C for a call option.\"\n",
        "\n",
        "    print(f\"Option price = {Opt_Price:.2f}\")\n",
        "    print(f\"Delta = {Delta:.4f}\")\n",
        "    print(f\"Gamma = {Gamma:.4f}\")\n",
        "    print(f\"Vega = {Vega:.4f}\")\n",
        "    print(f\"Theta = {Theta:.4f}\")\n",
        "    print(f\"Rho = {Rho:.4f}\")"
      ],
      "metadata": {
        "id": "SgSLf4i7qdVQ"
      },
      "execution_count": null,
      "outputs": []
    },
    {
      "cell_type": "code",
      "source": [
        "option_price_greeks(100, 0.05, 0.20, 3/12, 100, \"C\")"
      ],
      "metadata": {
        "colab": {
          "base_uri": "https://localhost:8080/"
        },
        "id": "cZZHew18q1w4",
        "outputId": "2d77ce4a-0ff9-4cd3-bbae-b7ad70a7dc6d"
      },
      "execution_count": null,
      "outputs": [
        {
          "output_type": "stream",
          "name": "stdout",
          "text": [
            "Option price = 4.61\n",
            "Delta = 0.5695\n",
            "Gamma = 0.0393\n",
            "Vega = 19.6440\n",
            "Theta = -10.4742\n",
            "Rho = 13.0828\n"
          ]
        }
      ]
    },
    {
      "cell_type": "code",
      "source": [
        "option_price_greeks(100, 0.05, 0.20, 3/12, 100, \"P\")"
      ],
      "metadata": {
        "colab": {
          "base_uri": "https://localhost:8080/"
        },
        "id": "rHo54crKrR6n",
        "outputId": "4ef19315-abaa-48bb-e2a7-b8d7740e082f"
      },
      "execution_count": null,
      "outputs": [
        {
          "output_type": "stream",
          "name": "stdout",
          "text": [
            "Option price = 3.37\n",
            "Delta = -0.4305\n",
            "Gamma = 0.0393\n",
            "Vega = 19.6440\n",
            "Theta = -5.5363\n",
            "Rho = -11.6067\n"
          ]
        }
      ]
    },
    {
      "cell_type": "code",
      "source": [
        "option_price_greeks(100, 0.05, 0.25, 3/12, 100, \"C\")"
      ],
      "metadata": {
        "colab": {
          "base_uri": "https://localhost:8080/"
        },
        "id": "I1CT_HHHrlxH",
        "outputId": "40b4d89a-47af-4203-9633-843420caabe6"
      },
      "execution_count": null,
      "outputs": [
        {
          "output_type": "stream",
          "name": "stdout",
          "text": [
            "Option price = 5.60\n",
            "Delta = 0.5645\n",
            "Gamma = 0.0315\n",
            "Vega = 19.6855\n",
            "Theta = -12.3855\n",
            "Rho = 12.7140\n"
          ]
        }
      ]
    },
    {
      "cell_type": "code",
      "source": [
        "option_price_greeks(100, 0.05, 0.25, 3/12, 100, \"P\")"
      ],
      "metadata": {
        "colab": {
          "base_uri": "https://localhost:8080/"
        },
        "id": "f6LvtwOlrtYw",
        "outputId": "f8c2e6cc-62f1-4890-e482-b821e9a90d11"
      },
      "execution_count": null,
      "outputs": [
        {
          "output_type": "stream",
          "name": "stdout",
          "text": [
            "Option price = 4.36\n",
            "Delta = -0.4355\n",
            "Gamma = 0.0315\n",
            "Vega = 19.6855\n",
            "Theta = -7.4477\n",
            "Rho = -11.9754\n"
          ]
        }
      ]
    },
    {
      "cell_type": "code",
      "source": [
        "def bs_call_mc(S, K, r, sigma, T, N, M):\n",
        "    dt = T / N\n",
        "    dS = S * (r * dt + sigma * np.sqrt(dt) * np.random.randn(M, N))\n",
        "    S = S + np.cumsum(dS, axis=1)\n",
        "    ST = S[:, -1]\n",
        "    data = ST - K\n",
        "\n",
        "    average = np.sum(np.maximum(data, 0)) / float(M)\n",
        "\n",
        "    return np.exp(-r * T) * average"
      ],
      "metadata": {
        "id": "b4lIz7HNrvK_"
      },
      "execution_count": 3,
      "outputs": []
    },
    {
      "cell_type": "code",
      "source": [
        "def bs_put_mc(S, K, r, sigma, T, N, M):\n",
        "    dt = T / N\n",
        "    dS = S * (r * dt + sigma * np.sqrt(dt) * np.random.randn(M, N))\n",
        "    S = S + np.cumsum(dS, axis=1)\n",
        "    ST = S[:, -1]\n",
        "    data = K - ST\n",
        "\n",
        "    average = np.sum(np.maximum(data, 0)) / float(M)\n",
        "\n",
        "    return np.exp(-r * T) * average"
      ],
      "metadata": {
        "id": "9QvYqi2Jsl6z"
      },
      "execution_count": null,
      "outputs": []
    },
    {
      "cell_type": "code",
      "source": [
        "np.random.seed(42)\n",
        "print(f\"The MC price of a call is {bs_call_mc(100, 100, 0.05, 0.20, 3/12, 90, 3000):.2f}\")"
      ],
      "metadata": {
        "colab": {
          "base_uri": "https://localhost:8080/"
        },
        "id": "MZBj9IDxspL2",
        "outputId": "df2e17f9-dffa-4cd8-9525-0b1e6419b63e"
      },
      "execution_count": null,
      "outputs": [
        {
          "output_type": "stream",
          "name": "stdout",
          "text": [
            "The MC price of a call is 4.54\n"
          ]
        }
      ]
    },
    {
      "cell_type": "code",
      "source": [
        "np.random.seed(42)\n",
        "print(f\"The MC price of a put is {bs_put_mc(100, 100, 0.05, 0.20, 3/12, 90, 3000):.2f}\")"
      ],
      "metadata": {
        "colab": {
          "base_uri": "https://localhost:8080/"
        },
        "id": "y0b2CR3rsz37",
        "outputId": "2dea066e-dd1c-40de-9beb-2b2a63c0e2fa"
      },
      "execution_count": null,
      "outputs": [
        {
          "output_type": "stream",
          "name": "stdout",
          "text": [
            "The MC price of a put is 3.33\n"
          ]
        }
      ]
    },
    {
      "cell_type": "code",
      "source": [
        "def delta_call_mc(S, K, r, sigma, T, N, M):\n",
        "  np.random.seed(42)\n",
        "  price1 = bs_call_mc(S, K, r, sigma, T, N, M)\n",
        "  np.random.seed(42)\n",
        "  price2 = bs_call_mc(S+0.01, K, r, sigma, T, N, M)\n",
        "  return (price2 - price1) / (0.01)"
      ],
      "metadata": {
        "id": "8VRS5NAZuFFX"
      },
      "execution_count": null,
      "outputs": []
    },
    {
      "cell_type": "code",
      "source": [
        "print(f\"The delta of a call is {delta_call_mc(100, 100, 0.05, 0.20, 3/12, 90, 3000):.4f}\")"
      ],
      "metadata": {
        "colab": {
          "base_uri": "https://localhost:8080/"
        },
        "id": "uHtQO9QQvsR0",
        "outputId": "713ffc7e-4af9-443b-e414-46902222876e"
      },
      "execution_count": null,
      "outputs": [
        {
          "output_type": "stream",
          "name": "stdout",
          "text": [
            "The delta of a call is 0.5843\n"
          ]
        }
      ]
    },
    {
      "cell_type": "code",
      "source": [
        "def delta_put_mc(S, K, r, sigma, T, N, M):\n",
        "  np.random.seed(42)\n",
        "  price1 = bs_put_mc(S, K, r, sigma, T, N, M)\n",
        "  np.random.seed(42)\n",
        "  price2 = bs_put_mc(S+0.01, K, r, sigma, T, N, M)\n",
        "  return (price2 - price1) / (0.01)"
      ],
      "metadata": {
        "id": "ZjlAkxQ2vu0d"
      },
      "execution_count": null,
      "outputs": []
    },
    {
      "cell_type": "code",
      "source": [
        "print(f\"The delta of a put is {delta_put_mc(100, 100, 0.05, 0.20, 3/12, 90, 3000):.4f}\")"
      ],
      "metadata": {
        "colab": {
          "base_uri": "https://localhost:8080/"
        },
        "id": "n7BkMJYKv5lO",
        "outputId": "91f512d6-4924-422a-f6cd-e0d81c5b44e4"
      },
      "execution_count": null,
      "outputs": [
        {
          "output_type": "stream",
          "name": "stdout",
          "text": [
            "The delta of a put is -0.4154\n"
          ]
        }
      ]
    },
    {
      "cell_type": "code",
      "source": [
        "def vega_call_mc(S, K, r, sigma, T, N, M):\n",
        "  np.random.seed(42)\n",
        "  price1 = bs_call_mc(S, K, r, sigma, T, N, M)\n",
        "  np.random.seed(42)\n",
        "  price2 = bs_call_mc(S, K, r, sigma+1e-4, T, N, M)\n",
        "  return (price2 - price1) / (1e-4)"
      ],
      "metadata": {
        "id": "g4JWFZEvv79P"
      },
      "execution_count": null,
      "outputs": []
    },
    {
      "cell_type": "code",
      "source": [
        "print(f\"The vega for a call is: {vega_call_mc(100, 100, 0.05, 0.20, 3/12, 90, 3000):.4f}\")"
      ],
      "metadata": {
        "colab": {
          "base_uri": "https://localhost:8080/"
        },
        "id": "yIeN7DtVwfyl",
        "outputId": "e01993bd-992b-43f7-edcb-4de22bb7d0b9"
      },
      "execution_count": null,
      "outputs": [
        {
          "output_type": "stream",
          "name": "stdout",
          "text": [
            "The vega for a call is: 19.4323\n"
          ]
        }
      ]
    },
    {
      "cell_type": "code",
      "source": [
        "def vega_put_mc(S, K, r, sigma, T, N, M):\n",
        "  np.random.seed(42)\n",
        "  price1 = bs_put_mc(S, K, r, sigma, T, N, M)\n",
        "  np.random.seed(42)\n",
        "  price2 = bs_put_mc(S, K, r, sigma+1e-4, T, N, M)\n",
        "  return (price2 - price1) / (1e-4)"
      ],
      "metadata": {
        "id": "cHGLVav4wiTE"
      },
      "execution_count": null,
      "outputs": []
    },
    {
      "cell_type": "code",
      "source": [
        "print(f\"The vega for a put is: {vega_put_mc(100, 100, 0.05, 0.20, 3/12, 90, 3000):.4f}\")"
      ],
      "metadata": {
        "colab": {
          "base_uri": "https://localhost:8080/"
        },
        "id": "2qjAJr2FwnV4",
        "outputId": "ea5f525a-aff7-473e-b0fa-fc924e9d7f52"
      },
      "execution_count": null,
      "outputs": [
        {
          "output_type": "stream",
          "name": "stdout",
          "text": [
            "The vega for a put is: 19.4323\n"
          ]
        }
      ]
    },
    {
      "cell_type": "code",
      "source": [
        "np.random.seed(42)\n",
        "print(f\"The MC price of a call at 25% volatility is {bs_call_mc(100, 100, 0.05, 0.25, 3/12, 90, 3000):.2f}\")"
      ],
      "metadata": {
        "colab": {
          "base_uri": "https://localhost:8080/"
        },
        "id": "CFOmwcFIwq0q",
        "outputId": "4c8db2ab-e8b1-433a-b2ec-6e19e6ce90b5"
      },
      "execution_count": null,
      "outputs": [
        {
          "output_type": "stream",
          "name": "stdout",
          "text": [
            "The MC price of a call at 25% volatility is 5.51\n"
          ]
        }
      ]
    },
    {
      "cell_type": "code",
      "source": [
        "np.random.seed(42)\n",
        "print(f\"The MC price of a put at 25% volatility is {bs_put_mc(100, 100, 0.05, 0.25, 3/12, 90, 3000):.2f}\")"
      ],
      "metadata": {
        "colab": {
          "base_uri": "https://localhost:8080/"
        },
        "id": "oCQNyXEww3OT",
        "outputId": "7540fb74-027b-4f3b-e954-2b851ce78a48"
      },
      "execution_count": null,
      "outputs": [
        {
          "output_type": "stream",
          "name": "stdout",
          "text": [
            "The MC price of a put at 25% volatility is 4.30\n"
          ]
        }
      ]
    },
    {
      "cell_type": "code",
      "source": [
        "bond_price = 100 * np.exp(-(3/12) * 0.05)\n",
        "print(f\"The price of a zero-coupon risk-free bond is for $100, maturing in 3 months is: {bond_price:.2f}\")"
      ],
      "metadata": {
        "colab": {
          "base_uri": "https://localhost:8080/"
        },
        "id": "BMgjNl5kw5cA",
        "outputId": "983c2779-e417-4297-e269-d1e25ce9735a"
      },
      "execution_count": null,
      "outputs": [
        {
          "output_type": "stream",
          "name": "stdout",
          "text": [
            "The price of a zero-coupon risk-free bond is for $100, maturing in 3 months is: 98.76\n"
          ]
        }
      ]
    },
    {
      "cell_type": "code",
      "source": [
        "print (\"Call plus bond = \", 4.61 + 98.76)"
      ],
      "metadata": {
        "colab": {
          "base_uri": "https://localhost:8080/"
        },
        "id": "823YlRRTzNVT",
        "outputId": "e1c10f48-17c7-473d-c778-8f857297dc23"
      },
      "execution_count": null,
      "outputs": [
        {
          "output_type": "stream",
          "name": "stdout",
          "text": [
            "Call plus bond =  103.37\n"
          ]
        }
      ]
    },
    {
      "cell_type": "code",
      "source": [
        "print (\"Put plus stock = \", 3.37 + 100)"
      ],
      "metadata": {
        "colab": {
          "base_uri": "https://localhost:8080/"
        },
        "id": "e_zbJS69zqUU",
        "outputId": "bc4b1d8a-d666-4d23-db3b-62bcb67f06d3"
      },
      "execution_count": null,
      "outputs": [
        {
          "output_type": "stream",
          "name": "stdout",
          "text": [
            "Put plus stock =  103.37\n"
          ]
        }
      ]
    },
    {
      "cell_type": "code",
      "source": [
        "print (\"Call plus bond (25% vol) = \", 5.60 + 98.76)\n",
        "print (\"Put plus stock (25% vol) = \", 4.36 + 100)"
      ],
      "metadata": {
        "colab": {
          "base_uri": "https://localhost:8080/"
        },
        "id": "IPp9Qooz0Mr-",
        "outputId": "c4a162bf-e135-4b3c-836c-323905b69769"
      },
      "execution_count": null,
      "outputs": [
        {
          "output_type": "stream",
          "name": "stdout",
          "text": [
            "Call plus bond (25% vol) =  104.36\n",
            "Put plus stock (25% vol) =  104.36\n"
          ]
        }
      ]
    },
    {
      "cell_type": "markdown",
      "source": [
        "For a European-style option, we have put-call parity using the Black-Scholes method. This holds at both the 20% and 25% volatility levels.\n",
        "\n",
        "If we look at the Greeks we also see that the delta of a call minus the delta of a put is 1."
      ],
      "metadata": {
        "id": "3N734l9F0JIt"
      }
    },
    {
      "cell_type": "code",
      "source": [
        "print (f\"Call plus bond {4.54247 + bond_price:.2f}\")\n",
        "print (f\"Put plus stock {3.3256 + 100:.2f}\")"
      ],
      "metadata": {
        "colab": {
          "base_uri": "https://localhost:8080/"
        },
        "id": "0eUwgMLS0h4s",
        "outputId": "3a1a5986-8019-4932-c448-98909fedb6fb"
      },
      "execution_count": null,
      "outputs": [
        {
          "output_type": "stream",
          "name": "stdout",
          "text": [
            "Call plus bond 103.30\n",
            "Put plus stock 103.33\n"
          ]
        }
      ]
    },
    {
      "cell_type": "markdown",
      "source": [
        "For a European style option, we have put-call parity using the Black-Scholes method; there is a 3 cent difference in the values based on our simulation. The 3 cent difference between call and put prices resulting from Monte Carlo simulations could be attributed to statistical noise or approximation errors inherent in the method. The magnitude of the difference may vary based on factors such as the number of simulations, the underlying asset's volatility, and the specific parameters of the options being priced.  Although a 3 cent difference might seem significant, in practice, it may not be large enough to create a viable arbitrage opportunity, when considering trading costs and market frictions."
      ],
      "metadata": {
        "id": "kr16e9bR0xpB"
      }
    },
    {
      "cell_type": "code",
      "source": [
        "print (f\"Call plus bond (25% vol) = { 5.51 + bond_price:.2f}\")\n",
        "print (f\"Put plus stock (25% vol) = { 4.30 + 100:.2f}\")"
      ],
      "metadata": {
        "colab": {
          "base_uri": "https://localhost:8080/"
        },
        "id": "JI_qq46l1wIf",
        "outputId": "d7f2ec7b-c34e-4ed5-84b3-767b30e43e7c"
      },
      "execution_count": null,
      "outputs": [
        {
          "output_type": "stream",
          "name": "stdout",
          "text": [
            "Call plus bond (25% vol) = 104.27\n",
            "Put plus stock (25% vol) = 104.30\n"
          ]
        }
      ]
    },
    {
      "cell_type": "markdown",
      "source": [
        "If we look at the prices at the 25% volatility level, we again have put-call parity (within 3 cents) using the Monte Carlo method.\n",
        "\n",
        "In addition, if look at the deltas for the call and put we get that the delta of the call minus the delta of the put is 1.0 using the Monte Carlo method."
      ],
      "metadata": {
        "id": "J0N32YP72LVI"
      }
    },
    {
      "cell_type": "code",
      "source": [
        "for liter in range(3, 7):\n",
        "  print(f\"The MC price of a call is {bs_call_mc(100, 100, 0.05, 0.20, 3/12, 90, 10**liter):.2f} for {10**liter} iterations\")"
      ],
      "metadata": {
        "colab": {
          "base_uri": "https://localhost:8080/"
        },
        "id": "hSfmNyzP3VSh",
        "outputId": "fc7c5d7b-3289-4d3c-a6ed-a6ebcbf87b5c"
      },
      "execution_count": null,
      "outputs": [
        {
          "output_type": "stream",
          "name": "stdout",
          "text": [
            "The MC price of a call is 4.53 for 1000 iterations\n",
            "The MC price of a call is 4.58 for 10000 iterations\n",
            "The MC price of a call is 4.57 for 100000 iterations\n",
            "The MC price of a call is 4.59 for 1000000 iterations\n"
          ]
        }
      ]
    },
    {
      "cell_type": "code",
      "source": [
        "for liter in range(3, 7):\n",
        "  print(f\"The MC price of a put is {bs_put_mc(100, 100, 0.05, 0.20, 3/12, 90, 10**liter):.2f} for {10**liter} iterations\")"
      ],
      "metadata": {
        "colab": {
          "base_uri": "https://localhost:8080/"
        },
        "id": "3NRrdnIJ3e6b",
        "outputId": "4d91c898-7fb8-4fa6-fcbf-2f011f7caa19"
      },
      "execution_count": null,
      "outputs": [
        {
          "output_type": "stream",
          "name": "stdout",
          "text": [
            "The MC price of a put is 2.93 for 1000 iterations\n",
            "The MC price of a put is 3.43 for 10000 iterations\n",
            "The MC price of a put is 3.34 for 100000 iterations\n",
            "The MC price of a put is 3.35 for 1000000 iterations\n"
          ]
        }
      ]
    },
    {
      "cell_type": "markdown",
      "source": [
        "The Monte-Carlo price and Black Scholes price for a European call and put are close to each other.  If we try with varying number of iterations we can see that the Monte Carlo price appears to be converging to the Black-Scholes price.\n"
      ],
      "metadata": {
        "id": "AKTLLXb43qW8"
      }
    },
    {
      "cell_type": "code",
      "source": [
        "import numpy as np\n",
        "\n",
        "def bs_call_mc_american(S, K, r, sigma, T, N, M):\n",
        "    dt = T / N\n",
        "    dS = S * (r * dt + sigma * np.sqrt(dt) * np.random.randn(M, N))\n",
        "    S = S + np.cumsum(dS, axis=1)\n",
        "    ST = S[:, -1]\n",
        "    data = np.maximum(ST - K, 0)\n",
        "\n",
        "    for t in range(N - 2, -1, -1):\n",
        "        intrinsic = np.maximum(ST - K, 0)\n",
        "        X = S[:, t]\n",
        "        Y = np.exp(-r * dt) * data\n",
        "\n",
        "        # Polynomial regression to estimate the conditional expectation\n",
        "        cashflows = np.polyfit(X, Y, 5)\n",
        "        continuation = np.polyval(cashflows, X)\n",
        "\n",
        "        # Compare the intrinsic value with the continuation value\n",
        "        exercise = intrinsic > continuation\n",
        "        data = np.where(exercise, intrinsic, data)\n",
        "\n",
        "    average = np.sum(data) / float(M)\n",
        "\n",
        "    return np.exp(-r * T) * average"
      ],
      "metadata": {
        "id": "b9e8YSDZ5rIw"
      },
      "execution_count": null,
      "outputs": []
    },
    {
      "cell_type": "code",
      "source": [
        "np.random.seed(42)\n",
        "print(f\"The Monte Carlo price for an American ATM Call option is: {bs_call_mc_american(100, 100, 0.05, 0.20, 3/12, 90, 5000):.2f}\")"
      ],
      "metadata": {
        "id": "B9l8r2vu56XI",
        "colab": {
          "base_uri": "https://localhost:8080/"
        },
        "outputId": "b93329a2-899e-49fa-e960-b4b521f0dd22"
      },
      "execution_count": null,
      "outputs": [
        {
          "output_type": "stream",
          "name": "stdout",
          "text": [
            "The Monte Carlo price for an American ATM Call option is: 4.60\n"
          ]
        }
      ]
    },
    {
      "cell_type": "code",
      "source": [
        "def bs_put_mc_american(S, K, r, sigma, T, N, M):\n",
        "    dt = T / N\n",
        "    dS = S * (r * dt + sigma * np.sqrt(dt) * np.random.randn(M, N))\n",
        "    S = S + np.cumsum(dS, axis=1)\n",
        "    ST = S[:, -1]\n",
        "    data = np.maximum(K - ST, 0)\n",
        "\n",
        "    for t in range(N - 2, -1, -1):\n",
        "        intrinsic = np.maximum(K - ST, 0)\n",
        "        X = S[:, t]\n",
        "        Y = np.exp(-r * dt) * data\n",
        "\n",
        "        # Polynomial regression to estimate the conditional expectation\n",
        "        cashflows = np.polyfit(X, Y, 5)\n",
        "        continuation = np.polyval(cashflows, X)\n",
        "\n",
        "        # Compare the intrinsic value with the continuation value\n",
        "        exercise = intrinsic > continuation\n",
        "        data = np.where(exercise, intrinsic, data)\n",
        "\n",
        "    average = np.sum(data) / float(M)\n",
        "\n",
        "    return np.exp(-r * T) * average\n"
      ],
      "metadata": {
        "id": "cG-fRY2HzgWC"
      },
      "execution_count": null,
      "outputs": []
    },
    {
      "cell_type": "code",
      "source": [
        "np.random.seed(42)\n",
        "print(f\"The Monte Carlo price for an American ATM Put option is: {bs_put_mc_american(100, 100, 0.05, 0.20, 3/12, 90, 5000):.2f}\")"
      ],
      "metadata": {
        "colab": {
          "base_uri": "https://localhost:8080/"
        },
        "id": "KZYuYTXm0iWt",
        "outputId": "4014d52e-a12a-42f5-d624-d2c8c0a30b48"
      },
      "execution_count": null,
      "outputs": [
        {
          "output_type": "stream",
          "name": "stdout",
          "text": [
            "The Monte Carlo price for an American ATM Put option is: 3.41\n"
          ]
        }
      ]
    },
    {
      "cell_type": "code",
      "source": [
        "def delta_call_mc_american(S, K, r, sigma, T, N, M):\n",
        "  np.random.seed(42)\n",
        "  price1 = bs_call_mc_american(S, K, r, sigma, T, N, M)\n",
        "  np.random.seed(42)\n",
        "  price2 = bs_call_mc_american(S+0.01, K, r, sigma, T, N, M)\n",
        "  return (price2 - price1) / (0.01)"
      ],
      "metadata": {
        "id": "dUZ0WZw80kve"
      },
      "execution_count": null,
      "outputs": []
    },
    {
      "cell_type": "code",
      "source": [
        "print(f\"The delta for an American ATM call option is {delta_call_mc_american(100, 100, 0.05, 0.20, 3/12, 90, 5000):.4f}\")"
      ],
      "metadata": {
        "colab": {
          "base_uri": "https://localhost:8080/"
        },
        "id": "DJCxXGpi1eNh",
        "outputId": "78ef9da7-64a3-4e3d-fd2b-70d0165cf2f8"
      },
      "execution_count": null,
      "outputs": [
        {
          "output_type": "stream",
          "name": "stdout",
          "text": [
            "The delta for an American ATM call option is 0.5863\n"
          ]
        }
      ]
    },
    {
      "cell_type": "code",
      "source": [
        "def delta_put_mc_american(S, K, r, sigma, T, N, M):\n",
        "  np.random.seed(42)\n",
        "  price1 = bs_put_mc_american(S, K, r, sigma, T, N, M)\n",
        "  np.random.seed(42)\n",
        "  price2 = bs_put_mc_american(S+0.01, K, r, sigma, T, N, M)\n",
        "  return (price2 - price1) / (0.01)"
      ],
      "metadata": {
        "id": "RZwEt5By1icD"
      },
      "execution_count": null,
      "outputs": []
    },
    {
      "cell_type": "code",
      "source": [
        "print(f\"The delta for an American ATM put option is {delta_put_mc_american(100, 100, 0.05, 0.20, 3/12, 90, 5000):.4f}\")"
      ],
      "metadata": {
        "colab": {
          "base_uri": "https://localhost:8080/"
        },
        "id": "Xo7i3A8317KE",
        "outputId": "ba282853-a492-443b-f00e-1a36f3590688"
      },
      "execution_count": null,
      "outputs": [
        {
          "output_type": "stream",
          "name": "stdout",
          "text": [
            "The delta for an American ATM put option is -0.4131\n"
          ]
        }
      ]
    },
    {
      "cell_type": "code",
      "source": [
        "def vega_call_mc_american(S, K, r, sigma, T, N, M):\n",
        "  np.random.seed(42)\n",
        "  price1 = bs_call_mc_american(S, K, r, sigma, T, N, M)\n",
        "  np.random.seed(42)\n",
        "  price2 = bs_call_mc_american(S, K, r, sigma+1e-4, T, N, M)\n",
        "  return (price2 - price1) / (1e-4)"
      ],
      "metadata": {
        "id": "PloBrdHj1-k-"
      },
      "execution_count": null,
      "outputs": []
    },
    {
      "cell_type": "code",
      "source": [
        "def vega_put_mc_american(S, K, r, sigma, T, N, M):\n",
        "  np.random.seed(42)\n",
        "  price1 = bs_put_mc_american(S, K, r, sigma, T, N, M)\n",
        "  np.random.seed(42)\n",
        "  price2 = bs_put_mc_american(S, K, r, sigma+1e-4, T, N, M)\n",
        "  return (price2 - price1) / (1e-4)"
      ],
      "metadata": {
        "id": "fNchlfwW2sKX"
      },
      "execution_count": null,
      "outputs": []
    },
    {
      "cell_type": "code",
      "source": [
        "print(f\"The vega for a call is: {vega_call_mc_american(100, 100, 0.05, 0.20, 3/12, 90, 3000):.4f}\")"
      ],
      "metadata": {
        "colab": {
          "base_uri": "https://localhost:8080/"
        },
        "id": "BkMSltmP2vlM",
        "outputId": "9e5c5652-ef74-41d1-fc0c-727dbedfeeb7"
      },
      "execution_count": null,
      "outputs": [
        {
          "output_type": "stream",
          "name": "stdout",
          "text": [
            "The vega for a call is: 19.3443\n"
          ]
        }
      ]
    },
    {
      "cell_type": "code",
      "source": [
        "print(f\"The vega for a put is: {vega_put_mc_american(100, 100, 0.05, 0.20, 3/12, 90, 3000):.4f}\")"
      ],
      "metadata": {
        "colab": {
          "base_uri": "https://localhost:8080/"
        },
        "id": "FYi7QFQS3CzE",
        "outputId": "a9e7df01-d2ab-46e4-c824-7e5c17660c61"
      },
      "execution_count": null,
      "outputs": [
        {
          "output_type": "stream",
          "name": "stdout",
          "text": [
            "The vega for a put is: 19.4323\n"
          ]
        }
      ]
    },
    {
      "cell_type": "code",
      "source": [
        "sp = [90, 95, 100, 105, 110]\n",
        "print(\"Stock Price\\tCall Price\")\n",
        "call_prices = []\n",
        "for price in sp:\n",
        "  np.random.seed(42)\n",
        "  cp = bs_call_mc_american(price, 100, 0.05, 0.20, 3/12, 90, 5000)\n",
        "  call_prices.append(cp)\n",
        "  print(f\"{price}\\t\\t{cp:.2f}\")"
      ],
      "metadata": {
        "id": "0mKWg0oM3NCm",
        "colab": {
          "base_uri": "https://localhost:8080/"
        },
        "outputId": "ec25f607-8451-4dd5-b8be-f9a9e82b7b53"
      },
      "execution_count": null,
      "outputs": [
        {
          "output_type": "stream",
          "name": "stdout",
          "text": [
            "Stock Price\tCall Price\n",
            "90\t\t0.76\n",
            "95\t\t2.18\n",
            "100\t\t4.60\n",
            "105\t\t7.98\n",
            "110\t\t12.07\n"
          ]
        }
      ]
    },
    {
      "cell_type": "code",
      "source": [
        "import matplotlib.pyplot as plt \n",
        "plt.plot(sp, call_prices)\n",
        "plt.xlabel(\"Stock Price\")\n",
        "plt.ylabel(\"Option Price\")\n",
        "plt.title(\"American Call option (100 strike) prices for various stock prices\")"
      ],
      "metadata": {
        "colab": {
          "base_uri": "https://localhost:8080/",
          "height": 489
        },
        "id": "FRTOOTQ144wX",
        "outputId": "12b1ae2b-fdfc-404d-dcd1-f541c827ab15"
      },
      "execution_count": null,
      "outputs": [
        {
          "output_type": "execute_result",
          "data": {
            "text/plain": [
              "Text(0.5, 1.0, 'American Call option (100 strike) prices for various stock prices')"
            ]
          },
          "metadata": {},
          "execution_count": 69
        },
        {
          "output_type": "display_data",
          "data": {
            "text/plain": [
              "<Figure size 640x480 with 1 Axes>"
            ],
            "image/png": "[encoded data removed]"
          },
          "metadata": {}
        }
      ]
    },
    {
      "cell_type": "code",
      "source": [
        "sp = [90, 95, 100, 105, 110]\n",
        "print(\"Stock Price\\tPut Price\")\n",
        "put_prices = []\n",
        "for price in sp:\n",
        "  np.random.seed(42)\n",
        "  pp = bs_put_mc_american(price, 100, 0.05, 0.20, 3/12, 90, 5000)\n",
        "  put_prices.append(pp)\n",
        "  print(f\"{price}\\t\\t{pp:.2f}\")"
      ],
      "metadata": {
        "id": "LSSWo78LM6hm",
        "colab": {
          "base_uri": "https://localhost:8080/"
        },
        "outputId": "08e5f59b-2649-4eb5-a9df-a62c22e9d116"
      },
      "execution_count": null,
      "outputs": [
        {
          "output_type": "stream",
          "name": "stdout",
          "text": [
            "Stock Price\tPut Price\n",
            "90\t\t9.57\n",
            "95\t\t5.99\n",
            "100\t\t3.41\n",
            "105\t\t1.80\n",
            "110\t\t0.89\n"
          ]
        }
      ]
    },
    {
      "cell_type": "code",
      "source": [
        "import matplotlib.pyplot as plt \n",
        "plt.plot(sp, put_prices)\n",
        "plt.xlabel(\"Stock Price\")\n",
        "plt.ylabel(\"Option Price\")\n",
        "plt.title(\"American Put option (100 strike) prices for various stock prices\")"
      ],
      "metadata": {
        "colab": {
          "base_uri": "https://localhost:8080/",
          "height": 489
        },
        "id": "YUxz0RJdNhBo",
        "outputId": "79a92a20-e24d-499c-918d-4527d094b6bf"
      },
      "execution_count": null,
      "outputs": [
        {
          "output_type": "execute_result",
          "data": {
            "text/plain": [
              "Text(0.5, 1.0, 'American Put option (100 strike) prices for various stock prices')"
            ]
          },
          "metadata": {},
          "execution_count": 16
        },
        {
          "output_type": "display_data",
          "data": {
            "text/plain": [
              "<Figure size 640x480 with 1 Axes>"
            ],
            "image/png": "[encoded data removed]"
          },
          "metadata": {}
        }
      ]
    },
    {
      "cell_type": "code",
      "source": [
        "sp = [90, 95, 100, 105, 110]\n",
        "call_prices = []\n",
        "print(\"Strike\\tCall Price\")\n",
        "for price in sp:\n",
        "  np.random.seed(42)\n",
        "  cp = bs_call_mc_american(100, price, 0.05, 0.20, 3/12, 90, 5000)\n",
        "  call_prices.append(cp)\n",
        "  print(f\"{price}\\t{cp:.2f}\")"
      ],
      "metadata": {
        "id": "hRPePiDlNpOi",
        "colab": {
          "base_uri": "https://localhost:8080/"
        },
        "outputId": "7a12fd87-a410-49ae-bfeb-e3d35b777cf5"
      },
      "execution_count": null,
      "outputs": [
        {
          "output_type": "stream",
          "name": "stdout",
          "text": [
            "Strike\tCall Price\n",
            "90\t11.75\n",
            "95\t7.77\n",
            "100\t4.60\n",
            "105\t2.39\n",
            "110\t1.04\n"
          ]
        }
      ]
    },
    {
      "cell_type": "code",
      "source": [
        "import matplotlib.pyplot as plt \n",
        "plt.plot(sp, put_prices)\n",
        "plt.xlabel(\"Strike Price\")\n",
        "plt.ylabel(\"Option Price\")\n",
        "plt.title(\"American Call option prices for various strike prices\")"
      ],
      "metadata": {
        "colab": {
          "base_uri": "https://localhost:8080/",
          "height": 489
        },
        "id": "Si752E3rOZeA",
        "outputId": "6f42a4d8-e0b0-4cfa-f3ac-ca692fe06c87"
      },
      "execution_count": null,
      "outputs": [
        {
          "output_type": "execute_result",
          "data": {
            "text/plain": [
              "Text(0.5, 1.0, 'American Call option prices for various strike prices')"
            ]
          },
          "metadata": {},
          "execution_count": 22
        },
        {
          "output_type": "display_data",
          "data": {
            "text/plain": [
              "<Figure size 640x480 with 1 Axes>"
            ],
            "image/png": "[encoded data removed]"
          },
          "metadata": {}
        }
      ]
    },
    {
      "cell_type": "code",
      "source": [
        "sp = [90, 95, 100, 105, 110]\n",
        "put_prices = []\n",
        "print(\"Strike\\tPut Price\")\n",
        "for price in sp:\n",
        "  np.random.seed(42)\n",
        "  cp = bs_put_mc_american(100, price, 0.05, 0.20, 3/12, 90, 5000)\n",
        "  put_prices.append(cp)\n",
        "  print(f\"{price}\\t{cp:.2f}\")\n",
        "\n",
        "import matplotlib.pyplot as plt \n",
        "plt.plot(sp, put_prices)\n",
        "plt.xlabel(\"Strike Price\")\n",
        "plt.ylabel(\"Option Price\")\n",
        "plt.title(\"American Put option prices for various strike prices\")"
      ],
      "metadata": {
        "id": "EfLoOTIpPBmj",
        "colab": {
          "base_uri": "https://localhost:8080/",
          "height": 594
        },
        "outputId": "9fa840b9-cc08-4ad9-b8d3-c12133608ea2"
      },
      "execution_count": null,
      "outputs": [
        {
          "output_type": "stream",
          "name": "stdout",
          "text": [
            "Strike\tPut Price\n",
            "90\t0.69\n",
            "95\t1.65\n",
            "100\t3.41\n",
            "105\t6.14\n",
            "110\t9.73\n"
          ]
        },
        {
          "output_type": "execute_result",
          "data": {
            "text/plain": [
              "Text(0.5, 1.0, 'American Put option prices for various strike prices')"
            ]
          },
          "metadata": {},
          "execution_count": 11
        },
        {
          "output_type": "display_data",
          "data": {
            "text/plain": [
              "<Figure size 640x480 with 1 Axes>"
            ],
            "image/png": "[encoded data removed]"
          },
          "metadata": {}
        }
      ]
    },
    {
      "cell_type": "code",
      "source": [
        "option_price_greeks(100, 0.05, 0.20, 3/12, 110, \"C\")"
      ],
      "metadata": {
        "colab": {
          "base_uri": "https://localhost:8080/"
        },
        "id": "WpFZ2MVYsnIi",
        "outputId": "0d4e0cd2-c125-4156-96a0-0c06e30e087b"
      },
      "execution_count": null,
      "outputs": [
        {
          "output_type": "stream",
          "name": "stdout",
          "text": [
            "Option price = 1.19\n",
            "Delta = 0.2183\n",
            "Gamma = 0.0295\n",
            "Vega = 14.7370\n",
            "Theta = -6.9265\n",
            "Rho = 5.1586\n"
          ]
        }
      ]
    },
    {
      "cell_type": "code",
      "source": [
        "option_price_greeks(100, 0.05, 0.20, 3/12, 95, \"P\")"
      ],
      "metadata": {
        "colab": {
          "base_uri": "https://localhost:8080/"
        },
        "id": "dRp54Sod0Fvl",
        "outputId": "aede1ec2-337c-40a9-eef1-b6ac22fa6ce0"
      },
      "execution_count": null,
      "outputs": [
        {
          "output_type": "stream",
          "name": "stdout",
          "text": [
            "Option price = 1.53\n",
            "Delta = -0.2457\n",
            "Gamma = 0.0315\n",
            "Vega = 15.7440\n",
            "Theta = -4.9921\n",
            "Rho = -6.5273\n"
          ]
        }
      ]
    },
    {
      "cell_type": "markdown",
      "source": [
        "If we buy the above call and put options, we get a delta of 0.2183 - 0.2457 which works out to a delta of -0.0274.  This means that if we want to delta-hedge the portfolio, we should buy 0.0274 shares of stock.\n",
        "\n",
        "If we buy the call and sell the put, we get a delta of 0.4640; this means that if we want do delta-hedge we should sell 0.4640 shares of stock.\n"
      ],
      "metadata": {
        "id": "IJ32v9Hh0YSE"
      }
    },
    {
      "cell_type": "code",
      "source": [
        "import numpy as np\n",
        "\n",
        "def bs_up_and_out_barrier(S, K, r, sigma, T, N, M, barrier):\n",
        "    dt = T / N\n",
        "    dS = S * (r * dt + sigma * np.sqrt(dt) * np.random.randn(M, N))\n",
        "    S = S + np.cumsum(dS, axis=1)\n",
        "    ST = S[:, -1]\n",
        "    \n",
        "    # Check if any path crosses the barrier\n",
        "    crossed_barrier = np.any(S >= barrier, axis=1)\n",
        "    \n",
        "    # Calculate the payoff for each path\n",
        "    data = np.where(crossed_barrier, 0, ST - K)\n",
        "    \n",
        "    average = np.sum(np.maximum(data, 0)) / float(M)\n",
        "\n",
        "    return np.exp(-r * T) * average\n"
      ],
      "metadata": {
        "id": "re2oqSDk12s6"
      },
      "execution_count": 15,
      "outputs": []
    },
    {
      "cell_type": "code",
      "source": [
        "np.random.seed(42)\n",
        "print(f\"The price of an ATM up and out barrier option is: {bs_up_and_out_barrier(120, 120, 0.06, 0.30, 8/12, 240, 50000, 141):.2f}\")\n",
        "print(\"Strike = S0 = 120, r=6%, sigma=30%, T=8 months, barrier level = 141\")"
      ],
      "metadata": {
        "colab": {
          "base_uri": "https://localhost:8080/"
        },
        "id": "aNhQmmW-13NZ",
        "outputId": "60d7120e-55fe-4bc8-e14e-b02d6ce19c07"
      },
      "execution_count": 16,
      "outputs": [
        {
          "output_type": "stream",
          "name": "stdout",
          "text": [
            "The price of an ATM up and out barrier option is: 0.89\n",
            "Strike = S0 = 120, r=6%, sigma=30%, T=8 months, barrier level = 141\n"
          ]
        }
      ]
    },
    {
      "cell_type": "code",
      "source": [
        "def bs_up_and_in_barrier(S, K, r, sigma, T, N, M, barrier):\n",
        "    dt = T / N\n",
        "    dS = S * (r * dt + sigma * np.sqrt(dt) * np.random.randn(M, N))\n",
        "    S = S + np.cumsum(dS, axis=1)\n",
        "    ST = S[:, -1]\n",
        "    \n",
        "    # Check if any path crosses the barrier\n",
        "    crossed_barrier = np.any(S >= barrier, axis=1)\n",
        "    \n",
        "    # Calculate the payoff for each path\n",
        "    data = np.where(crossed_barrier, ST - K, 0)\n",
        "    \n",
        "    average = np.sum(np.maximum(data, 0)) / float(M)\n",
        "\n",
        "    return np.exp(-r * T) * average"
      ],
      "metadata": {
        "id": "yMlZSbOl2Fix"
      },
      "execution_count": 22,
      "outputs": []
    },
    {
      "cell_type": "code",
      "source": [
        "np.random.seed(42)\n",
        "print(f\"The price of an ATM up and in barrier option is: {bs_up_and_in_barrier(120, 120, 0.06, 0.30, 8/12, 240, 50000, 141):.2f}\")\n",
        "print(\"Strike = S0 = 120, r=6%, sigma=30%, T=8 months, barrier level = 141\")"
      ],
      "metadata": {
        "colab": {
          "base_uri": "https://localhost:8080/"
        },
        "id": "yg8wDduo2vap",
        "outputId": "f79d5025-a6f3-47da-e9b0-a579507696cf"
      },
      "execution_count": 23,
      "outputs": [
        {
          "output_type": "stream",
          "name": "stdout",
          "text": [
            "The price of an ATM up and in barrier option is: 12.68\n",
            "Strike = S0 = 120, r=6%, sigma=30%, T=8 months, barrier level = 141\n"
          ]
        }
      ]
    },
    {
      "cell_type": "code",
      "source": [
        "np.random.seed(42)\n",
        "print(f\"The price of a vanilla option is: {bs_call_mc(120, 120, 0.06, 0.30, 8/12, 240, 50000):.2f}\")\n",
        "print(\"Strike = S0 = 120, r=6%, sigma=30%, T=8 months\")"
      ],
      "metadata": {
        "colab": {
          "base_uri": "https://localhost:8080/"
        },
        "id": "gC5_oz_xzMBc",
        "outputId": "6d69009d-d687-44c6-c688-85a8927aaf4d"
      },
      "execution_count": 27,
      "outputs": [
        {
          "output_type": "stream",
          "name": "stdout",
          "text": [
            "The price of a vanilla option is: 13.57\n",
            "Strike = S0 = 120, r=6%, sigma=30%, T=8 months\n"
          ]
        }
      ]
    },
    {
      "cell_type": "markdown",
      "source": [
        "The price of an Up and Out option or Up and In is lower than the price of a vanilla option.  The UAO option contains an additional barrier level that, if breached by the underlying asset price, leads to the option being knocked out and losing its value. The presence of the barrier reduces the probability of the option being exercised and, as a result, lowers its price. The UAI option includes a barrier level that, when crossed by the underlying asset price, activates the option and allows it to gain value. The barrier acts as a condition for the option to be exercised; otherwise option is worthless.\n",
        "\n",
        "The total price of the up and out, up and in options should equal the price of the vanilla option. This is because either the barrier is crossed or it isn't; so exactly one of the up and out and the up and in options will be active.  So the price of the vanilla option should be the sum of the prices of the up and in option and the up and out option.  "
      ],
      "metadata": {
        "id": "qCcTJ_MW3NbE"
      }
    }
  ]
}