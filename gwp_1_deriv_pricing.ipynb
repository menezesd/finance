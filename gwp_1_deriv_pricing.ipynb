{
  "cells": [
    {
      "cell_type": "markdown",
      "metadata": {
        "id": "cxH98mmo5Cxe"
      },
      "source": [
        "## Problem 1\n",
        "\n",
        "Does put-call parity apply for European options?\n",
        "\n",
        "Yes, put-call parity applies to European options.\n",
        "\n",
        "Put call parity says that if you have a put and call option with the same expiration date and strike price, as well as zero-coupon bond with the same face value and maturity as the options,\n",
        "\n",
        "Call Price - Put Price = Stock Price - Bond Price\n",
        "\n",
        "or alternatively\n",
        "\n",
        "$C - P = S- Ke^{-rT}$\n",
        "where $r$ is the interest rate, $T$ is the time to maturity, $K$ is the strike price, $C$ is the call price, $S$ is the current stock price, and $P$ is the put price.\n",
        "\n",
        "\n",
        "This is true because of a no-arbitrage assumption.\n",
        "\n",
        "If the call-price minus the put price exceeds the stock price minus the bond price, then we can buy the put and the stock, and sell the call and the bond.  Our profit will be the difference.  If at expiration, the stock price exceeds the strike price, our stock is called away and we pay off the bond.  If the stock price is less than the strike price, we can exercise our put and pay off the bond.  In either case we have no more net payments after our initial trade, so we have a no-risk profit.\n",
        "\n",
        "\n",
        "Similarly, if the call price minus the put price is less than the stock price minus the bond price, then we can buy the call and the bond, and sell the put and the stock.  Our profit will be the difference.  If at expiration, the stock price exceeds the strike price, we can exercise the call in order to buy back our short stock.  IF at expiration the stock price is less than the strike price, the put is exercised against us, and we use the payment from the mature bond to buy back the stock. In either case, we make a riskless profit.\n",
        " \n",
        "## Problem 2\n",
        "\n",
        "If we want the price of the call, we get\n",
        "\n",
        "Call Price = Stock Price + Put Price - Bond Price \n",
        "\n",
        "## Problem 3\n",
        "\n",
        " If we want the price of the put, we get\n",
        "\n",
        "Put Price = Call Price + Bond Price - Put Price\n",
        "\n",
        "## Problem 4\n",
        " Put-call parity does not apply to American options because they can be exercised before the expiry date.\n",
        "\n",
        "The most we can say is that \n",
        "\n",
        "$S - K \\leq C - P \\leq S - K e^{-rT}$\n",
        "where $r$ is the interest rate, $T$ is the time to maturity, $K$ is the strike price, $C$ is the call price, $S$ is the current stock price, and $P$ is the put price. Hence $K e^{-rT}$ is the current price of the bond.\n",
        "\n",
        "If either inequality is violated, we would have an arbitrage opportunity even if the options are exercised early against us, but if the difference $C - P$ remains within a certain range, there is no arbitrage opportunity.\n",
        "\n",
        "If the interest rate is zero, then the value of $C - P$ is determined exactly.\n",
        "\n",
        "\n",
        "\n"
      ]
    },
    {
      "cell_type": "code",
      "execution_count": null,
      "metadata": {
        "id": "jrQ-4EUy8xUk"
      },
      "outputs": [],
      "source": [
        "import numpy as np\n",
        "def call_option_delta(S_ini, K, T, r, sigma, N):\n",
        "    dt = T / N  # Define time step\n",
        "    u = np.exp(sigma * np.sqrt(dt))  # Define u\n",
        "    d = np.exp(-sigma * np.sqrt(dt))  # Define d\n",
        "    p = (np.exp(r * dt) - d) / (u - d)  # risk neutral probs\n",
        "    C = np.zeros([N + 1, N + 1])  # call prices\n",
        "    S = np.zeros([N + 1, N + 1])  # underlying price\n",
        "    Delta = np.zeros([N, N])  # delta\n",
        "    for i in range(0, N + 1):\n",
        "        C[N, i] = max(S_ini * (u ** (i)) * (d ** (N - i)) - K, 0)\n",
        "        S[N, i] = S_ini * (u ** (i)) * (d ** (N - i))\n",
        "    for j in range(N - 1, -1, -1):\n",
        "        for i in range(0, j + 1):\n",
        "            C[j, i] = np.exp(-r * dt) * (p * C[j + 1, i + 1] + (1 - p) * C[j + 1, i])\n",
        "            S[j, i] = S_ini * (u ** (i)) * (d ** (j - i))\n",
        "            Delta[j, i] = (C[j + 1, i + 1] - C[j + 1, i]) / (\n",
        "                S[j + 1, i + 1] - S[j + 1, i]\n",
        "            )\n",
        "    return C[0, 0], C, S, Delta"
      ]
    },
    {
      "cell_type": "code",
      "execution_count": null,
      "metadata": {
        "id": "dX-2_03P-ycv"
      },
      "outputs": [],
      "source": [
        "import numpy as np\n",
        "def put_option_delta(S_ini, K, T, r, sigma, N):\n",
        "    dt = T / N  # Define time step\n",
        "    u = np.exp(sigma * np.sqrt(dt))  # Define u\n",
        "    d = np.exp(-sigma * np.sqrt(dt))  # Define d\n",
        "    p = (np.exp(r * dt) - d) / (u - d)  # risk neutral probs\n",
        "    P = np.zeros([N + 1, N + 1])  # put prices\n",
        "    S = np.zeros([N + 1, N + 1])  # underlying price\n",
        "    Delta = np.zeros([N, N])  # delta\n",
        "    for i in range(0, N + 1):\n",
        "        P[N, i] = max(-S_ini * (u ** (i)) * (d ** (N - i)) + K, 0)\n",
        "        S[N, i] = S_ini * (u ** (i)) * (d ** (N - i))\n",
        "    for j in range(N - 1, -1, -1):\n",
        "        for i in range(0, j + 1):\n",
        "            P[j, i] = np.exp(-r * dt) * (p * P[j + 1, i + 1] + (1 - p) * P[j + 1, i])\n",
        "            S[j, i] = S_ini * (u ** (i)) * (d ** (j - i))\n",
        "            Delta[j, i] = (P[j + 1, i + 1] - P[j + 1, i]) / (\n",
        "                S[j + 1, i + 1] - S[j + 1, i]\n",
        "            )\n",
        "    return P[0, 0], P, S, Delta"
      ]
    },
    {
      "cell_type": "code",
      "execution_count": null,
      "metadata": {
        "id": "lzy3l_sK9ij6"
      },
      "outputs": [],
      "source": [
        "call_price, call_prices, stock_prices, delta_call = call_option_delta(S_ini = 100, K = 100, T = 0.25, r=0.05, sigma=0.20, N=180)\n",
        "put_price, put_prices, stock_prices_p, delta_put = put_option_delta(S_ini = 100, K = 100, T = 0.25, r=0.05, sigma=0.20, N=180)"
      ]
    },
    {
      "cell_type": "markdown",
      "metadata": {
        "id": "i_mLDx-ZM2fk"
      },
      "source": [
        "## Problem 5"
      ]
    },
    {
      "cell_type": "markdown",
      "source": [
        "Volatility | Call price | Put price\n",
        "-----------|-----------|-----------\n",
        "20% | 4.61 | 3.37\n",
        "25% | 5.59 | 4.35"
      ],
      "metadata": {
        "id": "_BCyyxbKP_sT"
      }
    },
    {
      "cell_type": "code",
      "execution_count": null,
      "metadata": {
        "colab": {
          "base_uri": "https://localhost:8080/"
        },
        "id": "NUMM8jI7976b",
        "outputId": "8991caef-521a-4db5-82e6-d89f40d97a2b"
      },
      "outputs": [
        {
          "name": "stdout",
          "output_type": "stream",
          "text": [
            "The price of an ATM European call is 4.61\n",
            "The price of an ATM European put is 3.37\n"
          ]
        }
      ],
      "source": [
        "print (f\"The price of an ATM European call is {call_price:.2f}\")\n",
        "print(f\"The price of an ATM European put is {put_price:.2f}\")"
      ]
    },
    {
      "cell_type": "markdown",
      "metadata": {
        "id": "OmvQ1zQn_Qbf"
      },
      "source": [
        "To price an ATM European call and put using a binomial tree, we create a binomial tree with the appropriate number of steps.  First, we compute the price of the stock at each level of the tree.  To do this, we use the given value of $\\sigma$ to compute up and down values at each time step, so that the overall volatility will be the same as $\\sigma$.\n",
        "\n",
        "To do this we put $u = e^{\\sigma \\sqrt{dt}}, d = e^{-\\sigma \\sqrt{dt}}$.\n",
        "\n",
        "Then we compute the risk neutral probabilities for a price increase or decrease.\n",
        "This means that the current price of the stock is fair; that is, if we calculate the expected value of the stock at the next time step, the current stock price is the discounted version of the expected value; hence a risk-neutral investor will receive the same expected return whether he purchases a risk-free bond or the stock.\n",
        "\n",
        "Once we have these probabilities, we can compute the value of the actual stock for every combination of ups and downs. \n",
        "\n",
        "Once we have computed this, we can compute the payoffs for the call and put options.  We start by computing the payoff at expiration.  If the stock price is above the strike price, the payoff for the put is 0, and the payoff for the call is the difference in prices.  Similarly, if the stock price is below the strike price, the payoff for the call is 0, and the payoff for the put is the difference in prices.  Then we compute the prices for the call and put options at earlier time steps.  At these earlier time steps, the payoff for the call and put options is the discounted value of the conditional expected value of the payoff at the next time step; that is, we look at where we are on the binomial tree, take a weighted average of the prices and the next time step if the stock goes up or down, and then discount it at the risk-free interest rate.\n",
        "\n",
        "\n",
        "We used 180 time steps because there are about 90 days in three months, so this valuation will use two time steps for each day.\n"
      ]
    },
    {
      "cell_type": "code",
      "execution_count": null,
      "metadata": {
        "colab": {
          "base_uri": "https://localhost:8080/"
        },
        "id": "5tfnGPlTB8d1",
        "outputId": "cab84e66-0a46-44ea-9d7e-a87ac08030d4"
      },
      "outputs": [
        {
          "data": {
            "text/plain": [
              "array([[0.56936543, 0.        , 0.        , ..., 0.        , 0.        ,\n",
              "        0.        ],\n",
              "       [0.53957054, 0.59839308, 0.        , ..., 0.        , 0.        ,\n",
              "        0.        ],\n",
              "       [0.5093819 , 0.56898181, 0.62704698, ..., 0.        , 0.        ,\n",
              "        0.        ],\n",
              "       ...,\n",
              "       [0.        , 0.        , 0.        , ..., 1.        , 0.        ,\n",
              "        0.        ],\n",
              "       [0.        , 0.        , 0.        , ..., 1.        , 1.        ,\n",
              "        0.        ],\n",
              "       [0.        , 0.        , 0.        , ..., 1.        , 1.        ,\n",
              "        1.        ]])"
            ]
          },
          "execution_count": 24,
          "metadata": {},
          "output_type": "execute_result"
        }
      ],
      "source": [
        "delta_call"
      ]
    },
    {
      "cell_type": "code",
      "execution_count": null,
      "metadata": {
        "colab": {
          "base_uri": "https://localhost:8080/"
        },
        "id": "faa787y7B9-m",
        "outputId": "ad6d606d-3b89-4613-c4e7-7cc74d7d7ffd"
      },
      "outputs": [
        {
          "data": {
            "text/plain": [
              "array([[-0.43063457,  0.        ,  0.        , ...,  0.        ,\n",
              "         0.        ,  0.        ],\n",
              "       [-0.46042946, -0.40160692,  0.        , ...,  0.        ,\n",
              "         0.        ,  0.        ],\n",
              "       [-0.4906181 , -0.43101819, -0.37295302, ...,  0.        ,\n",
              "         0.        ,  0.        ],\n",
              "       ...,\n",
              "       [-1.        , -1.        , -1.        , ...,  0.        ,\n",
              "         0.        ,  0.        ],\n",
              "       [-1.        , -1.        , -1.        , ...,  0.        ,\n",
              "         0.        ,  0.        ],\n",
              "       [-1.        , -1.        , -1.        , ...,  0.        ,\n",
              "         0.        ,  0.        ]])"
            ]
          },
          "execution_count": 25,
          "metadata": {},
          "output_type": "execute_result"
        }
      ],
      "source": [
        "delta_put"
      ]
    },
    {
      "cell_type": "markdown",
      "metadata": {
        "id": "RRuK8WAvM7Tu"
      },
      "source": [
        "## Problem 6"
      ]
    },
    {
      "cell_type": "code",
      "execution_count": null,
      "metadata": {
        "colab": {
          "base_uri": "https://localhost:8080/"
        },
        "id": "KrPvU1a7CYAi",
        "outputId": "de9bb1f7-36d7-4296-c340-dc7c1a228bc3"
      },
      "outputs": [
        {
          "name": "stdout",
          "output_type": "stream",
          "text": [
            "The delta for the call option is 0.57.  The delta for the put option is -0.43\n"
          ]
        }
      ],
      "source": [
        "print(f\"The delta for the call option is {delta_call[0][0]:.2f}.  The delta for the put option is {delta_put[0][0]:.2f}\")"
      ]
    },
    {
      "cell_type": "markdown",
      "metadata": {
        "id": "JRqCdUDFCkbx"
      },
      "source": [
        "The delta for the call option is positive, while the delta for the put option is negative.  Their absolute values sum to 1 (0.57 + 0.43 = 1)\n",
        "\n",
        "The delta of an option measures the sensitivity of its price to changes in the underlying asset's price. \n",
        "\n",
        "European Call Option: The delta of a European call option ranges from 0 to 1. At the money, where the strike price is equal to the current price of the underlying asset, the delta of a call option is approximately 0.5.  Here, the delta is slightly above 0.50 because the stock price incorporates a discount factor, so if the price is 100 now, we should expect the price to be above 100 in the future for the stock to be fairly valued. A positive delta implies that the call option's price tends to increase when the underlying asset's price rises.\n",
        "\n",
        "European Put Option: The delta of a European put option ranges from -1 to 0. At the money, the delta of a put option is approximately -0.5. Here, the delta is slightly below -0.50 because the stock price incorporates a discount factor. A negative delta indicates that the put option's price tends to increase when the underlying asset's price decreases.\n",
        "\n",
        "The delta serves as a proxy for the option's hedge ratio or the sensitivity of the option's value to changes in the underlying asset. When computing the delta, we can figure out how many shares we should hold to have the same sensitivity to changes in the asset price. The delta for the call also approximates the probability that the call option expires in the money, since if the stock will be in the money no matter what happens, then the payoff for the call will increase in step with the stock, while if the call will always be out of the money, then the call option will always be worth 0, so the delta will be 0.\n",
        "\n",
        "Obtaining a positive delta for a call option and a negative delta for a put option makes sense due to the relationship between the options and the underlying asset. When the underlying asset's price rises, call options become more valuable, resulting in a positive delta. Conversely, put options gain value when the underlying asset's price decreases, leading to a negative delta. \n",
        "\n"
      ]
    },
    {
      "cell_type": "markdown",
      "metadata": {
        "id": "YkKo3gFONKbE"
      },
      "source": [
        "## Problem 7"
      ]
    },
    {
      "cell_type": "code",
      "execution_count": null,
      "metadata": {
        "id": "fHd2Bd9eEg3x"
      },
      "outputs": [],
      "source": [
        "call_price, call_prices, stock_prices, delta_call = call_option_delta(S_ini = 100, K = 100, T = 0.25, r=0.05, sigma=0.25, N=180)\n"
      ]
    },
    {
      "cell_type": "code",
      "execution_count": null,
      "metadata": {
        "id": "eXl6qGbYEyFe"
      },
      "outputs": [],
      "source": [
        "put_price, put_prices, stock_prices_p, delta_put = put_option_delta(S_ini = 100, K = 100, T = 0.25, r=0.05, sigma=0.25, N=180)"
      ]
    },
    {
      "cell_type": "code",
      "execution_count": null,
      "metadata": {
        "colab": {
          "base_uri": "https://localhost:8080/"
        },
        "id": "CfNKbpaME1Sx",
        "outputId": "9b3eccdb-1710-4521-afc8-55bf88f237a1"
      },
      "outputs": [
        {
          "name": "stdout",
          "output_type": "stream",
          "text": [
            "If we increase volatility to 25%, then the delta for the call option is 0.56.  The delta for the put option is -0.44\n"
          ]
        }
      ],
      "source": [
        "print(f\"If we increase volatility to 25%, then the delta for the call option is {delta_call[0][0]:.2f}.  The delta for the put option is {delta_put[0][0]:.2f}\")"
      ]
    },
    {
      "cell_type": "code",
      "execution_count": null,
      "metadata": {
        "colab": {
          "base_uri": "https://localhost:8080/"
        },
        "id": "J9qcqfHRE6gO",
        "outputId": "42e754d5-41e0-4ef2-be85-03b1be900d47"
      },
      "outputs": [
        {
          "name": "stdout",
          "output_type": "stream",
          "text": [
            "If we increase volatility to 25%, the price of an ATM European call is 5.59\n",
            "If we increase volatility to 25%, the price of an ATM European put is 4.35\n"
          ]
        }
      ],
      "source": [
        "print (f\"If we increase volatility to 25%, the price of an ATM European call is {call_price:.2f}\")\n",
        "print(f\"If we increase volatility to 25%, the price of an ATM European put is {put_price:.2f}\")"
      ]
    },
    {
      "cell_type": "markdown",
      "metadata": {
        "id": "sg4PWOFIFFoK"
      },
      "source": [
        "Both put and call options will increase in value with increased volatility.\n",
        "\n",
        "If we divide the difference in the prices by the 5 percentage point difference in volatility, we get 0.196 for both the put and call; that is, based on these two data points, the price goes up about 20 cents for each percentage point increase in volatility. The absolute difference is the same because of put-call parity; difference between the put price and the call price depends on the interest rate, not the volatility of the stock, so there should be the same increase in both prices.\n",
        "\n",
        "Increased volatility raises the chances of the underlying asset's price falling below the strike price by expiration. With increased volatility, the likelihood of the underlying asset's price rising above the strike price by the expiration date increases.  This would increase the payoff at expiration.  The volatility also increases the probability of being deeply out of the money for the put and the call, but this does not affect the price because the payoff is still zero. The nonlinearity rewards upside volatility, but does not penalize downward volatility.\n",
        "\n",
        "The put was initially cheaper, so the same absolute price change caused a greater percentage change in price for the call.  An at the money put is cheaper than the call because of the discount factor; if the stock is at 100 now, we should expect the stock price to be greater than 100 in the future.\n"
      ]
    },
    {
      "cell_type": "code",
      "execution_count": null,
      "metadata": {
        "id": "vx4noAhNNpWt"
      },
      "outputs": [],
      "source": [
        "def american_option(S_ini, K, T, r, sigma, N, opttype):\n",
        "    dt = T / N  # Define time step\n",
        "    u = np.exp(sigma * np.sqrt(dt))  # Define u\n",
        "    d = np.exp(-sigma * np.sqrt(dt))  # Define d\n",
        "    p = (np.exp(r * dt) - d) / (u - d)  # risk neutral probs\n",
        "    C = np.zeros([N + 1, N + 1])  # call prices\n",
        "    S = np.zeros([N + 1, N + 1])  # underlying price\n",
        "    Delta = np.zeros([N, N])  # delta\n",
        "\n",
        "    for i in range(0, N + 1):\n",
        "        S[N, i] = S_ini * (u ** (i)) * (d ** (N - i))\n",
        "        if opttype == \"C\":\n",
        "            C[N, i] = max(S[N, i] - K, 0)\n",
        "        else:\n",
        "            C[N, i] = max(K - S[N, i], 0)\n",
        "\n",
        "    for j in range(N - 1, -1, -1):\n",
        "        for i in range(0, j + 1):\n",
        "            C[j, i] = np.exp(-r * dt) * (\n",
        "                p * C[j + 1, i + 1] + (1 - p) * C[j + 1, i]\n",
        "            )  # Computing the European option prices\n",
        "            S[j, i] = (\n",
        "                S_ini * (u ** (i)) * (d ** (j - i))\n",
        "            )  # Underlying evolution for each node\n",
        "            if opttype == \"C\":\n",
        "                C[j, i] = max(\n",
        "                    C[j, i], S[j, i] - K\n",
        "                )  # Decision between the European option price and the payoff from early-exercise\n",
        "            else:\n",
        "                C[j, i] = max(\n",
        "                    C[j, i], K - S[j, i]\n",
        "                )  # Decision between the European option price and the payoff from early-exercise\n",
        "\n",
        "            Delta[j, i] = (C[j + 1, i + 1] - C[j + 1, i]) / (\n",
        "                S[j + 1, i + 1] - S[j + 1, i]\n",
        "            )  # Computing the delta for each node\n",
        "\n",
        "    return C[0, 0], C, S, Delta"
      ]
    },
    {
      "cell_type": "markdown",
      "metadata": {
        "id": "p840PC3KROw9"
      },
      "source": [
        "## Problem 8"
      ]
    },
    {
      "cell_type": "markdown",
      "source": [
        "Volatility | Call Price | Put Price\n",
        "-----------| ---------- | ---------\n",
        " 20%|4.61|3.48\n",
        " 20%|5.59|4.46"
      ],
      "metadata": {
        "id": "Cpyy76eKPkYy"
      }
    },
    {
      "cell_type": "code",
      "execution_count": null,
      "metadata": {
        "id": "tr9FSAOhNq7a"
      },
      "outputs": [],
      "source": [
        "(acp, ac_payoff, ast, ac_delta) = american_option(100,100,0.25,0.05, 0.20, 180, \"C\")"
      ]
    },
    {
      "cell_type": "code",
      "execution_count": null,
      "metadata": {
        "colab": {
          "base_uri": "https://localhost:8080/"
        },
        "id": "Gp5bPooEN_To",
        "outputId": "c638604b-6029-4b1a-c1ef-3b04e5fc0eab"
      },
      "outputs": [
        {
          "name": "stdout",
          "output_type": "stream",
          "text": [
            "The price of the American call option in 4.61\n"
          ]
        }
      ],
      "source": [
        "print(f\"The price of the American call option in {acp:0.2f}\")"
      ]
    },
    {
      "cell_type": "code",
      "execution_count": null,
      "metadata": {
        "id": "ylQU1KDyOQqc"
      },
      "outputs": [],
      "source": [
        "(app, ap_payoff, ast, ap_delta) = american_option(100,100,0.25,0.05, 0.20, 180, \"P\")"
      ]
    },
    {
      "cell_type": "code",
      "execution_count": null,
      "metadata": {
        "colab": {
          "base_uri": "https://localhost:8080/"
        },
        "id": "iqD0FlOjOWPg",
        "outputId": "8dd2e0d9-3993-4432-c1e0-60ccf71e19d3"
      },
      "outputs": [
        {
          "name": "stdout",
          "output_type": "stream",
          "text": [
            "The price of the American put option in 3.48\n"
          ]
        }
      ],
      "source": [
        "print(f\"The price of the American put option in {app:0.2f}\")"
      ]
    },
    {
      "cell_type": "markdown",
      "metadata": {
        "id": "tZu_WjhFOene"
      },
      "source": [
        "To compute the price of the American call and put options, we simulate the price going up and down using a binomial tree.  The only difference is in calculating the payoff and prices of the option.  To compute the price of the option, we can either exercise the option early, or wait and get the later payoff.  So we should take the maximum of the payoff from early exercise, or the discounted expected payoff from later exercise."
      ]
    },
    {
      "cell_type": "code",
      "execution_count": null,
      "metadata": {
        "colab": {
          "base_uri": "https://localhost:8080/"
        },
        "id": "oZbfNSDBO4Yx",
        "outputId": "abcce363-1ae8-46d0-a7d0-86ff23a2432b"
      },
      "outputs": [
        {
          "name": "stdout",
          "output_type": "stream",
          "text": [
            "The delta for the American call option is 0.57.  The delta for the American put option is -0.45\n"
          ]
        }
      ],
      "source": [
        "print(f\"The delta for the American call option is {ac_delta[0][0]:0.2f}.  The delta for the American put option is {ap_delta[0][0]:0.2f}\")"
      ]
    },
    {
      "cell_type": "markdown",
      "metadata": {
        "id": "hpO1Za7UPGub"
      },
      "source": [
        "Since the option is at the money, both values of delta should be nearly 0.50.  The delta still represents the amount of stock that you would need to hold to hedge a position, but this delta is only valid for one time step because of the possibility of early exercise.  The deltas add up to 1.02 instead of 1.00 because a long call together with a short put do not necessarily move like the stock, because the put might be exercised early against us.\n",
        "\n",
        "The delta of an option measures the sensitivity of its price to changes in the underlying asset's price. \n",
        "\n",
        "Obtaining a positive delta for a call option and a negative delta for a put option makes sense due to the relationship between the options and the underlying asset. When the underlying asset's price rises, call options become more valuable, resulting in a positive delta. Conversely, put options gain value when the underlying asset's price decreases, leading to a negative delta. \n"
      ]
    },
    {
      "cell_type": "markdown",
      "metadata": {
        "id": "nDnO_NAUP_Tb"
      },
      "source": [
        "## Problem 10"
      ]
    },
    {
      "cell_type": "code",
      "execution_count": null,
      "metadata": {
        "id": "VSDUSAnlPq0n"
      },
      "outputs": [],
      "source": [
        "(acp, ac_payoff, ast, ac_delta) = american_option(100,100,0.25,0.05, 0.25, 180, \"C\")"
      ]
    },
    {
      "cell_type": "code",
      "execution_count": null,
      "metadata": {
        "colab": {
          "base_uri": "https://localhost:8080/"
        },
        "id": "VNn72VjNP2FZ",
        "outputId": "4401eda9-cbcb-44d3-9c96-9c6e3e154448"
      },
      "outputs": [
        {
          "name": "stdout",
          "output_type": "stream",
          "text": [
            "The price of the American call option with volatility 25% is 5.59\n"
          ]
        }
      ],
      "source": [
        "print(f\"The price of the American call option with volatility 25% is {acp:0.2f}\")"
      ]
    },
    {
      "cell_type": "code",
      "execution_count": null,
      "metadata": {
        "id": "cCbJsGJoQXIC"
      },
      "outputs": [],
      "source": [
        "(app, ap_payoff, ast, ap_delta) = american_option(100,100,0.25,0.05, 0.25, 180, \"P\")"
      ]
    },
    {
      "cell_type": "code",
      "execution_count": null,
      "metadata": {
        "colab": {
          "base_uri": "https://localhost:8080/"
        },
        "id": "agan_DjfQpwn",
        "outputId": "6abec754-b0a6-4ea6-fc5b-f045a3730b84"
      },
      "outputs": [
        {
          "name": "stdout",
          "output_type": "stream",
          "text": [
            "The price of the American put option with volatility 25% is 4.46\n"
          ]
        }
      ],
      "source": [
        "print(f\"The price of the American put option with volatility 25% is {app:0.2f}\")"
      ]
    },
    {
      "cell_type": "markdown",
      "metadata": {
        "id": "K17wWV0zQuN-"
      },
      "source": [
        "The prices of the American call and put option increased in absolute value by the same amount (98 cents); based on these two data points, we have a 20 cent increase in the price of both options for every 1 percentage point increase in the volatility.\n",
        "\n",
        "The put option has a greater relative return because the price was lower to begin with."
      ]
    },
    {
      "cell_type": "markdown",
      "metadata": {
        "id": "QUygPAwzNIuT"
      },
      "source": [
        "## Problem 11"
      ]
    },
    {
      "cell_type": "code",
      "execution_count": null,
      "metadata": {
        "id": "8UfoVoQeKQL6"
      },
      "outputs": [],
      "source": [
        "bond_price = 100 * np.exp(-0.05 * 0.25)"
      ]
    },
    {
      "cell_type": "code",
      "execution_count": null,
      "metadata": {
        "colab": {
          "base_uri": "https://localhost:8080/"
        },
        "id": "9SKJn5CBKYME",
        "outputId": "d8b2cd4e-1889-4cc7-f3e4-b2c28ab170ac"
      },
      "outputs": [
        {
          "name": "stdout",
          "output_type": "stream",
          "text": [
            "The market price of a zero-coupon bond with maturity in 3 months and face value 100 is 98.76\n"
          ]
        }
      ],
      "source": [
        "print(f\"The market price of a zero-coupon bond with maturity in 3 months and face value 100 is {bond_price:.2f}\")"
      ]
    },
    {
      "cell_type": "code",
      "execution_count": null,
      "metadata": {
        "colab": {
          "base_uri": "https://localhost:8080/"
        },
        "id": "Mgc06vbcKY_U",
        "outputId": "90f60961-45fc-4d57-8a62-46114fdfc509"
      },
      "outputs": [
        {
          "name": "stdout",
          "output_type": "stream",
          "text": [
            "For volatility 25%, the total of the call price and the bond price is  104.35\n"
          ]
        }
      ],
      "source": [
        "print(f\"For volatility 25%, the total of the call price and the bond price is {call_price + bond_price : .2f}\")"
      ]
    },
    {
      "cell_type": "code",
      "execution_count": null,
      "metadata": {
        "colab": {
          "base_uri": "https://localhost:8080/"
        },
        "id": "DXDIEdohKb0i",
        "outputId": "9e17a027-03a5-4491-a60b-e72783420d14"
      },
      "outputs": [
        {
          "name": "stdout",
          "output_type": "stream",
          "text": [
            "For volatility 25%, the total of the put price and the stock price price is  104.35\n"
          ]
        }
      ],
      "source": [
        "print(f\"For volatility 25%, the total of the put price and the stock price price is {put_price + 100 : .2f}\")"
      ]
    },
    {
      "cell_type": "code",
      "execution_count": null,
      "metadata": {
        "colab": {
          "base_uri": "https://localhost:8080/"
        },
        "id": "R6lRn-EYLD4p",
        "outputId": "f3326edc-cbe6-4324-88df-b5c8b27a368a"
      },
      "outputs": [
        {
          "name": "stdout",
          "output_type": "stream",
          "text": [
            "For volatility 20%, the total of the call price and the bond price is  103.37\n"
          ]
        }
      ],
      "source": [
        "print(f\"For volatility 20%, the total of the call price and the bond price is {call_price + bond_price : .2f}\")"
      ]
    },
    {
      "cell_type": "code",
      "execution_count": null,
      "metadata": {
        "colab": {
          "base_uri": "https://localhost:8080/"
        },
        "id": "G4_6IfNDLNqI",
        "outputId": "4681cb6e-5d2c-4bff-9e41-2018c052218e"
      },
      "outputs": [
        {
          "name": "stdout",
          "output_type": "stream",
          "text": [
            "For volatility 20%, the total of the put price and the stock price price is  103.37\n"
          ]
        }
      ],
      "source": [
        "print(f\"For volatility 20%, the total of the put price and the stock price price is {put_price + 100 : .2f}\")"
      ]
    },
    {
      "cell_type": "markdown",
      "metadata": {
        "id": "1e-8k0RwLTyp"
      },
      "source": [
        "For both the 20% and 25% volatility levels, we have put-call parity for the European call option.  One way to see this is that if we buy a call and sell a put, we get a position with delta one, but with the payoff shifted so that at expiry the payoff will be zero if the stock price is at the money.  This is also true if we buy the stock and sell a bond.  Since the two portfolios will move identically as the stock moves up and down, and will have the same value at expiration, they should have the same value today as well. "
      ]
    },
    {
      "cell_type": "markdown",
      "metadata": {
        "id": "fWHrmu9ASHPM"
      },
      "source": [
        "## Problem 12\n",
        "\n",
        "We do not have put-call parity for the American call and put.  At the 20% level of volatility, the call price plus the bond price is 103.37 while the put price plus the put price is 103.48; there is a difference of about 10 cents because of the possibility of early exercise.\n",
        "\n",
        "Similarly, at the 20% level of volatility, the call price plus the bond price is "
      ]
    },
    {
      "cell_type": "code",
      "execution_count": null,
      "metadata": {
        "colab": {
          "base_uri": "https://localhost:8080/"
        },
        "id": "45_f8tiuSmzP",
        "outputId": "5be610a8-1d84-44ee-d22f-edd3d562d1fa"
      },
      "outputs": [
        {
          "name": "stdout",
          "output_type": "stream",
          "text": [
            "Call price plus bond price = 103.37\n"
          ]
        }
      ],
      "source": [
        "print(f\"Call price plus bond price = {acp + bond_price:0.2f}\")"
      ]
    },
    {
      "cell_type": "code",
      "execution_count": null,
      "metadata": {
        "colab": {
          "base_uri": "https://localhost:8080/"
        },
        "id": "6lq7qV-4Sn-o",
        "outputId": "7c3cb98c-70ce-48ef-ce91-aec2be719c4c"
      },
      "outputs": [
        {
          "name": "stdout",
          "output_type": "stream",
          "text": [
            "Put price plus stock price = 103.48\n"
          ]
        }
      ],
      "source": [
        "print(f\"Put price plus stock price = {app + 100:0.2f}\")"
      ]
    },
    {
      "cell_type": "markdown",
      "metadata": {
        "id": "jp4-l0ejTXC1"
      },
      "source": [
        "## Problem 13\n",
        "\n",
        "The European call costs 4.61 while the American call also costs 4.61\n",
        "\n",
        "It is never optimal to exercise an American call option early, so we end up computing the same calculations when working through the binomial tree.  Hence this should always be the case for a stock with no dividends."
      ]
    },
    {
      "cell_type": "markdown",
      "metadata": {
        "id": "h7185DU0T3ep"
      },
      "source": [
        "## Problem 14\n",
        "\n",
        "The European put option costs 3.37 while the American put option costs 3.48\n",
        "\n",
        "The American put option costs more because it can be exercised early.  It is sometimes optimal to exercise the American put option early, so we sometimes take the early exercise branch when calculating the prices in the binomial tree.  So it should be the case that the American put option costs strictly more than the European put option if we use enough time steps, as there is the possibility that the option becomes far enough in the money that early exercise is optimal."
      ]
    },
    {
      "cell_type": "markdown",
      "metadata": {
        "id": "NuaStx3nWTHN"
      },
      "source": [
        "## Problem 15"
      ]
    },
    {
      "cell_type": "code",
      "execution_count": null,
      "metadata": {
        "id": "0gvFr9vGWUOw"
      },
      "outputs": [],
      "source": [
        "import numpy as np"
      ]
    },
    {
      "cell_type": "code",
      "execution_count": null,
      "metadata": {
        "id": "1l31-zfsWlu7"
      },
      "outputs": [],
      "source": [
        "class TrinomialModel(object):  # Here we start defining our 'class' --> Trinomial Model!\n",
        "    # First, a method to initialize our `TrinomialModel` algorithm!\n",
        "    def __init__(self, S0, r, sigma, mat):\n",
        "        self.__s0 = S0\n",
        "        self.__r = r\n",
        "        self.__sigma = sigma\n",
        "        self.__T = mat\n",
        "\n",
        "    # Second, we build a method (function) to compute the risk-neutral probabilities!\n",
        "    def __compute_probs(self):\n",
        "        self.__pu = (\n",
        "            (\n",
        "                np.exp(self.__r * self.__h / 2)\n",
        "                - np.exp(-self.__sigma * np.sqrt(self.__h / 2))\n",
        "            )\n",
        "            / (\n",
        "                np.exp(self.__sigma * np.sqrt(self.__h / 2))\n",
        "                - np.exp(-self.__sigma * np.sqrt(self.__h / 2))\n",
        "            )\n",
        "        ) ** 2\n",
        "        self.__pd = (\n",
        "            (\n",
        "                -np.exp(self.__r * self.__h / 2)\n",
        "                + np.exp(self.__sigma * np.sqrt(self.__h / 2))\n",
        "            )\n",
        "            / (\n",
        "                np.exp(self.__sigma * np.sqrt(self.__h / 2))\n",
        "                - np.exp(-self.__sigma * np.sqrt(self.__h / 2))\n",
        "            )\n",
        "        ) ** 2\n",
        "        self.__pm = 1 - self.__pu - self.__pd\n",
        "\n",
        "        assert 0 <= self.__pu <= 1.0, \"p_u should lie in [0, 1] given %s\" % self.__pu\n",
        "        assert 0 <= self.__pd <= 1.0, \"p_d should lie in [0, 1] given %s\" % self.__pd\n",
        "        assert 0 <= self.__pm <= 1.0, \"p_m should lie in [0, 1] given %s\" % self.__pm\n",
        "\n",
        "    # Third, this method checks whether the given parameters are alright and that we have a 'recombining tree'!\n",
        "    def __check_up_value(self, up):\n",
        "        if up is None:\n",
        "            up = np.exp(self.__sigma * np.sqrt(2 * self.__h))\n",
        "\n",
        "        assert up > 0.0, \"up should be non negative\"\n",
        "\n",
        "        down = 1 / up\n",
        "\n",
        "        assert down < up, \"up <= 1. / up = down\"\n",
        "\n",
        "        self.__up = up\n",
        "        self.__down = down\n",
        "\n",
        "    # Four, we use this method to compute underlying stock price path\n",
        "    def __gen_stock_vec(self, nb):\n",
        "        vec_u = self.__up * np.ones(nb)\n",
        "        np.cumprod(vec_u, out=vec_u)\n",
        "\n",
        "        vec_d = self.__down * np.ones(nb)\n",
        "        np.cumprod(vec_d, out=vec_d)\n",
        "\n",
        "        res = np.concatenate((vec_d[::-1], [1.0], vec_u))\n",
        "        res *= self.__s0\n",
        "\n",
        "        return res\n",
        "\n",
        "    # Fifth, we declare a Payoff method to be completed afterwards depending on the instrument we are pricing!\n",
        "    def payoff(self, stock_vec):\n",
        "        raise NotImplementedError()\n",
        "\n",
        "    # Sixth, compute current prices!\n",
        "    def compute_current_price(self, crt_vec_stock, nxt_vec_prices):\n",
        "        expectation = np.zeros(crt_vec_stock.size)\n",
        "        for i in range(expectation.size):\n",
        "            tmp = nxt_vec_prices[i] * self.__pd\n",
        "            tmp += nxt_vec_prices[i + 1] * self.__pm\n",
        "            tmp += nxt_vec_prices[i + 2] * self.__pu\n",
        "\n",
        "            expectation[i] = tmp\n",
        "\n",
        "        return self.__discount * expectation\n",
        "\n",
        "    # Seventh, Option pricing!\n",
        "    def price(self, nb_steps, up=None):\n",
        "        assert nb_steps > 0, \"nb_steps shoud be > 0\"\n",
        "\n",
        "        nb_steps = int(nb_steps)\n",
        "\n",
        "        self.__h = self.__T / nb_steps\n",
        "        self.__check_up_value(up)\n",
        "        self.__compute_probs()\n",
        "\n",
        "        self.__discount = np.exp(-self.__r * self.__h)\n",
        "\n",
        "        final_vec_stock = self.__gen_stock_vec(nb_steps)\n",
        "        final_payoff = self.payoff(final_vec_stock)\n",
        "        nxt_vec_prices = final_payoff\n",
        "\n",
        "        for i in range(1, nb_steps + 1):\n",
        "            vec_stock = self.__gen_stock_vec(nb_steps - i)\n",
        "            nxt_vec_prices = self.compute_current_price(vec_stock, nxt_vec_prices)\n",
        "\n",
        "        return nxt_vec_prices[0]"
      ]
    },
    {
      "cell_type": "code",
      "execution_count": null,
      "metadata": {
        "id": "Ua6QqqVzWnzA"
      },
      "outputs": [],
      "source": [
        "class TrinomialCall(TrinomialModel):\n",
        "    def __init__(self, S0, r, sigma, mat, K):\n",
        "        super(TrinomialCall, self).__init__(S0, r, sigma, mat)\n",
        "        self.__K = K\n",
        "\n",
        "    def payoff(self, s):\n",
        "        return np.maximum(s - self.__K, 0.0)"
      ]
    },
    {
      "cell_type": "code",
      "execution_count": null,
      "metadata": {
        "colab": {
          "base_uri": "https://localhost:8080/"
        },
        "id": "IyOZ-itSXKuB",
        "outputId": "939f5b93-2bb6-4d74-d7f7-7594993957d7"
      },
      "outputs": [
        {
          "name": "stdout",
          "output_type": "stream",
          "text": [
            "Strike\tPrice of European call option\n",
            "--------------------\n",
            "90\t11.67\n",
            "95\t7.71\n",
            "100\t4.61\n",
            "105\t2.48\n",
            "110\t1.19\n"
          ]
        }
      ],
      "source": [
        "print(\"Strike\\tPrice of European call option\")\n",
        "print(\"--------------------\")\n",
        "for strike in (90, 95, 100, 105, 110):\n",
        "    tree = TrinomialCall(100.0, 0.05, 0.20, 0.25, strike)\n",
        "    call_price = tree.price(180)\n",
        "    print(f\"{strike}\\t{call_price:0.2f}\")"
      ]
    },
    {
      "cell_type": "markdown",
      "metadata": {
        "id": "fKFYsjMoYcE-"
      },
      "source": [
        "We observe that the price of the call option increases as it gets deeper in the money, and decreases as it becomes further out of the money; hence it is decreasing with respect to the strike price; this makes sense because an in the money call option is worth more because it has intrinsic value immediately, while an out of the money call option only has value because it can potentially become in the money later.\n",
        "\n",
        "Strike|Price of European call option\n",
        "------|-------------\n",
        "90 |\t11.67\n",
        "95\t| 7.71\n",
        "100\t| 4.61\n",
        "105\t| 2.48\n",
        "110\t| 1.19"
      ]
    },
    {
      "cell_type": "markdown",
      "metadata": {
        "id": "JFLvk8-IZdUh"
      },
      "source": [
        "## Problem 16"
      ]
    },
    {
      "cell_type": "code",
      "execution_count": null,
      "metadata": {
        "id": "Bh2IKegsYyA0"
      },
      "outputs": [],
      "source": [
        "class TrinomialPut(TrinomialModel):\n",
        "    def __init__(self, S0, r, sigma, mat, K):\n",
        "        super(TrinomialPut, self).__init__(S0, r, sigma, mat)\n",
        "        self.__K = K\n",
        "\n",
        "    def payoff(self, s):\n",
        "        return np.maximum(self.__K - s, 0.0)"
      ]
    },
    {
      "cell_type": "code",
      "execution_count": null,
      "metadata": {
        "colab": {
          "base_uri": "https://localhost:8080/"
        },
        "id": "CFh276p4ZAa3",
        "outputId": "855fe322-24ff-4b91-fcab-8d444f5eadfc"
      },
      "outputs": [
        {
          "name": "stdout",
          "output_type": "stream",
          "text": [
            "Strike\tPrice of European put option\n",
            "--------------------\n",
            "90\t0.55\n",
            "95\t1.53\n",
            "100\t3.37\n",
            "105\t6.18\n",
            "110\t9.82\n"
          ]
        }
      ],
      "source": [
        "print(\"Strike\\tPrice of European put option\")\n",
        "print(\"--------------------\")\n",
        "for strike in (90, 95, 100, 105, 110):\n",
        "    tree = TrinomialPut(100, 0.05, 0.20, 0.25, strike)\n",
        "    p_price = tree.price(180)\n",
        "    print(f\"{strike}\\t{p_price:0.2f}\")"
      ]
    },
    {
      "cell_type": "markdown",
      "metadata": {
        "id": "n45VcGjdZK-y"
      },
      "source": [
        "We observe that the price of the put option increases as it gets deeper in the money, and decreases as it becomes further out of the money; hence it is **increasing with respect to the strike price** (e.g. a put with strike price of 110 is in the money, so is worth more than a put with strike price 100); this makes sense because an in the money put option is worth more because it has intrinsic value immediately, while an out of the money put option only has value because it can potentially become in the money later if the stock falls.\n",
        "\n",
        "Strike\t| Price of European put option\n",
        "--------|------------\n",
        "90\t| 0.55\n",
        "95\t| 1.53\n",
        "100\t| 3.37\n",
        "105\t| 6.18\n",
        "110\t| 9.82"
      ]
    },
    {
      "cell_type": "markdown",
      "metadata": {
        "id": "lxlFDEzJdtcb"
      },
      "source": [
        "## Problem 17"
      ]
    },
    {
      "cell_type": "code",
      "execution_count": null,
      "metadata": {
        "id": "ymzuc5k-cbP4"
      },
      "outputs": [],
      "source": [
        "class TrinomialModelAmerican(object):  # Here we start defining our 'class' --> Trinomial Model!\n",
        "    # First, a method to initialize our `TrinomialModel` algorithm!\n",
        "    def __init__(self, S0, r, sigma, mat):\n",
        "        self.__s0 = S0\n",
        "        self.__r = r\n",
        "        self.__sigma = sigma\n",
        "        self.__T = mat\n",
        "\n",
        "    # Second, we build a method (function) to compute the risk-neutral probabilities!\n",
        "    def __compute_probs(self):\n",
        "        self.__pu = (\n",
        "            (\n",
        "                np.exp(self.__r * self.__h / 2)\n",
        "                - np.exp(-self.__sigma * np.sqrt(self.__h / 2))\n",
        "            )\n",
        "            / (\n",
        "                np.exp(self.__sigma * np.sqrt(self.__h / 2))\n",
        "                - np.exp(-self.__sigma * np.sqrt(self.__h / 2))\n",
        "            )\n",
        "        ) ** 2\n",
        "        self.__pd = (\n",
        "            (\n",
        "                -np.exp(self.__r * self.__h / 2)\n",
        "                + np.exp(self.__sigma * np.sqrt(self.__h / 2))\n",
        "            )\n",
        "            / (\n",
        "                np.exp(self.__sigma * np.sqrt(self.__h / 2))\n",
        "                - np.exp(-self.__sigma * np.sqrt(self.__h / 2))\n",
        "            )\n",
        "        ) ** 2\n",
        "        self.__pm = 1 - self.__pu - self.__pd\n",
        "\n",
        "        assert 0 <= self.__pu <= 1.0, \"p_u should lie in [0, 1] given %s\" % self.__pu\n",
        "        assert 0 <= self.__pd <= 1.0, \"p_d should lie in [0, 1] given %s\" % self.__pd\n",
        "        assert 0 <= self.__pm <= 1.0, \"p_m should lie in [0, 1] given %s\" % self.__pm\n",
        "\n",
        "    # Third, this method checks whether the given parameters are alright and that we have a 'recombining tree'!\n",
        "    def __check_up_value(self, up):\n",
        "        if up is None:\n",
        "            up = np.exp(self.__sigma * np.sqrt(2 * self.__h))\n",
        "\n",
        "        assert up > 0.0, \"up should be non negative\"\n",
        "\n",
        "        down = 1 / up\n",
        "\n",
        "        assert down < up, \"up <= 1. / up = down\"\n",
        "\n",
        "        self.__up = up\n",
        "        self.__down = down\n",
        "\n",
        "    # Four, we use this method to compute underlying stock price path\n",
        "    def __gen_stock_vec(self, nb):\n",
        "        vec_u = self.__up * np.ones(nb)\n",
        "        np.cumprod(vec_u, out=vec_u)\n",
        "\n",
        "        vec_d = self.__down * np.ones(nb)\n",
        "        np.cumprod(vec_d, out=vec_d)\n",
        "\n",
        "        res = np.concatenate((vec_d[::-1], [1.0], vec_u))\n",
        "        res *= self.__s0\n",
        "\n",
        "        return res\n",
        "\n",
        "    # Fifth, we declare a Payoff method to be completed afterwards depending on the instrument we are pricing!\n",
        "    def payoff(self, stock_vec):\n",
        "        raise NotImplementedError()\n",
        "\n",
        "    # Sixth, compute current prices!\n",
        "    def compute_current_price(self, crt_vec_stock, nxt_vec_prices):\n",
        "        expectation = np.zeros(crt_vec_stock.size)\n",
        "        early_exercise_payoff = self.payoff(crt_vec_stock)\n",
        "        for i in range(expectation.size):\n",
        "            tmp = nxt_vec_prices[i] * self.__pd\n",
        "            tmp += nxt_vec_prices[i + 1] * self.__pm\n",
        "            tmp += nxt_vec_prices[i + 2] * self.__pu\n",
        "\n",
        "            expectation[i] = tmp\n",
        "\n",
        "        return np.maximum(self.__discount * expectation, early_exercise_payoff)\n",
        "\n",
        "    # Seventh, Option pricing!\n",
        "    def price(self, nb_steps, up=None):\n",
        "        assert nb_steps > 0, \"nb_steps shoud be > 0\"\n",
        "\n",
        "        nb_steps = int(nb_steps)\n",
        "\n",
        "        self.__h = self.__T / nb_steps\n",
        "        self.__check_up_value(up)\n",
        "        self.__compute_probs()\n",
        "\n",
        "        self.__discount = np.exp(-self.__r * self.__h)\n",
        "\n",
        "        final_vec_stock = self.__gen_stock_vec(nb_steps)\n",
        "        final_payoff = self.payoff(final_vec_stock)\n",
        "        nxt_vec_prices = final_payoff\n",
        "\n",
        "        for i in range(1, nb_steps + 1):\n",
        "            vec_stock = self.__gen_stock_vec(nb_steps - i)\n",
        "            nxt_vec_prices = self.compute_current_price(vec_stock, nxt_vec_prices)\n",
        "\n",
        "        return nxt_vec_prices[0]\n",
        "\n",
        "class TrinomialCallAmerican(TrinomialModelAmerican):\n",
        "    def __init__(self, S0, r, sigma, mat, K):\n",
        "        super(TrinomialCallAmerican, self).__init__(S0, r, sigma, mat)\n",
        "        self.__K = K\n",
        "\n",
        "    def payoff(self, s):\n",
        "        return np.maximum(s - self.__K, 0.0)"
      ]
    },
    {
      "cell_type": "code",
      "execution_count": null,
      "metadata": {
        "colab": {
          "base_uri": "https://localhost:8080/"
        },
        "id": "anNKmN8yeL1c",
        "outputId": "a6ac6f5e-46cb-4ace-d57c-d9e3426f6683"
      },
      "outputs": [
        {
          "name": "stdout",
          "output_type": "stream",
          "text": [
            "Strike\tPrice of American call option\n",
            "--------------------\n",
            "90\t11.67\n",
            "95\t7.71\n",
            "100\t4.61\n",
            "105\t2.48\n",
            "110\t1.19\n"
          ]
        }
      ],
      "source": [
        "print(\"Strike\\tPrice of American call option\")\n",
        "print(\"--------------------\")\n",
        "for strike in (90, 95, 100, 105, 110):\n",
        "    tree = TrinomialCallAmerican(100, 0.05, 0.20, 0.25, strike)\n",
        "    call_price = tree.price(180)\n",
        "    print(f\"{strike}\\t{call_price:0.2f}\")"
      ]
    },
    {
      "cell_type": "markdown",
      "metadata": {
        "id": "USDO32jaeivw"
      },
      "source": [
        "We can see that as the American call option becomes more in the money, the price increase.  The American call option's price is decreasing with respect to the strike price since lower prices are more in the money. This is what we would expect, because we have intrisic value in the American call option if it is in the money; moreover, if the strike price is higher, it is less likely that the stock will rise above that strike price.\n",
        "\n",
        "\n",
        "Strike |\tPrice of American call option\n",
        "------|--------------\n",
        "90\t| 11.67\n",
        "95\t| 7.71\n",
        "100\t| 4.61\n",
        "105\t| 2.48\n",
        "110\t| 1.19"
      ]
    },
    {
      "cell_type": "markdown",
      "metadata": {
        "id": "eAx8vMFKfCv6"
      },
      "source": [
        "## Problem 18"
      ]
    },
    {
      "cell_type": "code",
      "execution_count": null,
      "metadata": {
        "id": "cbjZhLsxfIsK"
      },
      "outputs": [],
      "source": [
        "class TrinomialPutAmerican(TrinomialModelAmerican):\n",
        "    def __init__(self, S0, r, sigma, mat, K):\n",
        "        super(TrinomialPutAmerican, self).__init__(S0, r, sigma, mat)\n",
        "        self.__K = K\n",
        "\n",
        "    def payoff(self, s):\n",
        "        return np.maximum(self.__K - s, 0.0)"
      ]
    },
    {
      "cell_type": "code",
      "execution_count": null,
      "metadata": {
        "colab": {
          "base_uri": "https://localhost:8080/"
        },
        "id": "qOtHzU1pfPoG",
        "outputId": "9b3548b3-b5db-41b1-a364-bce559af9fe4"
      },
      "outputs": [
        {
          "name": "stdout",
          "output_type": "stream",
          "text": [
            "Strike\tPrice of American put option\n",
            "--------------------\n",
            "90\t0.56\n",
            "95\t1.57\n",
            "100\t3.48\n",
            "105\t6.42\n",
            "110\t10.33\n"
          ]
        }
      ],
      "source": [
        "print(\"Strike\\tPrice of American put option\")\n",
        "print(\"--------------------\")\n",
        "for strike in (90, 95, 100, 105, 110):\n",
        "    tree = TrinomialPutAmerican(100, 0.05, 0.20, 0.25, strike)\n",
        "    p_price = tree.price(180)\n",
        "    print(f\"{strike}\\t{p_price:0.2f}\")"
      ]
    },
    {
      "cell_type": "markdown",
      "metadata": {
        "id": "lZ2lI0Sfgewi"
      },
      "source": [
        "We can see that as the American put option becomes more in the money (i.e. the strike price goes above the stock price), the price increase.  The American put option's price is increasing with respect to the strike price since lower prices are more in the money. This is what we would expect since if the strike price is above the stock price we have intrinsic value from early exercise.\n",
        "\n",
        "Strike\t| Price of American put option\n",
        "--------|------------\n",
        "90\t| 0.56\n",
        "95\t| 1.57\n",
        "100\t| 3.48\n",
        "105\t| 6.42\n",
        "110\t| 10.33"
      ]
    },
    {
      "cell_type": "markdown",
      "metadata": {
        "id": "r-KGt4aXtsx4"
      },
      "source": [
        "## Problem 19"
      ]
    },
    {
      "cell_type": "code",
      "execution_count": null,
      "metadata": {
        "colab": {
          "base_uri": "https://localhost:8080/",
          "height": 489
        },
        "id": "Vi3GlPFXtrt-",
        "outputId": "e1f5f2c0-8b20-4a20-8ce2-94344ce09248"
      },
      "outputs": [
        {
          "data": {
            "text/plain": [
              "Text(0.5, 1.0, 'Price of European call option (strike = 100) at various stock prices')"
            ]
          },
          "execution_count": 92,
          "metadata": {},
          "output_type": "execute_result"
        },
        {
          "data": {
            "image/png": "[encoded data removed]",
            "text/plain": [
              "<Figure size 640x480 with 1 Axes>"
            ]
          },
          "metadata": {},
          "output_type": "display_data"
        }
      ],
      "source": [
        "stock_prices = (90, 95, 100, 105, 110)\n",
        "cprices = []\n",
        "for st_price in stock_prices:\n",
        "   tree = TrinomialCall(st_price, 0.05, 0.20, 0.25, 100)\n",
        "   c_price = tree.price(180)\n",
        "   cprices.append(c_price)\n",
        "import matplotlib.pyplot as plt\n",
        "plt.plot(stock_prices, cprices)\n",
        "plt.xlabel(\"Stock price\")\n",
        "plt.ylabel(\"Price of European call option\")\n",
        "plt.title(\"Price of European call option (strike = 100) at various stock prices\")"
      ]
    },
    {
      "cell_type": "code",
      "execution_count": null,
      "metadata": {
        "colab": {
          "base_uri": "https://localhost:8080/",
          "height": 489
        },
        "id": "gPXoJgYguUk8",
        "outputId": "9c077831-fc58-4282-aa10-22fd87effcdc"
      },
      "outputs": [
        {
          "data": {
            "text/plain": [
              "Text(0.5, 1.0, 'Price of European put option (strike = 100) at various stock prices')"
            ]
          },
          "execution_count": 94,
          "metadata": {},
          "output_type": "execute_result"
        },
        {
          "data": {
            "image/png": "[encoded data removed]",
            "text/plain": [
              "<Figure size 640x480 with 1 Axes>"
            ]
          },
          "metadata": {},
          "output_type": "display_data"
        }
      ],
      "source": [
        "stock_prices = (90, 95, 100, 105, 110)\n",
        "pprices = []\n",
        "for st_price in stock_prices:\n",
        "   tree = TrinomialPut(st_price, 0.05, 0.20, 0.25, 100)\n",
        "   p_price = tree.price(180)\n",
        "   pprices.append(p_price)\n",
        "import matplotlib.pyplot as plt\n",
        "plt.plot(stock_prices, pprices)\n",
        "plt.xlabel(\"Stock price\")\n",
        "plt.ylabel(\"Price of European put option\")\n",
        "plt.title(\"Price of European put option (strike = 100) at various stock prices\")"
      ]
    },
    {
      "cell_type": "markdown",
      "metadata": {
        "id": "aWaGuEBQuft7"
      },
      "source": [
        "## Problem 20"
      ]
    },
    {
      "cell_type": "code",
      "execution_count": null,
      "metadata": {
        "colab": {
          "base_uri": "https://localhost:8080/",
          "height": 489
        },
        "id": "-qaWGZXauhHp",
        "outputId": "b729e079-c60f-4d15-fe41-90c4e22a0da7"
      },
      "outputs": [
        {
          "data": {
            "text/plain": [
              "Text(0.5, 1.0, 'Price of American call option (strike = 100) at various stock prices')"
            ]
          },
          "execution_count": 95,
          "metadata": {},
          "output_type": "execute_result"
        },
        {
          "data": {
            "image/png": "[encoded data removed]",
            "text/plain": [
              "<Figure size 640x480 with 1 Axes>"
            ]
          },
          "metadata": {},
          "output_type": "display_data"
        }
      ],
      "source": [
        "stock_prices = (90, 95, 100, 105, 110)\n",
        "cprices = []\n",
        "for st_price in stock_prices:\n",
        "   tree = TrinomialCallAmerican(st_price, 0.05, 0.20, 0.25, 100)\n",
        "   c_price = tree.price(180)\n",
        "   cprices.append(c_price)\n",
        "plt.plot(stock_prices, cprices)\n",
        "plt.xlabel(\"Stock price\")\n",
        "plt.ylabel(\"Price of American call option\")\n",
        "plt.title(\"Price of American call option (strike = 100) at various stock prices\")"
      ]
    },
    {
      "cell_type": "code",
      "execution_count": null,
      "metadata": {
        "colab": {
          "base_uri": "https://localhost:8080/",
          "height": 489
        },
        "id": "6-1BrMOgu1Wy",
        "outputId": "4c82b833-9cbb-42d4-c360-d4000adebf1e"
      },
      "outputs": [
        {
          "data": {
            "text/plain": [
              "Text(0.5, 1.0, 'Price of American put option (strike = 100) at various stock prices')"
            ]
          },
          "execution_count": 97,
          "metadata": {},
          "output_type": "execute_result"
        },
        {
          "data": {
            "image/png": "[encoded data removed]",
            "text/plain": [
              "<Figure size 640x480 with 1 Axes>"
            ]
          },
          "metadata": {},
          "output_type": "display_data"
        }
      ],
      "source": [
        "stock_prices = (90, 95, 100, 105, 110)\n",
        "pprices = []\n",
        "for st_price in stock_prices:\n",
        "   tree = TrinomialPut(st_price, 0.05, 0.20, 0.25, 100)\n",
        "   p_price = tree.price(180)\n",
        "   pprices.append(p_price)\n",
        "plt.plot(stock_prices, pprices)\n",
        "plt.xlabel(\"Stock price\")\n",
        "plt.ylabel(\"Price of American put option\")\n",
        "plt.title(\"Price of American put option (strike = 100) at various stock prices\")"
      ]
    },
    {
      "cell_type": "markdown",
      "metadata": {
        "id": "WKQYnnxaiYEC"
      },
      "source": [
        "## Problem 21"
      ]
    },
    {
      "cell_type": "markdown",
      "metadata": {
        "id": "AcZuLhe_wPOg"
      },
      "source": []
    },
    {
      "cell_type": "code",
      "execution_count": null,
      "metadata": {
        "id": "0qxtp2_dhx9t"
      },
      "outputs": [],
      "source": [
        "\n",
        "strikes = (90, 95, 100, 105, 110)\n",
        "call_prices = []\n",
        "for strike in strikes:\n",
        "  tree = TrinomialCall(100, 0.05, 0.20, 0.25, strike)\n",
        "  cprice = tree.price(180)\n",
        "  call_prices.append(cprice)"
      ]
    },
    {
      "cell_type": "code",
      "execution_count": null,
      "metadata": {
        "colab": {
          "base_uri": "https://localhost:8080/",
          "height": 489
        },
        "id": "K_4jsyOIh9Zw",
        "outputId": "b2d06486-d927-4937-9d21-16d2d7fbf422"
      },
      "outputs": [
        {
          "data": {
            "text/plain": [
              "Text(0.5, 1.0, 'Price of European call option at various strike prices')"
            ]
          },
          "execution_count": 99,
          "metadata": {},
          "output_type": "execute_result"
        },
        {
          "data": {
            "image/png": "[encoded data removed]",
            "text/plain": [
              "<Figure size 640x480 with 1 Axes>"
            ]
          },
          "metadata": {},
          "output_type": "display_data"
        }
      ],
      "source": [
        "import matplotlib.pyplot as plt\n",
        "plt.plot(strikes, call_prices)\n",
        "plt.xlabel(\"Strike price (percentage of initial price)\")\n",
        "plt.ylabel(\"Price of European call option\")\n",
        "plt.title(\"Price of European call option at various strike prices\")"
      ]
    },
    {
      "cell_type": "code",
      "execution_count": null,
      "metadata": {
        "colab": {
          "base_uri": "https://localhost:8080/",
          "height": 489
        },
        "id": "KPU3gZn_jzyD",
        "outputId": "7157a2fa-7ab1-4ffb-93d5-d86bc665508d"
      },
      "outputs": [
        {
          "data": {
            "text/plain": [
              "Text(0.5, 1.0, 'Price of American call option at various strike prices')"
            ]
          },
          "execution_count": 100,
          "metadata": {},
          "output_type": "execute_result"
        },
        {
          "data": {
            "image/png": "[encoded data removed]",
            "text/plain": [
              "<Figure size 640x480 with 1 Axes>"
            ]
          },
          "metadata": {},
          "output_type": "display_data"
        }
      ],
      "source": [
        "strikes = (90, 95, 100, 105, 110)\n",
        "amer_call_prices = []\n",
        "for strike in strikes:\n",
        "  tree = TrinomialCallAmerican(100, 0.05, 0.20, 0.25, strike)\n",
        "  cprice = tree.price(180)\n",
        "  amer_call_prices.append(cprice)\n",
        "import matplotlib.pyplot as plt\n",
        "plt.plot(strikes, amer_call_prices)\n",
        "plt.xlabel(\"Strike price (percentage of initial price)\")\n",
        "plt.ylabel(\"Price of American call option\")\n",
        "plt.title(\"Price of American call option at various strike prices\")"
      ]
    },
    {
      "cell_type": "markdown",
      "metadata": {
        "id": "y4vqCGJVidNh"
      },
      "source": [
        "## Problem 22"
      ]
    },
    {
      "cell_type": "code",
      "execution_count": null,
      "metadata": {
        "id": "nIh560dNifnj"
      },
      "outputs": [],
      "source": [
        "strikes = (90, 95, 100, 105, 110)\n",
        "put_prices = []\n",
        "for strike in strikes:\n",
        "  tree = TrinomialPut(100, 0.05, 0.20, 0.25, strike)\n",
        "  pprice = tree.price(180)\n",
        "  put_prices.append(pprice)"
      ]
    },
    {
      "cell_type": "code",
      "execution_count": null,
      "metadata": {
        "colab": {
          "base_uri": "https://localhost:8080/",
          "height": 489
        },
        "id": "PX4xHjGVikiO",
        "outputId": "9185a337-6f8d-45cf-d22f-b4b1db4c6184"
      },
      "outputs": [
        {
          "data": {
            "text/plain": [
              "Text(0.5, 1.0, 'Price of European put option at various strike prices')"
            ]
          },
          "execution_count": 113,
          "metadata": {},
          "output_type": "execute_result"
        },
        {
          "data": {
            "image/png": "[encoded data removed]",
            "text/plain": [
              "<Figure size 640x480 with 1 Axes>"
            ]
          },
          "metadata": {},
          "output_type": "display_data"
        }
      ],
      "source": [
        "import matplotlib.pyplot as plt\n",
        "plt.plot(strikes, put_prices)\n",
        "plt.xlabel(\"Strike price (percentage of initial price)\")\n",
        "plt.ylabel(\"Price of European put option\")\n",
        "plt.title(\"Price of European put option at various strike prices\")"
      ]
    },
    {
      "cell_type": "code",
      "execution_count": null,
      "metadata": {
        "id": "RcRTsfdAjFOS"
      },
      "outputs": [],
      "source": [
        "\n",
        "strikes = (90, 95, 100, 105, 110)\n",
        "amer_put_prices = []\n",
        "for strike in strikes:\n",
        "  tree = TrinomialPutAmerican(100, 0.05, 0.20, 0.25, strike)\n",
        "  pprice = tree.price(180)\n",
        "  amer_put_prices.append(pprice)"
      ]
    },
    {
      "cell_type": "code",
      "execution_count": null,
      "metadata": {
        "colab": {
          "base_uri": "https://localhost:8080/",
          "height": 489
        },
        "id": "vOteAAy3je9M",
        "outputId": "7132ab54-1a16-4eec-96e0-30459d624c6e"
      },
      "outputs": [
        {
          "data": {
            "text/plain": [
              "Text(0.5, 1.0, 'Price of American put option at various strike prices')"
            ]
          },
          "execution_count": 111,
          "metadata": {},
          "output_type": "execute_result"
        },
        {
          "data": {
            "image/png": "[encoded data removed]",
            "text/plain": [
              "<Figure size 640x480 with 1 Axes>"
            ]
          },
          "metadata": {},
          "output_type": "display_data"
        }
      ],
      "source": [
        "import matplotlib.pyplot as plt\n",
        "plt.plot(strikes, amer_put_prices)\n",
        "plt.xlabel(\"Strike price (percentage of initial price)\")\n",
        "plt.ylabel(\"Price of American put option\")\n",
        "plt.title(\"Price of American put option at various strike prices\")"
      ]
    },
    {
      "cell_type": "markdown",
      "metadata": {
        "id": "BHN8IoDLkqaZ"
      },
      "source": [
        "## Problem 23"
      ]
    },
    {
      "cell_type": "code",
      "execution_count": null,
      "metadata": {
        "id": "KyHQMeTqkupv"
      },
      "outputs": [],
      "source": [
        "bond_prices = [strike * np.exp(-0.25 * 0.05) for strike in strikes]"
      ]
    },
    {
      "cell_type": "code",
      "execution_count": null,
      "metadata": {
        "id": "gsRTsUdmk1HB"
      },
      "outputs": [],
      "source": []
    },
    {
      "cell_type": "code",
      "execution_count": null,
      "metadata": {
        "colab": {
          "base_uri": "https://localhost:8080/"
        },
        "id": "psB0-KMsk7Y7",
        "outputId": "09ae04c5-b4fb-47f8-ad90-646100068f01"
      },
      "outputs": [
        {
          "name": "stdout",
          "output_type": "stream",
          "text": [
            "Strike\tBond\tCall price\tPut price\tCall plus bond\tPut plus stock\n",
            "-----------------------------------------------------------------------\n",
            "90\t88.88\t11.67\t\t0.55\t\t100.55\t\t100.55\n",
            "95\t93.82\t7.71\t\t1.53\t\t101.53\t\t101.53\n",
            "100\t98.76\t4.61\t\t3.37\t\t103.37\t\t103.37\n",
            "105\t103.70\t2.48\t\t6.18\t\t106.18\t\t106.18\n",
            "110\t108.63\t1.19\t\t9.82\t\t109.82\t\t109.82\n"
          ]
        }
      ],
      "source": [
        "print(\"Strike\\tBond\\tCall price\\tPut price\\tCall plus bond\\tPut plus stock\")\n",
        "print(\"-----------------------------------------------------------------------\")\n",
        "for (i, strike) in enumerate(strikes):\n",
        "  print (f\"{strike}\\t{bond_prices[i]:.2f}\\t{call_prices[i]:.2f}\\t\\t{put_prices[i]:.2f}\\t\\t{call_prices[i] + bond_prices[i]:.2f}\\t\\t{put_prices[i] + 100:.2f}\")"
      ]
    },
    {
      "cell_type": "code",
      "execution_count": null,
      "metadata": {
        "id": "SSlmki9cn2mp"
      },
      "outputs": [],
      "source": []
    },
    {
      "cell_type": "markdown",
      "metadata": {
        "id": "sc00CiD-ngNb"
      },
      "source": [
        "Based on this calculation, we can see that put-call parity holds.  This is the case because European call and put options cannot be exercised early; hence we can perform an arbitrage trade if call plus bond is different from put plus stock; we either buy the call and bond and sell the put and stock, or buy the put and stock and sell the call and bond, and get a risk-free profit."
      ]
    },
    {
      "cell_type": "markdown",
      "metadata": {
        "id": "U3zJfvwwpgM7"
      },
      "source": [
        "## Problem 24"
      ]
    },
    {
      "cell_type": "code",
      "execution_count": null,
      "metadata": {
        "colab": {
          "base_uri": "https://localhost:8080/"
        },
        "id": "frjVNz0_piG7",
        "outputId": "f528974f-b5c9-4132-a2cf-ff5f925395af"
      },
      "outputs": [
        {
          "name": "stdout",
          "output_type": "stream",
          "text": [
            "Strike\tBond\tCall price\tPut price\tCall plus bond\tPut plus stock\n",
            "-----------------------------------------------------------------------\n",
            "90\t88.88\t11.67\t\t0.56\t\t100.55\t\t100.56\n",
            "95\t93.82\t7.71\t\t1.57\t\t101.53\t\t101.57\n",
            "100\t98.76\t4.61\t\t3.48\t\t103.37\t\t103.48\n",
            "105\t103.70\t2.48\t\t6.42\t\t106.18\t\t106.42\n",
            "110\t108.63\t1.19\t\t10.33\t\t109.82\t\t110.33\n"
          ]
        }
      ],
      "source": [
        "print(\"Strike\\tBond\\tCall price\\tPut price\\tCall plus bond\\tPut plus stock\")\n",
        "print(\"-----------------------------------------------------------------------\")\n",
        "for (i, strike) in enumerate(strikes):\n",
        "  print (f\"{strike}\\t{bond_prices[i]:.2f}\\t{amer_call_prices[i]:.2f}\\t\\t{amer_put_prices[i]:.2f}\\t\\t{amer_call_prices[i] + bond_prices[i]:.2f}\\t\\t{amer_put_prices[i] + 100:.2f}\")"
      ]
    },
    {
      "cell_type": "markdown",
      "metadata": {
        "id": "F_Yqr_hZpryl"
      },
      "source": [
        "Put call parity does not hold for American options.  It is close for the strike prices we used here but not the same.  The reason the put plus the stock is worth more than the call plus the bond is that the put can be exercised early with advantage; if we try to perform a no-arbitrage argument, we can only get two inequalities on the difference between the call and put price.  The difference is greatest for the 110 strike price because it is most likely to be in the money to the extent that early exercise is advantageous."
      ]
    },
    {
      "cell_type": "markdown",
      "metadata": {
        "id": "-QoKm2GcGPsw"
      },
      "source": [
        "Here is a table describing the delta hedging process for the path **udu**\n",
        "\n",
        "| | t=0 | t=1 | t=2 | t = 3 |\n",
        "| --- | ---: | ---: | ---: | ---: |\n",
        "|Underlying |\\$180.00|\\$199.34|\\$180.00|\\$199.34|\n",
        "|Put option |\\$13.82|\\$5.02|\\$9.88|\\$0.00|\n",
        "|Delta hedge |-0.47|-0.24|-0.53||\n",
        "|Stock portfolio value |\\$-85.07|\\$-39.16|$\\-90.73|\n",
        "|Change in cash account (trades) |\\$85.07|\\$-45.91|\\$51.57|\\$-105.41|\n",
        "|Interest on cash account | |\\$0.28|\\$0.13|\\$0.30|\n",
        "|Total in cash account (including interest at risk free rate) |\\$85.07|\\$39.44|\\$91.15|-\\$13.96|\n",
        "\n",
        "Initially we sell a put option for $13.82 and receive a premium.\n",
        "As a delta hedge, we sell 0.47 shares of stock (short sale), yielding 85.07 cash.  When the stock goes up to \\$199.34 at t=1, we buy back 0.23 shares of stock for \\$45.91.  When the stock goes back down to \\$180.00 at t=2, we sell 0.29 shares of stock yielding \\$51.57 cash.  When the stock goes back up again to \\$199.34, we are at option expiry.  The put option expires worthless.  We unwind our short sale by buying back the 0.53 shares of stock at \\$199.34 per share for a total cost of \\$105.41; this gives us a total of -\\$13.96 in our cash account.\n",
        "\n",
        "If we invest the \\$13.82 premium at the risk-free rate of 2%, we would have \\$13.96 after 6 months; hence we break even.\n",
        "\n"
      ]
    },
    {
      "cell_type": "markdown",
      "metadata": {
        "id": "d74LxO1TwQlJ"
      },
      "source": [
        "## Problem 25"
      ]
    },
    {
      "cell_type": "code",
      "execution_count": null,
      "metadata": {
        "id": "Jt3TpPOxwRoT"
      },
      "outputs": [],
      "source": [
        "pp, ppo, sp, deltas = put_option_delta(180, 182, 0.50, 0.02, 0.25, 3)"
      ]
    },
    {
      "cell_type": "code",
      "execution_count": null,
      "metadata": {
        "colab": {
          "base_uri": "https://localhost:8080/"
        },
        "id": "uaiUgHlywf6e",
        "outputId": "70778931-eb02-4b37-9ff8-0dd3d3c4cf14"
      },
      "outputs": [
        {
          "name": "stdout",
          "output_type": "stream",
          "text": [
            "The price of a European put option with S=180, r=2%, sigma=25%, T=6 months, K=180 is 13.82\n"
          ]
        }
      ],
      "source": [
        "print(f\"The price of a European put option with S=180, r=2%, sigma=25%, T=6 months, K=180 is {pp:.2f}\")"
      ]
    },
    {
      "cell_type": "code",
      "execution_count": null,
      "metadata": {
        "colab": {
          "base_uri": "https://localhost:8080/"
        },
        "id": "LbJzWlh4wrrz",
        "outputId": "1223e68a-d463-4273-9a38-04e933acdc1c"
      },
      "outputs": [
        {
          "data": {
            "text/plain": [
              "array([[180.  ,   0.  ,   0.  ,   0.  ],\n",
              "       [162.54, 199.34,   0.  ,   0.  ],\n",
              "       [146.77, 180.  , 220.76,   0.  ],\n",
              "       [132.52, 162.54, 199.34, 244.48]])"
            ]
          },
          "execution_count": 212,
          "metadata": {},
          "output_type": "execute_result"
        }
      ],
      "source": [
        "sp.round(decimals=2)"
      ]
    },
    {
      "cell_type": "code",
      "execution_count": null,
      "metadata": {
        "colab": {
          "base_uri": "https://localhost:8080/"
        },
        "id": "c2k6J4aiw49g",
        "outputId": "2d248962-7966-4d93-9061-bc75db819491"
      },
      "outputs": [
        {
          "data": {
            "text/plain": [
              "array([[-0.4726,  0.    ,  0.    ],\n",
              "       [-0.7447, -0.2423,  0.    ],\n",
              "       [-1.    , -0.5288,  0.    ]])"
            ]
          },
          "execution_count": 223,
          "metadata": {},
          "output_type": "execute_result"
        }
      ],
      "source": [
        "deltas.round(decimals=4)"
      ]
    },
    {
      "cell_type": "code",
      "execution_count": null,
      "metadata": {
        "colab": {
          "base_uri": "https://localhost:8080/"
        },
        "id": "1-Pw0Qhpzxo3",
        "outputId": "729f22b8-5d82-44f9-d5f4-44ba2a038b33"
      },
      "outputs": [
        {
          "data": {
            "text/plain": [
              "array([[13.82,  0.  ,  0.  ,  0.  ],\n",
              "       [22.41,  5.01,  0.  ,  0.  ],\n",
              "       [34.63,  9.88,  0.  ,  0.  ],\n",
              "       [49.48, 19.46,  0.  ,  0.  ]])"
            ]
          },
          "execution_count": 210,
          "metadata": {},
          "output_type": "execute_result"
        }
      ],
      "source": [
        "ppo.round(decimals=2)"
      ]
    },
    {
      "cell_type": "markdown",
      "metadata": {
        "id": "RJ5RE9ZWw_qb"
      },
      "source": [
        "To price a European put option with the given characteristics using a 3-step Binomial tree, we note that we are using time steps of 2 months each, or 1/6 of a year.  \n",
        "\n",
        "To obtain the appropriate volatility, we have the up factor of $e^{\\sigma \\sqrt{dt}}$, and a down factor of the reciprocal $e^{\\sigma \\sqrt{dt}}$, which work out to 1.107 and 0.902 respectively.  Hence an up step followed by a down step puts us back where we started.\n",
        "\n",
        "We can therefore make a tree of all possible stock prices; after one step, it can go up to 199.34 or down to 162.53; after two steps it can be at 146.76, 180, or 220.76, after three steps it can be at 132.52, 162.54, 199.34, or 244.48, depending on whether we had 0, 1, 2, or 3 up steps.\n",
        "\n",
        "Since the strike prices is 182, the final payoffs are  49.48, 19.46, 0, and 0.\n",
        "\n",
        "To work out the value of the option we need to compute the up and down probabilities.  In order for the stock to be fairly priced, the risk-neutral up probability is ${e^{r dt} - d} \\over {u - d}$, where $u$ and $d$ are the down factors.  A risk neutral valuation means buying a bond should have the same expected return as the stock, which means that the bond return is between the up factor and the down factor, and we can interpolate between the two to find what probability of going up is risk neutral. \n",
        "\n",
        "We can compute that the probability is 0.49 of going up and 0.51 of going down.\n",
        "\n",
        "So we can work backward; after two down steps, we can go to 49.47 or 19.46; taking the appropriate weighted average and discounting we get that the value is 34.46; similarly after one up step and one down step, we can go to 19.46 or 0 as the payoff and we can compute that the value of the put option at that stage should be should be 9.88. The other two possibilities after two steps still have a payoff of 0 because the put option will be OTM no matter what happens.\n",
        "\n",
        "After one time step, we can be at an up step or a down step; after the up step we can go up again, in which case the payoff is 0, or down in which case the discounted expected payoff is 9.88;  hence the value at this point should be 5.01.  If we were instead at a down step we could go up or down to expected payoffs of 34.63 or 9.88, which gives a value of 22.41 at this point.\n",
        "\n",
        "Which means that the value at the initial step should be **13.82**\n",
        "\n",
        "\n",
        "\n"
      ]
    },
    {
      "cell_type": "markdown",
      "metadata": {
        "id": "gki4PSGD2i6t"
      },
      "source": [
        "## Problem 26"
      ]
    },
    {
      "cell_type": "code",
      "execution_count": null,
      "metadata": {
        "id": "J1HEv3GI2j5t"
      },
      "outputs": [],
      "source": [
        "(app, ap_payoff, ast, ap_delta) = american_option(180,182,0.50,0.02, 0.25, 25, \"P\")"
      ]
    },
    {
      "cell_type": "code",
      "execution_count": null,
      "metadata": {
        "colab": {
          "base_uri": "https://localhost:8080/"
        },
        "id": "MKphJ7jg2qQM",
        "outputId": "28e82575-9b6d-4832-ca07-7b285661f305"
      },
      "outputs": [
        {
          "name": "stdout",
          "output_type": "stream",
          "text": [
            "The price of an American put option is 13.04\n"
          ]
        }
      ],
      "source": [
        "print (f\"The price of an American put option is {app:.2f}\")"
      ]
    },
    {
      "cell_type": "code",
      "execution_count": null,
      "metadata": {
        "colab": {
          "base_uri": "https://localhost:8080/"
        },
        "id": "m81vmxB02rZL",
        "outputId": "3741166b-e8bf-4bb0-cb1e-ef8eb50ff4fc"
      },
      "outputs": [
        {
          "data": {
            "text/plain": [
              "array([[-0.48,  0.  ,  0.  ,  0.  ,  0.  ,  0.  ,  0.  ,  0.  ,  0.  ,\n",
              "         0.  ,  0.  ,  0.  ,  0.  ,  0.  ,  0.  ,  0.  ,  0.  ,  0.  ,\n",
              "         0.  ,  0.  ,  0.  ,  0.  ,  0.  ,  0.  ,  0.  ],\n",
              "       [-0.56, -0.4 ,  0.  ,  0.  ,  0.  ,  0.  ,  0.  ,  0.  ,  0.  ,\n",
              "         0.  ,  0.  ,  0.  ,  0.  ,  0.  ,  0.  ,  0.  ,  0.  ,  0.  ,\n",
              "         0.  ,  0.  ,  0.  ,  0.  ,  0.  ,  0.  ,  0.  ],\n",
              "       [-0.65, -0.48, -0.32,  0.  ,  0.  ,  0.  ,  0.  ,  0.  ,  0.  ,\n",
              "         0.  ,  0.  ,  0.  ,  0.  ,  0.  ,  0.  ,  0.  ,  0.  ,  0.  ,\n",
              "         0.  ,  0.  ,  0.  ,  0.  ,  0.  ,  0.  ,  0.  ],\n",
              "       [-0.73, -0.57, -0.39, -0.24,  0.  ,  0.  ,  0.  ,  0.  ,  0.  ,\n",
              "         0.  ,  0.  ,  0.  ,  0.  ,  0.  ,  0.  ,  0.  ,  0.  ,  0.  ,\n",
              "         0.  ,  0.  ,  0.  ,  0.  ,  0.  ,  0.  ,  0.  ],\n",
              "       [-0.81, -0.66, -0.48, -0.31, -0.18,  0.  ,  0.  ,  0.  ,  0.  ,\n",
              "         0.  ,  0.  ,  0.  ,  0.  ,  0.  ,  0.  ,  0.  ,  0.  ,  0.  ,\n",
              "         0.  ,  0.  ,  0.  ,  0.  ,  0.  ,  0.  ,  0.  ],\n",
              "       [-0.88, -0.75, -0.57, -0.39, -0.24, -0.12,  0.  ,  0.  ,  0.  ,\n",
              "         0.  ,  0.  ,  0.  ,  0.  ,  0.  ,  0.  ,  0.  ,  0.  ,  0.  ,\n",
              "         0.  ,  0.  ,  0.  ,  0.  ,  0.  ,  0.  ,  0.  ],\n",
              "       [-0.94, -0.83, -0.67, -0.49, -0.31, -0.17, -0.08,  0.  ,  0.  ,\n",
              "         0.  ,  0.  ,  0.  ,  0.  ,  0.  ,  0.  ,  0.  ,  0.  ,  0.  ,\n",
              "         0.  ,  0.  ,  0.  ,  0.  ,  0.  ,  0.  ,  0.  ],\n",
              "       [-0.98, -0.9 , -0.76, -0.58, -0.39, -0.23, -0.11, -0.04,  0.  ,\n",
              "         0.  ,  0.  ,  0.  ,  0.  ,  0.  ,  0.  ,  0.  ,  0.  ,  0.  ,\n",
              "         0.  ,  0.  ,  0.  ,  0.  ,  0.  ,  0.  ,  0.  ],\n",
              "       [-1.  , -0.96, -0.84, -0.68, -0.49, -0.3 , -0.16, -0.07, -0.02,\n",
              "         0.  ,  0.  ,  0.  ,  0.  ,  0.  ,  0.  ,  0.  ,  0.  ,  0.  ,\n",
              "         0.  ,  0.  ,  0.  ,  0.  ,  0.  ,  0.  ,  0.  ],\n",
              "       [-1.  , -0.99, -0.91, -0.78, -0.59, -0.39, -0.22, -0.1 , -0.04,\n",
              "        -0.01,  0.  ,  0.  ,  0.  ,  0.  ,  0.  ,  0.  ,  0.  ,  0.  ,\n",
              "         0.  ,  0.  ,  0.  ,  0.  ,  0.  ,  0.  ,  0.  ],\n",
              "       [-1.  , -1.  , -0.97, -0.86, -0.7 , -0.49, -0.3 , -0.14, -0.06,\n",
              "        -0.02, -0.  ,  0.  ,  0.  ,  0.  ,  0.  ,  0.  ,  0.  ,  0.  ,\n",
              "         0.  ,  0.  ,  0.  ,  0.  ,  0.  ,  0.  ,  0.  ],\n",
              "       [-1.  , -1.  , -1.  , -0.93, -0.8 , -0.6 , -0.39, -0.21, -0.09,\n",
              "        -0.03, -0.01, -0.  ,  0.  ,  0.  ,  0.  ,  0.  ,  0.  ,  0.  ,\n",
              "         0.  ,  0.  ,  0.  ,  0.  ,  0.  ,  0.  ,  0.  ],\n",
              "       [-1.  , -1.  , -1.  , -0.98, -0.88, -0.72, -0.5 , -0.29, -0.13,\n",
              "        -0.04, -0.01, -0.  , -0.  ,  0.  ,  0.  ,  0.  ,  0.  ,  0.  ,\n",
              "         0.  ,  0.  ,  0.  ,  0.  ,  0.  ,  0.  ,  0.  ],\n",
              "       [-1.  , -1.  , -1.  , -1.  , -0.95, -0.82, -0.62, -0.39, -0.19,\n",
              "        -0.07, -0.02, -0.  , -0.  ,  0.  ,  0.  ,  0.  ,  0.  ,  0.  ,\n",
              "         0.  ,  0.  ,  0.  ,  0.  ,  0.  ,  0.  ,  0.  ],\n",
              "       [-1.  , -1.  , -1.  , -1.  , -0.99, -0.91, -0.74, -0.51, -0.28,\n",
              "        -0.11, -0.03, -0.01, -0.  ,  0.  ,  0.  ,  0.  ,  0.  ,  0.  ,\n",
              "         0.  ,  0.  ,  0.  ,  0.  ,  0.  ,  0.  ,  0.  ],\n",
              "       [-1.  , -1.  , -1.  , -1.  , -1.  , -0.97, -0.85, -0.63, -0.38,\n",
              "        -0.17, -0.06, -0.01, -0.  ,  0.  ,  0.  ,  0.  ,  0.  ,  0.  ,\n",
              "         0.  ,  0.  ,  0.  ,  0.  ,  0.  ,  0.  ,  0.  ],\n",
              "       [-1.  , -1.  , -1.  , -1.  , -1.  , -1.  , -0.93, -0.76, -0.51,\n",
              "        -0.26, -0.09, -0.02, -0.  ,  0.  ,  0.  ,  0.  ,  0.  ,  0.  ,\n",
              "         0.  ,  0.  ,  0.  ,  0.  ,  0.  ,  0.  ,  0.  ],\n",
              "       [-1.  , -1.  , -1.  , -1.  , -1.  , -1.  , -0.99, -0.88, -0.66,\n",
              "        -0.38, -0.15, -0.04, -0.  ,  0.  ,  0.  ,  0.  ,  0.  ,  0.  ,\n",
              "         0.  ,  0.  ,  0.  ,  0.  ,  0.  ,  0.  ,  0.  ],\n",
              "       [-1.  , -1.  , -1.  , -1.  , -1.  , -1.  , -1.  , -0.96, -0.8 ,\n",
              "        -0.52, -0.24, -0.07, -0.01,  0.  ,  0.  ,  0.  ,  0.  ,  0.  ,\n",
              "         0.  ,  0.  ,  0.  ,  0.  ,  0.  ,  0.  ,  0.  ],\n",
              "       [-1.  , -1.  , -1.  , -1.  , -1.  , -1.  , -1.  , -1.  , -0.91,\n",
              "        -0.69, -0.37, -0.12, -0.02,  0.  ,  0.  ,  0.  ,  0.  ,  0.  ,\n",
              "         0.  ,  0.  ,  0.  ,  0.  ,  0.  ,  0.  ,  0.  ],\n",
              "       [-1.  , -1.  , -1.  , -1.  , -1.  , -1.  , -1.  , -1.  , -0.99,\n",
              "        -0.85, -0.54, -0.21, -0.04,  0.  ,  0.  ,  0.  ,  0.  ,  0.  ,\n",
              "         0.  ,  0.  ,  0.  ,  0.  ,  0.  ,  0.  ,  0.  ],\n",
              "       [-1.  , -1.  , -1.  , -1.  , -1.  , -1.  , -1.  , -1.  , -1.  ,\n",
              "        -0.96, -0.73, -0.35, -0.07,  0.  ,  0.  ,  0.  ,  0.  ,  0.  ,\n",
              "         0.  ,  0.  ,  0.  ,  0.  ,  0.  ,  0.  ,  0.  ],\n",
              "       [-1.  , -1.  , -1.  , -1.  , -1.  , -1.  , -1.  , -1.  , -1.  ,\n",
              "        -1.  , -0.92, -0.56, -0.15,  0.  ,  0.  ,  0.  ,  0.  ,  0.  ,\n",
              "         0.  ,  0.  ,  0.  ,  0.  ,  0.  ,  0.  ,  0.  ],\n",
              "       [-1.  , -1.  , -1.  , -1.  , -1.  , -1.  , -1.  , -1.  , -1.  ,\n",
              "        -1.  , -1.  , -0.82, -0.31,  0.  ,  0.  ,  0.  ,  0.  ,  0.  ,\n",
              "         0.  ,  0.  ,  0.  ,  0.  ,  0.  ,  0.  ,  0.  ],\n",
              "       [-1.  , -1.  , -1.  , -1.  , -1.  , -1.  , -1.  , -1.  , -1.  ,\n",
              "        -1.  , -1.  , -1.  , -0.65,  0.  ,  0.  ,  0.  ,  0.  ,  0.  ,\n",
              "         0.  ,  0.  ,  0.  ,  0.  ,  0.  ,  0.  ,  0.  ]])"
            ]
          },
          "execution_count": 195,
          "metadata": {},
          "output_type": "execute_result"
        }
      ],
      "source": [
        "ap_delta.round(decimals=2)"
      ]
    },
    {
      "cell_type": "code",
      "execution_count": null,
      "metadata": {
        "colab": {
          "base_uri": "https://localhost:8080/"
        },
        "id": "YDHrWGwu260W",
        "outputId": "399a801c-4e0e-4bcf-d81d-211383fd798b"
      },
      "outputs": [
        {
          "data": {
            "text/plain": [
              "array([[180.  ,   0.  ,   0.  ,   0.  ,   0.  ,   0.  ,   0.  ,   0.  ,\n",
              "          0.  ,   0.  ,   0.  ,   0.  ,   0.  ,   0.  ,   0.  ,   0.  ,\n",
              "          0.  ,   0.  ,   0.  ,   0.  ,   0.  ,   0.  ,   0.  ,   0.  ,\n",
              "          0.  ,   0.  ],\n",
              "       [173.75, 186.48,   0.  ,   0.  ,   0.  ,   0.  ,   0.  ,   0.  ,\n",
              "          0.  ,   0.  ,   0.  ,   0.  ,   0.  ,   0.  ,   0.  ,   0.  ,\n",
              "          0.  ,   0.  ,   0.  ,   0.  ,   0.  ,   0.  ,   0.  ,   0.  ,\n",
              "          0.  ,   0.  ],\n",
              "       [167.71, 180.  , 193.19,   0.  ,   0.  ,   0.  ,   0.  ,   0.  ,\n",
              "          0.  ,   0.  ,   0.  ,   0.  ,   0.  ,   0.  ,   0.  ,   0.  ,\n",
              "          0.  ,   0.  ,   0.  ,   0.  ,   0.  ,   0.  ,   0.  ,   0.  ,\n",
              "          0.  ,   0.  ],\n",
              "       [161.89, 173.75, 186.48, 200.14,   0.  ,   0.  ,   0.  ,   0.  ,\n",
              "          0.  ,   0.  ,   0.  ,   0.  ,   0.  ,   0.  ,   0.  ,   0.  ,\n",
              "          0.  ,   0.  ,   0.  ,   0.  ,   0.  ,   0.  ,   0.  ,   0.  ,\n",
              "          0.  ,   0.  ],\n",
              "       [156.26, 167.71, 180.  , 193.19, 207.34,   0.  ,   0.  ,   0.  ,\n",
              "          0.  ,   0.  ,   0.  ,   0.  ,   0.  ,   0.  ,   0.  ,   0.  ,\n",
              "          0.  ,   0.  ,   0.  ,   0.  ,   0.  ,   0.  ,   0.  ,   0.  ,\n",
              "          0.  ,   0.  ],\n",
              "       [150.83, 161.89, 173.75, 186.48, 200.14, 214.81,   0.  ,   0.  ,\n",
              "          0.  ,   0.  ,   0.  ,   0.  ,   0.  ,   0.  ,   0.  ,   0.  ,\n",
              "          0.  ,   0.  ,   0.  ,   0.  ,   0.  ,   0.  ,   0.  ,   0.  ,\n",
              "          0.  ,   0.  ],\n",
              "       [145.59, 156.26, 167.71, 180.  , 193.19, 207.34, 222.54,   0.  ,\n",
              "          0.  ,   0.  ,   0.  ,   0.  ,   0.  ,   0.  ,   0.  ,   0.  ,\n",
              "          0.  ,   0.  ,   0.  ,   0.  ,   0.  ,   0.  ,   0.  ,   0.  ,\n",
              "          0.  ,   0.  ],\n",
              "       [140.54, 150.83, 161.89, 173.75, 186.48, 200.14, 214.81, 230.54,\n",
              "          0.  ,   0.  ,   0.  ,   0.  ,   0.  ,   0.  ,   0.  ,   0.  ,\n",
              "          0.  ,   0.  ,   0.  ,   0.  ,   0.  ,   0.  ,   0.  ,   0.  ,\n",
              "          0.  ,   0.  ],\n",
              "       [135.65, 145.59, 156.26, 167.71, 180.  , 193.19, 207.34, 222.54,\n",
              "        238.84,   0.  ,   0.  ,   0.  ,   0.  ,   0.  ,   0.  ,   0.  ,\n",
              "          0.  ,   0.  ,   0.  ,   0.  ,   0.  ,   0.  ,   0.  ,   0.  ,\n",
              "          0.  ,   0.  ],\n",
              "       [130.94, 140.54, 150.83, 161.89, 173.75, 186.48, 200.14, 214.81,\n",
              "        230.54, 247.44,   0.  ,   0.  ,   0.  ,   0.  ,   0.  ,   0.  ,\n",
              "          0.  ,   0.  ,   0.  ,   0.  ,   0.  ,   0.  ,   0.  ,   0.  ,\n",
              "          0.  ,   0.  ],\n",
              "       [126.39, 135.65, 145.59, 156.26, 167.71, 180.  , 193.19, 207.34,\n",
              "        222.54, 238.84, 256.34,   0.  ,   0.  ,   0.  ,   0.  ,   0.  ,\n",
              "          0.  ,   0.  ,   0.  ,   0.  ,   0.  ,   0.  ,   0.  ,   0.  ,\n",
              "          0.  ,   0.  ],\n",
              "       [122.  , 130.94, 140.54, 150.83, 161.89, 173.75, 186.48, 200.14,\n",
              "        214.81, 230.54, 247.44, 265.57,   0.  ,   0.  ,   0.  ,   0.  ,\n",
              "          0.  ,   0.  ,   0.  ,   0.  ,   0.  ,   0.  ,   0.  ,   0.  ,\n",
              "          0.  ,   0.  ],\n",
              "       [117.77, 126.39, 135.65, 145.59, 156.26, 167.71, 180.  , 193.19,\n",
              "        207.34, 222.54, 238.84, 256.34, 275.12,   0.  ,   0.  ,   0.  ,\n",
              "          0.  ,   0.  ,   0.  ,   0.  ,   0.  ,   0.  ,   0.  ,   0.  ,\n",
              "          0.  ,   0.  ],\n",
              "       [113.67, 122.  , 130.94, 140.54, 150.83, 161.89, 173.75, 186.48,\n",
              "        200.14, 214.81, 230.54, 247.44, 265.57, 285.02,   0.  ,   0.  ,\n",
              "          0.  ,   0.  ,   0.  ,   0.  ,   0.  ,   0.  ,   0.  ,   0.  ,\n",
              "          0.  ,   0.  ],\n",
              "       [109.73, 117.77, 126.39, 135.65, 145.59, 156.26, 167.71, 180.  ,\n",
              "        193.19, 207.34, 222.54, 238.84, 256.34, 275.12, 295.28,   0.  ,\n",
              "          0.  ,   0.  ,   0.  ,   0.  ,   0.  ,   0.  ,   0.  ,   0.  ,\n",
              "          0.  ,   0.  ],\n",
              "       [105.91, 113.67, 122.  , 130.94, 140.54, 150.83, 161.89, 173.75,\n",
              "        186.48, 200.14, 214.81, 230.54, 247.44, 265.57, 285.02, 305.91,\n",
              "          0.  ,   0.  ,   0.  ,   0.  ,   0.  ,   0.  ,   0.  ,   0.  ,\n",
              "          0.  ,   0.  ],\n",
              "       [102.23, 109.73, 117.77, 126.39, 135.65, 145.59, 156.26, 167.71,\n",
              "        180.  , 193.19, 207.34, 222.54, 238.84, 256.34, 275.12, 295.28,\n",
              "        316.92,   0.  ,   0.  ,   0.  ,   0.  ,   0.  ,   0.  ,   0.  ,\n",
              "          0.  ,   0.  ],\n",
              "       [ 98.68, 105.91, 113.67, 122.  , 130.94, 140.54, 150.83, 161.89,\n",
              "        173.75, 186.48, 200.14, 214.81, 230.54, 247.44, 265.57, 285.02,\n",
              "        305.91, 328.32,   0.  ,   0.  ,   0.  ,   0.  ,   0.  ,   0.  ,\n",
              "          0.  ,   0.  ],\n",
              "       [ 95.26, 102.23, 109.73, 117.77, 126.39, 135.65, 145.59, 156.26,\n",
              "        167.71, 180.  , 193.19, 207.34, 222.54, 238.84, 256.34, 275.12,\n",
              "        295.28, 316.92, 340.14,   0.  ,   0.  ,   0.  ,   0.  ,   0.  ,\n",
              "          0.  ,   0.  ],\n",
              "       [ 91.95,  98.68, 105.91, 113.67, 122.  , 130.94, 140.54, 150.83,\n",
              "        161.89, 173.75, 186.48, 200.14, 214.81, 230.54, 247.44, 265.57,\n",
              "        285.02, 305.91, 328.32, 352.38,   0.  ,   0.  ,   0.  ,   0.  ,\n",
              "          0.  ,   0.  ],\n",
              "       [ 88.75,  95.26, 102.23, 109.73, 117.77, 126.39, 135.65, 145.59,\n",
              "        156.26, 167.71, 180.  , 193.19, 207.34, 222.54, 238.84, 256.34,\n",
              "        275.12, 295.28, 316.92, 340.14, 365.06,   0.  ,   0.  ,   0.  ,\n",
              "          0.  ,   0.  ],\n",
              "       [ 85.67,  91.95,  98.68, 105.91, 113.67, 122.  , 130.94, 140.54,\n",
              "        150.83, 161.89, 173.75, 186.48, 200.14, 214.81, 230.54, 247.44,\n",
              "        265.57, 285.02, 305.91, 328.32, 352.38, 378.2 ,   0.  ,   0.  ,\n",
              "          0.  ,   0.  ],\n",
              "       [ 82.69,  88.75,  95.26, 102.23, 109.73, 117.77, 126.39, 135.65,\n",
              "        145.59, 156.26, 167.71, 180.  , 193.19, 207.34, 222.54, 238.84,\n",
              "        256.34, 275.12, 295.28, 316.92, 340.14, 365.06, 391.81,   0.  ,\n",
              "          0.  ,   0.  ],\n",
              "       [ 79.82,  85.67,  91.95,  98.68, 105.91, 113.67, 122.  , 130.94,\n",
              "        140.54, 150.83, 161.89, 173.75, 186.48, 200.14, 214.81, 230.54,\n",
              "        247.44, 265.57, 285.02, 305.91, 328.32, 352.38, 378.2 , 405.91,\n",
              "          0.  ,   0.  ],\n",
              "       [ 77.05,  82.69,  88.75,  95.26, 102.23, 109.73, 117.77, 126.39,\n",
              "        135.65, 145.59, 156.26, 167.71, 180.  , 193.19, 207.34, 222.54,\n",
              "        238.84, 256.34, 275.12, 295.28, 316.92, 340.14, 365.06, 391.81,\n",
              "        420.52,   0.  ],\n",
              "       [ 74.37,  79.82,  85.67,  91.95,  98.68, 105.91, 113.67, 122.  ,\n",
              "        130.94, 140.54, 150.83, 161.89, 173.75, 186.48, 200.14, 214.81,\n",
              "        230.54, 247.44, 265.57, 285.02, 305.91, 328.32, 352.38, 378.2 ,\n",
              "        405.91, 435.65]])"
            ]
          },
          "execution_count": 137,
          "metadata": {},
          "output_type": "execute_result"
        }
      ],
      "source": [
        "ast.round(decimals=2)"
      ]
    },
    {
      "cell_type": "code",
      "execution_count": null,
      "metadata": {
        "colab": {
          "base_uri": "https://localhost:8080/"
        },
        "id": "xLm-oLAD3L2C",
        "outputId": "b7e12d0c-9a5e-4588-a047-104e0e49caf7"
      },
      "outputs": [
        {
          "data": {
            "text/plain": [
              "array([[1.3040e+01, 0.0000e+00, 0.0000e+00, 0.0000e+00, 0.0000e+00,\n",
              "        0.0000e+00, 0.0000e+00, 0.0000e+00, 0.0000e+00, 0.0000e+00,\n",
              "        0.0000e+00, 0.0000e+00, 0.0000e+00, 0.0000e+00, 0.0000e+00,\n",
              "        0.0000e+00, 0.0000e+00, 0.0000e+00, 0.0000e+00, 0.0000e+00,\n",
              "        0.0000e+00, 0.0000e+00, 0.0000e+00, 0.0000e+00, 0.0000e+00,\n",
              "        0.0000e+00],\n",
              "       [1.6050e+01, 9.9900e+00, 0.0000e+00, 0.0000e+00, 0.0000e+00,\n",
              "        0.0000e+00, 0.0000e+00, 0.0000e+00, 0.0000e+00, 0.0000e+00,\n",
              "        0.0000e+00, 0.0000e+00, 0.0000e+00, 0.0000e+00, 0.0000e+00,\n",
              "        0.0000e+00, 0.0000e+00, 0.0000e+00, 0.0000e+00, 0.0000e+00,\n",
              "        0.0000e+00, 0.0000e+00, 0.0000e+00, 0.0000e+00, 0.0000e+00,\n",
              "        0.0000e+00],\n",
              "       [1.9480e+01, 1.2590e+01, 7.3800e+00, 0.0000e+00, 0.0000e+00,\n",
              "        0.0000e+00, 0.0000e+00, 0.0000e+00, 0.0000e+00, 0.0000e+00,\n",
              "        0.0000e+00, 0.0000e+00, 0.0000e+00, 0.0000e+00, 0.0000e+00,\n",
              "        0.0000e+00, 0.0000e+00, 0.0000e+00, 0.0000e+00, 0.0000e+00,\n",
              "        0.0000e+00, 0.0000e+00, 0.0000e+00, 0.0000e+00, 0.0000e+00,\n",
              "        0.0000e+00],\n",
              "       [2.3300e+01, 1.5620e+01, 9.5300e+00, 5.2000e+00, 0.0000e+00,\n",
              "        0.0000e+00, 0.0000e+00, 0.0000e+00, 0.0000e+00, 0.0000e+00,\n",
              "        0.0000e+00, 0.0000e+00, 0.0000e+00, 0.0000e+00, 0.0000e+00,\n",
              "        0.0000e+00, 0.0000e+00, 0.0000e+00, 0.0000e+00, 0.0000e+00,\n",
              "        0.0000e+00, 0.0000e+00, 0.0000e+00, 0.0000e+00, 0.0000e+00,\n",
              "        0.0000e+00],\n",
              "       [2.7480e+01, 1.9090e+01, 1.2120e+01, 6.9100e+00, 3.4800e+00,\n",
              "        0.0000e+00, 0.0000e+00, 0.0000e+00, 0.0000e+00, 0.0000e+00,\n",
              "        0.0000e+00, 0.0000e+00, 0.0000e+00, 0.0000e+00, 0.0000e+00,\n",
              "        0.0000e+00, 0.0000e+00, 0.0000e+00, 0.0000e+00, 0.0000e+00,\n",
              "        0.0000e+00, 0.0000e+00, 0.0000e+00, 0.0000e+00, 0.0000e+00,\n",
              "        0.0000e+00],\n",
              "       [3.1960e+01, 2.2980e+01, 1.5170e+01, 9.0300e+00, 4.7700e+00,\n",
              "        2.1800e+00, 0.0000e+00, 0.0000e+00, 0.0000e+00, 0.0000e+00,\n",
              "        0.0000e+00, 0.0000e+00, 0.0000e+00, 0.0000e+00, 0.0000e+00,\n",
              "        0.0000e+00, 0.0000e+00, 0.0000e+00, 0.0000e+00, 0.0000e+00,\n",
              "        0.0000e+00, 0.0000e+00, 0.0000e+00, 0.0000e+00, 0.0000e+00,\n",
              "        0.0000e+00],\n",
              "       [3.6640e+01, 2.7230e+01, 1.8690e+01, 1.1620e+01, 6.4200e+00,\n",
              "        3.0900e+00, 1.2700e+00, 0.0000e+00, 0.0000e+00, 0.0000e+00,\n",
              "        0.0000e+00, 0.0000e+00, 0.0000e+00, 0.0000e+00, 0.0000e+00,\n",
              "        0.0000e+00, 0.0000e+00, 0.0000e+00, 0.0000e+00, 0.0000e+00,\n",
              "        0.0000e+00, 0.0000e+00, 0.0000e+00, 0.0000e+00, 0.0000e+00,\n",
              "        0.0000e+00],\n",
              "       [4.1470e+01, 3.1790e+01, 2.2640e+01, 1.4700e+01, 8.5100e+00,\n",
              "        4.3100e+00, 1.8600e+00, 6.7000e-01, 0.0000e+00, 0.0000e+00,\n",
              "        0.0000e+00, 0.0000e+00, 0.0000e+00, 0.0000e+00, 0.0000e+00,\n",
              "        0.0000e+00, 0.0000e+00, 0.0000e+00, 0.0000e+00, 0.0000e+00,\n",
              "        0.0000e+00, 0.0000e+00, 0.0000e+00, 0.0000e+00, 0.0000e+00,\n",
              "        0.0000e+00],\n",
              "       [4.6350e+01, 3.6560e+01, 2.6980e+01, 1.8260e+01, 1.1100e+01,\n",
              "        5.9100e+00, 2.6900e+00, 1.0200e+00, 3.1000e-01, 0.0000e+00,\n",
              "        0.0000e+00, 0.0000e+00, 0.0000e+00, 0.0000e+00, 0.0000e+00,\n",
              "        0.0000e+00, 0.0000e+00, 0.0000e+00, 0.0000e+00, 0.0000e+00,\n",
              "        0.0000e+00, 0.0000e+00, 0.0000e+00, 0.0000e+00, 0.0000e+00,\n",
              "        0.0000e+00],\n",
              "       [5.1060e+01, 4.1460e+01, 3.1630e+01, 2.2300e+01, 1.4200e+01,\n",
              "        7.9600e+00, 3.8300e+00, 1.5400e+00, 5.0000e-01, 1.2000e-01,\n",
              "        0.0000e+00, 0.0000e+00, 0.0000e+00, 0.0000e+00, 0.0000e+00,\n",
              "        0.0000e+00, 0.0000e+00, 0.0000e+00, 0.0000e+00, 0.0000e+00,\n",
              "        0.0000e+00, 0.0000e+00, 0.0000e+00, 0.0000e+00, 0.0000e+00,\n",
              "        0.0000e+00],\n",
              "       [5.5610e+01, 4.6350e+01, 3.6490e+01, 2.6730e+01, 1.7820e+01,\n",
              "        1.0530e+01, 5.3700e+00, 2.2800e+00, 7.8000e-01, 2.1000e-01,\n",
              "        4.0000e-02, 0.0000e+00, 0.0000e+00, 0.0000e+00, 0.0000e+00,\n",
              "        0.0000e+00, 0.0000e+00, 0.0000e+00, 0.0000e+00, 0.0000e+00,\n",
              "        0.0000e+00, 0.0000e+00, 0.0000e+00, 0.0000e+00, 0.0000e+00,\n",
              "        0.0000e+00],\n",
              "       [6.0000e+01, 5.1060e+01, 4.1460e+01, 3.1470e+01, 2.1940e+01,\n",
              "        1.3660e+01, 7.3700e+00, 3.3400e+00, 1.2200e+00, 3.4000e-01,\n",
              "        7.0000e-02, 1.0000e-02, 0.0000e+00, 0.0000e+00, 0.0000e+00,\n",
              "        0.0000e+00, 0.0000e+00, 0.0000e+00, 0.0000e+00, 0.0000e+00,\n",
              "        0.0000e+00, 0.0000e+00, 0.0000e+00, 0.0000e+00, 0.0000e+00,\n",
              "        0.0000e+00],\n",
              "       [6.4230e+01, 5.5610e+01, 4.6350e+01, 3.6420e+01, 2.6490e+01,\n",
              "        1.7360e+01, 9.9300e+00, 4.7900e+00, 1.8700e+00, 5.6000e-01,\n",
              "        1.2000e-01, 2.0000e-02, 0.0000e+00, 0.0000e+00, 0.0000e+00,\n",
              "        0.0000e+00, 0.0000e+00, 0.0000e+00, 0.0000e+00, 0.0000e+00,\n",
              "        0.0000e+00, 0.0000e+00, 0.0000e+00, 0.0000e+00, 0.0000e+00,\n",
              "        0.0000e+00],\n",
              "       [6.8330e+01, 6.0000e+01, 5.1060e+01, 4.1460e+01, 3.1350e+01,\n",
              "        2.1580e+01, 1.3090e+01, 6.7400e+00, 2.8200e+00, 9.1000e-01,\n",
              "        2.1000e-01, 3.0000e-02, 0.0000e+00, 0.0000e+00, 0.0000e+00,\n",
              "        0.0000e+00, 0.0000e+00, 0.0000e+00, 0.0000e+00, 0.0000e+00,\n",
              "        0.0000e+00, 0.0000e+00, 0.0000e+00, 0.0000e+00, 0.0000e+00,\n",
              "        0.0000e+00],\n",
              "       [7.2270e+01, 6.4230e+01, 5.5610e+01, 4.6350e+01, 3.6410e+01,\n",
              "        2.6250e+01, 1.6870e+01, 9.2800e+00, 4.1700e+00, 1.4500e+00,\n",
              "        3.6000e-01, 6.0000e-02, 0.0000e+00, 0.0000e+00, 0.0000e+00,\n",
              "        0.0000e+00, 0.0000e+00, 0.0000e+00, 0.0000e+00, 0.0000e+00,\n",
              "        0.0000e+00, 0.0000e+00, 0.0000e+00, 0.0000e+00, 0.0000e+00,\n",
              "        0.0000e+00],\n",
              "       [7.6090e+01, 6.8330e+01, 6.0000e+01, 5.1060e+01, 4.1460e+01,\n",
              "        3.1240e+01, 2.1220e+01, 1.2480e+01, 6.0400e+00, 2.2700e+00,\n",
              "        6.2000e-01, 1.1000e-01, 1.0000e-02, 0.0000e+00, 0.0000e+00,\n",
              "        0.0000e+00, 0.0000e+00, 0.0000e+00, 0.0000e+00, 0.0000e+00,\n",
              "        0.0000e+00, 0.0000e+00, 0.0000e+00, 0.0000e+00, 0.0000e+00,\n",
              "        0.0000e+00],\n",
              "       [7.9770e+01, 7.2270e+01, 6.4230e+01, 5.5610e+01, 4.6350e+01,\n",
              "        3.6410e+01, 2.6040e+01, 1.6360e+01, 8.5600e+00, 3.5000e+00,\n",
              "        1.0300e+00, 1.9000e-01, 2.0000e-02, 0.0000e+00, 0.0000e+00,\n",
              "        0.0000e+00, 0.0000e+00, 0.0000e+00, 0.0000e+00, 0.0000e+00,\n",
              "        0.0000e+00, 0.0000e+00, 0.0000e+00, 0.0000e+00, 0.0000e+00,\n",
              "        0.0000e+00],\n",
              "       [8.3320e+01, 7.6090e+01, 6.8330e+01, 6.0000e+01, 5.1060e+01,\n",
              "        4.1460e+01, 3.1170e+01, 2.0870e+01, 1.1810e+01, 5.2800e+00,\n",
              "        1.7100e+00, 3.5000e-01, 3.0000e-02, 0.0000e+00, 0.0000e+00,\n",
              "        0.0000e+00, 0.0000e+00, 0.0000e+00, 0.0000e+00, 0.0000e+00,\n",
              "        0.0000e+00, 0.0000e+00, 0.0000e+00, 0.0000e+00, 0.0000e+00,\n",
              "        0.0000e+00],\n",
              "       [8.6740e+01, 7.9770e+01, 7.2270e+01, 6.4230e+01, 5.5610e+01,\n",
              "        4.6350e+01, 3.6410e+01, 2.5870e+01, 1.5820e+01, 7.7500e+00,\n",
              "        2.7700e+00, 6.3000e-01, 7.0000e-02, 0.0000e+00, 0.0000e+00,\n",
              "        0.0000e+00, 0.0000e+00, 0.0000e+00, 0.0000e+00, 0.0000e+00,\n",
              "        0.0000e+00, 0.0000e+00, 0.0000e+00, 0.0000e+00, 0.0000e+00,\n",
              "        0.0000e+00],\n",
              "       [9.0050e+01, 8.3320e+01, 7.6090e+01, 6.8330e+01, 6.0000e+01,\n",
              "        5.1060e+01, 4.1460e+01, 3.1170e+01, 2.0530e+01, 1.1070e+01,\n",
              "        4.4100e+00, 1.1200e+00, 1.3000e-01, 0.0000e+00, 0.0000e+00,\n",
              "        0.0000e+00, 0.0000e+00, 0.0000e+00, 0.0000e+00, 0.0000e+00,\n",
              "        0.0000e+00, 0.0000e+00, 0.0000e+00, 0.0000e+00, 0.0000e+00,\n",
              "        0.0000e+00],\n",
              "       [9.3250e+01, 8.6740e+01, 7.9770e+01, 7.2270e+01, 6.4230e+01,\n",
              "        5.5610e+01, 4.6350e+01, 3.6410e+01, 2.5740e+01, 1.5260e+01,\n",
              "        6.8200e+00, 1.9600e+00, 2.7000e-01, 0.0000e+00, 0.0000e+00,\n",
              "        0.0000e+00, 0.0000e+00, 0.0000e+00, 0.0000e+00, 0.0000e+00,\n",
              "        0.0000e+00, 0.0000e+00, 0.0000e+00, 0.0000e+00, 0.0000e+00,\n",
              "        0.0000e+00],\n",
              "       [9.6330e+01, 9.0050e+01, 8.3320e+01, 7.6090e+01, 6.8330e+01,\n",
              "        6.0000e+01, 5.1060e+01, 4.1460e+01, 3.1170e+01, 2.0250e+01,\n",
              "        1.0220e+01, 3.3800e+00, 5.3000e-01, 0.0000e+00, 0.0000e+00,\n",
              "        0.0000e+00, 0.0000e+00, 0.0000e+00, 0.0000e+00, 0.0000e+00,\n",
              "        0.0000e+00, 0.0000e+00, 0.0000e+00, 0.0000e+00, 0.0000e+00,\n",
              "        0.0000e+00],\n",
              "       [9.9310e+01, 9.3250e+01, 8.6740e+01, 7.9770e+01, 7.2270e+01,\n",
              "        6.4230e+01, 5.5610e+01, 4.6350e+01, 3.6410e+01, 2.5740e+01,\n",
              "        1.4710e+01, 5.6900e+00, 1.0500e+00, 0.0000e+00, 0.0000e+00,\n",
              "        0.0000e+00, 0.0000e+00, 0.0000e+00, 0.0000e+00, 0.0000e+00,\n",
              "        0.0000e+00, 0.0000e+00, 0.0000e+00, 0.0000e+00, 0.0000e+00,\n",
              "        0.0000e+00],\n",
              "       [1.0218e+02, 9.6330e+01, 9.0050e+01, 8.3320e+01, 7.6090e+01,\n",
              "        6.8330e+01, 6.0000e+01, 5.1060e+01, 4.1460e+01, 3.1170e+01,\n",
              "        2.0110e+01, 9.2500e+00, 2.0900e+00, 0.0000e+00, 0.0000e+00,\n",
              "        0.0000e+00, 0.0000e+00, 0.0000e+00, 0.0000e+00, 0.0000e+00,\n",
              "        0.0000e+00, 0.0000e+00, 0.0000e+00, 0.0000e+00, 0.0000e+00,\n",
              "        0.0000e+00],\n",
              "       [1.0495e+02, 9.9310e+01, 9.3250e+01, 8.6740e+01, 7.9770e+01,\n",
              "        7.2270e+01, 6.4230e+01, 5.5610e+01, 4.6350e+01, 3.6410e+01,\n",
              "        2.5740e+01, 1.4290e+01, 4.1500e+00, 0.0000e+00, 0.0000e+00,\n",
              "        0.0000e+00, 0.0000e+00, 0.0000e+00, 0.0000e+00, 0.0000e+00,\n",
              "        0.0000e+00, 0.0000e+00, 0.0000e+00, 0.0000e+00, 0.0000e+00,\n",
              "        0.0000e+00],\n",
              "       [1.0763e+02, 1.0218e+02, 9.6330e+01, 9.0050e+01, 8.3320e+01,\n",
              "        7.6090e+01, 6.8330e+01, 6.0000e+01, 5.1060e+01, 4.1460e+01,\n",
              "        3.1170e+01, 2.0110e+01, 8.2500e+00, 0.0000e+00, 0.0000e+00,\n",
              "        0.0000e+00, 0.0000e+00, 0.0000e+00, 0.0000e+00, 0.0000e+00,\n",
              "        0.0000e+00, 0.0000e+00, 0.0000e+00, 0.0000e+00, 0.0000e+00,\n",
              "        0.0000e+00]])"
            ]
          },
          "execution_count": 196,
          "metadata": {},
          "output_type": "execute_result"
        }
      ],
      "source": [
        "ap_payoff.round(decimals=2)"
      ]
    },
    {
      "cell_type": "code",
      "execution_count": null,
      "metadata": {
        "id": "XXTvsW9M5Hz1"
      },
      "outputs": [],
      "source": [
        "#flips = np.random.randint(0, 2, size=25)\n",
        "#path = ''.join('u' if bit == 1 else 'd' for bit in flips)\n",
        "path = \"dddddduududuuuduudduududd\"\n",
        "flips = [1 if x == 'u' else 0 for x in path]"
      ]
    },
    {
      "cell_type": "code",
      "execution_count": null,
      "metadata": {
        "colab": {
          "base_uri": "https://localhost:8080/",
          "height": 35
        },
        "id": "zH1va5-i6qq-",
        "outputId": "92b637da-f783-4f33-9b2e-907abce83aca"
      },
      "outputs": [
        {
          "data": {
            "application/vnd.google.colaboratory.intrinsic+json": {
              "type": "string"
            },
            "text/plain": [
              "'dddddduududuuuduudduududd'"
            ]
          },
          "execution_count": 50,
          "metadata": {},
          "output_type": "execute_result"
        }
      ],
      "source": [
        "path"
      ]
    },
    {
      "cell_type": "code",
      "execution_count": null,
      "metadata": {
        "id": "F1avEH5l68H8"
      },
      "outputs": [],
      "source": [
        "ps = np.concatenate(([0], np.cumsum(flips)))"
      ]
    },
    {
      "cell_type": "code",
      "execution_count": null,
      "metadata": {
        "colab": {
          "base_uri": "https://localhost:8080/"
        },
        "id": "2CfsBXiC8d4f",
        "outputId": "97212ed9-98af-4c08-994e-c6a4741173aa"
      },
      "outputs": [
        {
          "name": "stdout",
          "output_type": "stream",
          "text": [
            "Exercise occurs at t=24\n",
            "Exercise occurs at t=25\n"
          ]
        }
      ],
      "source": [
        "delta_path = []\n",
        "stock_path = []\n",
        "option_path = []\n",
        "for i in range(0, 26):\n",
        "    the_delta = ap_delta[i][ps[i]] if i < 25 else 0.0\n",
        "    the_price = ast[i][ps[i]]\n",
        "    delta_path.append(the_delta)\n",
        "    stock_path.append(the_price)\n",
        "    option_path.append(ap_payoff[i][ps[i]])\n",
        "    if (the_price + ap_payoff[i][ps[i]] <= 182.005):\n",
        "       print(f\"Exercise occurs at t={i}\")"
      ]
    },
    {
      "cell_type": "code",
      "execution_count": null,
      "metadata": {
        "id": "4zGQmY6D9tws"
      },
      "outputs": [],
      "source": [
        "ult = 0\n",
        "bal = 0\n",
        "balances = []\n",
        "stock_trades = []\n",
        "inters = []\n",
        "for i in range(0, 26):\n",
        "  the_delta = delta_path[i]\n",
        "  the_change = the_delta - ult\n",
        "  the_trade = (stock_path[i] if i < 25 else 182) * the_change\n",
        "  inter = (np.exp(0.02 * 0.02) - 1) * bal\n",
        "  ult = the_delta\n",
        "  bal += inter - the_trade\n",
        "  stock_trades.append(-the_trade)\n",
        "  balances.append(bal)\n",
        "  inters.append(inter)"
      ]
    },
    {
      "cell_type": "code",
      "execution_count": null,
      "metadata": {
        "colab": {
          "base_uri": "https://localhost:8080/"
        },
        "id": "gW1dY9J7_rCS",
        "outputId": "c52d74d1-443e-45df-b59d-ee0ccc88086b"
      },
      "outputs": [
        {
          "name": "stdout",
          "output_type": "stream",
          "text": [
            "The path chosen is: dddddduududuuuduudduududd\n"
          ]
        }
      ],
      "source": [
        "print (f\"The path chosen is: {path}\")"
      ]
    },
    {
      "cell_type": "code",
      "execution_count": null,
      "metadata": {
        "colab": {
          "base_uri": "https://localhost:8080/"
        },
        "id": "SQ2qk84ZBoar",
        "outputId": "de269994-d659-481b-cf33-16241f866e0e"
      },
      "outputs": [
        {
          "name": "stdout",
          "output_type": "stream",
          "text": [
            "Time\tDelta\tStock\tOption\tTrade Amount\tInterest Cash balance\n",
            "---------------------------------------------------------------\n",
            "0\t-0.48\t180.00\t 13.04\t   85.60\t0.00\t85.60\n",
            "1\t-0.56\t173.75\t 16.05\t   14.81\t0.03\t100.45\n",
            "2\t-0.65\t167.71\t 19.48\t   14.60\t0.04\t115.09\n",
            "3\t-0.73\t161.89\t 23.30\t   13.79\t0.05\t128.92\n",
            "4\t-0.81\t156.26\t 27.48\t   12.39\t0.05\t141.37\n",
            "5\t-0.88\t150.83\t 31.96\t   10.54\t0.06\t151.97\n",
            "6\t-0.94\t145.59\t 36.64\t    8.41\t0.06\t160.44\n",
            "7\t -0.9\t150.83\t 31.79\t   -6.31\t0.06\t154.19\n",
            "8\t-0.84\t156.26\t 26.98\t   -8.43\t0.06\t145.83\n",
            "9\t-0.91\t150.83\t 31.63\t   10.62\t0.06\t156.51\n",
            "10\t-0.86\t156.26\t 26.73\t   -8.16\t0.06\t148.40\n",
            "11\t-0.93\t150.83\t 31.47\t   10.42\t0.06\t158.88\n",
            "12\t-0.88\t156.26\t 26.49\t   -7.48\t0.06\t151.46\n",
            "13\t-0.82\t161.89\t 21.58\t  -10.39\t0.06\t141.13\n",
            "14\t-0.74\t167.71\t 16.87\t  -13.82\t0.06\t127.37\n",
            "15\t-0.85\t161.89\t 21.22\t   17.54\t0.05\t144.97\n",
            "16\t-0.76\t167.71\t 16.36\t  -13.68\t0.06\t131.35\n",
            "17\t-0.66\t173.75\t 11.81\t  -18.68\t0.05\t112.72\n",
            "18\t -0.8\t167.71\t 15.82\t   23.69\t0.05\t136.45\n",
            "19\t-0.91\t161.89\t 20.53\t   18.99\t0.05\t155.49\n",
            "20\t-0.85\t167.71\t 15.26\t  -11.66\t0.06\t143.90\n",
            "21\t-0.73\t173.75\t 10.22\t  -19.32\t0.06\t124.63\n",
            "22\t-0.92\t167.71\t 14.71\t   30.51\t0.05\t155.20\n",
            "23\t-0.82\t173.75\t  9.25\t  -15.83\t0.06\t139.43\n",
            "24\t -1.0\t167.71\t 14.29\t   29.36\t0.06\t168.84\n",
            "At time t=24, the option is exercised early, so we pay out $182 to buy back our shares\n"
          ]
        }
      ],
      "source": [
        "print(\"Time\\tDelta\\tStock\\tOption\\tTrade Amount\\tInterest Cash balance\")\n",
        "print(\"---------------------------------------------------------------\")\n",
        "for i in range(25):\n",
        "    print(f\"{i}\\t{delta_path[i]:5.2}\\t{stock_path[i]:.2f}\\t{option_path[i]:6.2f}\\t{stock_trades[i]:8.2f}\\t{inters[i]:.2f}\\t{balances[i]:.2f}\")\n",
        "\n",
        "print(f\"At time t=24, the option is exercised early, so we pay out $182 to buy back our shares\")"
      ]
    },
    {
      "cell_type": "markdown",
      "metadata": {
        "id": "HnGdyheCE7WQ"
      },
      "source": [
        "The table shows the delta hedging needed at each stage.  \n",
        "At time t=24, the option is exercised early, so we pay out $182 to buy back our shares.  This leaves us with a cash balance of -13.16.\n",
        "\n",
        "Our initial premium is **13.04** from sale of the put option; which if we invest at the risk-free rate of 2% for 6 months will grow to **13.16**.  Hence we break even.\n",
        "\n",
        "Time|Delta|Stock Price|Option Price| Interest| Cash Balance\n",
        "----|-----|-----------|------------|---------|--------------\n",
        "0|-0.48|180.00| 13.04|   85.60|0.00|85.60\n",
        "1|-0.56|173.75| 16.05|   14.81|0.03|100.45\n",
        "2|-0.65|167.71| 19.48|   14.60|0.04|115.09\n",
        "3|-0.73|161.89| 23.30|   13.79|0.05|128.92\n",
        "4|-0.81|156.26| 27.48|   12.39|0.05|141.37\n",
        "5|-0.88|150.83| 31.96|   10.54|0.06|151.97\n",
        "6|-0.94|145.59| 36.64|    8.41|0.06|160.44\n",
        "7| -0.9|150.83| 31.79|   -6.31|0.06|154.19\n",
        "8|-0.84|156.26| 26.98|   -8.43|0.06|145.83\n",
        "9|-0.91|150.83| 31.63|   10.62|0.06|156.51\n",
        "10|-0.86|156.26| 26.73|   -8.16|0.06|148.40\n",
        "11|-0.93|150.83| 31.47|   10.42|0.06|158.88\n",
        "12|-0.88|156.26| 26.49|   -7.48|0.06|151.46\n",
        "13|-0.82|161.89| 21.58|  -10.39|0.06|141.13\n",
        "14|-0.74|167.71| 16.87|  -13.82|0.06|127.37\n",
        "15|-0.85|161.89| 21.22|   17.54|0.05|144.97\n",
        "16|-0.76|167.71| 16.36|  -13.68|0.06|131.35\n",
        "17|-0.66|173.75| 11.81|  -18.68|0.05|112.72\n",
        "18| -0.8|167.71| 15.82|   23.69|0.05|136.45\n",
        "19|-0.91|161.89| 20.53|   18.99|0.05|155.49\n",
        "20|-0.85|167.71| 15.26|  -11.66|0.06|143.90\n",
        "21|-0.73|173.75| 10.22|  -19.32|0.06|124.63\n",
        "22|-0.92|167.71| 14.71|   30.51|0.05|155.20\n",
        "23|-0.82|173.75|  9.25|  -15.83|0.06|139.43\n",
        "24| -1.0|167.71| 14.29|   29.36|0.06|168.84\n",
        "\n",
        "\n",
        "The goal of delta-hedging is to create a portfolio of the underlying asset and the option that has a delta of zero or as close to zero as possible. This helps to neutralize the risk of changes in the underlying asset price.\n",
        "\n",
        "In the delta-hedging process, adjustments are made to the portfolio based on changes in the underlying asset price. When the underlying asset price increases, the portfolio's delta decreases, requiring the trader to sell some of the underlying asset to maintain a delta-neutral position. (The delta for a put options is between 0 and -1, so we are always short shares). Conversely, when the underlying asset price decreases, the portfolio's delta increases, necessitating the purchase of more underlying asset.\n",
        "\n",
        "American options can be exercised at any time, including before expiration, if it is advantageous for the option holder. This means that delta-hedging for American options requires the trader to account for the possibility of early exercise and adjust the hedging portfolio accordingly. Delta-hedging for American options is more complex than for European options due to the additional consideration of early exercise.  The delta hedging is costlier; we need to maintain a replication portfolio at all times based on how the option will react to changes in the stock price at each time step, which needs to account for early exercise.  "
      ]
    },
    {
      "cell_type": "markdown",
      "metadata": {
        "id": "bqjjia6h3cJ1"
      },
      "source": [
        "## Problem 27"
      ]
    },
    {
      "cell_type": "code",
      "execution_count": null,
      "metadata": {
        "colab": {
          "base_uri": "https://localhost:8080/"
        },
        "id": "-I6SIPuE3dAK",
        "outputId": "feee1ccb-05b1-4e91-e855-6c96f32afaa7"
      },
      "outputs": [
        {
          "name": "stdout",
          "output_type": "stream",
          "text": [
            "Path: dddddduududuuuduudduududd\n"
          ]
        }
      ],
      "source": [
        "print(f\"Path: {path}\")"
      ]
    },
    {
      "cell_type": "code",
      "execution_count": null,
      "metadata": {
        "colab": {
          "base_uri": "https://localhost:8080/"
        },
        "id": "5bv-TwCMXiPC",
        "outputId": "834fb3ee-b039-41b6-f2ff-670e96d20569"
      },
      "outputs": [
        {
          "name": "stdout",
          "output_type": "stream",
          "text": [
            "[180.0, 173.75, 167.71, 161.89, 156.26, 150.83, 145.59, 150.83, 156.26, 150.83, 156.26, 150.83, 156.26, 161.89, 167.71, 161.89, 167.71, 173.75, 167.71, 161.89, 167.71, 173.75, 167.71, 173.75, 167.71, 161.89]\n"
          ]
        }
      ],
      "source": [
        "print ([round(x, 2) for x in stock_path])"
      ]
    },
    {
      "cell_type": "markdown",
      "metadata": {
        "id": "v03f1rs4gTwN"
      },
      "source": []
    },
    {
      "cell_type": "code",
      "execution_count": null,
      "metadata": {
        "colab": {
          "base_uri": "https://localhost:8080/"
        },
        "id": "GqFQ6JMYXoi5",
        "outputId": "238b6978-5586-4a25-beba-40aa62d04b16"
      },
      "outputs": [
        {
          "name": "stdout",
          "output_type": "stream",
          "text": [
            "For the path given above, the average price is: 162.78\n"
          ]
        }
      ],
      "source": [
        "print(f\"For the path given above, the average price is: {np.mean(stock_path):.2f}\")"
      ]
    },
    {
      "cell_type": "code",
      "execution_count": null,
      "metadata": {
        "colab": {
          "base_uri": "https://localhost:8080/"
        },
        "id": "idtVCvxyX4iU",
        "outputId": "fb0fe296-e5ed-4dad-ff65-b3eefe80e473"
      },
      "outputs": [
        {
          "name": "stdout",
          "output_type": "stream",
          "text": [
            "For the path given above, the payoff for the Asian option is: 17.22\n"
          ]
        }
      ],
      "source": [
        "print(f\"For the path given above, the payoff for the Asian option is: {180 - np.mean(stock_path):.2f}\")"
      ]
    },
    {
      "cell_type": "code",
      "execution_count": null,
      "metadata": {
        "id": "Y8GmVuo0YIZN"
      },
      "outputs": [],
      "source": [
        "def asian_option_mc(S_ini, K, T, r, sigma, N, M):\n",
        "    dt = T / N  # Define time step\n",
        "    u = np.exp(sigma * np.sqrt(dt))  # Define u\n",
        "    d = np.exp(-sigma * np.sqrt(dt))  # Define d\n",
        "    p = (np.exp(r * dt) - d) / (u - d)  # risk neutral probs\n",
        "    Asian = np.zeros([M])  # Asian prices\n",
        "    S = np.zeros([M, N + 1])  # underlying price\n",
        "    S[:, 0] = S_ini\n",
        "\n",
        "    for j in range(0, M):\n",
        "        random = np.random.binomial(1, p, N + 1)\n",
        "        Total = S_ini\n",
        "        for i in range(1, N + 1):\n",
        "            if random[i] == 1:\n",
        "                S[j, i] = S[j, i - 1] * u\n",
        "                Total = Total + S[j, i]\n",
        "            else:\n",
        "                S[j, i] = S[j, i - 1] * d\n",
        "                Total = Total + S[j, i]\n",
        "\n",
        "        Asian[j] = np.exp(-r * T) * max(K - (Total / (N + 1)), 0)\n",
        "\n",
        "    return S, Asian"
      ]
    },
    {
      "cell_type": "code",
      "execution_count": null,
      "metadata": {
        "id": "ZSUAUnaaZBgb"
      },
      "outputs": [],
      "source": [
        "S, Asian = asian_option_mc(180, 180, 0.50, 0.02, 0.25, 25, 10**6)"
      ]
    },
    {
      "cell_type": "code",
      "execution_count": null,
      "metadata": {
        "colab": {
          "base_uri": "https://localhost:8080/"
        },
        "id": "by1I74s6ZOWd",
        "outputId": "3d726c39-47bd-4f8f-c2f2-6d1e304f1b4f"
      },
      "outputs": [
        {
          "name": "stdout",
          "output_type": "stream",
          "text": [
            "The price of the Asian option using the Monte Carlo method is: 6.80\n"
          ]
        }
      ],
      "source": [
        "print (f\"The price of the Asian option using the Monte Carlo method is: {np.mean(Asian):.2f}\")"
      ]
    },
    {
      "cell_type": "code",
      "execution_count": null,
      "metadata": {
        "colab": {
          "background_save": true
        },
        "id": "9gG1rCniuYeW",
        "outputId": "9a9428e0-ca14-4dce-d9c3-69d90d27e815"
      },
      "outputs": [
        {
          "name": "stdout",
          "output_type": "stream",
          "text": [
            "6.808952535960736\n",
            "6.808952535863569\n"
          ]
        }
      ],
      "source": [
        "import math\n",
        "\n",
        "N = 25\n",
        "prices = [0.0] * (1 << N)\n",
        "\n",
        "mp = [[] for _ in range(N+1)]\n",
        "for i in range(N+1):\n",
        "    mp[i] = [0.0] * (1 << i)\n",
        "\n",
        "dt = 0.50 / N\n",
        "u = math.exp(0.25 * math.sqrt(dt))\n",
        "d = math.exp(-0.25 * math.sqrt(dt))\n",
        "p = (math.exp(0.02 * dt) - d) / (u - d)\n",
        "res = 0.0\n",
        "\n",
        "for i in range(1 << N):\n",
        "    price = 180.0\n",
        "    tot = 180.0\n",
        "    up_cnt = 0\n",
        "    for j in range(N):\n",
        "        if i & (1 << (N - j - 1)):\n",
        "            price *= u\n",
        "            up_cnt += 1\n",
        "        else:\n",
        "            price *= d\n",
        "        tot += price\n",
        "    prob = math.pow(p, up_cnt) * math.pow(1 - p, N - up_cnt)\n",
        "    prices[i] = max(180 - (tot / (N + 1)), 0.0)\n",
        "\n",
        "    prob2 = 1.0\n",
        "    for j in range(N+1):\n",
        "        mp[N-j][i >> j] += prices[i] * prob2 * math.exp(-0.02 * 0.50 * (j / N))\n",
        "        if i & (1 << j):\n",
        "            prob2 *= p\n",
        "        else:\n",
        "            prob2 *= (1 - p)\n",
        "    res += prices[i] * prob\n",
        "\n",
        "print(mp[0][0])\n",
        "print(res * math.exp(-0.02 * 0.50))\n"
      ]
    },
    {
      "cell_type": "code",
      "execution_count": null,
      "metadata": {
        "id": "OlpYIYdeufxj"
      },
      "outputs": [],
      "source": [
        "\n",
        "path = \"dddddduududuuuduudduududd\"\n",
        "st = 180.0\n",
        "old_delta = 0.0\n",
        "bal = 0.0\n",
        "mask = 0\n",
        "\n",
        "for i in range(N):\n",
        "    st_up = st * u\n",
        "    st_down = st * d\n",
        "    opt_u = mp[i+1][2*mask+1]\n",
        "    opt_d = mp[i+1][2*mask]\n",
        "    delta = (opt_u - opt_d) / (st_up - st_down)\n",
        "    interest = bal * (math.exp(0.02 * 0.5/N) - 1)\n",
        "    new_bal = bal + interest - (delta - old_delta) * st\n",
        "\n",
        "    print(f\"{i}|{st}|{mp[i][mask]}|{delta:.5f}|{-(delta - old_delta) * st}|{interest}|{new_bal}\")\n",
        "\n",
        "    if path[i] == 'u':\n",
        "        mask = mask * 2 + 1\n",
        "        st *= u\n",
        "    else:\n",
        "        mask = mask * 2\n",
        "        st *= d\n",
        "\n",
        "    bal = new_bal\n",
        "    old_delta = delta\n",
        "\n",
        "print(st, \"|\", prices[mask], \"|\")"
      ]
    },
    {
      "cell_type": "markdown",
      "metadata": {
        "id": "ikB1D_dtgUvX"
      },
      "source": [
        "I computed the price of an Asian option using a Binomial tree (brute-forcing all possible paths) and also obtained a result of 6.80\n",
        "\n",
        "time step | stock price | option price | delta | change (trade) | interest | cash balance \n",
        "-- |-- | -- | --- | --- | --- | ---\n",
        "0|180.00|6.81|-0.44396|79.91|0.00|79.91\n",
        "1|173.75|9.62|-0.55905|20.00|0.03|99.94\n",
        "2|167.71|13.04|-0.65980|16.90|0.04|116.88\n",
        "3|161.89|16.93|-0.72949|11.28|0.05|128.21\n",
        "4|156.26|21.09|-0.75949|4.69|0.05|132.95\n",
        "5|150.83|25.26|-0.75393|-0.84|0.05|132.16\n",
        "6|145.59|29.27|-0.72624|-4.03|0.05|128.18\n",
        "7|150.83|25.52|-0.68638|-6.01|0.05|122.22\n",
        "8|156.26|21.85|-0.64510|-6.45|0.05|115.82\n",
        "9|150.83|25.40|-0.61301|-4.84|0.05|111.02\n",
        "10|156.26|22.12|-0.57427|-6.05|0.04|105.02\n",
        "11|150.83|25.28|-0.53706|-5.61|0.04|99.45\n",
        "12|156.26|22.41|-0.49880|-5.98|0.04|93.51\n",
        "13|161.89|19.64|-0.46052|-6.20|0.04|87.35\n",
        "14|167.71|16.99|-0.42223|-6.42|0.03|80.96\n",
        "15|161.89|19.49|-0.38392|-6.20|0.03|74.79\n",
        "16|167.71|17.29|-0.34560|-6.43|0.03|68.39\n",
        "17|173.75|15.23|-0.30726|-6.66|0.03|61.76\n",
        "18|167.71|17.11|-0.26891|-6.43|0.02|55.35\n",
        "19|161.89|18.70|-0.23054|-6.21|0.02|49.16\n",
        "20|167.71|17.38|-0.19215|-6.44|0.02|42.75\n",
        "21|173.75|16.24|-0.15375|-6.67|0.02|36.09\n",
        "22|167.71|17.19|-0.11534|-6.44|0.01|29.66\n",
        "23|173.75|16.51|-0.07691|-6.68|0.01|23.00\n",
        "24|167.71|16.98|-0.03846|-6.45|0.01|16.56\n",
        "25|161.89|17.22|0|-6.23|0.01|10.33 - 17.22 = -6.88\n",
        "\n",
        "At time t=25, we close out our short position.  We need to pay out $17.22 to the option holder.  Our initial premium was 6.81, so we break even after accounting for the interest on the initial premium.\n"
      ]
    }
  ],
  "metadata": {
    "colab": {
      "provenance": []
    },
    "kernelspec": {
      "display_name": "Python 3",
      "name": "python3"
    },
    "language_info": {
      "name": "python"
    }
  },
  "nbformat": 4,
  "nbformat_minor": 0
}