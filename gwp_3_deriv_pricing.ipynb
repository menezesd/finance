{
 "cells": [
  {
   "cell_type": "markdown",
   "metadata": {
    "id": "CkqInreXgUim"
   },
   "source": [
    "# Step 1\n",
    "\n",
    "One of the main differences between the Heston model and the Black-Scholes model lies in their treatment of volatility. In the Black-Scholes model, volatility is assumed to be constant over the life of the option. \n",
    "\n",
    "In contrast, the Heston model allows for stochastic volatility, meaning that volatility itself is modeled as a random process. It assumes that the underlying asset's volatility follows a square-root diffusion process, known as a stochastic volatility process. This allows the model to capture the observed volatility clustering and mean-reversion properties commonly seen in financial markets.\n",
    "\n",
    "The stock price satisfies: \n",
    "\n",
    "$dS_t = \\mu S_t\\,dt + \\sqrt{\\nu_t} S_t\\,dW^S_t$\n",
    "\n",
    "and the volatility satisfies\n",
    "\n",
    "$d\\nu_t = \\kappa(\\theta - \\nu_t)\\,dt + \\sigma \\sqrt{\\nu_t}\\,dW^{\\nu}_t$\n",
    "\n",
    "Here:\n",
    "\n",
    "* $\\nu_0$ is the initial variance\n",
    "* $\\kappa$ is the rate at which $\\nu$ reverts to the mean\n",
    "* $\\theta$ is the long-run variance\n",
    "* $W^S_t$ and $W^\\nu_t$ are Wiener processes whose correlation is $\\rho$\n",
    "* $\\sigma$ is the volatility of volatility\n",
    "\n",
    "We compute option prices in the Heston Model using the following parameters\n",
    "\n",
    "* $S_0 = 80$\n",
    "* $r = 5.5\\%$\n",
    "* $\\sigma = 35\\%$\n",
    "* Time to maturity = $3$ months.\n",
    "\n",
    "\n",
    "For the Heston model, we use the following parameters\n",
    "\n",
    "* $\\nu_0 = 3.2\\%$\n",
    "* $\\kappa_\\nu = 1.85$\n",
    "* $\\theta_\\nu = 0.045$\n",
    "\n",
    "## Question 5\n",
    "\n",
    "We use Monte-Carlo simulation in a Heston model to price At-the-Money European call and put options.  We use a correlation value of $-0.30$.\n",
    "\n",
    "To do this, we create a function `generate_heston_paths' that uses the NumPy library to generate paths for the Heston stochastic volatility model. It iterates over a specified number of steps to simulate asset price and volatility paths based on the Heston model dynamics. The function returns an array of asset price paths, and optionally, an array of volatility paths if specified. By leveraging NumPy's vectorized computations, the code efficiently generates paths for the Heston model, making it suitable for financial applications involving stochastic volatility analysis."
   ]
  },
  {
   "cell_type": "code",
   "execution_count": 27,
   "metadata": {
    "id": "SVHq0Xg5gMEx"
   },
   "outputs": [],
   "source": [
    "import numpy as np\n",
    "def generate_heston_paths(S, T, r, kappa, theta, v_0, rho, sigma, \n",
    "                          steps, Npaths, return_vol=False):\n",
    "    dt = T/steps\n",
    "    size = (Npaths, steps)\n",
    "    prices = np.zeros(size)\n",
    "    sigs = np.zeros(size)\n",
    "    S_t = S\n",
    "    v_t = v_0\n",
    "    for t in range(steps):\n",
    "        WT = np.random.multivariate_normal(np.array([0,0]), \n",
    "                                           cov = np.array([[1,rho],\n",
    "                                                          [rho,1]]), \n",
    "                                           size=Npaths) * np.sqrt(dt) \n",
    "        \n",
    "        S_t = S_t*(np.exp( (r- 0.5*v_t)*dt+ np.sqrt(v_t) *WT[:,0] ) ) \n",
    "        v_t = np.abs(v_t + kappa*(theta-v_t)*dt + sigma*np.sqrt(v_t)*WT[:,1])\n",
    "        prices[:, t] = S_t\n",
    "        sigs[:, t] = v_t\n",
    "    \n",
    "    if return_vol:\n",
    "        return prices, sigs\n",
    "    \n",
    "    return prices"
   ]
  },
  {
   "cell_type": "code",
   "execution_count": null,
   "metadata": {
    "id": "i24UYQmL_eqp"
   },
   "outputs": [],
   "source": [
    "def random_number_gen(M, Ite):\n",
    "    rand = np.random.standard_normal((2, M + 1, Ite))\n",
    "    return rand"
   ]
  },
  {
   "cell_type": "code",
   "execution_count": 29,
   "metadata": {
    "id": "sowcjLmR_gsx"
   },
   "outputs": [],
   "source": [
    "v0 = 0.032\n",
    "kappa_v = 1.85\n",
    "sigma_v = 0.35\n",
    "theta_v = 0.045\n",
    "rho = -0.30\n",
    "\n",
    "S0 = 80 # Current underlying asset price\n",
    "r = 0.055  # Risk-free rate\n",
    "T = 3/12 # Number of years\n",
    "M = 180  # Total time steps\n",
    "Ite = 100000  # Number of simulations\n",
    "dt = T / M  # Length of time step"
   ]
  },
  {
   "cell_type": "code",
   "execution_count": null,
   "metadata": {
    "id": "K2dMcG2t_yf3"
   },
   "outputs": [],
   "source": [
    "np.random.seed(42)\n",
    "# Generating random numbers from standard normal\n",
    "\n",
    "# Covariance Matrix\n",
    "covariance_matrix = np.zeros((2, 2), dtype=float)\n",
    "covariance_matrix[0] = [1.0, rho]\n",
    "covariance_matrix[1] = [rho, 1.0]\n",
    "cho_matrix = np.linalg.cholesky(covariance_matrix)"
   ]
  },
  {
   "cell_type": "markdown",
   "metadata": {
    "id": "EsdyADJpWolu"
   },
   "source": [
    "To calculate the price of a put or call option in the Heston model, we compute the option payoffs, discount the expected payoff to the present time at the risk-free rate of interest."
   ]
  },
  {
   "cell_type": "code",
   "execution_count": null,
   "metadata": {
    "id": "P5ncjJmN_7jE"
   },
   "outputs": [],
   "source": [
    "def heston_call_mc(S0, K, r, T, t):\n",
    "    np.random.seed(42)\n",
    "    S = generate_heston_paths(S0, T, r, kappa_v, theta_v, v0, rho, sigma_v, M, Ite)\n",
    "    payoff = np.maximum(0, -K + S[:, -1])\n",
    "\n",
    "    average = np.mean(payoff)\n",
    "\n",
    "    return np.exp(-r * (T - t)) * average"
   ]
  },
  {
   "cell_type": "code",
   "execution_count": null,
   "metadata": {
    "id": "SC22c1fwAozO"
   },
   "outputs": [],
   "source": [
    "def heston_put_mc(S0, K, r, T, t):\n",
    "    np.random.seed(42)\n",
    "    S = generate_heston_paths(S0, T, r, kappa_v, theta_v, v0, rho, sigma_v, M, Ite)\n",
    "    payoff = np.maximum(0, K - S[:, -1])\n",
    "\n",
    "    average = np.mean(payoff)\n",
    "\n",
    "    return np.exp(-r * (T - t)) * average"
   ]
  },
  {
   "cell_type": "code",
   "execution_count": null,
   "metadata": {
    "colab": {
     "base_uri": "https://localhost:8080/"
    },
    "id": "ToLAg9lqAAm0",
    "outputId": "9855bbae-6217-4a37-bad1-febf2b8a0e1b"
   },
   "outputs": [
    {
     "name": "stdout",
     "output_type": "stream",
     "text": [
      "European Call Price under Heston: 3.46\n",
      "European Put Price under Heston: 2.37\n"
     ]
    }
   ],
   "source": [
    "print(f\"European Call Price under Heston: {heston_call_mc(80, 80, 0.055, 3/12, 0):.2f}\")\n",
    "print(f\"European Put Price under Heston: {heston_put_mc(80, 80, 0.055, 3/12, 0):.2f}\")"
   ]
  },
  {
   "cell_type": "code",
   "execution_count": null,
   "metadata": {
    "id": "FQssAJ-3AVFE"
   },
   "outputs": [],
   "source": [
    "np.random.seed(42)\n",
    "# Covariance Matrix\n",
    "rho = -0.70\n",
    "covariance_matrix = np.zeros((2, 2), dtype=np.float64)\n",
    "covariance_matrix[0] = [1.0, rho]\n",
    "covariance_matrix[1] = [rho, 1.0]\n",
    "cho_matrix = np.linalg.cholesky(covariance_matrix)"
   ]
  },
  {
   "cell_type": "markdown",
   "metadata": {
    "id": "pQU6bkxWrvou"
   },
   "source": [
    "## Question 6"
   ]
  },
  {
   "cell_type": "code",
   "execution_count": null,
   "metadata": {
    "colab": {
     "base_uri": "https://localhost:8080/"
    },
    "id": "eT8T-XiFAaCM",
    "outputId": "fed5c2de-2238-4da1-9372-a83ef2613547"
   },
   "outputs": [
    {
     "name": "stdout",
     "output_type": "stream",
     "text": [
      "European Call Price under Heston: 3.49\n",
      "European Put Price under Heston: 2.40\n"
     ]
    }
   ],
   "source": [
    "print(f\"European Call Price under Heston: {heston_call_mc(80, 80, 0.055, 3/12, 0):.2f}\")\n",
    "print(f\"European Put Price under Heston: {heston_put_mc(80, 80, 0.055, 3/12, 0):.2f}\")"
   ]
  },
  {
   "cell_type": "markdown",
   "metadata": {
    "id": "7lcW3nLeAjB1"
   },
   "source": [
    "correlation value |Call Price | Put Price\n",
    "---|---|---\n",
    "$\\rho = -0.30$|3.46|2.37\n",
    "$\\rho = -0.70$|3.49|2.40\n"
   ]
  },
  {
   "cell_type": "markdown",
   "metadata": {
    "id": "UTVQN_yfr42B"
   },
   "source": [
    "## Question 7"
   ]
  },
  {
   "cell_type": "markdown",
   "metadata": {
    "id": "7282v4tyW0Fj"
   },
   "source": [
    "Delta represents the sensitivity of an option's price to changes in the underlying asset's price. To compute delta, we use the `heston_call_mc` and `heston_put_mc` function to estimate the option prices for two scenarios: the original asset price and a slightly increased asset price. By computing the difference in prices and dividing it by the small change in asset price, the function approximates the delta of the call option. The resulting delta value indicates the expected change in the option price for a unit change in the underlying asset price."
   ]
  },
  {
   "cell_type": "code",
   "execution_count": null,
   "metadata": {
    "id": "3t38-L0oBn61"
   },
   "outputs": [],
   "source": [
    "def heston_call_delta(S, K, r, T, t):\n",
    "    price1 = heston_call_mc(S, K, r, T, t)\n",
    "    price2 = heston_call_mc(S+0.01, K, r, T, t)\n",
    "    return (price2 - price1) / 0.01"
   ]
  },
  {
   "cell_type": "code",
   "execution_count": null,
   "metadata": {
    "id": "71pOmifWD6dG"
   },
   "outputs": [],
   "source": [
    "def heston_put_delta(S, K, r, T, t):\n",
    "    price1 = heston_put_mc(S, K, r, T, t)\n",
    "    price2 = heston_put_mc(S+0.01, K, r, T, t)\n",
    "    return (price2 - price1) / 0.01"
   ]
  },
  {
   "cell_type": "code",
   "execution_count": null,
   "metadata": {
    "colab": {
     "base_uri": "https://localhost:8080/"
    },
    "id": "kd2WIkL2DmFT",
    "outputId": "63a63fb5-0f0f-4b29-dbe4-bbb7197b4437"
   },
   "outputs": [
    {
     "name": "stdout",
     "output_type": "stream",
     "text": [
      "European Call Delta under Heston: 0.604\n"
     ]
    }
   ],
   "source": [
    "rho = -0.30\n",
    "print(f\"European Call Delta under Heston: {heston_call_delta(80, 80, 0.055, 3/12, 0):.3f}\")"
   ]
  },
  {
   "cell_type": "code",
   "execution_count": null,
   "metadata": {
    "colab": {
     "base_uri": "https://localhost:8080/"
    },
    "id": "lWDZC675Dyhz",
    "outputId": "5a8440c1-3fea-4bc0-b28e-78fd2d9aeb3e"
   },
   "outputs": [
    {
     "name": "stdout",
     "output_type": "stream",
     "text": [
      "European Put Delta under Heston: -0.396\n"
     ]
    }
   ],
   "source": [
    "print(f\"European Put Delta under Heston: {heston_put_delta(80, 80, 0.055, 3/12, 0):.3f}\")"
   ]
  },
  {
   "cell_type": "markdown",
   "metadata": {
    "id": "FAwwMMUkXDi0"
   },
   "source": [
    " Gamma measures the rate of change of an option's delta with respect to changes in the underlying asset's price.  We calculate gamma by computing the second-order difference in prices and dividing it by the squared small change in asset price, the function approximates the gamma of the call option. "
   ]
  },
  {
   "cell_type": "code",
   "execution_count": null,
   "metadata": {
    "id": "KtWVPp3gD_lo"
   },
   "outputs": [],
   "source": [
    "def heston_call_gamma(S, K, r, T, t):\n",
    "    a = heston_call_mc(S+0.01, K, r, T, t)\n",
    "    b = heston_call_mc(S, K, r, T, t)\n",
    "    c = heston_call_mc(S-0.01, K, r, T, t)\n",
    "    return (a-2*b+c) / (0.01**2)"
   ]
  },
  {
   "cell_type": "code",
   "execution_count": null,
   "metadata": {
    "id": "xzid-TPuJChw"
   },
   "outputs": [],
   "source": [
    "def heston_put_gamma(S, K, r, T, t):\n",
    "    a = heston_put_mc(S+0.01, K, r, T, t)\n",
    "    b = heston_put_mc(S, K, r, T, t)\n",
    "    c = heston_put_mc(S-0.01, K, r, T, t)\n",
    "    return (a-2*b+c) / (0.01**2)"
   ]
  },
  {
   "cell_type": "code",
   "execution_count": null,
   "metadata": {
    "colab": {
     "base_uri": "https://localhost:8080/"
    },
    "id": "c33JPvIIHPum",
    "outputId": "915bb7d2-91c7-4a32-e994-5c803a675f60"
   },
   "outputs": [
    {
     "name": "stdout",
     "output_type": "stream",
     "text": [
      "European Call Gamma under Heston: 0.060\n",
      "European Put Gamma under Heston: 0.060\n"
     ]
    }
   ],
   "source": [
    "print(f\"European Call Gamma under Heston: {heston_call_gamma(80, 80, 0.055, 3/12, 0):.3f}\")\n",
    "print(f\"European Put Gamma under Heston: {heston_put_gamma(80, 80, 0.055, 3/12, 0):.3f}\")\n"
   ]
  },
  {
   "cell_type": "code",
   "execution_count": null,
   "metadata": {
    "colab": {
     "base_uri": "https://localhost:8080/"
    },
    "id": "LdqjqFOdzWkK",
    "outputId": "3957f22b-43af-4229-cb50-ff173d342009"
   },
   "outputs": [
    {
     "name": "stderr",
     "output_type": "stream",
     "text": [
      "<ipython-input-203-0f2eaf2d0669>:4: DeprecationWarning: `np.float` is a deprecated alias for the builtin `float`. To silence this warning, use `float` by itself. Doing this will not modify any behavior and is safe. If you specifically wanted the numpy scalar type, use `np.float64` here.\n",
      "Deprecated in NumPy 1.20; for more details and guidance: https://numpy.org/devdocs/release/1.20.0-notes.html#deprecations\n",
      "  covariance_matrix = np.zeros((2, 2), dtype=np.float)\n"
     ]
    }
   ],
   "source": [
    "np.random.seed(0)\n",
    "# Covariance Matrix\n",
    "rho = -0.70\n",
    "covariance_matrix = np.zeros((2, 2), dtype=np.float)\n",
    "covariance_matrix[0] = [1.0, rho]\n",
    "covariance_matrix[1] = [rho, 1.0]\n",
    "cho_matrix = np.linalg.cholesky(covariance_matrix)"
   ]
  },
  {
   "cell_type": "code",
   "execution_count": null,
   "metadata": {
    "colab": {
     "base_uri": "https://localhost:8080/"
    },
    "id": "fGQTA9lpHUQ5",
    "outputId": "e007a875-0f6b-42fa-c9fc-ea3ed16bb940"
   },
   "outputs": [
    {
     "name": "stdout",
     "output_type": "stream",
     "text": [
      "European Call Delta under Heston: 0.325\n",
      "European Put Delta under Heston: -0.577\n"
     ]
    }
   ],
   "source": [
    "print(f\"European Call Delta under Heston: {heston_call_delta(80, 80, 0.055, 1, 0):.3f}\")\n",
    "print(f\"European Put Delta under Heston: {heston_put_delta(80, 80, 0.055, 1, 0):.3f}\")"
   ]
  },
  {
   "cell_type": "code",
   "execution_count": null,
   "metadata": {
    "colab": {
     "base_uri": "https://localhost:8080/"
    },
    "id": "ZIR0UC94Lzue",
    "outputId": "f77ad77c-7b58-4af2-b44f-733c2a00263e"
   },
   "outputs": [
    {
     "name": "stdout",
     "output_type": "stream",
     "text": [
      "European Call Gamma under Heston: 0.055\n",
      "European Put Gamma under Heston: 0.055\n"
     ]
    }
   ],
   "source": [
    "print(f\"European Call Gamma under Heston: {heston_call_gamma(80, 80, 0.055, 1, 0):.3f}\")\n",
    "print(f\"European Put Gamma under Heston: {heston_put_gamma(80, 80, 0.055, 1, 0):.3f}\")"
   ]
  },
  {
   "cell_type": "markdown",
   "metadata": {
    "id": "fwpUiH302NAF"
   },
   "source": [
    "\n",
    "We price options using the Merton model.  We use the following parameters\n",
    "\n",
    "* $\\mu = -0.5$\n",
    "* $\\delta = 0.22$\n"
   ]
  },
  {
   "cell_type": "code",
   "execution_count": 9,
   "metadata": {
    "id": "UhCPGL_R2dUW"
   },
   "outputs": [],
   "source": [
    "mu = -0.5\n",
    "delta = 0.22"
   ]
  },
  {
   "cell_type": "markdown",
   "metadata": {
    "id": "CKUWZ265sVJh"
   },
   "source": [
    "## Question 8"
   ]
  },
  {
   "cell_type": "markdown",
   "metadata": {
    "id": "qogiKaF4T68v"
   },
   "source": [
    "The Merton model extends the Black-Scholes model by allowing the stock price to have jumps. It includes both a Brownian motion for diffusion as well as a Poisson jump process.  The frequency of the jump is given by a Poisson processs with intensity $\\lambda$.  The size of the jumps has the distribution $Log(1 + J_t ) ≈ \\rm{Normal} (\\log (1 + \\mu_j ) − δ^2/2, \\delta^2)$. The jumps represent sudden and significant changes in the asset's value, which can be caused by unexpected news, events, or market shocks.\n",
    "\n",
    "The model assumes that the asset price follows a geometric Brownian motion during the periods between jumps, similar to the Black-Scholes framework. The diffusion component accounts for the continuous and smooth movement of the asset price, reflecting the impact of random market fluctuations.\n",
    "\n"
   ]
  },
  {
   "cell_type": "code",
   "execution_count": 6,
   "metadata": {
    "id": "c443nhGL2fpK"
   },
   "outputs": [],
   "source": [
    "lamb = 0.75\n",
    "r = 0.055  # Risk-free rate\n",
    "sigma = 0.35  # Volatility\n",
    "T = 3/12  # Maturity/time period (in years)\n",
    "S0 = 80  # Current Stock Price\n",
    "\n",
    "Ite = 100000  # Number of simulations (paths)\n",
    "M = 540  # Number of steps\n",
    "dt = T / M  # Time-step"
   ]
  },
  {
   "cell_type": "code",
   "execution_count": null,
   "metadata": {
    "id": "TBaxliP3354D"
   },
   "outputs": [],
   "source": [
    "np.random.seed(42)\n",
    "SM = np.zeros((M + 1, Ite))\n",
    "SM[0] = S0\n",
    "\n",
    "rj = lamb * (np.exp(mu + 0.5 * delta**2) - 1)\n",
    "\n",
    "# Random numbers\n",
    "z1 = np.random.standard_normal((M + 1, Ite))\n",
    "z2 = np.random.standard_normal((M + 1, Ite))\n",
    "y = np.random.poisson(lamb * dt, (M + 1, Ite))"
   ]
  },
  {
   "cell_type": "code",
   "execution_count": null,
   "metadata": {
    "id": "i2LQrQlJ7Ghn"
   },
   "outputs": [],
   "source": [
    "for t in range(1, M + 1):\n",
    "    SM[t] = SM[t - 1] * (\n",
    "        np.exp((r - rj - 0.5 * sigma**2) * dt + sigma * np.sqrt(dt) * z1[t])\n",
    "        + (np.exp(mu + delta * z2[t]) - 1) * y[t]\n",
    "    )\n",
    "    SM[t] = np.maximum(\n",
    "        SM[t], 0.00001\n",
    "    )  # To ensure that the price never goes below zero!"
   ]
  },
  {
   "cell_type": "code",
   "execution_count": 12,
   "metadata": {
    "id": "FXf2iLPT7rTX"
   },
   "outputs": [],
   "source": [
    "def merton_call_mc(S, K, r, T, t):\n",
    "    payoff = np.maximum(0, S[-1, :] - K)\n",
    "\n",
    "    average = np.mean(payoff)\n",
    "\n",
    "    return np.exp(-r * (T - t)) * average"
   ]
  },
  {
   "cell_type": "code",
   "execution_count": null,
   "metadata": {
    "colab": {
     "base_uri": "https://localhost:8080/"
    },
    "id": "3g7VzWBU7tv7",
    "outputId": "fd0f1349-a695-4a83-c79c-f414387febb0"
   },
   "outputs": [
    {
     "name": "stdout",
     "output_type": "stream",
     "text": [
      "European Call Price under Merton: 8.24\n"
     ]
    }
   ],
   "source": [
    "print(f\"European Call Price under Merton: {merton_call_mc(SM, 80, r, T, 0):.2f}\")"
   ]
  },
  {
   "cell_type": "code",
   "execution_count": 13,
   "metadata": {
    "id": "dP4LZnfh7xj_"
   },
   "outputs": [],
   "source": [
    "def merton_put_mc(S, K, r, T, t):\n",
    "    payoff = np.maximum(0, K - S[-1, :])\n",
    "\n",
    "    average = np.mean(payoff)\n",
    "\n",
    "    return np.exp(-r * (T - t)) * average"
   ]
  },
  {
   "cell_type": "code",
   "execution_count": null,
   "metadata": {
    "colab": {
     "base_uri": "https://localhost:8080/"
    },
    "id": "ZQb4POCY75dx",
    "outputId": "2bcd906a-fbc3-4abe-c4c2-a256a6cbcab9"
   },
   "outputs": [
    {
     "name": "stdout",
     "output_type": "stream",
     "text": [
      "European Put Price under Merton: 7.23\n"
     ]
    }
   ],
   "source": [
    "print(f\"European Put Price under Merton: {merton_put_mc(SM, 80, r, T, 0):.2f}\")"
   ]
  },
  {
   "cell_type": "markdown",
   "metadata": {
    "id": "Q1E_fqgbsd9e"
   },
   "source": [
    "## Question 9"
   ]
  },
  {
   "cell_type": "code",
   "execution_count": 14,
   "metadata": {
    "id": "IqEMZ81D7_RQ"
   },
   "outputs": [],
   "source": [
    "lamb = 0.25\n",
    "r = 0.055  # Risk-free rate\n",
    "sigma = 0.35  # Volatility\n",
    "T = 3/12  # Maturity/time period (in years)\n",
    "S0 = 80  # Current Stock Price\n",
    "\n",
    "Ite = 100000  # Number of simulations (paths)\n",
    "M = 540  # Number of steps\n",
    "dt = T / M  # Time-step\n",
    "np.random.seed(42)\n",
    "SM = np.zeros((M + 1, Ite))\n",
    "SM[0] = S0\n",
    "\n",
    "rj = lamb * (np.exp(mu + 0.5 * delta**2) - 1)\n",
    "\n",
    "# Random numbers\n",
    "z1 = np.random.standard_normal((M + 1, Ite))\n",
    "z2 = np.random.standard_normal((M + 1, Ite))\n",
    "y = np.random.poisson(lamb * dt, (M + 1, Ite))\n",
    "for t in range(1, M + 1):\n",
    "    SM[t] = SM[t - 1] * (\n",
    "        np.exp((r - rj - 0.5 * sigma**2) * dt + sigma * np.sqrt(dt) * z1[t])\n",
    "        + (np.exp(mu + delta * z2[t]) - 1) * y[t]\n",
    "    )\n",
    "    SM[t] = np.maximum(\n",
    "        SM[t], 0.00001\n",
    "    )  # To ensure that the price never goes below zero!"
   ]
  },
  {
   "cell_type": "code",
   "execution_count": 15,
   "metadata": {
    "colab": {
     "base_uri": "https://localhost:8080/"
    },
    "id": "dePiLct18dsG",
    "outputId": "edbaecbc-e378-4f89-b32c-5da9aa5c11c6"
   },
   "outputs": [
    {
     "name": "stdout",
     "output_type": "stream",
     "text": [
      "European Call Price under Merton: 6.77\n"
     ]
    }
   ],
   "source": [
    "print(f\"European Call Price under Merton: {merton_call_mc(SM, 80, r, T, 0):.2f}\")"
   ]
  },
  {
   "cell_type": "code",
   "execution_count": 16,
   "metadata": {
    "colab": {
     "base_uri": "https://localhost:8080/"
    },
    "id": "3g_iBfx-8ftT",
    "outputId": "f283f985-3007-4c53-9730-dae206afbd35"
   },
   "outputs": [
    {
     "name": "stdout",
     "output_type": "stream",
     "text": [
      "European Put Price under Merton: 5.75\n"
     ]
    }
   ],
   "source": [
    "print(f\"European Put Price under Merton: {merton_put_mc(SM, 80, r, T, 0):.2f}\")"
   ]
  },
  {
   "cell_type": "markdown",
   "metadata": {
    "id": "lRmWULs-miOa"
   },
   "source": [
    "This table shows call and put prices for an ATM option with strike price $80$ dated 3 months in the future.  As in the previous question the risk-free rate is 5.5 per cent per annum, and the volatility is 35 per cent per annum.\n",
    "\n",
    "$\\lambda$|call price|put price\n",
    "---|---|---\n",
    "0.75|8.24|7.23\n",
    "0.25|6.77|5.75\n"
   ]
  },
  {
   "cell_type": "markdown",
   "metadata": {
    "id": "jef1IZiWsmrE"
   },
   "source": [
    "## Question 10"
   ]
  },
  {
   "cell_type": "code",
   "execution_count": 17,
   "metadata": {
    "id": "v4pXhYYaoCpy"
   },
   "outputs": [],
   "source": [
    "import numpy as np\n",
    "def merton_path(S0):\n",
    "  np.random.seed(42)\n",
    "  SM = np.zeros((M + 1, Ite))\n",
    "  SM[0] = S0\n",
    "\n",
    "  rj = lamb * (np.exp(mu + 0.5 * delta**2) - 1)\n",
    "\n",
    "  # Random numbers\n",
    "  z1 = np.random.standard_normal((M + 1, Ite))\n",
    "  z2 = np.random.standard_normal((M + 1, Ite))\n",
    "  y = np.random.poisson(lamb * dt, (M + 1, Ite))\n",
    "  for t in range(1, M + 1):\n",
    "      SM[t] = SM[t - 1] * (\n",
    "          np.exp((r - rj - 0.5 * sigma**2) * dt + sigma * np.sqrt(dt) * z1[t])\n",
    "          + (np.exp(mu + delta * z2[t]) - 1) * y[t]\n",
    "      )\n",
    "      SM[t] = np.maximum(\n",
    "          SM[t], 0.00001\n",
    "      )  # To ensure that the price never goes below zero!\n",
    "  return SM"
   ]
  },
  {
   "cell_type": "code",
   "execution_count": 18,
   "metadata": {
    "id": "zjUCQscEoMX4"
   },
   "outputs": [],
   "source": [
    "def merton_call_delta(S0, K, r, T, t):\n",
    "  a = merton_path(S0)\n",
    "  price1 = merton_call_mc(a, K, r, T, t)\n",
    "  b = merton_path(S0+0.01)\n",
    "  price2 = merton_call_mc(b, K, r, T, t)\n",
    "  return (price2 - price1)/0.01\n",
    "\n",
    "def merton_put_delta(S0, K, r, T, t):\n",
    "  a = merton_path(S0)\n",
    "  price1 = merton_put_mc(a, K, r, T, t)\n",
    "  b = merton_path(S0+0.01)\n",
    "  price2 = merton_put_mc(b, K, r, T, t)\n",
    "  return (price2 - price1)/0.01"
   ]
  },
  {
   "cell_type": "code",
   "execution_count": 19,
   "metadata": {
    "colab": {
     "base_uri": "https://localhost:8080/"
    },
    "id": "B7tPDqPNohrj",
    "outputId": "934db411-2ec4-4d40-8bf5-3a3ea0a63e40"
   },
   "outputs": [
    {
     "name": "stdout",
     "output_type": "stream",
     "text": [
      "Delta for the call at lambda=0.75 is 0.65\n",
      "Delta for the put at lambda=0.75 is -0.35\n"
     ]
    }
   ],
   "source": [
    "lamb=0.75\n",
    "print(f\"Delta for the call at lambda=0.75 is {merton_call_delta(80, 80, 0.055, T, 0):.2f}\")\n",
    "print(f\"Delta for the put at lambda=0.75 is {merton_put_delta(80, 80, 0.055, T, 0):.2f}\")"
   ]
  },
  {
   "cell_type": "code",
   "execution_count": 20,
   "metadata": {
    "colab": {
     "base_uri": "https://localhost:8080/"
    },
    "id": "CDk7o2wZonrC",
    "outputId": "a2ce8ff7-8e14-4302-f045-00a6dca7403e"
   },
   "outputs": [
    {
     "name": "stdout",
     "output_type": "stream",
     "text": [
      "Delta for the call at lambda=0.25 is 0.60\n",
      "Delta for the put at lambda=0.25 is -0.40\n"
     ]
    }
   ],
   "source": [
    "lamb=0.25\n",
    "print(f\"Delta for the call at lambda=0.25 is {merton_call_delta(80, 80, 0.055, T, 0):.2f}\")\n",
    "print(f\"Delta for the put at lambda=0.25 is {merton_put_delta(80, 80, 0.055, T, 0):.2f}\")"
   ]
  },
  {
   "cell_type": "code",
   "execution_count": 21,
   "metadata": {
    "id": "0p2rcZvaqB7S"
   },
   "outputs": [],
   "source": [
    "def merton_call_gamma(S0, K, r, T, t):\n",
    "  a = merton_path(S0)\n",
    "  price1 = merton_call_mc(a, K, r, T, t)\n",
    "  b = merton_path(S0+0.01)\n",
    "  price2 = merton_call_mc(b, K, r, T, t)\n",
    "  c = merton_path(S0-0.01)\n",
    "  price3 = merton_call_mc(c, K, r, T, t)\n",
    "  return (price2 - 2*price1 + price3)/0.01**2\n",
    "\n",
    "def merton_put_gamma(S0, K, r, T, t):\n",
    "  a = merton_path(S0)\n",
    "  price1 = merton_put_mc(a, K, r, T, t)\n",
    "  b = merton_path(S0+0.01)\n",
    "  price2 = merton_put_mc(b, K, r, T, t)\n",
    "  c = merton_path(S0-0.01)\n",
    "  price3 = merton_put_mc(c, K, r, T, t)\n",
    "  return (price2 - 2*price1 + price3)/0.01**2"
   ]
  },
  {
   "cell_type": "code",
   "execution_count": 22,
   "metadata": {
    "colab": {
     "base_uri": "https://localhost:8080/"
    },
    "id": "By8dOipnqUvR",
    "outputId": "19121011-145e-4455-959c-20ae99be14b5"
   },
   "outputs": [
    {
     "name": "stdout",
     "output_type": "stream",
     "text": [
      "Gamma for the call at lambda=0.75 is 0.0300\n",
      "Gamma for the put at lambda=0.75 is 0.0300\n"
     ]
    }
   ],
   "source": [
    "lamb=0.75\n",
    "print(f\"Gamma for the call at lambda=0.75 is {merton_call_gamma(80, 80, 0.055, T, 0):.4f}\")\n",
    "print(f\"Gamma for the put at lambda=0.75 is {merton_put_gamma(80, 80, 0.055, T, 0):.4f}\")"
   ]
  },
  {
   "cell_type": "code",
   "execution_count": 23,
   "metadata": {
    "colab": {
     "base_uri": "https://localhost:8080/"
    },
    "id": "Rh3ZAjLtqcMb",
    "outputId": "1af2fe45-527e-4b62-dc69-29f26f564c69"
   },
   "outputs": [
    {
     "name": "stdout",
     "output_type": "stream",
     "text": [
      "Gamma for the call at lambda=0.25 is 0.0240\n",
      "Gamma for the put at lambda=0.25 is 0.0240\n"
     ]
    }
   ],
   "source": [
    "lamb=0.25\n",
    "print(f\"Gamma for the call at lambda=0.25 is {merton_call_gamma(80, 80, 0.055, T, 0):.4f}\")\n",
    "print(f\"Gamma for the put at lambda=0.25 is {merton_put_gamma(80, 80, 0.055, T, 0):.4f}\")"
   ]
  },
  {
   "cell_type": "markdown",
   "metadata": {
    "id": "fS_TeSABsu7y"
   },
   "source": [
    "## Question 11\n",
    "\n"
   ]
  },
  {
   "cell_type": "markdown",
   "metadata": {
    "id": "qNh7tVfLyO_R"
   },
   "source": [
    "For $\\rho = -0.30$:"
   ]
  },
  {
   "cell_type": "code",
   "execution_count": null,
   "metadata": {
    "colab": {
     "base_uri": "https://localhost:8080/"
    },
    "id": "kwIWMpuKL2cD",
    "outputId": "21f67119-1e0e-44af-aba5-f5745d1c72a5"
   },
   "outputs": [
    {
     "name": "stdout",
     "output_type": "stream",
     "text": [
      "The price of the zero-coupon bond at 5.5% interest rate is: 78.91\n"
     ]
    }
   ],
   "source": [
    "bond_price = S0 * np.exp(-r * T)\n",
    "print(f\"The price of the zero-coupon bond at 5.5% interest rate is: {bond_price:.2f}\")"
   ]
  },
  {
   "cell_type": "code",
   "execution_count": null,
   "metadata": {
    "colab": {
     "base_uri": "https://localhost:8080/"
    },
    "id": "CZvuvSROO4rT",
    "outputId": "144b0704-b4ef-40de-efcc-513db64cfcd6"
   },
   "outputs": [
    {
     "name": "stdout",
     "output_type": "stream",
     "text": [
      "Call price plus Bond Price = 82.37\n",
      "Put price plus Stock Price = 82.37\n"
     ]
    }
   ],
   "source": [
    "print(f\"Call price plus Bond Price = {bond_price + 3.46:.2f}\")\n",
    "print(f\"Put price plus Stock Price = {S0 + 2.37:.2f}\")"
   ]
  },
  {
   "cell_type": "markdown",
   "metadata": {
    "id": "eO1Khi_MycB4"
   },
   "source": [
    "For $\\rho = -0.70$:"
   ]
  },
  {
   "cell_type": "code",
   "execution_count": null,
   "metadata": {
    "colab": {
     "base_uri": "https://localhost:8080/"
    },
    "id": "E9ihWpLaQDjs",
    "outputId": "d9922187-1490-4dca-f193-931322c4852b"
   },
   "outputs": [
    {
     "name": "stdout",
     "output_type": "stream",
     "text": [
      "Call price plus Bond Price = 82.40\n",
      "Put price plus Stock Price = 82.40\n"
     ]
    }
   ],
   "source": [
    "print(f\"Call price plus Bond Price = {bond_price + 3.49:.2f}\")\n",
    "print(f\"Put price plus Stock Price = {S0 + 2.40:.2f}\")"
   ]
  },
  {
   "cell_type": "markdown",
   "metadata": {
    "id": "YrvCYFPryfzb"
   },
   "source": [
    "At either the $\\rho = -0.30$ or $\\rho = -0.70$ correlation level we have put-call parity."
   ]
  },
  {
   "cell_type": "markdown",
   "metadata": {
    "id": "jJU2LI5aSzSK"
   },
   "source": [
    "For $\\lambda = 0.75$:"
   ]
  },
  {
   "cell_type": "code",
   "execution_count": null,
   "metadata": {
    "colab": {
     "base_uri": "https://localhost:8080/"
    },
    "id": "GlSCKPdk79MY",
    "outputId": "2366e237-ab9e-4b31-d45d-89fc75fa1142"
   },
   "outputs": [
    {
     "name": "stdout",
     "output_type": "stream",
     "text": [
      "Bond price plus call price is 87.21\n"
     ]
    }
   ],
   "source": [
    "print(f\"Bond price plus call price is {bond_price + 8.24:.2f}\")"
   ]
  },
  {
   "cell_type": "code",
   "execution_count": null,
   "metadata": {
    "colab": {
     "base_uri": "https://localhost:8080/"
    },
    "id": "JFyrGT0-7-kW",
    "outputId": "9fcc9ba6-f8bf-4c79-d887-797ea055968c"
   },
   "outputs": [
    {
     "name": "stdout",
     "output_type": "stream",
     "text": [
      "Stock price plus put price is 87.23\n"
     ]
    }
   ],
   "source": [
    "print(f\"Stock price plus put price is {80 + 7.23:.2f}\")"
   ]
  },
  {
   "cell_type": "markdown",
   "metadata": {
    "id": "HU1ySYVNS2Ml"
   },
   "source": [
    "For $\\lambda = 0.25$\n"
   ]
  },
  {
   "cell_type": "code",
   "execution_count": null,
   "metadata": {
    "colab": {
     "base_uri": "https://localhost:8080/"
    },
    "id": "mq_gRtNG8hNj",
    "outputId": "396ab8f3-4f2b-44d3-974b-19a8fc93988f"
   },
   "outputs": [
    {
     "name": "stdout",
     "output_type": "stream",
     "text": [
      "Bond price plus call price is 85.68\n"
     ]
    }
   ],
   "source": [
    "print(f\"Bond price plus call price is {bond_price + 6.77:.2f}\")"
   ]
  },
  {
   "cell_type": "code",
   "execution_count": null,
   "metadata": {
    "colab": {
     "base_uri": "https://localhost:8080/"
    },
    "id": "4EkuIhG78t2z",
    "outputId": "4f9be4a2-7a55-4cec-d85c-6a9f72c1a7b2"
   },
   "outputs": [
    {
     "name": "stdout",
     "output_type": "stream",
     "text": [
      "Stock price plus put price is 85.74\n"
     ]
    }
   ],
   "source": [
    "print(f\"Stock price plus put price is {80 + 5.74:.2f}\")"
   ]
  },
  {
   "cell_type": "markdown",
   "metadata": {
    "id": "SxzQGlXwl0-E"
   },
   "source": [
    "For the Merton model at either $\\lambda = 0.75$ or $\\lambda = 0.25$ we have put call parity (within 10 cents)"
   ]
  },
  {
   "cell_type": "markdown",
   "metadata": {
    "id": "MFY2vLHaszsY"
   },
   "source": [
    "## Question 12\n"
   ]
  },
  {
   "cell_type": "markdown",
   "metadata": {
    "id": "-yGq6SSTTlWA"
   },
   "source": [
    "For the Heston model at $\\rho = -0.30$:"
   ]
  },
  {
   "cell_type": "code",
   "execution_count": null,
   "metadata": {
    "id": "R4oFR2Ats1ni"
   },
   "outputs": [],
   "source": [
    "moneyness = [0.85, 0.90, 0.95, 1, 1.05, 1.10, 1.15]\n",
    "strikes = [S0 * m for m in moneyness]"
   ]
  },
  {
   "cell_type": "code",
   "execution_count": null,
   "metadata": {
    "id": "2pv5s71-uV0b"
   },
   "outputs": [],
   "source": [
    "np.random.seed(42)\n",
    "# Generating random numbers from standard normal\n",
    "\n",
    "# Covariance Matrix\n",
    "rho = -0.30\n",
    "covariance_matrix = np.zeros((2, 2), dtype=float)\n",
    "covariance_matrix[0] = [1.0, rho]\n",
    "covariance_matrix[1] = [rho, 1.0]\n",
    "cho_matrix = np.linalg.cholesky(covariance_matrix)"
   ]
  },
  {
   "cell_type": "code",
   "execution_count": null,
   "metadata": {
    "colab": {
     "base_uri": "https://localhost:8080/"
    },
    "id": "9WUX0iROuZMS",
    "outputId": "3d3d1a8e-2157-4d05-aa34-567337b593bf"
   },
   "outputs": [
    {
     "name": "stdout",
     "output_type": "stream",
     "text": [
      "Strike\tCall Price\n",
      "--------------------\n",
      "68.0\t13.06\n",
      "72.0\t9.40\n",
      "76.0\t6.10\n",
      "80\t3.46\n",
      "84.0\t1.66\n",
      "88.0\t0.68\n",
      "92.0\t0.25\n"
     ]
    }
   ],
   "source": [
    "heston_prices = [heston_call_mc(S0, K, 0.055, T, 0) for K in strikes]\n",
    "print (\"Strike\\tCall Price\")\n",
    "print(\"--------------------\")\n",
    "for (strike, price) in zip(strikes, heston_prices):\n",
    "  print(f\"{strike}\\t{price:.2f}\")"
   ]
  },
  {
   "cell_type": "markdown",
   "metadata": {
    "id": "TAxmAz0QTpMK"
   },
   "source": [
    "For the Heston model at $\\rho = -0.70$"
   ]
  },
  {
   "cell_type": "code",
   "execution_count": null,
   "metadata": {
    "colab": {
     "base_uri": "https://localhost:8080/"
    },
    "id": "3VY0KRsxu8Sa",
    "outputId": "47c40222-b0ca-4391-bc41-2e8f613b3952"
   },
   "outputs": [
    {
     "name": "stdout",
     "output_type": "stream",
     "text": [
      "Strike\tCall Price\n",
      "--------------------\n",
      "68.0\t13.13\n",
      "72.0\t9.50\n",
      "76.0\t6.21\n",
      "80\t3.49\n",
      "84.0\t1.56\n",
      "88.0\t0.51\n",
      "92.0\t0.11\n"
     ]
    }
   ],
   "source": [
    "np.random.seed(42)\n",
    "# Generating random numbers from standard normal\n",
    "\n",
    "# Covariance Matrix\n",
    "rho = -0.70\n",
    "covariance_matrix = np.zeros((2, 2), dtype=float)\n",
    "covariance_matrix[0] = [1.0, rho]\n",
    "covariance_matrix[1] = [rho, 1.0]\n",
    "cho_matrix = np.linalg.cholesky(covariance_matrix)\n",
    "heston_prices2 = [heston_call_mc(S0, K, 0.055, T, 0) for K in strikes]\n",
    "print (\"Strike\\tCall Price\")\n",
    "print(\"--------------------\")\n",
    "for (strike, price) in zip(strikes, heston_prices2):\n",
    "  print(f\"{strike}\\t{price:.2f}\")"
   ]
  },
  {
   "cell_type": "markdown",
   "metadata": {
    "id": "cN7UrrgPTx-V"
   },
   "source": [
    "For the Merton model at $\\lambda = 0.75$:"
   ]
  },
  {
   "cell_type": "code",
   "execution_count": null,
   "metadata": {
    "id": "jm4kvI_CtCHu"
   },
   "outputs": [],
   "source": [
    "lamb = 0.75\n",
    "np.random.seed(42)\n",
    "SM = np.zeros((M + 1, Ite))\n",
    "SM[0] = S0\n",
    "\n",
    "rj = lamb * (np.exp(mu + 0.5 * delta**2) - 1)\n",
    "\n",
    "# Random numbers\n",
    "z1 = np.random.standard_normal((M + 1, Ite))\n",
    "z2 = np.random.standard_normal((M + 1, Ite))\n",
    "y = np.random.poisson(lamb * dt, (M + 1, Ite))\n",
    "for t in range(1, M + 1):\n",
    "    SM[t] = SM[t - 1] * (\n",
    "        np.exp((r - rj - 0.5 * sigma**2) * dt + sigma * np.sqrt(dt) * z1[t])\n",
    "        + (np.exp(mu + delta * z2[t]) - 1) * y[t]\n",
    "    )\n",
    "    SM[t] = np.maximum(\n",
    "        SM[t], 0.00001\n",
    "    )  # To ensure that the price never goes below zero!\n",
    "merton_prices = [merton_call_mc(SM, K, 0.0555, T, 0) for K in strikes]"
   ]
  },
  {
   "cell_type": "code",
   "execution_count": null,
   "metadata": {
    "colab": {
     "base_uri": "https://localhost:8080/"
    },
    "id": "gjIMKYsYtfCb",
    "outputId": "e15733ce-6080-41f8-d675-485f6fde8add"
   },
   "outputs": [
    {
     "name": "stdout",
     "output_type": "stream",
     "text": [
      "Strike\tCall Price\n",
      "--------------------\n",
      "68.0\t16.22\n",
      "72.0\t13.26\n",
      "76.0\t10.59\n",
      "80\t8.24\n",
      "84.0\t6.25\n",
      "88.0\t4.62\n",
      "92.0\t3.33\n"
     ]
    }
   ],
   "source": [
    "print (\"Strike\\tCall Price\")\n",
    "print(\"--------------------\")\n",
    "for (strike, price) in zip(strikes, merton_prices):\n",
    "  print(f\"{strike}\\t{price:.2f}\")"
   ]
  },
  {
   "cell_type": "markdown",
   "metadata": {
    "id": "W8FHbhxbT45m"
   },
   "source": [
    "For the Merton model at $\\lambda = 0.25$:"
   ]
  },
  {
   "cell_type": "code",
   "execution_count": null,
   "metadata": {
    "id": "FOQ3LHoGt0ds"
   },
   "outputs": [],
   "source": [
    "lamb = 0.25\n",
    "np.random.seed(42)\n",
    "SM = np.zeros((M + 1, Ite))\n",
    "SM[0] = S0\n",
    "\n",
    "rj = lamb * (np.exp(mu + 0.5 * delta**2) - 1)\n",
    "\n",
    "# Random numbers\n",
    "z1 = np.random.standard_normal((M + 1, Ite))\n",
    "z2 = np.random.standard_normal((M + 1, Ite))\n",
    "y = np.random.poisson(lamb * dt, (M + 1, Ite))\n",
    "for t in range(1, M + 1):\n",
    "    SM[t] = SM[t - 1] * (\n",
    "        np.exp((r - rj - 0.5 * sigma**2) * dt + sigma * np.sqrt(dt) * z1[t])\n",
    "        + (np.exp(mu + delta * z2[t]) - 1) * y[t]\n",
    "    )\n",
    "    SM[t] = np.maximum(\n",
    "        SM[t], 0.00001\n",
    "    )  # To ensure that the price never goes below zero!\n",
    "merton_prices = [merton_call_mc(SM, K, 0.0555, T, 0) for K in strikes]"
   ]
  },
  {
   "cell_type": "code",
   "execution_count": null,
   "metadata": {
    "colab": {
     "base_uri": "https://localhost:8080/"
    },
    "id": "MkLLfXqpt9LS",
    "outputId": "ab1feb0a-d810-4d02-fdd9-835bcbc4bf6b"
   },
   "outputs": [
    {
     "name": "stdout",
     "output_type": "stream",
     "text": [
      "Strike\tCall Price\n",
      "--------------------\n",
      "68.0\t14.71\n",
      "72.0\t11.68\n",
      "76.0\t9.02\n",
      "80\t6.76\n",
      "84.0\t4.93\n",
      "88.0\t3.50\n",
      "92.0\t2.42\n"
     ]
    }
   ],
   "source": [
    "print (\"Strike\\tCall Price\")\n",
    "print(\"--------------------\")\n",
    "for (strike, price) in zip(strikes, merton_prices):\n",
    "  print(f\"{strike}\\t{price:.2f}\")"
   ]
  },
  {
   "cell_type": "markdown",
   "metadata": {
    "id": "kB4UMj7svhxi"
   },
   "source": [
    "# Step 2"
   ]
  },
  {
   "cell_type": "markdown",
   "metadata": {
    "id": "1BFHBSmEvxOs"
   },
   "source": [
    "## Question 13\n",
    "\n",
    "The `heston_call_mc_american` and `heston_put_mc_american` functions use Monte Carlo simulation and backward induction to price American-style call and put options within the Heston stochastic volatility model. We generate Heston paths for the asset price, iterate through each time step in reverse order, estimate the conditional expectation of future cashflows using polynomial regression, compare the intrinsic value of the option with the continuation value to determine exercise decisions, and update the data accordingly. The function calculates the average value of the remaining data as the expected payoff of the American call or put option, discounts it to the present time, and returns the estimated price."
   ]
  },
  {
   "cell_type": "code",
   "execution_count": 24,
   "metadata": {
    "id": "Mxye64PgUaLd"
   },
   "outputs": [],
   "source": [
    "import warnings\n",
    "warnings.filterwarnings(\"ignore\")\n",
    "def heston_call_mc_american(S0, K, r, T):\n",
    "    np.random.seed(42)\n",
    "    S = generate_heston_paths(S0, T, r, kappa_v, theta_v, v0, rho, sigma_v, M, Ite)\n",
    "    data = np.maximum(0, -K + S[:,-1])\n",
    "    for t in range(M - 2, -1, -1):\n",
    "        X = S[:,t]\n",
    "        intrinsic = np.maximum(X - K, 0)\n",
    "        Y = np.exp(-r * dt) * data\n",
    "\n",
    "        # Polynomial regression to estimate the conditional expectation\n",
    "        cashflows = np.polyfit(X, Y, 5)\n",
    "        continuation = np.polyval(cashflows, X)\n",
    "\n",
    "        # Compare the intrinsic value with the continuation value\n",
    "        exercise = intrinsic > continuation\n",
    "        data = np.where(exercise, intrinsic, data)\n",
    "\n",
    "    average = np.sum(data) / float(Ite)\n",
    "\n",
    "    return np.exp(-r * T) * average"
   ]
  },
  {
   "cell_type": "code",
   "execution_count": 25,
   "metadata": {
    "id": "9eV4GtqfWNNg"
   },
   "outputs": [],
   "source": [
    "import numpy as np\n",
    "rho = -0.30\n",
    "covariance_matrix = np.zeros((2, 2), dtype=float)\n",
    "covariance_matrix[0] = [1.0, rho]\n",
    "covariance_matrix[1] = [rho, 1.0]\n",
    "cho_matrix = np.linalg.cholesky(covariance_matrix)"
   ]
  },
  {
   "cell_type": "code",
   "execution_count": 30,
   "metadata": {
    "colab": {
     "base_uri": "https://localhost:8080/"
    },
    "id": "q9sq1zk1WbvU",
    "outputId": "8b53011f-8f8f-4e62-d72a-015ebeca151c"
   },
   "outputs": [
    {
     "name": "stdout",
     "output_type": "stream",
     "text": [
      "The price of an American call option using Monte-Carlo is 3.24\n"
     ]
    }
   ],
   "source": [
    "print(f\"The price of an American call option using Monte-Carlo is {heston_call_mc_american(80, 80, 0.055, 3/12):.2f}\")"
   ]
  },
  {
   "cell_type": "code",
   "execution_count": 31,
   "metadata": {
    "id": "boW4KuqSaaZs"
   },
   "outputs": [],
   "source": [
    "def heston_put_mc_american(S0, K, r, T):\n",
    "    np.random.seed(42)\n",
    "    S = generate_heston_paths(S0, T, r, kappa_v, theta_v, v0, rho, sigma_v, M, Ite)\n",
    "    data = np.maximum(0, K - S[:,-1])\n",
    "    for t in range(M - 2, -1, -1):\n",
    "        X = S[:,t]\n",
    "        intrinsic = np.maximum(K-X, 0)\n",
    "        Y = np.exp(-r * dt) * data\n",
    "\n",
    "        # Polynomial regression to estimate the conditional expectation\n",
    "        cashflows = np.polyfit(X, Y, 5)\n",
    "        continuation = np.polyval(cashflows, X)\n",
    "\n",
    "        # Compare the intrinsic value with the continuation value\n",
    "        exercise = intrinsic > continuation\n",
    "        data = np.where(exercise, intrinsic, data)\n",
    "\n",
    "    average = np.sum(data) / float(Ite)\n",
    "\n",
    "    return np.exp(-r * T) * average"
   ]
  },
  {
   "cell_type": "code",
   "execution_count": 32,
   "metadata": {
    "colab": {
     "base_uri": "https://localhost:8080/"
    },
    "id": "x3GpVv7YafiL",
    "outputId": "c3c52e9c-ae9e-4886-8a09-b1f5e1d86265"
   },
   "outputs": [
    {
     "name": "stdout",
     "output_type": "stream",
     "text": [
      "The price of an American put option using Monte-Carlo is 2.29\n"
     ]
    }
   ],
   "source": [
    "print(f\"The price of an American put option using Monte-Carlo is {heston_put_mc_american(80, 80, 0.055, 3/12):.2f}\")"
   ]
  },
  {
   "cell_type": "markdown",
   "metadata": {
    "id": "BjwtSFiHuBIr"
   },
   "source": [
    "Let's compute it in the Merton model with $\\lambda = 0.75$:"
   ]
  },
  {
   "cell_type": "code",
   "execution_count": 33,
   "metadata": {
    "colab": {
     "base_uri": "https://localhost:8080/"
    },
    "id": "GSw7bzrpsQGT",
    "outputId": "ba51d318-1fc6-43ae-a552-5e0adde97a2d"
   },
   "outputs": [],
   "source": [
    "SM = merton_path(80)\n",
    "K=80\n",
    "data = np.maximum(0, K - SM[-1, :])\n",
    "for t in range(M - 2, -1, -1):\n",
    "    X = SM[t, :]\n",
    "    intrinsic = np.maximum(K-X, 0)\n",
    "    Y = np.exp(-r * dt) * data\n",
    "\n",
    "    # Polynomial regression to estimate the conditional expectation\n",
    "    cashflows = np.polyfit(X, Y, 5)\n",
    "    continuation = np.polyval(cashflows, X)\n",
    "\n",
    "    # Compare the intrinsic value with the continuation value\n",
    "    exercise = intrinsic > continuation\n",
    "    data = np.where(exercise, intrinsic, data)\n",
    "\n",
    "    average = np.sum(data) / float(Ite)\n",
    "amer_put_price = np.exp(-r * T) * average\n",
    "\n",
    "K=80\n",
    "data = np.maximum(0, -K + SM[-1, :])\n",
    "for t in range(M - 2, -1, -1):\n",
    "    X = SM[t, :]\n",
    "    intrinsic = np.maximum(-K+X, 0)\n",
    "    Y = np.exp(-r * dt) * data\n",
    "\n",
    "    # Polynomial regression to estimate the conditional expectation\n",
    "    cashflows = np.polyfit(X, Y, 5)\n",
    "    continuation = np.polyval(cashflows, X)\n",
    "\n",
    "    # Compare the intrinsic value with the continuation value\n",
    "    exercise = intrinsic > continuation\n",
    "    data = np.where(exercise, intrinsic, data)\n",
    "\n",
    "    average = np.sum(data) / float(Ite)\n",
    "\n",
    "amer_call_price = np.exp(-r * T) * average"
   ]
  },
  {
   "cell_type": "code",
   "execution_count": 34,
   "metadata": {
    "colab": {
     "base_uri": "https://localhost:8080/"
    },
    "id": "VB3qkA9as9QX",
    "outputId": "c0879e7f-d37a-41c0-dc10-f15c5f332139"
   },
   "outputs": [
    {
     "name": "stdout",
     "output_type": "stream",
     "text": [
      "The price of an American call option is 6.37\n",
      "The price of an American put option is 5.50\n"
     ]
    }
   ],
   "source": [
    "print(f\"The price of an American call option is {amer_call_price:.2f}\")\n",
    "print(f\"The price of an American put option is {amer_put_price:.2f}\")"
   ]
  },
  {
   "cell_type": "markdown",
   "metadata": {
    "id": "fQwSe6uiuLwx"
   },
   "source": [
    "Now let's compute it with $\\lambda = 0.25$:\n"
   ]
  },
  {
   "cell_type": "code",
   "execution_count": 35,
   "metadata": {
    "colab": {
     "base_uri": "https://localhost:8080/"
    },
    "id": "h-XdNtVzuQbG",
    "outputId": "21e3a904-669d-40aa-9f34-84ae008246cc"
   },
   "outputs": [],
   "source": [
    "lamb = 0.25\n",
    "SM = merton_path(80)\n",
    "K=80\n",
    "data = np.maximum(0, K - SM[-1, :])\n",
    "for t in range(M - 2, -1, -1):\n",
    "    X = SM[t, :]\n",
    "    intrinsic = np.maximum(K-X, 0)\n",
    "    Y = np.exp(-r * dt) * data\n",
    "\n",
    "    # Polynomial regression to estimate the conditional expectation\n",
    "    cashflows = np.polyfit(X, Y, 5)\n",
    "    continuation = np.polyval(cashflows, X)\n",
    "\n",
    "    # Compare the intrinsic value with the continuation value\n",
    "    exercise = intrinsic > continuation\n",
    "    data = np.where(exercise, intrinsic, data)\n",
    "\n",
    "    average = np.sum(data) / float(Ite)\n",
    "amer_put_price = np.exp(-r * T) * average\n",
    "\n",
    "K=80\n",
    "data = np.maximum(0, -K + SM[-1, :])\n",
    "for t in range(M - 2, -1, -1):\n",
    "    X = SM[t, :]\n",
    "    intrinsic = np.maximum(-K+X, 0)\n",
    "    Y = np.exp(-r * dt) * data\n",
    "\n",
    "    # Polynomial regression to estimate the conditional expectation\n",
    "    cashflows = np.polyfit(X, Y, 5)\n",
    "    continuation = np.polyval(cashflows, X)\n",
    "\n",
    "    # Compare the intrinsic value with the continuation value\n",
    "    exercise = intrinsic > continuation\n",
    "    data = np.where(exercise, intrinsic, data)\n",
    "\n",
    "    average = np.sum(data) / float(Ite)\n",
    "\n",
    "amer_call_price = np.exp(-r * T) * average"
   ]
  },
  {
   "cell_type": "code",
   "execution_count": 36,
   "metadata": {
    "colab": {
     "base_uri": "https://localhost:8080/"
    },
    "id": "0kqvfhiAuUei",
    "outputId": "648c6d7a-c62b-4519-8b17-c2a4c4f6272a"
   },
   "outputs": [
    {
     "name": "stdout",
     "output_type": "stream",
     "text": [
      "The price of an American call option is 6.37\n",
      "The price of an American put option is 5.50\n"
     ]
    }
   ],
   "source": [
    "print(f\"The price of an American call option is {amer_call_price:.2f}\")\n",
    "print(f\"The price of an American put option is {amer_put_price:.2f}\")"
   ]
  },
  {
   "cell_type": "markdown",
   "metadata": {
    "id": "HCA7YF1Zv1qO"
   },
   "source": [
    "## Question 14"
   ]
  },
  {
   "cell_type": "code",
   "execution_count": null,
   "metadata": {
    "id": "9AALVqLUyOkY"
   },
   "outputs": [],
   "source": [
    "def heston_call_mc_barrier(S0, K, r, T, barrier):\n",
    "    np.random.seed(42)\n",
    "    S = generate_heston_paths(S0, T, r, kappa_v, theta_v, v0, rho, sigma_v, M, Ite)\n",
    "    data = np.maximum(0, -K + S[:,-1])\n",
    "    crossed_barrier = np.any(S[:,:-1] >= barrier, axis=1)\n",
    "    \n",
    "    # Calculate the payoff for each path\n",
    "    data = np.where(crossed_barrier, S[:,-1] - K, 0)\n",
    "    \n",
    "    average = np.sum(np.maximum(data, 0)) / float(Ite)\n",
    "\n",
    "    return np.exp(-r * T) * average"
   ]
  },
  {
   "cell_type": "code",
   "execution_count": null,
   "metadata": {
    "colab": {
     "base_uri": "https://localhost:8080/"
    },
    "id": "bpfDRLR3yec3",
    "outputId": "2d12dea7-7ea8-4369-fd7d-c11de4a5a0b0"
   },
   "outputs": [
    {
     "name": "stdout",
     "output_type": "stream",
     "text": [
      "The price of the up and in barrier option is 0.11\n",
      "The price of the vanilla call option is 0.11\n"
     ]
    }
   ],
   "source": [
    "print(f\"The price of the up and in barrier option is {heston_call_mc_barrier(80, 95, 0.055, 3/12, 95):.2f}\")\n",
    "print(f\"The price of the vanilla call option is {heston_call_mc(80, 95, 0.055, 3/12, 0):.2f}\")"
   ]
  },
  {
   "cell_type": "markdown",
   "metadata": {
    "id": "wFrCHHh1zMoP"
   },
   "source": [
    "The prices are the same because the barrier level is the same as the strike price.  Hence if the option ends in the money, it goes above the barrier. In this scenario, if the underlying asset price reaches or exceeds the barrier before the option's expiration, the option is knocked in and becomes active. Since the barrier and strike prices are identical, the option is already active, and its payout is determined solely by the asset price at expiration, just like a vanilla option. Therefore, the price of an up-and-in barrier option with barrier price equal to the strike price is equivalent to the price of a vanilla option with the same strike price and other parameters."
   ]
  },
  {
   "cell_type": "markdown",
   "metadata": {
    "id": "ijTXlLuGv-4o"
   },
   "source": [
    "## Question 15"
   ]
  },
  {
   "cell_type": "code",
   "execution_count": null,
   "metadata": {
    "id": "cR4q7mYIv_3C"
   },
   "outputs": [],
   "source": [
    "lamb = 0.75\n",
    "S = merton_path(80)\n",
    "K = 65\n",
    "crossed_barrier = np.any(S[:-1, :] <= 65, axis=0)\n",
    "data = np.where(crossed_barrier, K - S[-1,:], 0)\n",
    "average = np.sum(np.maximum(data, 0)) / float(Ite)\n",
    "barrier_put_price = np.exp(-r * T) * average"
   ]
  },
  {
   "cell_type": "code",
   "execution_count": null,
   "metadata": {
    "colab": {
     "base_uri": "https://localhost:8080/"
    },
    "id": "BAuAhvrQ0t1n",
    "outputId": "6895b96a-436d-441d-9f46-f0f3cc06079d"
   },
   "outputs": [
    {
     "name": "stdout",
     "output_type": "stream",
     "text": [
      "The price of the down and in put option is 2.77\n"
     ]
    }
   ],
   "source": [
    "print(f\"The price of the down and in put option is {barrier_put_price:.2f}\")"
   ]
  },
  {
   "cell_type": "code",
   "execution_count": null,
   "metadata": {
    "colab": {
     "base_uri": "https://localhost:8080/"
    },
    "id": "tX-v7DbJ03Mq",
    "outputId": "0ce0fbbf-c64d-430a-a7ab-adc1369be8a8"
   },
   "outputs": [
    {
     "name": "stdout",
     "output_type": "stream",
     "text": [
      "The price of the vanilla option is 2.77\n"
     ]
    }
   ],
   "source": [
    "print(f\"The price of the vanilla option is {merton_put_mc(S, 65, 0.055, 3/12, 0):.2f}\")"
   ]
  },
  {
   "cell_type": "markdown",
   "metadata": {
    "id": "NxIYi3KY1ptc"
   },
   "source": [
    "The price of the vanilla put and the down and in put are the same because the option becomes alive if the stock price reaches the level.  But if the option ends up in the money, the stock must have reached the barrier level. When the barrier price and strike price of a down-and-in put barrier option are the same, the option behaves like a standard vanilla put option. In this case, if the underlying asset price falls below or touches the barrier before the option's expiration, the option is knocked in and becomes active. Since the barrier and strike prices are equal, the option is already active, and its payout is determined solely by the asset price at expiration, resembling a vanilla put option. Hence, the price of a down-and-in put barrier option with a barrier price equal to the strike price is equivalent to the price of a vanilla put option with the same strike price and other relevant parameters."
   ]
  }
 ],
 "metadata": {
  "colab": {
   "provenance": []
  },
  "kernelspec": {
   "display_name": "Python 3 (ipykernel)",
   "language": "python",
   "name": "python3"
  },
  "language_info": {
   "codemirror_mode": {
    "name": "ipython",
    "version": 3
   },
   "file_extension": ".py",
   "mimetype": "text/x-python",
   "name": "python",
   "nbconvert_exporter": "python",
   "pygments_lexer": "ipython3",
   "version": "3.10.6"
  }
 },
 "nbformat": 4,
 "nbformat_minor": 1
}
