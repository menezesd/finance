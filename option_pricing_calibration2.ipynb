{
  "nbformat": 4,
  "nbformat_minor": 0,
  "metadata": {
    "colab": {
      "provenance": []
    },
    "kernelspec": {
      "name": "python3",
      "display_name": "Python 3"
    },
    "language_info": {
      "name": "python"
    }
  },
  "cells": [
    {
      "cell_type": "code",
      "execution_count": 283,
      "metadata": {
        "id": "FfaoFhk8kwKA"
      },
      "outputs": [],
      "source": [
        "import pandas as pd\n",
        "import numpy as np\n",
        "from scipy.integrate import quad\n",
        "from scipy.optimize import brute, fmin\n",
        "import matplotlib.pyplot as plt\n"
      ]
    },
    {
      "cell_type": "code",
      "source": [
        "import ssl\n",
        "ssl._create_default_https_context = ssl._create_unverified_context\n",
        "df = pd.read_csv(\"https://math.ucla.edu/~dmenezes/stochastic_modeling_option_data.csv\")"
      ],
      "metadata": {
        "id": "PLdMIMLPkyEN"
      },
      "execution_count": null,
      "outputs": []
    },
    {
      "cell_type": "code",
      "source": [
        "import warnings\n",
        "warnings.filterwarnings(\"ignore\")"
      ],
      "metadata": {
        "id": "lsukBjq0mcdl"
      },
      "execution_count": 193,
      "outputs": []
    },
    {
      "cell_type": "markdown",
      "source": [
        "# Step 1"
      ],
      "metadata": {
        "id": "vFsTYELZAanG"
      }
    },
    {
      "cell_type": "markdown",
      "source": [
        ":For calibrating a classic Heston (1993) model to the observed prices for both call and put options, we need to get the options data and calibrate parameters.  We assume a constant risk-free rate of 1.5 per cent per annum.  We also need the current value of the underlying which is $232.90 (United States dollars).  \n",
        "\n",
        "We use market prices for call and put options to estimate the parameter values for the Heston model.\n",
        "\n",
        "To calibrate a Heston model, we need to estimate the parameters that best fit the model to observed market prices of options on the asset. The main parameters we need to find are:\n",
        "\n",
        "* The long-term mean level of volatility\n",
        "* The volatility of the volatility, which determines how rapidly volatility moves around\n",
        "* The rate at which volatility reverts to its mean level\n",
        "* The correlation between the asset price and volatility processes\n",
        "\n",
        "The basic steps are:\n",
        "\n",
        "* Get market data on current option prices for a range of strikes and maturities\n",
        "* Make an initial guess at parameter values for the Heston model\n",
        "* Use the model with those parameters to calculate theoretical option prices\n",
        "* Compare the model prices to the market prices and compute the pricing errors\n",
        "    Adjust the parameters and repeat steps 3-4 until the model prices closely match market prices\n",
        "    The best fit parameters are the ones that minimize the overall pricing errors across all the options\n",
        "\n",
        "\n",
        "In contrast with the Black-Scholes model, the Heston model allows for stochastic volatility, meaning that volatility itself is modeled as a random process. It assumes that the underlying asset's volatility follows a square-root diffusion process, known as a stochastic volatility process. This allows the model to capture the observed volatility clustering and mean-reversion properties commonly seen in financial markets.\n",
        "\n",
        "The stock price satisfies:\n",
        "\n",
        "$dS_t = \\mu S_t\\,dt + \\sqrt{\\nu_t} S_t\\,dW^S_t$\n",
        "\n",
        "and the volatility satisfies\n",
        "\n",
        "$d\\nu_t = \\kappa(\\theta - \\nu_t)\\,dt + \\sigma \\sqrt{\\nu_t}\\,dW^{\\nu}_t$\n",
        "\n",
        "Here:\n",
        "* $\\nu_0$ is the initial variance\n",
        "* $\\kappa$ is the rate at which $\\nu$ reverts to the mean\n",
        "* $\\theta$ is the long-run variance\n",
        "* $W^S_t$ and $W^\\nu_t$ are Wiener processes whose correlation is $\\rho$\n",
        "* $\\sigma$ is the volatility of volatility\n"
      ],
      "metadata": {
        "id": "4PVQ4tJznSkP"
      }
    },
    {
      "cell_type": "code",
      "source": [
        "S0 = 232.90 # The SM Stonk is currently trading at $232.90 (USD)"
      ],
      "metadata": {
        "id": "EBw4ujyum_mr"
      },
      "execution_count": null,
      "outputs": []
    },
    {
      "cell_type": "code",
      "source": [
        "r = 1.50 / 100 # Consider a constant annual risk-free rate of 1.5 per cent per annum"
      ],
      "metadata": {
        "id": "E0UKpppHnNqM"
      },
      "execution_count": null,
      "outputs": []
    },
    {
      "cell_type": "code",
      "source": [
        "days_per_year = 250"
      ],
      "metadata": {
        "id": "UfkvojB1k3cR"
      },
      "execution_count": null,
      "outputs": []
    },
    {
      "cell_type": "markdown",
      "source": [
        "To calibrate the Heston model we look at calls and puts with 15 days to maturity.\n"
      ],
      "metadata": {
        "id": "euJ_MZdwLYib"
      }
    },
    {
      "cell_type": "code",
      "source": [
        "options = df[df[\"Days to maturity\"] == 15]"
      ],
      "metadata": {
        "id": "sOmAAMItqL70"
      },
      "execution_count": null,
      "outputs": []
    },
    {
      "cell_type": "markdown",
      "source": [
        "The price of the call option is the discounted value of the expected payoff.  However, under the Heston model there is not a closed form for the density of a final value for the stock; hence we need to work in Fourier space.\n",
        "\n",
        "To calculate the value of a European call option using the Lewis method, we compute the following integral, using numerical integration.\n",
        "\n",
        "$$C_0= S_0 − {\\sqrt{S_0K} e^{-rT} \\over \\pi} \\int_0^\\infty \\Re[e^{izk}\\phi(z − i/2)] {dz \\over z^2 + 1/4}$$\n",
        "\n",
        "here $\\phi$ is the characteristic function of the European call option in the Heston model.\n",
        "\n"
      ],
      "metadata": {
        "id": "6mPLfP0Ffx1P"
      }
    },
    {
      "cell_type": "code",
      "source": [
        "def H93_char_func(u, T, r, kappa_v, theta_v, sigma_v, rho, v0):\n",
        "    \"\"\"Valuation of European call option in H93 model via Lewis (2001)\n",
        "    Fourier-based approach: characteristic function.\n",
        "    Parameter definitions see function BCC_call_value.\"\"\"\n",
        "    c1 = kappa_v * theta_v\n",
        "    c2 = -np.sqrt(\n",
        "        (rho * sigma_v * u * 1j - kappa_v) ** 2 - sigma_v**2 * (-u * 1j - u**2)\n",
        "    )\n",
        "    c3 = (kappa_v - rho * sigma_v * u * 1j + c2) / (\n",
        "        kappa_v - rho * sigma_v * u * 1j - c2\n",
        "    )\n",
        "    H1 = r * u * 1j * T + (c1 / sigma_v**2) * (\n",
        "        (kappa_v - rho * sigma_v * u * 1j + c2) * T\n",
        "        - 2 * np.log((1 -+ c3 * np.exp(c2 * T)) / (1 - c3))\n",
        "    )\n",
        "    H2 = (\n",
        "        (kappa_v - rho * sigma_v * u * 1j + c2)\n",
        "        / sigma_v**2\n",
        "        * ((1 - np.exp(c2 * T)) / (1 - c3 * np.exp(c2 * T)))\n",
        "    )\n",
        "    char_func_value = np.exp(H1 + H2 * v0)\n",
        "    return char_func_value"
      ],
      "metadata": {
        "id": "DGQbG_03lcy5"
      },
      "execution_count": null,
      "outputs": []
    },
    {
      "cell_type": "markdown",
      "source": [
        "To perform calibration, we use the functions we have written to value various puts and calls; we find the values of the parameters that minimize the mean squared error when comparing the computed value with the market data."
      ],
      "metadata": {
        "id": "nZ1T0oxdg6uI"
      }
    },
    {
      "cell_type": "code",
      "source": [
        "def H93_error_function(p0):\n",
        "    \"\"\"Error function for parameter calibration via\n",
        "    Lewis (2001) Fourier approach for Heston (1993).\n",
        "    Parameters\n",
        "    ==========\n",
        "    kappa_v: float\n",
        "        mean-reversion factor\n",
        "    theta_v: float\n",
        "        long-run mean of variance\n",
        "    sigma_v: float\n",
        "        volatility of variance\n",
        "    rho: float\n",
        "        correlation between variance and stock/index level\n",
        "    v0: float\n",
        "        initial, instantaneous variance\n",
        "    Returns\n",
        "    =======\n",
        "    MSE: float\n",
        "        mean squared error\n",
        "    \"\"\"\n",
        "    global i, min_MSE\n",
        "    kappa_v, theta_v, sigma_v, rho, v0 = p0\n",
        "    if kappa_v < 0.0 or theta_v < 0.005 or sigma_v < 0.0 or rho < -1.0 or rho > 1.0 or v0 < 0.0:\n",
        "        return 500.0\n",
        "    if 2 * kappa_v * theta_v < sigma_v**2:\n",
        "        return 500.0\n",
        "    se = []\n",
        "    for row, option in options.iterrows():\n",
        "      if option[\"Type\"] == \"C\":\n",
        "        model_value = H93_call_value(\n",
        "            S0,\n",
        "            option[\"Strike\"],\n",
        "            option[\"Days to maturity\"] / days_per_year,\n",
        "            r,\n",
        "            kappa_v,\n",
        "            theta_v,\n",
        "            sigma_v,\n",
        "            rho,\n",
        "            v0,\n",
        "        )\n",
        "      else:\n",
        "        model_value = model_value = H93_put_value(\n",
        "            S0,\n",
        "            option[\"Strike\"],\n",
        "            option[\"Days to maturity\"] / days_per_year,\n",
        "            r,\n",
        "            kappa_v,\n",
        "            theta_v,\n",
        "            sigma_v,\n",
        "            rho,\n",
        "            v0,\n",
        "        )\n",
        "        se.append((model_value - option[\"Price\"]) ** 2)\n",
        "\n",
        "    MSE = sum(se) / len(se)\n",
        "    min_MSE = min(min_MSE, MSE)\n",
        "    if i % 25 == 0:\n",
        "        print(\"%4d |\" % i, np.array(p0), \"| %7.3f | %7.3f\" % (MSE, min_MSE))\n",
        "    i += 1\n",
        "    return MSE"
      ],
      "metadata": {
        "id": "M-YYWbNTl6Eh"
      },
      "execution_count": null,
      "outputs": []
    },
    {
      "cell_type": "code",
      "source": [
        "def H93_int_func(u, S0, K, T, r, kappa_v, theta_v, sigma_v, rho, v0):\n",
        "    \"\"\"\n",
        "    Fourier-based approach for Lewis (2001): Integration function.\n",
        "    \"\"\"\n",
        "    char_func_value = H93_char_func(\n",
        "        u - 1j * 0.5, T, r, kappa_v, theta_v, sigma_v, rho, v0\n",
        "    )\n",
        "    int_func_value = (\n",
        "        1 / (u**2 + 0.25) * (np.exp(1j * u * np.log(S0 / K)) * char_func_value).real\n",
        "    )\n",
        "    return int_func_value"
      ],
      "metadata": {
        "id": "Gpr6p3w4mS1C"
      },
      "execution_count": null,
      "outputs": []
    },
    {
      "cell_type": "markdown",
      "source": [
        "To calculate the value of calls under the Lewis approach, we perform numerical quadrature; we created Python functions for the characterstic function and the integrand; we can then create another Python function that uses numpy's `quad` function to calculate the value of the integral numerically."
      ],
      "metadata": {
        "id": "3Xqr0ysF7B1G"
      }
    },
    {
      "cell_type": "code",
      "source": [
        "def H93_call_value(S0, K, T, r, kappa_v, theta_v, sigma_v, rho, v0):\n",
        "    \"\"\"Valuation of European call option in H93 model via Lewis (2001)\n",
        "\n",
        "    Parameter definition:\n",
        "    ==========\n",
        "    S0: float\n",
        "        initial stock/index level\n",
        "    K: float\n",
        "        strike price\n",
        "    T: float\n",
        "        time-to-maturity (for t=0)\n",
        "    r: float\n",
        "        constant risk-free short rate\n",
        "    kappa_v: float\n",
        "        mean-reversion factor\n",
        "    theta_v: float\n",
        "        long-run mean of variance\n",
        "    sigma_v: float\n",
        "        volatility of variance\n",
        "    rho: float\n",
        "        correlation between variance and stock/index level\n",
        "    v0: float\n",
        "        initial level of variance\n",
        "    Returns\n",
        "    =======\n",
        "    call_value: float\n",
        "        present value of European call option\n",
        "    \"\"\"\n",
        "    int_value = quad(\n",
        "        lambda u: H93_int_func(u, S0, K, T, r, kappa_v, theta_v, sigma_v, rho, v0),\n",
        "        0,\n",
        "        np.inf,\n",
        "        limit=1000,\n",
        "    )[0]\n",
        "    call_value = max(0, S0 - np.exp(-r * T) * np.sqrt(S0 * K) / np.pi * int_value)\n",
        "    return call_value"
      ],
      "metadata": {
        "id": "_rOwpxjzn8i7"
      },
      "execution_count": null,
      "outputs": []
    },
    {
      "cell_type": "markdown",
      "source": [
        "To calculate the value of European put options under the Lewis (2001) approach we use the call values and apply put-call parity:\n",
        "${\\rm Call Price} + Ke^{-rT} = {\\rm Put Price} + S_0$"
      ],
      "metadata": {
        "id": "OmyHudBw7D21"
      }
    },
    {
      "cell_type": "code",
      "source": [
        "def H93_put_value(S0, K, T, r, kappa_v, theta_v, sigma_v, rho, v0):\n",
        "    \"\"\"Valuation of European put option in H93 model via Lewis (2001)\n",
        "\n",
        "    Parameter definition:\n",
        "    ==========\n",
        "    S0: float\n",
        "        initial stock/index level\n",
        "    K: float\n",
        "        strike price\n",
        "    T: float\n",
        "        time-to-maturity (for t=0)\n",
        "    r: float\n",
        "        constant risk-free short rate\n",
        "    kappa_v: float\n",
        "        mean-reversion factor\n",
        "    theta_v: float\n",
        "        long-run mean of variance\n",
        "    sigma_v: float\n",
        "        volatility of variance\n",
        "    rho: float\n",
        "        correlation between variance and stock/index level\n",
        "    v0: float\n",
        "        initial level of variance\n",
        "    Returns\n",
        "    =======\n",
        "    call_value: float\n",
        "        present value of European call option\n",
        "    \"\"\"\n",
        "    call_value = H93_call_value(S0,K,T,r,kappa_v, theta_v, sigma_v, rho, v0)\n",
        "    bond_price = K * np.exp(-r*T)\n",
        "    return call_value + bond_price - S0"
      ],
      "metadata": {
        "id": "ekiIi4JMoAUP"
      },
      "execution_count": null,
      "outputs": []
    },
    {
      "cell_type": "markdown",
      "source": [
        "Alternatively we can use the Fast Fourier Transform approach described by Car-Madan (1999) to calculate prices and calibrate the model.\n",
        "\n",
        "The call price can be found using the following integral:\n",
        "$$ {\\exp(-\\alpha k) \\over \\pi} \\int_0^\\infty e^{-ivk} \\psi(v) dv $$\n",
        "\n",
        "where\n",
        "\n",
        "$$\\psi(v) = { e^{-rT} \\phi(v - (\\alpha + i) i) \\over  \\alpha^2 + \\alpha - v^2 + (2\\alpha + 1) v i }$$\n",
        "\n",
        "The above integral can be recognized as a Fourier Transform, so we can approximate it using the Discerte Fourier Transfor"
      ],
      "metadata": {
        "id": "j3pEi-nW6vB3"
      }
    },
    {
      "cell_type": "code",
      "source": [
        "def H93_call_FFT(S0, K, T, r, kappa_v, theta_v, sigma_v, rho, v0):\n",
        "    \"\"\"\n",
        "    Call option price in Heston (1993) under FFT\n",
        "    \"\"\"\n",
        "\n",
        "    k = np.log(K / S0)\n",
        "    g = 1  # Factor to increase accuracy\n",
        "    N = g * 4096\n",
        "    eps = (g * 150) ** -1\n",
        "    eta = 2 * np.pi / (N * eps)\n",
        "    b = 0.5 * N * eps - k\n",
        "    u = np.arange(1, N + 1, 1)\n",
        "    vo = eta * (u - 1)\n",
        "\n",
        "    # Modifications to ensure integrability\n",
        "    if S0 >= 0.95 * K:  # ITM Case\n",
        "        alpha = 1.5\n",
        "        v = vo - (alpha + 1) * 1j\n",
        "        modcharFunc = np.exp(-r * T) * (\n",
        "            H93_char_func(v, T, r, kappa_v, theta_v, sigma_v, rho, v0)\n",
        "            / (alpha**2 + alpha - vo**2 + 1j * (2 * alpha + 1) * vo)\n",
        "        )\n",
        "\n",
        "    else:\n",
        "        alpha = 1.1\n",
        "        v = (vo - 1j * alpha) - 1j\n",
        "        modcharFunc1 = np.exp(-r * T) * (\n",
        "            1 / (1 + 1j * (vo - 1j * alpha))\n",
        "            - np.exp(r * T) / (1j * (vo - 1j * alpha))\n",
        "            - H93_char_func(\n",
        "                v, T, r, kappa_v, theta_v, sigma_v, rho, v0\n",
        "            )\n",
        "            / ((vo - 1j * alpha) ** 2 - 1j * (vo - 1j * alpha))\n",
        "        )\n",
        "\n",
        "        v = (vo + 1j * alpha) - 1j\n",
        "\n",
        "        modcharFunc2 = np.exp(-r * T) * (\n",
        "            1 / (1 + 1j * (vo + 1j * alpha))\n",
        "            - np.exp(r * T) / (1j * (vo + 1j * alpha))\n",
        "            - H93_char_func(\n",
        "                v, T, r, kappa_v, theta_v, sigma_v, rho, v0\n",
        "            )\n",
        "            / ((vo + 1j * alpha) ** 2 - 1j * (vo + 1j * alpha))\n",
        "        )\n",
        "\n",
        "    # Numerical FFT Routine\n",
        "    delt = np.zeros(N)\n",
        "    delt[0] = 1\n",
        "    j = np.arange(1, N + 1, 1)\n",
        "    SimpsonW = (3 + (-1) ** j - delt) / 3\n",
        "    if S0 >= 0.95 * K:\n",
        "        FFTFunc = np.exp(1j * b * vo) * modcharFunc * eta * SimpsonW\n",
        "        payoff = (np.fft.fft(FFTFunc)).real\n",
        "        CallValueM = np.exp(-alpha * k) / np.pi * payoff\n",
        "    else:\n",
        "        FFTFunc = (\n",
        "            np.exp(1j * b * vo) * (modcharFunc1 - modcharFunc2) * 0.5 * eta * SimpsonW\n",
        "        )\n",
        "        payoff = (np.fft.fft(FFTFunc)).real\n",
        "        CallValueM = payoff / (np.sinh(alpha * k) * np.pi)\n",
        "\n",
        "    pos = int((k + b) / eps)\n",
        "    CallValue = CallValueM[pos] * S0\n",
        "\n",
        "    return CallValue"
      ],
      "metadata": {
        "id": "0RUB_zYqpRqh"
      },
      "execution_count": null,
      "outputs": []
    },
    {
      "cell_type": "markdown",
      "source": [
        "We can compute the put prices using put-call parity.\n",
        "\n",
        "${\\rm Call Price} + Ke^{-rT} = {\\rm Put Price} + S_0$\n",
        "\n"
      ],
      "metadata": {
        "id": "bVtzLQQo_ht7"
      }
    },
    {
      "cell_type": "code",
      "source": [
        "def H93_put_FFT(S0, K, T, r, kappa_v, theta_v, sigma_v, rho, v0):\n",
        "    \"\"\"\n",
        "    Put option price in Heston (1993) under FFT\n",
        "    \"\"\"\n",
        "    call_price = H93_call_FFT(S0, K, T, r, kappa_v, theta_v, sigma_v, rho, v0)\n",
        "    bond_price = K * np.exp(-T * r)\n",
        "    return call_price + bond_price - S0"
      ],
      "metadata": {
        "id": "e5LPsl6t9gHI"
      },
      "execution_count": null,
      "outputs": []
    },
    {
      "cell_type": "markdown",
      "source": [
        "We use an optimization method included with numpy to find the values for the parameters involved in the Heston model that will let us most closely approximate the difference between the calculated prices and the market prices."
      ],
      "metadata": {
        "id": "EVbmg6efJKZy"
      }
    },
    {
      "cell_type": "code",
      "source": [
        "def H93_calibration_full():\n",
        "    \"\"\"Calibrates Heston (1993) stochastic volatility model to market quotes.\"\"\"\n",
        "    # First run with brute force\n",
        "    # (scan sensible regions, for faster convergence)\n",
        "    p0 = brute(\n",
        "        H93_error_function,\n",
        "        (\n",
        "            (2.5, 10.6, 5.0),  # kappa_v\n",
        "            (0.01, 0.041, 0.01),  # theta_v\n",
        "            (0.05, 0.251, 0.1),  # sigma_v\n",
        "            (-0.75, 0.01, 0.25),  # rho\n",
        "            (0.01, 0.031, 0.01),\n",
        "        ),  # v0\n",
        "        finish=None,\n",
        "    )\n",
        "\n",
        "    # Second run with local, convex minimization\n",
        "    # (we dig deeper where promising results)\n",
        "    opt = fmin(\n",
        "        H93_error_function, p0, xtol=0.000001, ftol=0.000001, maxiter=750, maxfun=900\n",
        "    )\n",
        "    return opt"
      ],
      "metadata": {
        "id": "pmFi3EHGw8PT"
      },
      "execution_count": null,
      "outputs": []
    },
    {
      "cell_type": "code",
      "source": [
        "global i\n",
        "i=0\n",
        "min_MSE=500\n",
        "h93_params = H93_calibration_full()"
      ],
      "metadata": {
        "colab": {
          "base_uri": "https://localhost:8080/"
        },
        "id": "9dqlhyIFxEOu",
        "outputId": "86d89157-8732-4f59-ce54-6e397c0b7f29"
      },
      "execution_count": null,
      "outputs": [
        {
          "output_type": "stream",
          "name": "stdout",
          "text": [
            "   0 | [ 2.5   0.01  0.05 -0.75  0.01] |  16.612 |  16.612\n",
            "  25 | [ 2.5   0.02  0.05 -0.75  0.02] |  10.548 |   7.122\n",
            "  50 | [ 2.5   0.02  0.25 -0.75  0.03] |   6.927 |   6.887\n",
            "  75 | [ 2.5   0.03  0.15 -0.5   0.01] |  15.576 |   6.657\n",
            " 100 | [ 2.5   0.04  0.05 -0.5   0.02] |   9.895 |   6.434\n",
            " 125 | [ 2.5   0.04  0.25 -0.5   0.03] |   6.484 |   6.434\n",
            " 150 | [ 7.5   0.01  0.15 -0.25  0.01] |  16.651 |   6.434\n",
            " 175 | [ 7.5   0.02  0.05 -0.25  0.02] |  10.558 |   6.434\n",
            " 200 | [ 7.5   0.02  0.25 -0.25  0.03] |   7.358 |   6.434\n",
            " 225 | [7.5  0.03 0.15 0.   0.01] |  13.935 |   6.434\n",
            " 250 | [7.5  0.04 0.05 0.   0.02] |   8.856 |   6.063\n",
            " 275 | [7.5  0.04 0.25 0.   0.03] |   6.127 |   6.063\n",
            " 300 | [ 7.10037179  0.05742843  0.03760827 -0.46596154  0.04611934] |   2.505 |   2.505\n",
            " 325 | [5.10263100e+00 1.01254224e-01 4.93650879e-03 3.68580639e-01\n",
            " 8.66304257e-02] |   0.058 |   0.035\n",
            " 350 | [5.58361426 0.09659365 0.00907296 0.32091804 0.08230265] |   0.035 |   0.035\n",
            " 375 | [5.5850494  0.09696203 0.00876381 0.32758138 0.08256791] |   0.035 |   0.035\n",
            " 400 | [5.56373376 0.09679262 0.00884388 0.32254208 0.08251282] |   0.035 |   0.035\n",
            " 425 | [6.17916321 0.09376958 0.00718721 0.29384796 0.08273392] |   0.035 |   0.035\n",
            " 450 | [7.57942253e+00 8.84201885e-02 2.71970656e-03 2.58714578e-01\n",
            " 8.37772826e-02] |   0.035 |   0.035\n"
          ]
        },
        {
          "output_type": "stream",
          "name": "stderr",
          "text": [
            "<ipython-input-172-7ee6a85e7769>:29: IntegrationWarning: The occurrence of roundoff error is detected, which prevents \n",
            "  the requested tolerance from being achieved.  The error may be \n",
            "  underestimated.\n",
            "  int_value = quad(\n"
          ]
        },
        {
          "output_type": "stream",
          "name": "stdout",
          "text": [
            " 475 | [8.29144162e+00 8.56030180e-02 3.16741581e-04 2.38559822e-01\n",
            " 8.43910209e-02] |   0.035 |   0.035\n",
            " 500 | [8.35720227e+00 8.52890871e-02 1.35328403e-05 2.34629208e-01\n",
            " 8.44557305e-02] |   0.035 |   0.035\n",
            " 525 | [8.37218869e+00 8.52292697e-02 4.64132800e-06 2.34442657e-01\n",
            " 8.44514214e-02] |   0.035 |   0.035\n",
            " 550 | [8.37277472e+00 8.52266200e-02 5.42278934e-06 2.34437554e-01\n",
            " 8.44509274e-02] |   0.035 |   0.035\n",
            " 575 | [8.37266035e+00 8.52271451e-02 5.26185885e-06 2.34438606e-01\n",
            " 8.44510368e-02] |   0.035 |   0.035\n",
            " 600 | [8.37266653e+00 8.52271369e-02 5.25213787e-06 2.34438818e-01\n",
            " 8.44510397e-02] |   0.035 |   0.035\n",
            " 625 | [8.37264857e+00 8.52272192e-02 5.25734211e-06 2.34439235e-01\n",
            " 8.44510484e-02] |   0.035 |   0.035\n",
            " 650 | [8.37264633e+00 8.52272291e-02 5.25882701e-06 2.34439285e-01\n",
            " 8.44510492e-02] |   0.035 |   0.035\n",
            " 675 | [8.37264621e+00 8.52272295e-02 5.25891670e-06 2.34439286e-01\n",
            " 8.44510492e-02] |   0.035 |   0.035\n",
            " 700 | [8.37264613e+00 8.52272299e-02 5.25895022e-06 2.34439288e-01\n",
            " 8.44510492e-02] |   0.035 |   0.035\n",
            " 725 | [8.37264612e+00 8.52272299e-02 5.25896174e-06 2.34439288e-01\n",
            " 8.44510492e-02] |   0.035 |   0.035\n",
            " 750 | [8.37264613e+00 8.52272299e-02 5.25896294e-06 2.34439288e-01\n",
            " 8.44510492e-02] |   0.035 |   0.035\n",
            " 775 | [8.37264613e+00 8.52272299e-02 5.25896321e-06 2.34439288e-01\n",
            " 8.44510492e-02] |   0.035 |   0.035\n",
            " 800 | [8.37264613e+00 8.52272299e-02 5.25896319e-06 2.34439288e-01\n",
            " 8.44510492e-02] |   0.035 |   0.035\n",
            " 825 | [8.37264613e+00 8.52272299e-02 5.25896320e-06 2.34439288e-01\n",
            " 8.44510492e-02] |   0.035 |   0.035\n",
            " 850 | [8.37264613e+00 8.52272299e-02 5.25896320e-06 2.34439288e-01\n",
            " 8.44510492e-02] |   0.035 |   0.035\n",
            " 875 | [8.37264613e+00 8.52272299e-02 5.25896320e-06 2.34439288e-01\n",
            " 8.44510492e-02] |   0.035 |   0.035\n",
            " 900 | [8.37264613e+00 8.52272299e-02 5.25896320e-06 2.34439288e-01\n",
            " 8.44510492e-02] |   0.035 |   0.035\n",
            "Optimization terminated successfully.\n",
            "         Current function value: 0.034852\n",
            "         Iterations: 292\n",
            "         Function evaluations: 659\n"
          ]
        }
      ]
    },
    {
      "cell_type": "markdown",
      "source": [
        "We obtain the following values after performing the optimization procedure\n",
        "\n",
        "* $\\kappa_v = 8.37264613$\n",
        "* $\\theta_v = 0.085227229$\n",
        "* $\\sigma_v = 5.25896320 \\times 10^{-6}$\n",
        "* $\\rho = 0.234439288$\n",
        "* $v_0 =   0.0844510492$\n"
      ],
      "metadata": {
        "id": "Q1PjoSGY7QWE"
      }
    },
    {
      "cell_type": "markdown",
      "source": [
        "Now we can define the error function so that we can perform the same optimization for the Carr-Madan (1999) pricing approach."
      ],
      "metadata": {
        "id": "0TgAVeu96f0l"
      }
    },
    {
      "cell_type": "code",
      "source": [
        "def H93_error_function_FFT(p0):\n",
        "    \"\"\"Error function for parameter calibration via\n",
        "    Carr-Madan (1999) Fourier approach for Heston (1993).\n",
        "    Parameters\n",
        "    ==========\n",
        "    kappa_v: float\n",
        "        mean-reversion factor\n",
        "    theta_v: float\n",
        "        long-run mean of variance\n",
        "    sigma_v: float\n",
        "        volatility of variance\n",
        "    rho: float\n",
        "        correlation between variance and stock/index level\n",
        "    v0: float\n",
        "        initial, instantaneous variance\n",
        "    Returns\n",
        "    =======\n",
        "    MSE: float\n",
        "        mean squared error\n",
        "    \"\"\"\n",
        "    global i, min_MSE\n",
        "    kappa_v, theta_v, sigma_v, rho, v0 = p0\n",
        "    if kappa_v < 0.0 or theta_v < 0.005 or sigma_v < 0.0 or rho < -1.0 or rho > 1.0 or v0 < 0.0:\n",
        "        return 500.0\n",
        "    if 2 * kappa_v * theta_v < sigma_v**2:\n",
        "        return 500.0\n",
        "    se = []\n",
        "    for row, option in options.iterrows():\n",
        "      if option[\"Type\"] == \"C\":\n",
        "        model_value = H93_call_FFT(\n",
        "            S0,\n",
        "            option[\"Strike\"],\n",
        "            option[\"Days to maturity\"] / days_per_year,\n",
        "            r,\n",
        "            kappa_v,\n",
        "            theta_v,\n",
        "            sigma_v,\n",
        "            rho,\n",
        "            v0,\n",
        "        )\n",
        "      else:\n",
        "        model_value = model_value = H93_put_FFT(\n",
        "            S0,\n",
        "            option[\"Strike\"],\n",
        "            option[\"Days to maturity\"] / days_per_year,\n",
        "            r,\n",
        "            kappa_v,\n",
        "            theta_v,\n",
        "            sigma_v,\n",
        "            rho,\n",
        "            v0,\n",
        "        )\n",
        "        se.append((model_value - option[\"Price\"]) ** 2)\n",
        "\n",
        "    MSE = sum(se) / len(se)\n",
        "    min_MSE = min(min_MSE, MSE)\n",
        "    if i % 25 == 0:\n",
        "        print(\"%4d |\" % i, np.array(p0), \"| %7.3f | %7.3f\" % (MSE, min_MSE))\n",
        "    i += 1\n",
        "    return MSE"
      ],
      "metadata": {
        "id": "3FR7qMaFyd3D"
      },
      "execution_count": null,
      "outputs": []
    },
    {
      "cell_type": "code",
      "source": [
        "def H93_calibration_full_FFT():\n",
        "    \"\"\"Calibrates Heston (1993) stochastic volatility model to market quotes.\"\"\"\n",
        "    # First run with brute force\n",
        "    # (scan sensible regions, for faster convergence)\n",
        "    p0 = brute(\n",
        "        H93_error_function,\n",
        "        (\n",
        "            (2.5, 10.6, 5.0),  # kappa_v\n",
        "            (0.01, 0.041, 0.01),  # theta_v\n",
        "            (0.05, 0.251, 0.1),  # sigma_v\n",
        "            (-0.75, 0.01, 0.25),  # rho\n",
        "            (0.01, 0.031, 0.01),\n",
        "        ),  # v0\n",
        "        finish=None,\n",
        "    )\n",
        "\n",
        "    # Second run with local, convex minimization\n",
        "    # (we dig deeper where promising results)\n",
        "    opt = fmin(\n",
        "        H93_error_function_FFT, p0, xtol=0.000001, ftol=0.000001, maxiter=750, maxfun=900\n",
        "    )\n",
        "    return opt"
      ],
      "metadata": {
        "id": "ef_nATKBypC2"
      },
      "execution_count": null,
      "outputs": []
    },
    {
      "cell_type": "code",
      "source": [
        "global i\n",
        "i=0\n",
        "min_MSE=500\n",
        "h93_params_FFT = H93_calibration_full_FFT()"
      ],
      "metadata": {
        "colab": {
          "base_uri": "https://localhost:8080/"
        },
        "id": "VHJBd1yr4XNg",
        "outputId": "66b19edd-6913-4ad7-853c-e708703d458c"
      },
      "execution_count": null,
      "outputs": [
        {
          "output_type": "stream",
          "name": "stdout",
          "text": [
            "   0 | [ 2.5   0.01  0.05 -0.75  0.01] |  16.612 |  16.612\n",
            "  25 | [ 2.5   0.02  0.05 -0.75  0.02] |  10.548 |   7.122\n",
            "  50 | [ 2.5   0.02  0.25 -0.75  0.03] |   6.927 |   6.887\n",
            "  75 | [ 2.5   0.03  0.15 -0.5   0.01] |  15.576 |   6.657\n",
            " 100 | [ 2.5   0.04  0.05 -0.5   0.02] |   9.895 |   6.434\n",
            " 125 | [ 2.5   0.04  0.25 -0.5   0.03] |   6.484 |   6.434\n",
            " 150 | [ 7.5   0.01  0.15 -0.25  0.01] |  16.651 |   6.434\n",
            " 175 | [ 7.5   0.02  0.05 -0.25  0.02] |  10.558 |   6.434\n",
            " 200 | [ 7.5   0.02  0.25 -0.25  0.03] |   7.358 |   6.434\n",
            " 225 | [7.5  0.03 0.15 0.   0.01] |  13.935 |   6.434\n",
            " 250 | [7.5  0.04 0.05 0.   0.02] |   8.856 |   6.063\n",
            " 275 | [7.5  0.04 0.25 0.   0.03] |   6.127 |   6.063\n",
            " 300 | [ 7.10037179  0.05742843  0.03760827 -0.46596154  0.04611934] |   2.505 |   2.505\n",
            " 325 | [5.10263100e+00 1.01254224e-01 4.93650879e-03 3.68580639e-01\n",
            " 8.66304257e-02] |   0.058 |   0.035\n",
            " 350 | [5.58361426 0.09659365 0.00907296 0.32091804 0.08230265] |   0.035 |   0.035\n",
            " 375 | [5.5850494  0.09696203 0.00876381 0.32758138 0.08256791] |   0.035 |   0.035\n",
            " 400 | [5.56373376 0.09679262 0.00884388 0.32254208 0.08251282] |   0.035 |   0.035\n",
            " 425 | [6.17916321 0.09376958 0.00718721 0.29384796 0.08273392] |   0.035 |   0.035\n",
            " 450 | [7.57942253e+00 8.84201885e-02 2.71970656e-03 2.58714578e-01\n",
            " 8.37772826e-02] |   0.035 |   0.035\n",
            " 475 | [8.29144162e+00 8.56030180e-02 3.16741581e-04 2.38559822e-01\n",
            " 8.43910209e-02] |   0.035 |   0.035\n",
            " 500 | [8.36457042e+00 8.52605847e-02 4.40719212e-05 2.34787158e-01\n",
            " 8.44385441e-02] |   0.035 |   0.035\n",
            " 525 | [8.35705513e+00 8.52690449e-02 7.42032676e-06 2.34076246e-01\n",
            " 8.44495902e-02] |   0.035 |   0.035\n",
            " 550 | [8.35096965e+00 8.52945153e-02 5.84734963e-06 2.34124077e-01\n",
            " 8.44534415e-02] |   0.035 |   0.035\n",
            " 575 | [8.34984501e+00 8.52992793e-02 7.14934375e-06 2.34149223e-01\n",
            " 8.44536928e-02] |   0.035 |   0.035\n",
            " 600 | [8.35012266e+00 8.52981544e-02 7.18459975e-06 2.34147021e-01\n",
            " 8.44535114e-02] |   0.035 |   0.035\n",
            " 625 | [8.35014101e+00 8.52981024e-02 7.19870576e-06 2.34147455e-01\n",
            " 8.44535023e-02] |   0.035 |   0.035\n",
            "Optimization terminated successfully.\n",
            "         Current function value: 0.034878\n",
            "         Iterations: 204\n",
            "         Function evaluations: 404\n"
          ]
        }
      ]
    },
    {
      "cell_type": "markdown",
      "source": [
        "Under the Carr-Lewis approach we obtain the following values for the\n",
        "    \n",
        "* $\\kappa_v = 8.3501410 $\n",
        "* $\\theta_v = 0.0852981024$\n",
        "* $\\sigma_v = 7.1987057 \\times 10^{-6} $\n",
        "* $\\rho =  0.0234147455 $\n",
        "* $v_0 = 0.0844535023$\n",
        "\n",
        "These values are similar to those obtained using the Lewis approach."
      ],
      "metadata": {
        "id": "iDu27JaE7t3h"
      }
    },
    {
      "cell_type": "code",
      "source": [
        "options_lewis = options.copy()\n",
        "options_carr = options.copy()"
      ],
      "metadata": {
        "id": "XKgJKvVJLenD"
      },
      "execution_count": null,
      "outputs": []
    },
    {
      "cell_type": "code",
      "source": [
        "kappa_v, theta_v, sigma_v, rho, v0 = h93_params\n",
        "options_lewis[\"Model\"] = 0.0\n",
        "for row, option in options_lewis.iterrows():\n",
        "      if option[\"Type\"] == \"C\":\n",
        "        options_lewis.loc[row, \"Model\"] = H93_call_value(\n",
        "            S0,\n",
        "            option[\"Strike\"],\n",
        "            option[\"Days to maturity\"] / days_per_year,\n",
        "            r,\n",
        "            kappa_v,\n",
        "            theta_v,\n",
        "            sigma_v,\n",
        "            rho,\n",
        "            v0,\n",
        "        )\n",
        "      else:\n",
        "        options_lewis.loc[row, \"Model\"] = model_value = H93_put_value(\n",
        "            S0,\n",
        "            option[\"Strike\"],\n",
        "            option[\"Days to maturity\"] / days_per_year,\n",
        "            r,\n",
        "            kappa_v,\n",
        "            theta_v,\n",
        "            sigma_v,\n",
        "            rho,\n",
        "            v0,\n",
        "        )"
      ],
      "metadata": {
        "colab": {
          "base_uri": "https://localhost:8080/"
        },
        "id": "Yj7e6c6uLnKQ",
        "outputId": "a6f9ebf7-404a-47c6-cf65-b6490ca0dab3"
      },
      "execution_count": null,
      "outputs": [
        {
          "output_type": "stream",
          "name": "stderr",
          "text": [
            "<ipython-input-172-7ee6a85e7769>:29: IntegrationWarning: The occurrence of roundoff error is detected, which prevents \n",
            "  the requested tolerance from being achieved.  The error may be \n",
            "  underestimated.\n",
            "  int_value = quad(\n"
          ]
        }
      ]
    },
    {
      "cell_type": "code",
      "source": [
        "options_lewis"
      ],
      "metadata": {
        "colab": {
          "base_uri": "https://localhost:8080/",
          "height": 363
        },
        "id": "Es8LKIDJLyqm",
        "outputId": "9d0d2d62-d716-4963-ff9c-0fa33fa2acc1"
      },
      "execution_count": null,
      "outputs": [
        {
          "output_type": "execute_result",
          "data": {
            "text/plain": [
              "    Days to maturity  Strike  Price Type     Model\n",
              "0                 15   227.5  10.52    C  9.720195\n",
              "1                 15   230.0  10.05    C  8.244728\n",
              "2                 15   232.5   7.75    C  6.919611\n",
              "3                 15   235.0   6.01    C  5.744201\n",
              "4                 15   237.5   4.75    C  4.715860\n",
              "15                15   227.5   4.32    P  4.115537\n",
              "16                15   230.0   5.20    P  5.137821\n",
              "17                15   232.5   6.45    P  6.310455\n",
              "18                15   235.0   7.56    P  7.632796\n",
              "19                15   237.5   8.78    P  9.102206"
            ],
            "text/html": [
              "\n",
              "  <div id=\"df-5aece29d-bb04-4988-9162-8164f358420f\">\n",
              "    <div class=\"colab-df-container\">\n",
              "      <div>\n",
              "<style scoped>\n",
              "    .dataframe tbody tr th:only-of-type {\n",
              "        vertical-align: middle;\n",
              "    }\n",
              "\n",
              "    .dataframe tbody tr th {\n",
              "        vertical-align: top;\n",
              "    }\n",
              "\n",
              "    .dataframe thead th {\n",
              "        text-align: right;\n",
              "    }\n",
              "</style>\n",
              "<table border=\"1\" class=\"dataframe\">\n",
              "  <thead>\n",
              "    <tr style=\"text-align: right;\">\n",
              "      <th></th>\n",
              "      <th>Days to maturity</th>\n",
              "      <th>Strike</th>\n",
              "      <th>Price</th>\n",
              "      <th>Type</th>\n",
              "      <th>Model</th>\n",
              "    </tr>\n",
              "  </thead>\n",
              "  <tbody>\n",
              "    <tr>\n",
              "      <th>0</th>\n",
              "      <td>15</td>\n",
              "      <td>227.5</td>\n",
              "      <td>10.52</td>\n",
              "      <td>C</td>\n",
              "      <td>9.720195</td>\n",
              "    </tr>\n",
              "    <tr>\n",
              "      <th>1</th>\n",
              "      <td>15</td>\n",
              "      <td>230.0</td>\n",
              "      <td>10.05</td>\n",
              "      <td>C</td>\n",
              "      <td>8.244728</td>\n",
              "    </tr>\n",
              "    <tr>\n",
              "      <th>2</th>\n",
              "      <td>15</td>\n",
              "      <td>232.5</td>\n",
              "      <td>7.75</td>\n",
              "      <td>C</td>\n",
              "      <td>6.919611</td>\n",
              "    </tr>\n",
              "    <tr>\n",
              "      <th>3</th>\n",
              "      <td>15</td>\n",
              "      <td>235.0</td>\n",
              "      <td>6.01</td>\n",
              "      <td>C</td>\n",
              "      <td>5.744201</td>\n",
              "    </tr>\n",
              "    <tr>\n",
              "      <th>4</th>\n",
              "      <td>15</td>\n",
              "      <td>237.5</td>\n",
              "      <td>4.75</td>\n",
              "      <td>C</td>\n",
              "      <td>4.715860</td>\n",
              "    </tr>\n",
              "    <tr>\n",
              "      <th>15</th>\n",
              "      <td>15</td>\n",
              "      <td>227.5</td>\n",
              "      <td>4.32</td>\n",
              "      <td>P</td>\n",
              "      <td>4.115537</td>\n",
              "    </tr>\n",
              "    <tr>\n",
              "      <th>16</th>\n",
              "      <td>15</td>\n",
              "      <td>230.0</td>\n",
              "      <td>5.20</td>\n",
              "      <td>P</td>\n",
              "      <td>5.137821</td>\n",
              "    </tr>\n",
              "    <tr>\n",
              "      <th>17</th>\n",
              "      <td>15</td>\n",
              "      <td>232.5</td>\n",
              "      <td>6.45</td>\n",
              "      <td>P</td>\n",
              "      <td>6.310455</td>\n",
              "    </tr>\n",
              "    <tr>\n",
              "      <th>18</th>\n",
              "      <td>15</td>\n",
              "      <td>235.0</td>\n",
              "      <td>7.56</td>\n",
              "      <td>P</td>\n",
              "      <td>7.632796</td>\n",
              "    </tr>\n",
              "    <tr>\n",
              "      <th>19</th>\n",
              "      <td>15</td>\n",
              "      <td>237.5</td>\n",
              "      <td>8.78</td>\n",
              "      <td>P</td>\n",
              "      <td>9.102206</td>\n",
              "    </tr>\n",
              "  </tbody>\n",
              "</table>\n",
              "</div>\n",
              "      <button class=\"colab-df-convert\" onclick=\"convertToInteractive('df-5aece29d-bb04-4988-9162-8164f358420f')\"\n",
              "              title=\"Convert this dataframe to an interactive table.\"\n",
              "              style=\"display:none;\">\n",
              "        \n",
              "  <svg xmlns=\"http://www.w3.org/2000/svg\" height=\"24px\"viewBox=\"0 0 24 24\"\n",
              "       width=\"24px\">\n",
              "    <path d=\"M0 0h24v24H0V0z\" fill=\"none\"/>\n",
              "    <path d=\"M18.56 5.44l.94 2.06.94-2.06 2.06-.94-2.06-.94-.94-2.06-.94 2.06-2.06.94zm-11 1L8.5 8.5l.94-2.06 2.06-.94-2.06-.94L8.5 2.5l-.94 2.06-2.06.94zm10 10l.94 2.06.94-2.06 2.06-.94-2.06-.94-.94-2.06-.94 2.06-2.06.94z\"/><path d=\"M17.41 7.96l-1.37-1.37c-.4-.4-.92-.59-1.43-.59-.52 0-1.04.2-1.43.59L10.3 9.45l-7.72 7.72c-.78.78-.78 2.05 0 2.83L4 21.41c.39.39.9.59 1.41.59.51 0 1.02-.2 1.41-.59l7.78-7.78 2.81-2.81c.8-.78.8-2.07 0-2.86zM5.41 20L4 18.59l7.72-7.72 1.47 1.35L5.41 20z\"/>\n",
              "  </svg>\n",
              "      </button>\n",
              "      \n",
              "  <style>\n",
              "    .colab-df-container {\n",
              "      display:flex;\n",
              "      flex-wrap:wrap;\n",
              "      gap: 12px;\n",
              "    }\n",
              "\n",
              "    .colab-df-convert {\n",
              "      background-color: #E8F0FE;\n",
              "      border: none;\n",
              "      border-radius: 50%;\n",
              "      cursor: pointer;\n",
              "      display: none;\n",
              "      fill: #1967D2;\n",
              "      height: 32px;\n",
              "      padding: 0 0 0 0;\n",
              "      width: 32px;\n",
              "    }\n",
              "\n",
              "    .colab-df-convert:hover {\n",
              "      background-color: #E2EBFA;\n",
              "      box-shadow: 0px 1px 2px rgba(60, 64, 67, 0.3), 0px 1px 3px 1px rgba(60, 64, 67, 0.15);\n",
              "      fill: #174EA6;\n",
              "    }\n",
              "\n",
              "    [theme=dark] .colab-df-convert {\n",
              "      background-color: #3B4455;\n",
              "      fill: #D2E3FC;\n",
              "    }\n",
              "\n",
              "    [theme=dark] .colab-df-convert:hover {\n",
              "      background-color: #434B5C;\n",
              "      box-shadow: 0px 1px 3px 1px rgba(0, 0, 0, 0.15);\n",
              "      filter: drop-shadow(0px 1px 2px rgba(0, 0, 0, 0.3));\n",
              "      fill: #FFFFFF;\n",
              "    }\n",
              "  </style>\n",
              "\n",
              "      <script>\n",
              "        const buttonEl =\n",
              "          document.querySelector('#df-5aece29d-bb04-4988-9162-8164f358420f button.colab-df-convert');\n",
              "        buttonEl.style.display =\n",
              "          google.colab.kernel.accessAllowed ? 'block' : 'none';\n",
              "\n",
              "        async function convertToInteractive(key) {\n",
              "          const element = document.querySelector('#df-5aece29d-bb04-4988-9162-8164f358420f');\n",
              "          const dataTable =\n",
              "            await google.colab.kernel.invokeFunction('convertToInteractive',\n",
              "                                                     [key], {});\n",
              "          if (!dataTable) return;\n",
              "\n",
              "          const docLinkHtml = 'Like what you see? Visit the ' +\n",
              "            '<a target=\"_blank\" href=https://colab.research.google.com/notebooks/data_table.ipynb>data table notebook</a>'\n",
              "            + ' to learn more about interactive tables.';\n",
              "          element.innerHTML = '';\n",
              "          dataTable['output_type'] = 'display_data';\n",
              "          await google.colab.output.renderOutput(dataTable, element);\n",
              "          const docLink = document.createElement('div');\n",
              "          docLink.innerHTML = docLinkHtml;\n",
              "          element.appendChild(docLink);\n",
              "        }\n",
              "      </script>\n",
              "    </div>\n",
              "  </div>\n",
              "  "
            ]
          },
          "metadata": {},
          "execution_count": 244
        }
      ]
    },
    {
      "cell_type": "code",
      "source": [
        "options_lewis.set_index(\"Strike\", inplace=True)\n",
        "options_lewis[options_lewis[\"Type\"] == \"C\"][[\"Price\", \"Model\"]].plot(\n",
        "            style=[\"b-\", \"ro\"], title=\"Prices for Call Options on SE (15 days to maturity)\")\n",
        "plt.ylabel(\"Option Value\")\n",
        "plt.xlabel(\"Strike Price\")\n"
      ],
      "metadata": {
        "colab": {
          "base_uri": "https://localhost:8080/",
          "height": 490
        },
        "id": "dVFm-FavPYgD",
        "outputId": "d5dc128d-87fa-466b-9494-d86ad4bdb6e3"
      },
      "execution_count": null,
      "outputs": [
        {
          "output_type": "execute_result",
          "data": {
            "text/plain": [
              "Text(0.5, 0, 'Strike Price')"
            ]
          },
          "metadata": {},
          "execution_count": 245
        },
        {
          "output_type": "display_data",
          "data": {
            "text/plain": [
              "<Figure size 640x480 with 1 Axes>"
            ],
            "image/png": "[encoded data removed]"
          },
          "metadata": {}
        }
      ]
    },
    {
      "cell_type": "code",
      "source": [
        "options_lewis[options_lewis[\"Type\"] == \"P\"][[\"Price\", \"Model\"]].plot(\n",
        "            style=[\"b-\", \"ro\"], title=\"Prices for Put Options on SE (15 days to maturity)\")\n",
        "plt.ylabel(\"Option Value\")\n",
        "plt.xlabel(\"Strike Price\")\n"
      ],
      "metadata": {
        "colab": {
          "base_uri": "https://localhost:8080/",
          "height": 490
        },
        "id": "WRSzE6_PQbMj",
        "outputId": "56de1f37-c8f7-4b19-f67c-08624410ae75"
      },
      "execution_count": null,
      "outputs": [
        {
          "output_type": "execute_result",
          "data": {
            "text/plain": [
              "Text(0.5, 0, 'Strike Price')"
            ]
          },
          "metadata": {},
          "execution_count": 246
        },
        {
          "output_type": "display_data",
          "data": {
            "text/plain": [
              "<Figure size 640x480 with 1 Axes>"
            ],
            "image/png": "[encoded data removed]"
          },
          "metadata": {}
        }
      ]
    },
    {
      "cell_type": "markdown",
      "source": [
        "Looking at the plot shows that we get  good results using the Lewis method.\n"
      ],
      "metadata": {
        "id": "PtysRYLLQgg8"
      }
    },
    {
      "cell_type": "code",
      "source": [
        "kappa_v, theta_v, sigma_v, rho, v0 = h93_params_FFT\n",
        "options_carr[\"Model\"] = 0.0\n",
        "for row, option in options_carr.iterrows():\n",
        "      if option[\"Type\"] == \"C\":\n",
        "        options_carr.loc[row, \"Model\"] = H93_call_FFT(\n",
        "            S0,\n",
        "            option[\"Strike\"],\n",
        "            option[\"Days to maturity\"] / days_per_year,\n",
        "            r,\n",
        "            kappa_v,\n",
        "            theta_v,\n",
        "            sigma_v,\n",
        "            rho,\n",
        "            v0,\n",
        "        )\n",
        "      else:\n",
        "        options_carr.loc[row, \"Model\"] = model_value = H93_put_FFT(\n",
        "            S0,\n",
        "            option[\"Strike\"],\n",
        "            option[\"Days to maturity\"] / days_per_year,\n",
        "            r,\n",
        "            kappa_v,\n",
        "            theta_v,\n",
        "            sigma_v,\n",
        "            rho,\n",
        "            v0,\n",
        "        )"
      ],
      "metadata": {
        "id": "kNl78VztQlRp"
      },
      "execution_count": null,
      "outputs": []
    },
    {
      "cell_type": "code",
      "source": [
        "options_carr"
      ],
      "metadata": {
        "colab": {
          "base_uri": "https://localhost:8080/",
          "height": 363
        },
        "id": "h7roClDZQ7kH",
        "outputId": "0f2f01ec-c7b5-42d7-9f08-df8a071e8cab"
      },
      "execution_count": null,
      "outputs": [
        {
          "output_type": "execute_result",
          "data": {
            "text/plain": [
              "    Days to maturity  Strike  Price Type     Model\n",
              "0                 15   227.5  10.52    C  9.720626\n",
              "1                 15   230.0  10.05    C  8.245391\n",
              "2                 15   232.5   7.75    C  6.920094\n",
              "3                 15   235.0   6.01    C  5.744874\n",
              "4                 15   237.5   4.75    C  4.716517\n",
              "15                15   227.5   4.32    P  4.115968\n",
              "16                15   230.0   5.20    P  5.138484\n",
              "17                15   232.5   6.45    P  6.310939\n",
              "18                15   235.0   7.56    P  7.633469\n",
              "19                15   237.5   8.78    P  9.102863"
            ],
            "text/html": [
              "\n",
              "  <div id=\"df-d4844df0-8679-42aa-927d-96e371c38d80\">\n",
              "    <div class=\"colab-df-container\">\n",
              "      <div>\n",
              "<style scoped>\n",
              "    .dataframe tbody tr th:only-of-type {\n",
              "        vertical-align: middle;\n",
              "    }\n",
              "\n",
              "    .dataframe tbody tr th {\n",
              "        vertical-align: top;\n",
              "    }\n",
              "\n",
              "    .dataframe thead th {\n",
              "        text-align: right;\n",
              "    }\n",
              "</style>\n",
              "<table border=\"1\" class=\"dataframe\">\n",
              "  <thead>\n",
              "    <tr style=\"text-align: right;\">\n",
              "      <th></th>\n",
              "      <th>Days to maturity</th>\n",
              "      <th>Strike</th>\n",
              "      <th>Price</th>\n",
              "      <th>Type</th>\n",
              "      <th>Model</th>\n",
              "    </tr>\n",
              "  </thead>\n",
              "  <tbody>\n",
              "    <tr>\n",
              "      <th>0</th>\n",
              "      <td>15</td>\n",
              "      <td>227.5</td>\n",
              "      <td>10.52</td>\n",
              "      <td>C</td>\n",
              "      <td>9.720626</td>\n",
              "    </tr>\n",
              "    <tr>\n",
              "      <th>1</th>\n",
              "      <td>15</td>\n",
              "      <td>230.0</td>\n",
              "      <td>10.05</td>\n",
              "      <td>C</td>\n",
              "      <td>8.245391</td>\n",
              "    </tr>\n",
              "    <tr>\n",
              "      <th>2</th>\n",
              "      <td>15</td>\n",
              "      <td>232.5</td>\n",
              "      <td>7.75</td>\n",
              "      <td>C</td>\n",
              "      <td>6.920094</td>\n",
              "    </tr>\n",
              "    <tr>\n",
              "      <th>3</th>\n",
              "      <td>15</td>\n",
              "      <td>235.0</td>\n",
              "      <td>6.01</td>\n",
              "      <td>C</td>\n",
              "      <td>5.744874</td>\n",
              "    </tr>\n",
              "    <tr>\n",
              "      <th>4</th>\n",
              "      <td>15</td>\n",
              "      <td>237.5</td>\n",
              "      <td>4.75</td>\n",
              "      <td>C</td>\n",
              "      <td>4.716517</td>\n",
              "    </tr>\n",
              "    <tr>\n",
              "      <th>15</th>\n",
              "      <td>15</td>\n",
              "      <td>227.5</td>\n",
              "      <td>4.32</td>\n",
              "      <td>P</td>\n",
              "      <td>4.115968</td>\n",
              "    </tr>\n",
              "    <tr>\n",
              "      <th>16</th>\n",
              "      <td>15</td>\n",
              "      <td>230.0</td>\n",
              "      <td>5.20</td>\n",
              "      <td>P</td>\n",
              "      <td>5.138484</td>\n",
              "    </tr>\n",
              "    <tr>\n",
              "      <th>17</th>\n",
              "      <td>15</td>\n",
              "      <td>232.5</td>\n",
              "      <td>6.45</td>\n",
              "      <td>P</td>\n",
              "      <td>6.310939</td>\n",
              "    </tr>\n",
              "    <tr>\n",
              "      <th>18</th>\n",
              "      <td>15</td>\n",
              "      <td>235.0</td>\n",
              "      <td>7.56</td>\n",
              "      <td>P</td>\n",
              "      <td>7.633469</td>\n",
              "    </tr>\n",
              "    <tr>\n",
              "      <th>19</th>\n",
              "      <td>15</td>\n",
              "      <td>237.5</td>\n",
              "      <td>8.78</td>\n",
              "      <td>P</td>\n",
              "      <td>9.102863</td>\n",
              "    </tr>\n",
              "  </tbody>\n",
              "</table>\n",
              "</div>\n",
              "      <button class=\"colab-df-convert\" onclick=\"convertToInteractive('df-d4844df0-8679-42aa-927d-96e371c38d80')\"\n",
              "              title=\"Convert this dataframe to an interactive table.\"\n",
              "              style=\"display:none;\">\n",
              "        \n",
              "  <svg xmlns=\"http://www.w3.org/2000/svg\" height=\"24px\"viewBox=\"0 0 24 24\"\n",
              "       width=\"24px\">\n",
              "    <path d=\"M0 0h24v24H0V0z\" fill=\"none\"/>\n",
              "    <path d=\"M18.56 5.44l.94 2.06.94-2.06 2.06-.94-2.06-.94-.94-2.06-.94 2.06-2.06.94zm-11 1L8.5 8.5l.94-2.06 2.06-.94-2.06-.94L8.5 2.5l-.94 2.06-2.06.94zm10 10l.94 2.06.94-2.06 2.06-.94-2.06-.94-.94-2.06-.94 2.06-2.06.94z\"/><path d=\"M17.41 7.96l-1.37-1.37c-.4-.4-.92-.59-1.43-.59-.52 0-1.04.2-1.43.59L10.3 9.45l-7.72 7.72c-.78.78-.78 2.05 0 2.83L4 21.41c.39.39.9.59 1.41.59.51 0 1.02-.2 1.41-.59l7.78-7.78 2.81-2.81c.8-.78.8-2.07 0-2.86zM5.41 20L4 18.59l7.72-7.72 1.47 1.35L5.41 20z\"/>\n",
              "  </svg>\n",
              "      </button>\n",
              "      \n",
              "  <style>\n",
              "    .colab-df-container {\n",
              "      display:flex;\n",
              "      flex-wrap:wrap;\n",
              "      gap: 12px;\n",
              "    }\n",
              "\n",
              "    .colab-df-convert {\n",
              "      background-color: #E8F0FE;\n",
              "      border: none;\n",
              "      border-radius: 50%;\n",
              "      cursor: pointer;\n",
              "      display: none;\n",
              "      fill: #1967D2;\n",
              "      height: 32px;\n",
              "      padding: 0 0 0 0;\n",
              "      width: 32px;\n",
              "    }\n",
              "\n",
              "    .colab-df-convert:hover {\n",
              "      background-color: #E2EBFA;\n",
              "      box-shadow: 0px 1px 2px rgba(60, 64, 67, 0.3), 0px 1px 3px 1px rgba(60, 64, 67, 0.15);\n",
              "      fill: #174EA6;\n",
              "    }\n",
              "\n",
              "    [theme=dark] .colab-df-convert {\n",
              "      background-color: #3B4455;\n",
              "      fill: #D2E3FC;\n",
              "    }\n",
              "\n",
              "    [theme=dark] .colab-df-convert:hover {\n",
              "      background-color: #434B5C;\n",
              "      box-shadow: 0px 1px 3px 1px rgba(0, 0, 0, 0.15);\n",
              "      filter: drop-shadow(0px 1px 2px rgba(0, 0, 0, 0.3));\n",
              "      fill: #FFFFFF;\n",
              "    }\n",
              "  </style>\n",
              "\n",
              "      <script>\n",
              "        const buttonEl =\n",
              "          document.querySelector('#df-d4844df0-8679-42aa-927d-96e371c38d80 button.colab-df-convert');\n",
              "        buttonEl.style.display =\n",
              "          google.colab.kernel.accessAllowed ? 'block' : 'none';\n",
              "\n",
              "        async function convertToInteractive(key) {\n",
              "          const element = document.querySelector('#df-d4844df0-8679-42aa-927d-96e371c38d80');\n",
              "          const dataTable =\n",
              "            await google.colab.kernel.invokeFunction('convertToInteractive',\n",
              "                                                     [key], {});\n",
              "          if (!dataTable) return;\n",
              "\n",
              "          const docLinkHtml = 'Like what you see? Visit the ' +\n",
              "            '<a target=\"_blank\" href=https://colab.research.google.com/notebooks/data_table.ipynb>data table notebook</a>'\n",
              "            + ' to learn more about interactive tables.';\n",
              "          element.innerHTML = '';\n",
              "          dataTable['output_type'] = 'display_data';\n",
              "          await google.colab.output.renderOutput(dataTable, element);\n",
              "          const docLink = document.createElement('div');\n",
              "          docLink.innerHTML = docLinkHtml;\n",
              "          element.appendChild(docLink);\n",
              "        }\n",
              "      </script>\n",
              "    </div>\n",
              "  </div>\n",
              "  "
            ]
          },
          "metadata": {},
          "execution_count": 249
        }
      ]
    },
    {
      "cell_type": "code",
      "source": [
        "options_carr.set_index(\"Strike\", inplace=True)\n",
        "options_carr[options_carr[\"Type\"] == \"C\"][[\"Price\", \"Model\"]].plot(\n",
        "            style=[\"b-\", \"ro\"], title=\"Prices for Call Options on SE (15 days to maturity)\")\n",
        "plt.ylabel(\"Option Value\")\n",
        "plt.xlabel(\"Strike Price\")\n"
      ],
      "metadata": {
        "colab": {
          "base_uri": "https://localhost:8080/",
          "height": 490
        },
        "id": "qRUdx3uwRDeB",
        "outputId": "05448813-0274-4b43-89c7-40976c67fbf4"
      },
      "execution_count": null,
      "outputs": [
        {
          "output_type": "execute_result",
          "data": {
            "text/plain": [
              "Text(0.5, 0, 'Strike Price')"
            ]
          },
          "metadata": {},
          "execution_count": 250
        },
        {
          "output_type": "display_data",
          "data": {
            "text/plain": [
              "<Figure size 640x480 with 1 Axes>"
            ],
            "image/png": "[encoded data removed]"
          },
          "metadata": {}
        }
      ]
    },
    {
      "cell_type": "code",
      "source": [
        "options_carr[options_carr[\"Type\"] == \"P\"][[\"Price\", \"Model\"]].plot(\n",
        "            style=[\"b-\", \"ro\"], title=\"Prices for Put Options on SE (15 days to maturity)\")\n",
        "plt.ylabel(\"Option Value\")\n",
        "plt.xlabel(\"Strike Price\")"
      ],
      "metadata": {
        "colab": {
          "base_uri": "https://localhost:8080/",
          "height": 490
        },
        "id": "if7FBD2hRLfu",
        "outputId": "f5041a43-0e44-4446-8bdd-29f94c677908"
      },
      "execution_count": null,
      "outputs": [
        {
          "output_type": "execute_result",
          "data": {
            "text/plain": [
              "Text(0.5, 0, 'Strike Price')"
            ]
          },
          "metadata": {},
          "execution_count": 251
        },
        {
          "output_type": "display_data",
          "data": {
            "text/plain": [
              "<Figure size 640x480 with 1 Axes>"
            ],
            "image/png": "[encoded data removed]"
          },
          "metadata": {}
        }
      ]
    },
    {
      "cell_type": "markdown",
      "source": [
        "We also get good results using the Carr-Madan method."
      ],
      "metadata": {
        "id": "t0nYNoPFRPBd"
      }
    },
    {
      "cell_type": "markdown",
      "source": [
        "## Pricing an Asian option"
      ],
      "metadata": {
        "id": "-ev0yQVt8U_n"
      }
    },
    {
      "cell_type": "markdown",
      "source": [
        "We use Monte-Carlo simulation in a Heston model to price At-the-Money Asian call and put options.  We use the parameter values obtained during the calibration phase.\n",
        "\n",
        "To do this, we create a function `generate_heston_paths' that uses the NumPy library to generate paths for the Heston stochastic volatility model. It iterates over a specified number of steps to simulate asset price and volatility paths based on the Heston model dynamics. The function returns an array of asset price paths, and optionally, an array of volatility paths if specified. By leveraging NumPy's vectorized computations, the code efficiently generates paths for the Heston model, making it suitable for financial applications involving stochastic volatility analysis."
      ],
      "metadata": {
        "id": "2g9zF9GL835L"
      }
    },
    {
      "cell_type": "code",
      "source": [
        "import numpy as np\n",
        "def generate_heston_paths(S, T, r, kappa, theta, v_0, rho, sigma,\n",
        "                          steps, Npaths, return_vol=False):\n",
        "    dt = T/steps\n",
        "    size = (Npaths, steps)\n",
        "    prices = np.zeros(size)\n",
        "    sigs = np.zeros(size)\n",
        "    S_t = S\n",
        "    v_t = v_0\n",
        "    for t in range(steps):\n",
        "        WT = np.random.multivariate_normal(np.array([0,0]),\n",
        "                                           cov = np.array([[1,rho],\n",
        "                                                          [rho,1]]),\n",
        "                                           size=Npaths) * np.sqrt(dt)\n",
        "\n",
        "        S_t = S_t*(np.exp( (r- 0.5*v_t)*dt+ np.sqrt(v_t) *WT[:,0] ) )\n",
        "        v_t = np.abs(v_t + kappa*(theta-v_t)*dt + sigma*np.sqrt(v_t)*WT[:,1])\n",
        "        prices[:, t] = S_t\n",
        "        sigs[:, t] = v_t\n",
        "\n",
        "    if return_vol:\n",
        "        return prices, sigs\n",
        "\n",
        "    return prices"
      ],
      "metadata": {
        "id": "PogdAtTd9N3y"
      },
      "execution_count": null,
      "outputs": []
    },
    {
      "cell_type": "code",
      "source": [
        "np.random.seed(42)\n"
      ],
      "metadata": {
        "id": "nv34kdQp9SQa"
      },
      "execution_count": null,
      "outputs": []
    },
    {
      "cell_type": "markdown",
      "source": [
        "We begin by generating a large number of paths under the Heston model with the given values."
      ],
      "metadata": {
        "id": "QSag9ryo_HR6"
      }
    },
    {
      "cell_type": "code",
      "source": [
        "kappa, theta, sigma, rho, v0 = h93_params_FFT\n",
        "heston_paths = generate_heston_paths(S0, 20/365, 0.0150, kappa, theta, v0, rho, sigma, 90, 20000)"
      ],
      "metadata": {
        "id": "Oa5rVCWI9YY4"
      },
      "execution_count": null,
      "outputs": []
    },
    {
      "cell_type": "markdown",
      "source": [
        "We can then compute the payoffs at maturity\n",
        "\n",
        "$\\max \\left({\\rm Avg}({S_t}) - K, 0\\right)$ for a call and\n",
        "\n",
        "$\\max \\left(K - {\\rm Avg}({S_t}), 0\\right)$ for a put"
      ],
      "metadata": {
        "id": "TTENhRkC_hQY"
      }
    },
    {
      "cell_type": "code",
      "source": [
        "heston_payoffs =  np.maximum(np.mean(heston_paths, axis=1) - S0, 0)"
      ],
      "metadata": {
        "id": "-PxrKbNH9t9A"
      },
      "execution_count": null,
      "outputs": []
    },
    {
      "cell_type": "markdown",
      "source": [
        "To compute the fair value of the Asian option, we take the average across all paths, and discount by the risk-free rate of 1.5 per cent per annum (applied over the 20 day maturity period)."
      ],
      "metadata": {
        "id": "ttsEGbI-_45W"
      }
    },
    {
      "cell_type": "code",
      "source": [
        "print(f\"The price of an ATM Asian call option with 20 days maturity is {np.exp(-r * (20/days_per_year)) * np.mean(heston_payoffs):.4f}\")"
      ],
      "metadata": {
        "colab": {
          "base_uri": "https://localhost:8080/"
        },
        "id": "S6x859lT98ov",
        "outputId": "1e084638-96f6-42c6-8b70-364def6859e3"
      },
      "execution_count": null,
      "outputs": [
        {
          "output_type": "stream",
          "name": "stdout",
          "text": [
            "The price of an ATM Asian call option with 20 days maturity is 3.7680\n"
          ]
        }
      ]
    },
    {
      "cell_type": "code",
      "source": [
        "heston_put_payoffs = np.maximum(S0 - np.mean(heston_paths, axis=1), 0)"
      ],
      "metadata": {
        "id": "2-fW3PuJ-ULu"
      },
      "execution_count": null,
      "outputs": []
    },
    {
      "cell_type": "code",
      "source": [
        "print(f\"The price of an ATM Asian put option with 20 days maturity is {np.exp(-r * (20/days_per_year)) * np.mean(heston_put_payoffs):.4f}\")"
      ],
      "metadata": {
        "colab": {
          "base_uri": "https://localhost:8080/"
        },
        "id": "DokzNweP-YWH",
        "outputId": "0698d06e-89a6-4e61-ff44-b7b4808a7905"
      },
      "execution_count": null,
      "outputs": [
        {
          "output_type": "stream",
          "name": "stdout",
          "text": [
            "The price of an ATM Asian put option with 20 days maturity is 3.5871\n"
          ]
        }
      ]
    },
    {
      "cell_type": "markdown",
      "source": [
        "If we add a 4% fee onto the fair price for the ATM Asian call, we get a final price of $3.91\n",
        "\n",
        "If we add a 4% fee onto the fair price for the ATM Asian put, we get a final price of $3.73"
      ],
      "metadata": {
        "id": "EeVkYSwM-nx-"
      }
    },
    {
      "cell_type": "markdown",
      "source": [
        "# Step 2"
      ],
      "metadata": {
        "id": "OkPoeBs1DC_l"
      }
    },
    {
      "cell_type": "markdown",
      "source": [
        "We can perform the same calibration procedure but using the Bates model.  For the Lewis method, we again calculate a similar integral, but for the Bates method characteristic function, which is the product of the Heston and Merton characteristic functions."
      ],
      "metadata": {
        "id": "WjC8___iJmzO"
      }
    },
    {
      "cell_type": "markdown",
      "source": [
        "To calculate the option values under the Bates model, we need the various characteristic functions"
      ],
      "metadata": {
        "id": "yDSoI-_5RyVi"
      }
    },
    {
      "cell_type": "code",
      "source": [
        "def M76J_char_func(u, T, lamb, mu, delta):\n",
        "    \"\"\"\n",
        "    Adjusted Characteristic function for Merton '76 model: Only jump component\n",
        "    \"\"\"\n",
        "\n",
        "    omega = -lamb * (np.exp(mu + 0.5 * delta**2) - 1)\n",
        "    char_func_value = np.exp(\n",
        "        (1j * u * omega + lamb * (np.exp(1j * u * mu - u**2 * delta**2 * 0.5) - 1))\n",
        "        * T\n",
        "    )\n",
        "    return char_func_value"
      ],
      "metadata": {
        "id": "Ouc8Gd6IDD8l"
      },
      "execution_count": null,
      "outputs": []
    },
    {
      "cell_type": "code",
      "source": [
        "def B96_char_func(u, T, r, kappa_v, theta_v, sigma_v, rho, v0, lamb, mu, delta):\n",
        "    \"\"\"\n",
        "    Bates (1996) characteristic function\n",
        "    \"\"\"\n",
        "    H93 = H93_char_func(u, T, r, kappa_v, theta_v, sigma_v, rho, v0)\n",
        "    M76J = M76J_char_func(u, T, lamb, mu, delta)\n",
        "    return H93 * M76J"
      ],
      "metadata": {
        "id": "StXMvSpRDEi-"
      },
      "execution_count": null,
      "outputs": []
    },
    {
      "cell_type": "code",
      "source": [
        "def B96_int_func(u, S0, K, T, r, kappa_v, theta_v, sigma_v, rho, v0, lamb, mu, delta):\n",
        "    \"\"\"\n",
        "    Lewis (2001) integral value for Bates (1996) characteristic function\n",
        "    \"\"\"\n",
        "    char_func_value = B96_char_func(\n",
        "        u - 1j * 0.5, T, r, kappa_v, theta_v, sigma_v, rho, v0, lamb, mu, delta\n",
        "    )\n",
        "    int_func_value = (\n",
        "        1 / (u**2 + 0.25) * (np.exp(1j * u * np.log(S0 / K)) * char_func_value).real\n",
        "    )\n",
        "    return int_func_value"
      ],
      "metadata": {
        "id": "HTugNotzDGI8"
      },
      "execution_count": null,
      "outputs": []
    },
    {
      "cell_type": "markdown",
      "source": [
        "We can then compute the value using the Lewis method by numerical integration."
      ],
      "metadata": {
        "id": "FyUHk7FhR3YL"
      }
    },
    {
      "cell_type": "code",
      "source": [
        "def B96_call_value(S0, K, T, r, kappa_v, theta_v, sigma_v, rho, v0, lamb, mu, delta):\n",
        "    \"\"\"\n",
        "    Valuation of European call option in B96 Model via Lewis (2001)\n",
        "    Parameters:\n",
        "    ==========\n",
        "    S0: float\n",
        "        initial stock/index level\n",
        "    K: float\n",
        "        strike price\n",
        "    T: float\n",
        "        time-to-maturity (for t=0)\n",
        "    r: float\n",
        "        constant risk-free short rate\n",
        "    kappa_v: float\n",
        "        mean-reversion factor\n",
        "    theta_v: float\n",
        "        long-run mean of variance\n",
        "    sigma_v: float\n",
        "        volatility of variance\n",
        "    rho: float\n",
        "        correlation between variance and stock/index level\n",
        "    v0: float\n",
        "        initial level of variance\n",
        "    lamb: float\n",
        "        jump intensity\n",
        "    mu: float\n",
        "        expected jump size\n",
        "    delta: float\n",
        "        standard deviation of jump\n",
        "    ==========\n",
        "    \"\"\"\n",
        "    int_value = quad(\n",
        "        lambda u: B96_int_func(\n",
        "            u, S0, K, T, r, kappa_v, theta_v, sigma_v, rho, v0, lamb, mu, delta\n",
        "        ),\n",
        "        0,\n",
        "        np.inf,\n",
        "        limit=250,\n",
        "    )[0]\n",
        "    call_value = max(0, S0 - np.exp(-r * T) * np.sqrt(S0 * K) / np.pi * int_value)\n",
        "    return call_value"
      ],
      "metadata": {
        "id": "AP2q20jfDLOO"
      },
      "execution_count": null,
      "outputs": []
    },
    {
      "cell_type": "markdown",
      "source": [
        "To calculate the put value, we use put-call parity"
      ],
      "metadata": {
        "id": "d2NtMtaPR7SV"
      }
    },
    {
      "cell_type": "code",
      "source": [
        "def B96_put_value(S0, K, T, r, kappa_v, theta_v, sigma_v, rho, v0, lamb, mu, delta):\n",
        "  call_value = B96_call_value(S0, K, T, r, kappa_v, theta_v, sigma_v, rho, v0, lamb, mu, delta)\n",
        "  bond_value = K * np.exp(-T * r)\n",
        "  return call_value + bond_value - S0"
      ],
      "metadata": {
        "id": "dCiro7yFulAW"
      },
      "execution_count": null,
      "outputs": []
    },
    {
      "cell_type": "markdown",
      "source": [
        "We can also calculate values using the FFT method described in Carr-Madan."
      ],
      "metadata": {
        "id": "ZNsHmWMcR-FE"
      }
    },
    {
      "cell_type": "code",
      "source": [
        "def B96_call_FFT(S0, K, T, r, kappa_v, theta_v, sigma_v, rho, v0, lamb, mu, delta):\n",
        "    \"\"\"\n",
        "    Call option price in Bates (1996) under FFT\n",
        "    \"\"\"\n",
        "\n",
        "    k = np.log(K / S0)\n",
        "    g = 1  # Factor to increase accuracy\n",
        "    N = g * 4096\n",
        "    eps = (g * 150) ** -1\n",
        "    eta = 2 * np.pi / (N * eps)\n",
        "    b = 0.5 * N * eps - k\n",
        "    u = np.arange(1, N + 1, 1)\n",
        "    vo = eta * (u - 1)\n",
        "\n",
        "    # Modifications to ensure integrability\n",
        "    if S0 >= 0.95 * K:  # ITM Case\n",
        "        alpha = 1.5\n",
        "        v = vo - (alpha + 1) * 1j\n",
        "        modcharFunc = np.exp(-r * T) * (\n",
        "            B96_char_func(v, T, r, kappa_v, theta_v, sigma_v, rho, v0, lamb, mu, delta)\n",
        "            / (alpha**2 + alpha - vo**2 + 1j * (2 * alpha + 1) * vo)\n",
        "        )\n",
        "\n",
        "    else:\n",
        "        alpha = 1.1\n",
        "        v = (vo - 1j * alpha) - 1j\n",
        "        modcharFunc1 = np.exp(-r * T) * (\n",
        "            1 / (1 + 1j * (vo - 1j * alpha))\n",
        "            - np.exp(r * T) / (1j * (vo - 1j * alpha))\n",
        "            - B96_char_func(\n",
        "                v, T, r, kappa_v, theta_v, sigma_v, rho, v0, lamb, mu, delta\n",
        "            )\n",
        "            / ((vo - 1j * alpha) ** 2 - 1j * (vo - 1j * alpha))\n",
        "        )\n",
        "\n",
        "        v = (vo + 1j * alpha) - 1j\n",
        "\n",
        "        modcharFunc2 = np.exp(-r * T) * (\n",
        "            1 / (1 + 1j * (vo + 1j * alpha))\n",
        "            - np.exp(r * T) / (1j * (vo + 1j * alpha))\n",
        "            - B96_char_func(\n",
        "                v, T, r, kappa_v, theta_v, sigma_v, rho, v0, lamb, mu, delta\n",
        "            )\n",
        "            / ((vo + 1j * alpha) ** 2 - 1j * (vo + 1j * alpha))\n",
        "        )\n",
        "\n",
        "    # Numerical FFT Routine\n",
        "    delt = np.zeros(N)\n",
        "    delt[0] = 1\n",
        "    j = np.arange(1, N + 1, 1)\n",
        "    SimpsonW = (3 + (-1) ** j - delt) / 3\n",
        "    if S0 >= 0.95 * K:\n",
        "        FFTFunc = np.exp(1j * b * vo) * modcharFunc * eta * SimpsonW\n",
        "        payoff = (np.fft.fft(FFTFunc)).real\n",
        "        CallValueM = np.exp(-alpha * k) / np.pi * payoff\n",
        "    else:\n",
        "        FFTFunc = (\n",
        "            np.exp(1j * b * vo) * (modcharFunc1 - modcharFunc2) * 0.5 * eta * SimpsonW\n",
        "        )\n",
        "        payoff = (np.fft.fft(FFTFunc)).real\n",
        "        CallValueM = payoff / (np.sinh(alpha * k) * np.pi)\n",
        "\n",
        "    pos = int((k + b) / eps)\n",
        "    CallValue = CallValueM[pos] * S0\n",
        "\n",
        "    return CallValue"
      ],
      "metadata": {
        "id": "3Unp6rnjDPwg"
      },
      "execution_count": null,
      "outputs": []
    },
    {
      "cell_type": "markdown",
      "source": [
        "Again, getting the values for put options requires using put-call parity."
      ],
      "metadata": {
        "id": "b7aaAqpSSB9w"
      }
    },
    {
      "cell_type": "code",
      "source": [
        "def B96_put_FFT(S0, K, T, r, kappa_v, theta_v, sigma_v, rho, v0, lamb, mu, delta):\n",
        "  call_value = B96_call_FFT(S0, K, T, r, kappa_v, theta_v, sigma_v, rho, v0, lamb, mu, delta)\n",
        "  bond_value = K * np.exp(-r * T)\n",
        "  return call_value + bond_value - S0"
      ],
      "metadata": {
        "id": "Abw7kPqrusv8"
      },
      "execution_count": null,
      "outputs": []
    },
    {
      "cell_type": "markdown",
      "source": [
        "To perform calibration, we need to extract the options with 60 days to maturity."
      ],
      "metadata": {
        "id": "PmEn5Z9KST7K"
      }
    },
    {
      "cell_type": "code",
      "source": [
        "options = df[((df[\"Days to maturity\"] == 60))]\n",
        "options_lewis = options.copy()\n",
        "options_carr = options.copy()"
      ],
      "metadata": {
        "id": "G3hLs6rhSKvT"
      },
      "execution_count": 292,
      "outputs": []
    },
    {
      "cell_type": "code",
      "source": [
        "options"
      ],
      "metadata": {
        "colab": {
          "base_uri": "https://localhost:8080/",
          "height": 363
        },
        "id": "T8efRgzgXduz",
        "outputId": "e3043c9d-fe79-4888-b95b-d8c0ee526280"
      },
      "execution_count": 242,
      "outputs": [
        {
          "output_type": "execute_result",
          "data": {
            "text/plain": [
              "    Days to maturity  Strike  Price Type\n",
              "5                 60   227.5  16.78    C\n",
              "6                 60   230.0  17.65    C\n",
              "7                 60   232.5  16.86    C\n",
              "8                 60   235.0  16.05    C\n",
              "9                 60   237.5  15.10    C\n",
              "20                60   227.5  11.03    P\n",
              "21                60   230.0  12.15    P\n",
              "22                60   232.5  13.37    P\n",
              "23                60   235.0  14.75    P\n",
              "24                60   237.5  15.62    P"
            ],
            "text/html": [
              "\n",
              "\n",
              "  <div id=\"df-972340e6-3489-4939-8ff1-c64afdbf257e\">\n",
              "    <div class=\"colab-df-container\">\n",
              "      <div>\n",
              "<style scoped>\n",
              "    .dataframe tbody tr th:only-of-type {\n",
              "        vertical-align: middle;\n",
              "    }\n",
              "\n",
              "    .dataframe tbody tr th {\n",
              "        vertical-align: top;\n",
              "    }\n",
              "\n",
              "    .dataframe thead th {\n",
              "        text-align: right;\n",
              "    }\n",
              "</style>\n",
              "<table border=\"1\" class=\"dataframe\">\n",
              "  <thead>\n",
              "    <tr style=\"text-align: right;\">\n",
              "      <th></th>\n",
              "      <th>Days to maturity</th>\n",
              "      <th>Strike</th>\n",
              "      <th>Price</th>\n",
              "      <th>Type</th>\n",
              "    </tr>\n",
              "  </thead>\n",
              "  <tbody>\n",
              "    <tr>\n",
              "      <th>5</th>\n",
              "      <td>60</td>\n",
              "      <td>227.5</td>\n",
              "      <td>16.78</td>\n",
              "      <td>C</td>\n",
              "    </tr>\n",
              "    <tr>\n",
              "      <th>6</th>\n",
              "      <td>60</td>\n",
              "      <td>230.0</td>\n",
              "      <td>17.65</td>\n",
              "      <td>C</td>\n",
              "    </tr>\n",
              "    <tr>\n",
              "      <th>7</th>\n",
              "      <td>60</td>\n",
              "      <td>232.5</td>\n",
              "      <td>16.86</td>\n",
              "      <td>C</td>\n",
              "    </tr>\n",
              "    <tr>\n",
              "      <th>8</th>\n",
              "      <td>60</td>\n",
              "      <td>235.0</td>\n",
              "      <td>16.05</td>\n",
              "      <td>C</td>\n",
              "    </tr>\n",
              "    <tr>\n",
              "      <th>9</th>\n",
              "      <td>60</td>\n",
              "      <td>237.5</td>\n",
              "      <td>15.10</td>\n",
              "      <td>C</td>\n",
              "    </tr>\n",
              "    <tr>\n",
              "      <th>20</th>\n",
              "      <td>60</td>\n",
              "      <td>227.5</td>\n",
              "      <td>11.03</td>\n",
              "      <td>P</td>\n",
              "    </tr>\n",
              "    <tr>\n",
              "      <th>21</th>\n",
              "      <td>60</td>\n",
              "      <td>230.0</td>\n",
              "      <td>12.15</td>\n",
              "      <td>P</td>\n",
              "    </tr>\n",
              "    <tr>\n",
              "      <th>22</th>\n",
              "      <td>60</td>\n",
              "      <td>232.5</td>\n",
              "      <td>13.37</td>\n",
              "      <td>P</td>\n",
              "    </tr>\n",
              "    <tr>\n",
              "      <th>23</th>\n",
              "      <td>60</td>\n",
              "      <td>235.0</td>\n",
              "      <td>14.75</td>\n",
              "      <td>P</td>\n",
              "    </tr>\n",
              "    <tr>\n",
              "      <th>24</th>\n",
              "      <td>60</td>\n",
              "      <td>237.5</td>\n",
              "      <td>15.62</td>\n",
              "      <td>P</td>\n",
              "    </tr>\n",
              "  </tbody>\n",
              "</table>\n",
              "</div>\n",
              "      <button class=\"colab-df-convert\" onclick=\"convertToInteractive('df-972340e6-3489-4939-8ff1-c64afdbf257e')\"\n",
              "              title=\"Convert this dataframe to an interactive table.\"\n",
              "              style=\"display:none;\">\n",
              "\n",
              "  <svg xmlns=\"http://www.w3.org/2000/svg\" height=\"24px\"viewBox=\"0 0 24 24\"\n",
              "       width=\"24px\">\n",
              "    <path d=\"M0 0h24v24H0V0z\" fill=\"none\"/>\n",
              "    <path d=\"M18.56 5.44l.94 2.06.94-2.06 2.06-.94-2.06-.94-.94-2.06-.94 2.06-2.06.94zm-11 1L8.5 8.5l.94-2.06 2.06-.94-2.06-.94L8.5 2.5l-.94 2.06-2.06.94zm10 10l.94 2.06.94-2.06 2.06-.94-2.06-.94-.94-2.06-.94 2.06-2.06.94z\"/><path d=\"M17.41 7.96l-1.37-1.37c-.4-.4-.92-.59-1.43-.59-.52 0-1.04.2-1.43.59L10.3 9.45l-7.72 7.72c-.78.78-.78 2.05 0 2.83L4 21.41c.39.39.9.59 1.41.59.51 0 1.02-.2 1.41-.59l7.78-7.78 2.81-2.81c.8-.78.8-2.07 0-2.86zM5.41 20L4 18.59l7.72-7.72 1.47 1.35L5.41 20z\"/>\n",
              "  </svg>\n",
              "      </button>\n",
              "\n",
              "\n",
              "\n",
              "    <div id=\"df-1fd03122-df7c-4201-b029-41194a50288c\">\n",
              "      <button class=\"colab-df-quickchart\" onclick=\"quickchart('df-1fd03122-df7c-4201-b029-41194a50288c')\"\n",
              "              title=\"Suggest charts.\"\n",
              "              style=\"display:none;\">\n",
              "\n",
              "<svg xmlns=\"http://www.w3.org/2000/svg\" height=\"24px\"viewBox=\"0 0 24 24\"\n",
              "     width=\"24px\">\n",
              "    <g>\n",
              "        <path d=\"M19 3H5c-1.1 0-2 .9-2 2v14c0 1.1.9 2 2 2h14c1.1 0 2-.9 2-2V5c0-1.1-.9-2-2-2zM9 17H7v-7h2v7zm4 0h-2V7h2v10zm4 0h-2v-4h2v4z\"/>\n",
              "    </g>\n",
              "</svg>\n",
              "      </button>\n",
              "    </div>\n",
              "\n",
              "<style>\n",
              "  .colab-df-quickchart {\n",
              "    background-color: #E8F0FE;\n",
              "    border: none;\n",
              "    border-radius: 50%;\n",
              "    cursor: pointer;\n",
              "    display: none;\n",
              "    fill: #1967D2;\n",
              "    height: 32px;\n",
              "    padding: 0 0 0 0;\n",
              "    width: 32px;\n",
              "  }\n",
              "\n",
              "  .colab-df-quickchart:hover {\n",
              "    background-color: #E2EBFA;\n",
              "    box-shadow: 0px 1px 2px rgba(60, 64, 67, 0.3), 0px 1px 3px 1px rgba(60, 64, 67, 0.15);\n",
              "    fill: #174EA6;\n",
              "  }\n",
              "\n",
              "  [theme=dark] .colab-df-quickchart {\n",
              "    background-color: #3B4455;\n",
              "    fill: #D2E3FC;\n",
              "  }\n",
              "\n",
              "  [theme=dark] .colab-df-quickchart:hover {\n",
              "    background-color: #434B5C;\n",
              "    box-shadow: 0px 1px 3px 1px rgba(0, 0, 0, 0.15);\n",
              "    filter: drop-shadow(0px 1px 2px rgba(0, 0, 0, 0.3));\n",
              "    fill: #FFFFFF;\n",
              "  }\n",
              "</style>\n",
              "\n",
              "    <script>\n",
              "      async function quickchart(key) {\n",
              "        const containerElement = document.querySelector('#' + key);\n",
              "        const charts = await google.colab.kernel.invokeFunction(\n",
              "            'suggestCharts', [key], {});\n",
              "      }\n",
              "    </script>\n",
              "\n",
              "      <script>\n",
              "\n",
              "function displayQuickchartButton(domScope) {\n",
              "  let quickchartButtonEl =\n",
              "    domScope.querySelector('#df-1fd03122-df7c-4201-b029-41194a50288c button.colab-df-quickchart');\n",
              "  quickchartButtonEl.style.display =\n",
              "    google.colab.kernel.accessAllowed ? 'block' : 'none';\n",
              "}\n",
              "\n",
              "        displayQuickchartButton(document);\n",
              "      </script>\n",
              "      <style>\n",
              "    .colab-df-container {\n",
              "      display:flex;\n",
              "      flex-wrap:wrap;\n",
              "      gap: 12px;\n",
              "    }\n",
              "\n",
              "    .colab-df-convert {\n",
              "      background-color: #E8F0FE;\n",
              "      border: none;\n",
              "      border-radius: 50%;\n",
              "      cursor: pointer;\n",
              "      display: none;\n",
              "      fill: #1967D2;\n",
              "      height: 32px;\n",
              "      padding: 0 0 0 0;\n",
              "      width: 32px;\n",
              "    }\n",
              "\n",
              "    .colab-df-convert:hover {\n",
              "      background-color: #E2EBFA;\n",
              "      box-shadow: 0px 1px 2px rgba(60, 64, 67, 0.3), 0px 1px 3px 1px rgba(60, 64, 67, 0.15);\n",
              "      fill: #174EA6;\n",
              "    }\n",
              "\n",
              "    [theme=dark] .colab-df-convert {\n",
              "      background-color: #3B4455;\n",
              "      fill: #D2E3FC;\n",
              "    }\n",
              "\n",
              "    [theme=dark] .colab-df-convert:hover {\n",
              "      background-color: #434B5C;\n",
              "      box-shadow: 0px 1px 3px 1px rgba(0, 0, 0, 0.15);\n",
              "      filter: drop-shadow(0px 1px 2px rgba(0, 0, 0, 0.3));\n",
              "      fill: #FFFFFF;\n",
              "    }\n",
              "  </style>\n",
              "\n",
              "      <script>\n",
              "        const buttonEl =\n",
              "          document.querySelector('#df-972340e6-3489-4939-8ff1-c64afdbf257e button.colab-df-convert');\n",
              "        buttonEl.style.display =\n",
              "          google.colab.kernel.accessAllowed ? 'block' : 'none';\n",
              "\n",
              "        async function convertToInteractive(key) {\n",
              "          const element = document.querySelector('#df-972340e6-3489-4939-8ff1-c64afdbf257e');\n",
              "          const dataTable =\n",
              "            await google.colab.kernel.invokeFunction('convertToInteractive',\n",
              "                                                     [key], {});\n",
              "          if (!dataTable) return;\n",
              "\n",
              "          const docLinkHtml = 'Like what you see? Visit the ' +\n",
              "            '<a target=\"_blank\" href=https://colab.research.google.com/notebooks/data_table.ipynb>data table notebook</a>'\n",
              "            + ' to learn more about interactive tables.';\n",
              "          element.innerHTML = '';\n",
              "          dataTable['output_type'] = 'display_data';\n",
              "          await google.colab.output.renderOutput(dataTable, element);\n",
              "          const docLink = document.createElement('div');\n",
              "          docLink.innerHTML = docLinkHtml;\n",
              "          element.appendChild(docLink);\n",
              "        }\n",
              "      </script>\n",
              "    </div>\n",
              "  </div>\n"
            ]
          },
          "metadata": {},
          "execution_count": 242
        }
      ]
    },
    {
      "cell_type": "markdown",
      "source": [
        "We start by calibrating a Heston model to the marked data. That is, we calculate the option prices for various parameter values using the Lewis method, and determine what parameter values get us closest to market prices."
      ],
      "metadata": {
        "id": "8Oq8T43kS3dy"
      }
    },
    {
      "cell_type": "code",
      "source": [
        "global i\n",
        "i=0\n",
        "min_MSE=500\n",
        "h93_params_bates = H93_calibration_full()"
      ],
      "metadata": {
        "colab": {
          "base_uri": "https://localhost:8080/"
        },
        "id": "YFJbD30zStex",
        "outputId": "bcc32698-0884-486b-a107-1827930d24cd"
      },
      "execution_count": 243,
      "outputs": [
        {
          "output_type": "stream",
          "name": "stdout",
          "text": [
            "   0 | [ 2.5   0.01  0.05 -0.75  0.01] |  85.000 |  85.000\n",
            "  25 | [ 2.5   0.02  0.05 -0.75  0.02] |  54.937 |  44.467\n",
            "  50 | [ 2.5   0.02  0.25 -0.75  0.03] |  41.211 |  40.055\n",
            "  75 | [ 2.5   0.03  0.15 -0.5   0.01] |  68.594 |  36.047\n",
            " 100 | [ 2.5   0.04  0.05 -0.5   0.02] |  44.634 |  32.394\n",
            " 125 | [ 2.5   0.04  0.25 -0.5   0.03] |  33.371 |  32.394\n",
            " 150 | [ 7.5   0.01  0.15 -0.25  0.01] |  85.452 |  32.394\n",
            " 175 | [ 7.5   0.02  0.05 -0.25  0.02] |  54.972 |  32.394\n",
            " 200 | [ 7.5   0.02  0.25 -0.25  0.03] |  45.920 |  32.394\n",
            " 225 | [7.5  0.03 0.15 0.   0.01] |  53.566 |  32.394\n",
            " 250 | [7.5  0.04 0.05 0.   0.02] |  34.954 |  28.535\n",
            " 275 | [7.5  0.04 0.25 0.   0.03] |  28.992 |  28.535\n",
            " 300 | [ 9.21694329  0.06781921  0.03916835 -0.50229147  0.03442829] |  11.042 |  11.042\n",
            " 325 | [ 1.28958937e+01  1.20222004e-01  9.21997485e-03 -8.91308956e-02\n",
            "  4.27971614e-02] |   0.066 |   0.066\n",
            " 350 | [ 1.25532398e+01  1.16213168e-01  1.12457955e-02 -1.19139006e-01\n",
            "  4.26928938e-02] |   0.049 |   0.043\n",
            " 375 | [ 1.26840035e+01  1.17748649e-01  1.04664845e-02 -1.07598714e-01\n",
            "  4.27343577e-02] |   0.042 |   0.042\n",
            " 400 | [ 1.26719296e+01  1.17622633e-01  1.05370990e-02 -1.08246592e-01\n",
            "  4.27277010e-02] |   0.042 |   0.042\n",
            " 425 | [ 1.26763140e+01  1.17666524e-01  1.05123898e-02 -1.08064706e-01\n",
            "  4.27300615e-02] |   0.042 |   0.042\n",
            " 450 | [ 1.26764008e+01  1.17663062e-01  1.05148464e-02 -1.08197117e-01\n",
            "  4.27287329e-02] |   0.042 |   0.042\n",
            " 475 | [ 1.26828826e+01  1.17650990e-01  1.05062925e-02 -1.10275105e-01\n",
            "  4.27113019e-02] |   0.042 |   0.042\n",
            " 500 | [ 1.28520154e+01  1.17538801e-01  1.02677136e-02 -1.57838252e-01\n",
            "  4.23200598e-02] |   0.042 |   0.041\n",
            " 525 | [ 1.42324466e+01  1.15985502e-01  8.14722556e-03 -5.69108975e-01\n",
            "  3.89932502e-02] |   0.041 |   0.041\n",
            " 550 | [ 1.47081583e+01  1.15585139e-01  7.44454819e-03 -7.06054612e-01\n",
            "  3.78804092e-02] |   0.041 |   0.041\n",
            " 575 | [ 1.53285911e+01  1.15063659e-01  6.54201017e-03 -8.84631872e-01\n",
            "  3.64236506e-02] |   0.041 |   0.041\n",
            " 600 | [ 1.56442776e+01  1.14798215e-01  6.12521020e-03 -9.75239911e-01\n",
            "  3.56725113e-02] |   0.041 |   0.041\n",
            " 625 | [ 1.54320205e+01  1.15004696e-01  6.73110221e-03 -9.11165515e-01\n",
            "  3.60879481e-02] |   0.041 |   0.041\n",
            " 650 | [ 1.56771393e+01  1.14989918e-01  8.05995883e-03 -9.63596344e-01\n",
            "  3.50506463e-02] |   0.041 |   0.041\n",
            " 675 | [16.15803876  0.11640986  0.02390912 -0.92579447  0.02938453] |   0.040 |   0.040\n",
            " 700 | [ 1.83761966e+01  1.19970231e-01  8.30218258e-02 -9.50694480e-01\n",
            "  6.67911180e-03] |   0.038 |   0.037\n",
            " 725 | [ 1.89986633e+01  1.20373406e-01  9.80001396e-02 -9.89870449e-01\n",
            "  6.30247704e-04] |   0.037 |   0.037\n",
            " 750 | [ 1.90652654e+01  1.20342998e-01  9.94372158e-02 -9.97770635e-01\n",
            "  1.18779927e-05] |   0.037 |   0.037\n",
            " 775 | [ 1.90707372e+01  1.20333870e-01  9.94087618e-02 -9.99666006e-01\n",
            "  4.29123360e-06] |   0.037 |   0.037\n",
            " 800 | [ 1.90735237e+01  1.20350172e-01  9.94029093e-02 -9.99845685e-01\n",
            "  4.06058193e-06] |   0.037 |   0.037\n",
            " 825 | [ 1.90737359e+01  1.20347563e-01  9.94067830e-02 -9.99967120e-01\n",
            "  1.61236986e-06] |   0.037 |   0.037\n",
            " 850 | [ 1.90736819e+01  1.20346159e-01  9.94090458e-02 -9.99988810e-01\n",
            "  6.59872435e-07] |   0.037 |   0.037\n",
            " 875 | [ 1.90738897e+01  1.20347316e-01  9.94101662e-02 -9.99994009e-01\n",
            "  1.52196795e-07] |   0.037 |   0.037\n",
            " 900 | [ 1.90742528e+01  1.20349927e-01  9.94099955e-02 -9.99996577e-01\n",
            "  8.81809820e-08] |   0.037 |   0.037\n",
            " 925 | [ 1.90743134e+01  1.20350280e-01  9.94100817e-02 -9.99999277e-01\n",
            "  1.96530282e-08] |   0.037 |   0.037\n",
            " 950 | [ 1.90743594e+01  1.20350599e-01  9.94100811e-02 -9.99999889e-01\n",
            "  1.93249090e-09] |   0.037 |   0.037\n",
            " 975 | [ 1.90743600e+01  1.20350601e-01  9.94100827e-02 -9.99999990e-01\n",
            "  3.88917401e-10] |   0.037 |   0.037\n"
          ]
        }
      ]
    },
    {
      "cell_type": "code",
      "source": [
        "h93_params_bates"
      ],
      "metadata": {
        "colab": {
          "base_uri": "https://localhost:8080/"
        },
        "id": "xzXuK4YtTtUL",
        "outputId": "5a2b4fbe-c379-47b7-9a6a-4a8498f2671c"
      },
      "execution_count": 248,
      "outputs": [
        {
          "output_type": "execute_result",
          "data": {
            "text/plain": [
              "array([ 1.90743594e+01,  1.20350596e-01,  9.94100834e-02, -9.99999997e-01,\n",
              "        2.75696654e-10])"
            ]
          },
          "metadata": {},
          "execution_count": 248
        }
      ]
    },
    {
      "cell_type": "code",
      "source": [
        "h93_params_bates_FFT"
      ],
      "metadata": {
        "colab": {
          "base_uri": "https://localhost:8080/"
        },
        "id": "NBXhVFdzTvwO",
        "outputId": "b6d54c98-b1ef-4acb-dd20-f2e898145e69"
      },
      "execution_count": 247,
      "outputs": [
        {
          "output_type": "execute_result",
          "data": {
            "text/plain": [
              "array([ 1.90743552e+01,  1.20350566e-01,  9.94100890e-02, -9.99999991e-01,\n",
              "        4.15852243e-10])"
            ]
          },
          "metadata": {},
          "execution_count": 247
        }
      ]
    },
    {
      "cell_type": "markdown",
      "source": [
        "We can also do the Heston calibration using the Carr-Madan method."
      ],
      "metadata": {
        "id": "MgwUE0beTdJi"
      }
    },
    {
      "cell_type": "code",
      "source": [
        "global i\n",
        "i=0\n",
        "min_MSE=500\n",
        "h93_params_bates_FFT = H93_calibration_full_FFT()"
      ],
      "metadata": {
        "colab": {
          "base_uri": "https://localhost:8080/"
        },
        "id": "b_HuyhlUTQQR",
        "outputId": "4fbc0bbe-509c-4a7b-e152-6f289ca0f9a7"
      },
      "execution_count": 244,
      "outputs": [
        {
          "output_type": "stream",
          "name": "stdout",
          "text": [
            "   0 | [ 2.5   0.01  0.05 -0.75  0.01] |  85.000 |  85.000\n",
            "  25 | [ 2.5   0.02  0.05 -0.75  0.02] |  54.937 |  44.467\n",
            "  50 | [ 2.5   0.02  0.25 -0.75  0.03] |  41.211 |  40.055\n",
            "  75 | [ 2.5   0.03  0.15 -0.5   0.01] |  68.594 |  36.047\n",
            " 100 | [ 2.5   0.04  0.05 -0.5   0.02] |  44.634 |  32.394\n",
            " 125 | [ 2.5   0.04  0.25 -0.5   0.03] |  33.371 |  32.394\n",
            " 150 | [ 7.5   0.01  0.15 -0.25  0.01] |  85.452 |  32.394\n",
            " 175 | [ 7.5   0.02  0.05 -0.25  0.02] |  54.972 |  32.394\n",
            " 200 | [ 7.5   0.02  0.25 -0.25  0.03] |  45.920 |  32.394\n",
            " 225 | [7.5  0.03 0.15 0.   0.01] |  53.566 |  32.394\n",
            " 250 | [7.5  0.04 0.05 0.   0.02] |  34.954 |  28.535\n",
            " 275 | [7.5  0.04 0.25 0.   0.03] |  28.992 |  28.535\n",
            " 300 | [ 9.21694329  0.06781921  0.03916835 -0.50229147  0.03442829] |  11.042 |  11.042\n",
            " 325 | [ 1.28958937e+01  1.20222004e-01  9.21997485e-03 -8.91308956e-02\n",
            "  4.27971614e-02] |   0.066 |   0.066\n",
            " 350 | [ 1.25532398e+01  1.16213168e-01  1.12457955e-02 -1.19139006e-01\n",
            "  4.26928938e-02] |   0.049 |   0.043\n",
            " 375 | [ 1.26840035e+01  1.17748649e-01  1.04664845e-02 -1.07598714e-01\n",
            "  4.27343577e-02] |   0.042 |   0.042\n",
            " 400 | [ 1.26719296e+01  1.17622633e-01  1.05370990e-02 -1.08246592e-01\n",
            "  4.27277010e-02] |   0.042 |   0.042\n",
            " 425 | [ 1.26763140e+01  1.17666524e-01  1.05123898e-02 -1.08064706e-01\n",
            "  4.27300615e-02] |   0.042 |   0.042\n",
            " 450 | [ 1.26764008e+01  1.17663062e-01  1.05148464e-02 -1.08197117e-01\n",
            "  4.27287329e-02] |   0.042 |   0.042\n",
            " 475 | [ 1.26828826e+01  1.17650990e-01  1.05062925e-02 -1.10275105e-01\n",
            "  4.27113019e-02] |   0.042 |   0.042\n",
            " 500 | [ 1.28520154e+01  1.17538801e-01  1.02677136e-02 -1.57838252e-01\n",
            "  4.23200598e-02] |   0.042 |   0.041\n",
            " 525 | [ 1.42324466e+01  1.15985502e-01  8.14722556e-03 -5.69108975e-01\n",
            "  3.89932502e-02] |   0.041 |   0.041\n",
            " 550 | [ 1.47081583e+01  1.15585139e-01  7.44454819e-03 -7.06054612e-01\n",
            "  3.78804092e-02] |   0.041 |   0.041\n",
            " 575 | [ 1.53285911e+01  1.15063659e-01  6.54201017e-03 -8.84631872e-01\n",
            "  3.64236506e-02] |   0.041 |   0.041\n",
            " 600 | [ 1.56442776e+01  1.14798215e-01  6.12521020e-03 -9.75239911e-01\n",
            "  3.56725113e-02] |   0.041 |   0.041\n",
            " 625 | [ 1.54320205e+01  1.15004696e-01  6.73110221e-03 -9.11165515e-01\n",
            "  3.60879481e-02] |   0.041 |   0.041\n",
            " 650 | [ 1.56771393e+01  1.14989918e-01  8.05995883e-03 -9.63596344e-01\n",
            "  3.50506463e-02] |   0.041 |   0.041\n",
            " 675 | [16.15803876  0.11640986  0.02390912 -0.92579447  0.02938453] |   0.040 |   0.040\n",
            " 700 | [ 1.83761966e+01  1.19970231e-01  8.30218258e-02 -9.50694480e-01\n",
            "  6.67911180e-03] |   0.038 |   0.037\n",
            " 725 | [ 1.89986633e+01  1.20373406e-01  9.80001396e-02 -9.89870449e-01\n",
            "  6.30247704e-04] |   0.037 |   0.037\n",
            " 750 | [ 1.90652654e+01  1.20342998e-01  9.94372158e-02 -9.97770635e-01\n",
            "  1.18779927e-05] |   0.037 |   0.037\n",
            " 775 | [ 1.90707372e+01  1.20333870e-01  9.94087618e-02 -9.99666006e-01\n",
            "  4.29123360e-06] |   0.037 |   0.037\n",
            " 800 | [ 1.90735237e+01  1.20350172e-01  9.94029093e-02 -9.99845685e-01\n",
            "  4.06058193e-06] |   0.037 |   0.037\n",
            " 825 | [ 1.90737359e+01  1.20347563e-01  9.94067830e-02 -9.99967120e-01\n",
            "  1.61236986e-06] |   0.037 |   0.037\n",
            " 850 | [ 1.90736819e+01  1.20346159e-01  9.94090458e-02 -9.99988810e-01\n",
            "  6.59872435e-07] |   0.037 |   0.037\n",
            " 875 | [ 1.90738897e+01  1.20347316e-01  9.94101662e-02 -9.99994009e-01\n",
            "  1.52196795e-07] |   0.037 |   0.037\n",
            " 900 | [ 1.90742528e+01  1.20349927e-01  9.94099955e-02 -9.99996577e-01\n",
            "  8.81809820e-08] |   0.037 |   0.037\n",
            " 925 | [ 1.90743191e+01  1.20350305e-01  9.94100894e-02 -9.99999822e-01\n",
            "  1.11383151e-08] |   0.037 |   0.037\n",
            " 950 | [ 1.90743600e+01  1.20350605e-01  9.94100827e-02 -9.99999861e-01\n",
            "  1.99039207e-09] |   0.037 |   0.037\n",
            " 975 | [ 1.90743479e+01  1.20350512e-01  9.94100955e-02 -9.99999972e-01\n",
            "  3.10308011e-10] |   0.037 |   0.037\n"
          ]
        }
      ]
    },
    {
      "cell_type": "code",
      "source": [
        "kappa_v, theta_v, sigma_v, rho, v0 = h93_params_bates\n",
        "options_lewis[\"Model\"] = 0.0\n",
        "for row, option in options_lewis.iterrows():\n",
        "      if option[\"Type\"] == \"C\":\n",
        "        options_lewis.loc[row, \"Model\"] = H93_call_value(\n",
        "            S0,\n",
        "            option[\"Strike\"],\n",
        "            option[\"Days to maturity\"] / days_per_year,\n",
        "            r,\n",
        "            kappa_v,\n",
        "            theta_v,\n",
        "            sigma_v,\n",
        "            rho,\n",
        "            v0,\n",
        "        )\n",
        "      else:\n",
        "        options_lewis.loc[row, \"Model\"] = model_value = H93_put_value(\n",
        "            S0,\n",
        "            option[\"Strike\"],\n",
        "            option[\"Days to maturity\"] / days_per_year,\n",
        "            r,\n",
        "            kappa_v,\n",
        "            theta_v,\n",
        "            sigma_v,\n",
        "            rho,\n",
        "            v0,\n",
        "        )"
      ],
      "metadata": {
        "id": "QvCbLafD92cT"
      },
      "execution_count": 249,
      "outputs": []
    },
    {
      "cell_type": "code",
      "source": [
        "options_lewis"
      ],
      "metadata": {
        "colab": {
          "base_uri": "https://localhost:8080/",
          "height": 363
        },
        "id": "xCoC3QZw96qa",
        "outputId": "bf03ed72-bf18-440a-f94c-db1d770bab5b"
      },
      "execution_count": 250,
      "outputs": [
        {
          "output_type": "execute_result",
          "data": {
            "text/plain": [
              "    Days to maturity  Strike  Price Type      Model\n",
              "5                 60   227.5  16.78    C  17.127132\n",
              "6                 60   230.0  17.65    C  15.801437\n",
              "7                 60   232.5  16.86    C  14.547237\n",
              "8                 60   235.0  16.05    C  13.363939\n",
              "9                 60   237.5  15.10    C  12.250607\n",
              "20                60   227.5  11.03    P  10.909605\n",
              "21                60   230.0  12.15    P  12.074925\n",
              "22                60   232.5  13.37    P  13.311741\n",
              "23                60   235.0  14.75    P  14.619460\n",
              "24                60   237.5  15.62    P  15.997144"
            ],
            "text/html": [
              "\n",
              "\n",
              "  <div id=\"df-e6fbcdbd-9c19-45d3-bc8d-73d476abb5f6\">\n",
              "    <div class=\"colab-df-container\">\n",
              "      <div>\n",
              "<style scoped>\n",
              "    .dataframe tbody tr th:only-of-type {\n",
              "        vertical-align: middle;\n",
              "    }\n",
              "\n",
              "    .dataframe tbody tr th {\n",
              "        vertical-align: top;\n",
              "    }\n",
              "\n",
              "    .dataframe thead th {\n",
              "        text-align: right;\n",
              "    }\n",
              "</style>\n",
              "<table border=\"1\" class=\"dataframe\">\n",
              "  <thead>\n",
              "    <tr style=\"text-align: right;\">\n",
              "      <th></th>\n",
              "      <th>Days to maturity</th>\n",
              "      <th>Strike</th>\n",
              "      <th>Price</th>\n",
              "      <th>Type</th>\n",
              "      <th>Model</th>\n",
              "    </tr>\n",
              "  </thead>\n",
              "  <tbody>\n",
              "    <tr>\n",
              "      <th>5</th>\n",
              "      <td>60</td>\n",
              "      <td>227.5</td>\n",
              "      <td>16.78</td>\n",
              "      <td>C</td>\n",
              "      <td>17.127132</td>\n",
              "    </tr>\n",
              "    <tr>\n",
              "      <th>6</th>\n",
              "      <td>60</td>\n",
              "      <td>230.0</td>\n",
              "      <td>17.65</td>\n",
              "      <td>C</td>\n",
              "      <td>15.801437</td>\n",
              "    </tr>\n",
              "    <tr>\n",
              "      <th>7</th>\n",
              "      <td>60</td>\n",
              "      <td>232.5</td>\n",
              "      <td>16.86</td>\n",
              "      <td>C</td>\n",
              "      <td>14.547237</td>\n",
              "    </tr>\n",
              "    <tr>\n",
              "      <th>8</th>\n",
              "      <td>60</td>\n",
              "      <td>235.0</td>\n",
              "      <td>16.05</td>\n",
              "      <td>C</td>\n",
              "      <td>13.363939</td>\n",
              "    </tr>\n",
              "    <tr>\n",
              "      <th>9</th>\n",
              "      <td>60</td>\n",
              "      <td>237.5</td>\n",
              "      <td>15.10</td>\n",
              "      <td>C</td>\n",
              "      <td>12.250607</td>\n",
              "    </tr>\n",
              "    <tr>\n",
              "      <th>20</th>\n",
              "      <td>60</td>\n",
              "      <td>227.5</td>\n",
              "      <td>11.03</td>\n",
              "      <td>P</td>\n",
              "      <td>10.909605</td>\n",
              "    </tr>\n",
              "    <tr>\n",
              "      <th>21</th>\n",
              "      <td>60</td>\n",
              "      <td>230.0</td>\n",
              "      <td>12.15</td>\n",
              "      <td>P</td>\n",
              "      <td>12.074925</td>\n",
              "    </tr>\n",
              "    <tr>\n",
              "      <th>22</th>\n",
              "      <td>60</td>\n",
              "      <td>232.5</td>\n",
              "      <td>13.37</td>\n",
              "      <td>P</td>\n",
              "      <td>13.311741</td>\n",
              "    </tr>\n",
              "    <tr>\n",
              "      <th>23</th>\n",
              "      <td>60</td>\n",
              "      <td>235.0</td>\n",
              "      <td>14.75</td>\n",
              "      <td>P</td>\n",
              "      <td>14.619460</td>\n",
              "    </tr>\n",
              "    <tr>\n",
              "      <th>24</th>\n",
              "      <td>60</td>\n",
              "      <td>237.5</td>\n",
              "      <td>15.62</td>\n",
              "      <td>P</td>\n",
              "      <td>15.997144</td>\n",
              "    </tr>\n",
              "  </tbody>\n",
              "</table>\n",
              "</div>\n",
              "      <button class=\"colab-df-convert\" onclick=\"convertToInteractive('df-e6fbcdbd-9c19-45d3-bc8d-73d476abb5f6')\"\n",
              "              title=\"Convert this dataframe to an interactive table.\"\n",
              "              style=\"display:none;\">\n",
              "\n",
              "  <svg xmlns=\"http://www.w3.org/2000/svg\" height=\"24px\"viewBox=\"0 0 24 24\"\n",
              "       width=\"24px\">\n",
              "    <path d=\"M0 0h24v24H0V0z\" fill=\"none\"/>\n",
              "    <path d=\"M18.56 5.44l.94 2.06.94-2.06 2.06-.94-2.06-.94-.94-2.06-.94 2.06-2.06.94zm-11 1L8.5 8.5l.94-2.06 2.06-.94-2.06-.94L8.5 2.5l-.94 2.06-2.06.94zm10 10l.94 2.06.94-2.06 2.06-.94-2.06-.94-.94-2.06-.94 2.06-2.06.94z\"/><path d=\"M17.41 7.96l-1.37-1.37c-.4-.4-.92-.59-1.43-.59-.52 0-1.04.2-1.43.59L10.3 9.45l-7.72 7.72c-.78.78-.78 2.05 0 2.83L4 21.41c.39.39.9.59 1.41.59.51 0 1.02-.2 1.41-.59l7.78-7.78 2.81-2.81c.8-.78.8-2.07 0-2.86zM5.41 20L4 18.59l7.72-7.72 1.47 1.35L5.41 20z\"/>\n",
              "  </svg>\n",
              "      </button>\n",
              "\n",
              "\n",
              "\n",
              "    <div id=\"df-450c51ec-def3-487a-8b44-e9af007bbf2e\">\n",
              "      <button class=\"colab-df-quickchart\" onclick=\"quickchart('df-450c51ec-def3-487a-8b44-e9af007bbf2e')\"\n",
              "              title=\"Suggest charts.\"\n",
              "              style=\"display:none;\">\n",
              "\n",
              "<svg xmlns=\"http://www.w3.org/2000/svg\" height=\"24px\"viewBox=\"0 0 24 24\"\n",
              "     width=\"24px\">\n",
              "    <g>\n",
              "        <path d=\"M19 3H5c-1.1 0-2 .9-2 2v14c0 1.1.9 2 2 2h14c1.1 0 2-.9 2-2V5c0-1.1-.9-2-2-2zM9 17H7v-7h2v7zm4 0h-2V7h2v10zm4 0h-2v-4h2v4z\"/>\n",
              "    </g>\n",
              "</svg>\n",
              "      </button>\n",
              "    </div>\n",
              "\n",
              "<style>\n",
              "  .colab-df-quickchart {\n",
              "    background-color: #E8F0FE;\n",
              "    border: none;\n",
              "    border-radius: 50%;\n",
              "    cursor: pointer;\n",
              "    display: none;\n",
              "    fill: #1967D2;\n",
              "    height: 32px;\n",
              "    padding: 0 0 0 0;\n",
              "    width: 32px;\n",
              "  }\n",
              "\n",
              "  .colab-df-quickchart:hover {\n",
              "    background-color: #E2EBFA;\n",
              "    box-shadow: 0px 1px 2px rgba(60, 64, 67, 0.3), 0px 1px 3px 1px rgba(60, 64, 67, 0.15);\n",
              "    fill: #174EA6;\n",
              "  }\n",
              "\n",
              "  [theme=dark] .colab-df-quickchart {\n",
              "    background-color: #3B4455;\n",
              "    fill: #D2E3FC;\n",
              "  }\n",
              "\n",
              "  [theme=dark] .colab-df-quickchart:hover {\n",
              "    background-color: #434B5C;\n",
              "    box-shadow: 0px 1px 3px 1px rgba(0, 0, 0, 0.15);\n",
              "    filter: drop-shadow(0px 1px 2px rgba(0, 0, 0, 0.3));\n",
              "    fill: #FFFFFF;\n",
              "  }\n",
              "</style>\n",
              "\n",
              "    <script>\n",
              "      async function quickchart(key) {\n",
              "        const containerElement = document.querySelector('#' + key);\n",
              "        const charts = await google.colab.kernel.invokeFunction(\n",
              "            'suggestCharts', [key], {});\n",
              "      }\n",
              "    </script>\n",
              "\n",
              "      <script>\n",
              "\n",
              "function displayQuickchartButton(domScope) {\n",
              "  let quickchartButtonEl =\n",
              "    domScope.querySelector('#df-450c51ec-def3-487a-8b44-e9af007bbf2e button.colab-df-quickchart');\n",
              "  quickchartButtonEl.style.display =\n",
              "    google.colab.kernel.accessAllowed ? 'block' : 'none';\n",
              "}\n",
              "\n",
              "        displayQuickchartButton(document);\n",
              "      </script>\n",
              "      <style>\n",
              "    .colab-df-container {\n",
              "      display:flex;\n",
              "      flex-wrap:wrap;\n",
              "      gap: 12px;\n",
              "    }\n",
              "\n",
              "    .colab-df-convert {\n",
              "      background-color: #E8F0FE;\n",
              "      border: none;\n",
              "      border-radius: 50%;\n",
              "      cursor: pointer;\n",
              "      display: none;\n",
              "      fill: #1967D2;\n",
              "      height: 32px;\n",
              "      padding: 0 0 0 0;\n",
              "      width: 32px;\n",
              "    }\n",
              "\n",
              "    .colab-df-convert:hover {\n",
              "      background-color: #E2EBFA;\n",
              "      box-shadow: 0px 1px 2px rgba(60, 64, 67, 0.3), 0px 1px 3px 1px rgba(60, 64, 67, 0.15);\n",
              "      fill: #174EA6;\n",
              "    }\n",
              "\n",
              "    [theme=dark] .colab-df-convert {\n",
              "      background-color: #3B4455;\n",
              "      fill: #D2E3FC;\n",
              "    }\n",
              "\n",
              "    [theme=dark] .colab-df-convert:hover {\n",
              "      background-color: #434B5C;\n",
              "      box-shadow: 0px 1px 3px 1px rgba(0, 0, 0, 0.15);\n",
              "      filter: drop-shadow(0px 1px 2px rgba(0, 0, 0, 0.3));\n",
              "      fill: #FFFFFF;\n",
              "    }\n",
              "  </style>\n",
              "\n",
              "      <script>\n",
              "        const buttonEl =\n",
              "          document.querySelector('#df-e6fbcdbd-9c19-45d3-bc8d-73d476abb5f6 button.colab-df-convert');\n",
              "        buttonEl.style.display =\n",
              "          google.colab.kernel.accessAllowed ? 'block' : 'none';\n",
              "\n",
              "        async function convertToInteractive(key) {\n",
              "          const element = document.querySelector('#df-e6fbcdbd-9c19-45d3-bc8d-73d476abb5f6');\n",
              "          const dataTable =\n",
              "            await google.colab.kernel.invokeFunction('convertToInteractive',\n",
              "                                                     [key], {});\n",
              "          if (!dataTable) return;\n",
              "\n",
              "          const docLinkHtml = 'Like what you see? Visit the ' +\n",
              "            '<a target=\"_blank\" href=https://colab.research.google.com/notebooks/data_table.ipynb>data table notebook</a>'\n",
              "            + ' to learn more about interactive tables.';\n",
              "          element.innerHTML = '';\n",
              "          dataTable['output_type'] = 'display_data';\n",
              "          await google.colab.output.renderOutput(dataTable, element);\n",
              "          const docLink = document.createElement('div');\n",
              "          docLink.innerHTML = docLinkHtml;\n",
              "          element.appendChild(docLink);\n",
              "        }\n",
              "      </script>\n",
              "    </div>\n",
              "  </div>\n"
            ]
          },
          "metadata": {},
          "execution_count": 250
        }
      ]
    },
    {
      "cell_type": "code",
      "source": [
        "i = 0\n",
        "min_MSE = 5000.0\n",
        "local_opt = False"
      ],
      "metadata": {
        "id": "_ZIMDFXivC6t"
      },
      "execution_count": 251,
      "outputs": []
    },
    {
      "cell_type": "code",
      "source": [
        "kappa_v, theta_v, sigma_v, rho, v0 = h93_params_bates_FFT\n",
        "options_carr[\"Model\"] = 0.0\n",
        "for row, option in options_carr.iterrows():\n",
        "      if option[\"Type\"] == \"C\":\n",
        "        options_carr.loc[row, \"Model\"] = H93_call_value(\n",
        "            S0,\n",
        "            option[\"Strike\"],\n",
        "            option[\"Days to maturity\"] / days_per_year,\n",
        "            r,\n",
        "            kappa_v,\n",
        "            theta_v,\n",
        "            sigma_v,\n",
        "            rho,\n",
        "            v0,\n",
        "        )\n",
        "      else:\n",
        "        options_carr.loc[row, \"Model\"] = model_value = H93_put_value(\n",
        "            S0,\n",
        "            option[\"Strike\"],\n",
        "            option[\"Days to maturity\"] / days_per_year,\n",
        "            r,\n",
        "            kappa_v,\n",
        "            theta_v,\n",
        "            sigma_v,\n",
        "            rho,\n",
        "            v0,\n",
        "        )"
      ],
      "metadata": {
        "id": "7fyO1S6h-qKG"
      },
      "execution_count": 252,
      "outputs": []
    },
    {
      "cell_type": "code",
      "source": [
        "options_carr"
      ],
      "metadata": {
        "colab": {
          "base_uri": "https://localhost:8080/",
          "height": 363
        },
        "id": "z9yNou0v-1aK",
        "outputId": "f33e6ef8-aa09-4500-eaa7-1bfad37c39ca"
      },
      "execution_count": 253,
      "outputs": [
        {
          "output_type": "execute_result",
          "data": {
            "text/plain": [
              "    Days to maturity  Strike  Price Type      Model\n",
              "5                 60   227.5  16.78    C  17.127130\n",
              "6                 60   230.0  17.65    C  15.801435\n",
              "7                 60   232.5  16.86    C  14.547234\n",
              "8                 60   235.0  16.05    C  13.363937\n",
              "9                 60   237.5  15.10    C  12.250605\n",
              "20                60   227.5  11.03    P  10.909603\n",
              "21                60   230.0  12.15    P  12.074923\n",
              "22                60   232.5  13.37    P  13.311739\n",
              "23                60   235.0  14.75    P  14.619458\n",
              "24                60   237.5  15.62    P  15.997142"
            ],
            "text/html": [
              "\n",
              "\n",
              "  <div id=\"df-d6123bb2-8338-4b90-9805-c15c649eda9f\">\n",
              "    <div class=\"colab-df-container\">\n",
              "      <div>\n",
              "<style scoped>\n",
              "    .dataframe tbody tr th:only-of-type {\n",
              "        vertical-align: middle;\n",
              "    }\n",
              "\n",
              "    .dataframe tbody tr th {\n",
              "        vertical-align: top;\n",
              "    }\n",
              "\n",
              "    .dataframe thead th {\n",
              "        text-align: right;\n",
              "    }\n",
              "</style>\n",
              "<table border=\"1\" class=\"dataframe\">\n",
              "  <thead>\n",
              "    <tr style=\"text-align: right;\">\n",
              "      <th></th>\n",
              "      <th>Days to maturity</th>\n",
              "      <th>Strike</th>\n",
              "      <th>Price</th>\n",
              "      <th>Type</th>\n",
              "      <th>Model</th>\n",
              "    </tr>\n",
              "  </thead>\n",
              "  <tbody>\n",
              "    <tr>\n",
              "      <th>5</th>\n",
              "      <td>60</td>\n",
              "      <td>227.5</td>\n",
              "      <td>16.78</td>\n",
              "      <td>C</td>\n",
              "      <td>17.127130</td>\n",
              "    </tr>\n",
              "    <tr>\n",
              "      <th>6</th>\n",
              "      <td>60</td>\n",
              "      <td>230.0</td>\n",
              "      <td>17.65</td>\n",
              "      <td>C</td>\n",
              "      <td>15.801435</td>\n",
              "    </tr>\n",
              "    <tr>\n",
              "      <th>7</th>\n",
              "      <td>60</td>\n",
              "      <td>232.5</td>\n",
              "      <td>16.86</td>\n",
              "      <td>C</td>\n",
              "      <td>14.547234</td>\n",
              "    </tr>\n",
              "    <tr>\n",
              "      <th>8</th>\n",
              "      <td>60</td>\n",
              "      <td>235.0</td>\n",
              "      <td>16.05</td>\n",
              "      <td>C</td>\n",
              "      <td>13.363937</td>\n",
              "    </tr>\n",
              "    <tr>\n",
              "      <th>9</th>\n",
              "      <td>60</td>\n",
              "      <td>237.5</td>\n",
              "      <td>15.10</td>\n",
              "      <td>C</td>\n",
              "      <td>12.250605</td>\n",
              "    </tr>\n",
              "    <tr>\n",
              "      <th>20</th>\n",
              "      <td>60</td>\n",
              "      <td>227.5</td>\n",
              "      <td>11.03</td>\n",
              "      <td>P</td>\n",
              "      <td>10.909603</td>\n",
              "    </tr>\n",
              "    <tr>\n",
              "      <th>21</th>\n",
              "      <td>60</td>\n",
              "      <td>230.0</td>\n",
              "      <td>12.15</td>\n",
              "      <td>P</td>\n",
              "      <td>12.074923</td>\n",
              "    </tr>\n",
              "    <tr>\n",
              "      <th>22</th>\n",
              "      <td>60</td>\n",
              "      <td>232.5</td>\n",
              "      <td>13.37</td>\n",
              "      <td>P</td>\n",
              "      <td>13.311739</td>\n",
              "    </tr>\n",
              "    <tr>\n",
              "      <th>23</th>\n",
              "      <td>60</td>\n",
              "      <td>235.0</td>\n",
              "      <td>14.75</td>\n",
              "      <td>P</td>\n",
              "      <td>14.619458</td>\n",
              "    </tr>\n",
              "    <tr>\n",
              "      <th>24</th>\n",
              "      <td>60</td>\n",
              "      <td>237.5</td>\n",
              "      <td>15.62</td>\n",
              "      <td>P</td>\n",
              "      <td>15.997142</td>\n",
              "    </tr>\n",
              "  </tbody>\n",
              "</table>\n",
              "</div>\n",
              "      <button class=\"colab-df-convert\" onclick=\"convertToInteractive('df-d6123bb2-8338-4b90-9805-c15c649eda9f')\"\n",
              "              title=\"Convert this dataframe to an interactive table.\"\n",
              "              style=\"display:none;\">\n",
              "\n",
              "  <svg xmlns=\"http://www.w3.org/2000/svg\" height=\"24px\"viewBox=\"0 0 24 24\"\n",
              "       width=\"24px\">\n",
              "    <path d=\"M0 0h24v24H0V0z\" fill=\"none\"/>\n",
              "    <path d=\"M18.56 5.44l.94 2.06.94-2.06 2.06-.94-2.06-.94-.94-2.06-.94 2.06-2.06.94zm-11 1L8.5 8.5l.94-2.06 2.06-.94-2.06-.94L8.5 2.5l-.94 2.06-2.06.94zm10 10l.94 2.06.94-2.06 2.06-.94-2.06-.94-.94-2.06-.94 2.06-2.06.94z\"/><path d=\"M17.41 7.96l-1.37-1.37c-.4-.4-.92-.59-1.43-.59-.52 0-1.04.2-1.43.59L10.3 9.45l-7.72 7.72c-.78.78-.78 2.05 0 2.83L4 21.41c.39.39.9.59 1.41.59.51 0 1.02-.2 1.41-.59l7.78-7.78 2.81-2.81c.8-.78.8-2.07 0-2.86zM5.41 20L4 18.59l7.72-7.72 1.47 1.35L5.41 20z\"/>\n",
              "  </svg>\n",
              "      </button>\n",
              "\n",
              "\n",
              "\n",
              "    <div id=\"df-7013a6df-abe4-43ef-8c11-94fa2e1f9f83\">\n",
              "      <button class=\"colab-df-quickchart\" onclick=\"quickchart('df-7013a6df-abe4-43ef-8c11-94fa2e1f9f83')\"\n",
              "              title=\"Suggest charts.\"\n",
              "              style=\"display:none;\">\n",
              "\n",
              "<svg xmlns=\"http://www.w3.org/2000/svg\" height=\"24px\"viewBox=\"0 0 24 24\"\n",
              "     width=\"24px\">\n",
              "    <g>\n",
              "        <path d=\"M19 3H5c-1.1 0-2 .9-2 2v14c0 1.1.9 2 2 2h14c1.1 0 2-.9 2-2V5c0-1.1-.9-2-2-2zM9 17H7v-7h2v7zm4 0h-2V7h2v10zm4 0h-2v-4h2v4z\"/>\n",
              "    </g>\n",
              "</svg>\n",
              "      </button>\n",
              "    </div>\n",
              "\n",
              "<style>\n",
              "  .colab-df-quickchart {\n",
              "    background-color: #E8F0FE;\n",
              "    border: none;\n",
              "    border-radius: 50%;\n",
              "    cursor: pointer;\n",
              "    display: none;\n",
              "    fill: #1967D2;\n",
              "    height: 32px;\n",
              "    padding: 0 0 0 0;\n",
              "    width: 32px;\n",
              "  }\n",
              "\n",
              "  .colab-df-quickchart:hover {\n",
              "    background-color: #E2EBFA;\n",
              "    box-shadow: 0px 1px 2px rgba(60, 64, 67, 0.3), 0px 1px 3px 1px rgba(60, 64, 67, 0.15);\n",
              "    fill: #174EA6;\n",
              "  }\n",
              "\n",
              "  [theme=dark] .colab-df-quickchart {\n",
              "    background-color: #3B4455;\n",
              "    fill: #D2E3FC;\n",
              "  }\n",
              "\n",
              "  [theme=dark] .colab-df-quickchart:hover {\n",
              "    background-color: #434B5C;\n",
              "    box-shadow: 0px 1px 3px 1px rgba(0, 0, 0, 0.15);\n",
              "    filter: drop-shadow(0px 1px 2px rgba(0, 0, 0, 0.3));\n",
              "    fill: #FFFFFF;\n",
              "  }\n",
              "</style>\n",
              "\n",
              "    <script>\n",
              "      async function quickchart(key) {\n",
              "        const containerElement = document.querySelector('#' + key);\n",
              "        const charts = await google.colab.kernel.invokeFunction(\n",
              "            'suggestCharts', [key], {});\n",
              "      }\n",
              "    </script>\n",
              "\n",
              "      <script>\n",
              "\n",
              "function displayQuickchartButton(domScope) {\n",
              "  let quickchartButtonEl =\n",
              "    domScope.querySelector('#df-7013a6df-abe4-43ef-8c11-94fa2e1f9f83 button.colab-df-quickchart');\n",
              "  quickchartButtonEl.style.display =\n",
              "    google.colab.kernel.accessAllowed ? 'block' : 'none';\n",
              "}\n",
              "\n",
              "        displayQuickchartButton(document);\n",
              "      </script>\n",
              "      <style>\n",
              "    .colab-df-container {\n",
              "      display:flex;\n",
              "      flex-wrap:wrap;\n",
              "      gap: 12px;\n",
              "    }\n",
              "\n",
              "    .colab-df-convert {\n",
              "      background-color: #E8F0FE;\n",
              "      border: none;\n",
              "      border-radius: 50%;\n",
              "      cursor: pointer;\n",
              "      display: none;\n",
              "      fill: #1967D2;\n",
              "      height: 32px;\n",
              "      padding: 0 0 0 0;\n",
              "      width: 32px;\n",
              "    }\n",
              "\n",
              "    .colab-df-convert:hover {\n",
              "      background-color: #E2EBFA;\n",
              "      box-shadow: 0px 1px 2px rgba(60, 64, 67, 0.3), 0px 1px 3px 1px rgba(60, 64, 67, 0.15);\n",
              "      fill: #174EA6;\n",
              "    }\n",
              "\n",
              "    [theme=dark] .colab-df-convert {\n",
              "      background-color: #3B4455;\n",
              "      fill: #D2E3FC;\n",
              "    }\n",
              "\n",
              "    [theme=dark] .colab-df-convert:hover {\n",
              "      background-color: #434B5C;\n",
              "      box-shadow: 0px 1px 3px 1px rgba(0, 0, 0, 0.15);\n",
              "      filter: drop-shadow(0px 1px 2px rgba(0, 0, 0, 0.3));\n",
              "      fill: #FFFFFF;\n",
              "    }\n",
              "  </style>\n",
              "\n",
              "      <script>\n",
              "        const buttonEl =\n",
              "          document.querySelector('#df-d6123bb2-8338-4b90-9805-c15c649eda9f button.colab-df-convert');\n",
              "        buttonEl.style.display =\n",
              "          google.colab.kernel.accessAllowed ? 'block' : 'none';\n",
              "\n",
              "        async function convertToInteractive(key) {\n",
              "          const element = document.querySelector('#df-d6123bb2-8338-4b90-9805-c15c649eda9f');\n",
              "          const dataTable =\n",
              "            await google.colab.kernel.invokeFunction('convertToInteractive',\n",
              "                                                     [key], {});\n",
              "          if (!dataTable) return;\n",
              "\n",
              "          const docLinkHtml = 'Like what you see? Visit the ' +\n",
              "            '<a target=\"_blank\" href=https://colab.research.google.com/notebooks/data_table.ipynb>data table notebook</a>'\n",
              "            + ' to learn more about interactive tables.';\n",
              "          element.innerHTML = '';\n",
              "          dataTable['output_type'] = 'display_data';\n",
              "          await google.colab.output.renderOutput(dataTable, element);\n",
              "          const docLink = document.createElement('div');\n",
              "          docLink.innerHTML = docLinkHtml;\n",
              "          element.appendChild(docLink);\n",
              "        }\n",
              "      </script>\n",
              "    </div>\n",
              "  </div>\n"
            ]
          },
          "metadata": {},
          "execution_count": 253
        }
      ]
    },
    {
      "cell_type": "markdown",
      "source": [
        "We get a relatively good fit for the option prices using Heston calibration alone."
      ],
      "metadata": {
        "id": "_1fC-VlzAPMF"
      }
    },
    {
      "cell_type": "code",
      "source": [
        "kappa_v, theta_v, sigma_v, rho, v0 = h93_params_bates\n",
        "def B96_error_function(p0):\n",
        "    \"\"\"\n",
        "    Error function for Bates (1996) model\n",
        "\n",
        "    Parameters:\n",
        "    -------------\n",
        "    lamb: float\n",
        "        jump intensity\n",
        "    mu: float\n",
        "        expected jump size\n",
        "    delta: float\n",
        "        standard deviation of jump\n",
        "    Returns\n",
        "    -------------\n",
        "    MSE: float\n",
        "        mean squared error\n",
        "    \"\"\"\n",
        "\n",
        "    global i, min_MSE, local_opt, opt1\n",
        "    lamb, mu, delta = p0\n",
        "    if lamb < 0.0 or mu < -0.6 or mu > 0.0 or delta < 0.0:\n",
        "        return 5000.0\n",
        "    se = []\n",
        "    for row, option in options.iterrows():\n",
        "      if option[\"Type\"] == \"C\":\n",
        "          model_value = B96_call_value(\n",
        "              S0,\n",
        "              option[\"Strike\"],\n",
        "              option[\"Days to maturity\"] / days_per_year,\n",
        "              r,\n",
        "              kappa_v,\n",
        "              theta_v,\n",
        "              sigma_v,\n",
        "              rho,\n",
        "              v0,\n",
        "              lamb,\n",
        "              mu,\n",
        "              delta,\n",
        "          )\n",
        "          se.append((model_value - option[\"Price\"]) ** 2)\n",
        "      else:\n",
        "        model_value = B96_put_value(\n",
        "              S0,\n",
        "              option[\"Strike\"],\n",
        "              option[\"Days to maturity\"] / days_per_year,\n",
        "              r,\n",
        "              kappa_v,\n",
        "              theta_v,\n",
        "              sigma_v,\n",
        "              rho,\n",
        "              v0,\n",
        "              lamb,\n",
        "              mu,\n",
        "              delta,\n",
        "          )\n",
        "        se.append((model_value - option[\"Price\"]) ** 2)\n",
        "    MSE = sum(se) / len(se)\n",
        "    min_MSE = min(min_MSE, MSE)\n",
        "    if i % 25 == 0:\n",
        "        print(\"%4d |\" % i, np.array(p0), \"| %7.3f | %7.3f\" % (MSE, min_MSE))\n",
        "    i += 1\n",
        "    if local_opt:\n",
        "        penalty = np.sqrt(np.sum((p0 - opt1) ** 2)) * 1\n",
        "        return MSE + penalty\n",
        "    return MSE"
      ],
      "metadata": {
        "id": "-DBYXR6YwKw3"
      },
      "execution_count": 254,
      "outputs": []
    },
    {
      "cell_type": "code",
      "source": [
        "def B96_calibration_short():\n",
        "    \"\"\"\n",
        "    Calibrates jump component of Bates (1996) model to market prices\n",
        "    \"\"\"\n",
        "    global local_opt, opt1, opt2\n",
        "    local_opt = False\n",
        "    # First, we run with brute force\n",
        "    # (scan sensible regions)\n",
        "    opt1 = 0.0\n",
        "    opt1 = brute(\n",
        "        B96_error_function,\n",
        "        (\n",
        "            (0.0, 0.51, 0.1),  # lambda\n",
        "            (-0.5, -0.11, 0.1),  # mu\n",
        "            (0.0, 0.51, 0.25),\n",
        "        ),  # delta\n",
        "        finish=None,\n",
        "    )\n",
        "    local_opt = True\n",
        "    # Second, we run with local, convex minimization\n",
        "    # (dig deeper where promising)\n",
        "    opt2 = fmin(\n",
        "        B96_error_function,\n",
        "        opt1,\n",
        "        xtol=0.0000001,\n",
        "        ftol=0.0000001,\n",
        "        maxiter=550,\n",
        "        maxfun=750,\n",
        "    )\n",
        "    return opt2"
      ],
      "metadata": {
        "id": "xDub2BoHwO3a"
      },
      "execution_count": 255,
      "outputs": []
    },
    {
      "cell_type": "markdown",
      "source": [
        "The next step in the calibration is to calculate parameter values for the jump (Merton) component.\n",
        "\n",
        "Next, we calibrate the jump component of the Bates model; we use the values for $\\kappa$, $\\theta$, $\\sigma$ and $\\rho$ from our previous calibration of the Heston model.\n",
        "\n",
        "We use an optimizer to calculate the values for the parameters $\\lambda$, $\\mu$, and $\\delta$ which minimize the following objective function:\n",
        "\n",
        "\n",
        "\\begin{equation*}\n",
        "    \\min_p \\frac{1}{N} \\sum_{n=1}^{N} \\left( C_n^* - C^{B96}_n(p) \\right)^2 + ω \\ Penalty (p)\n",
        "\\end{equation*}\n",
        "\n",
        "\n",
        " This error function includes a **penalty term** of the form\n",
        "\\\n",
        "\\begin{equation*}\n",
        "    Penalty \\ (p) \\equiv \\sqrt{(p_0 - p)^2}\n",
        "\\end{equation*}\n",
        "\n",
        "\\\n",
        "with $p_0$ being the vector of initial parameter values and $p$ the current vector.\n"
      ],
      "metadata": {
        "id": "2sy2y6drCW48"
      }
    },
    {
      "cell_type": "code",
      "source": [
        "i=0\n",
        "min_MSE = 500\n",
        "params = B96_calibration_short()"
      ],
      "metadata": {
        "colab": {
          "base_uri": "https://localhost:8080/"
        },
        "id": "2tPwCnCyELHa",
        "outputId": "e6b66abc-5b80-46d2-ad7a-3a438d5a9665"
      },
      "execution_count": 256,
      "outputs": [
        {
          "output_type": "stream",
          "name": "stdout",
          "text": [
            "   0 | [ 0.  -0.5  0. ] |   2.440 |   2.440\n",
            "  25 | [ 0.2  -0.5   0.25] |   2.209 |   1.587\n",
            "  50 | [ 0.4 -0.5  0.5] |  10.221 |   1.587\n",
            "  75 | [ 4.0e-01 -2.0e-01  2.5e-04] |   1.582 |   1.582\n",
            " 100 | [ 3.99869655e-01 -1.99759712e-01  1.28818256e-04] |   1.582 |   1.582\n",
            " 125 | [ 4.00000568e-01 -1.99984552e-01  9.49259232e-06] |   1.582 |   1.582\n",
            " 150 | [ 4.00000317e-01 -1.99999129e-01  6.55330370e-07] |   1.582 |   1.582\n",
            "Optimization terminated successfully.\n",
            "         Current function value: 1.582206\n",
            "         Iterations: 70\n",
            "         Function evaluations: 125\n"
          ]
        }
      ]
    },
    {
      "cell_type": "code",
      "source": [
        "kappa_v, theta_v, sigma_v, rho, v0 = h93_params_bates_FFT\n",
        "def B96_error_function_FFT(p0):\n",
        "    \"\"\"\n",
        "    Error function for Bates (1996) model\n",
        "\n",
        "    Parameters:\n",
        "    -------------\n",
        "    lamb: float\n",
        "        jump intensity\n",
        "    mu: float\n",
        "        expected jump size\n",
        "    delta: float\n",
        "        standard deviation of jump\n",
        "    Returns\n",
        "    -------------\n",
        "    MSE: float\n",
        "        mean squared error\n",
        "    \"\"\"\n",
        "\n",
        "    global i, min_MSE, local_opt, opt1\n",
        "    lamb, mu, delta = p0\n",
        "    if lamb < 0.0 or mu < -0.6 or mu > 0.0 or delta < 0.0:\n",
        "        return 5000.0\n",
        "    se = []\n",
        "    for row, option in options.iterrows():\n",
        "      if option[\"Type\"] == \"C\":\n",
        "          model_value = B96_call_FFT(\n",
        "              S0,\n",
        "              option[\"Strike\"],\n",
        "              option[\"Days to maturity\"] / days_per_year,\n",
        "              r,\n",
        "              kappa_v,\n",
        "              theta_v,\n",
        "              sigma_v,\n",
        "              rho,\n",
        "              v0,\n",
        "              lamb,\n",
        "              mu,\n",
        "              delta,\n",
        "          )\n",
        "          se.append((model_value - option[\"Price\"]) ** 2)\n",
        "      else:\n",
        "        model_value = B96_put_FFT(\n",
        "              S0,\n",
        "              option[\"Strike\"],\n",
        "              option[\"Days to maturity\"] / days_per_year,\n",
        "              r,\n",
        "              kappa_v,\n",
        "              theta_v,\n",
        "              sigma_v,\n",
        "              rho,\n",
        "              v0,\n",
        "              lamb,\n",
        "              mu,\n",
        "              delta,\n",
        "          )\n",
        "        se.append((model_value - option[\"Price\"]) ** 2)\n",
        "    MSE = sum(se) / len(se)\n",
        "    min_MSE = min(min_MSE, MSE)\n",
        "    if i % 25 == 0:\n",
        "        print(\"%4d |\" % i, np.array(p0), \"| %7.3f | %7.3f\" % (MSE, min_MSE))\n",
        "    i += 1\n",
        "    if local_opt:\n",
        "        penalty = np.sqrt(np.sum((p0 - opt1) ** 2)) * 1\n",
        "        return MSE + penalty\n",
        "    return MSE"
      ],
      "metadata": {
        "id": "NWrTxw23Un_9"
      },
      "execution_count": 257,
      "outputs": []
    },
    {
      "cell_type": "code",
      "source": [
        "def B96_calibration_short_FFT():\n",
        "    \"\"\"\n",
        "    Calibrates jump component of Bates (1996) model to market prices\n",
        "    \"\"\"\n",
        "    # First, we run with brute force\n",
        "    # (scan sensible regions)\n",
        "    global opt1, opt2, local_opt\n",
        "    local_opt = False\n",
        "    opt1 = 0.0\n",
        "    opt1 = brute(\n",
        "        B96_error_function,\n",
        "        (\n",
        "            (0.0, 0.51, 0.1),  # lambda\n",
        "            (-0.5, -0.11, 0.1),  # mu\n",
        "            (0.0, 0.51, 0.25),\n",
        "        ),  # delta\n",
        "        finish=None,\n",
        "    )\n",
        "    local_opt = True\n",
        "    # Second, we run with local, convex minimization\n",
        "    # (dig deeper where promising)\n",
        "    opt2 = fmin(\n",
        "        B96_error_function_FFT,\n",
        "        opt1,\n",
        "        xtol=0.0000001,\n",
        "        ftol=0.0000001,\n",
        "        maxiter=550,\n",
        "        maxfun=750,\n",
        "    )\n",
        "    return opt2"
      ],
      "metadata": {
        "id": "kQme93NgUwNS"
      },
      "execution_count": 258,
      "outputs": []
    },
    {
      "cell_type": "code",
      "source": [
        "i=0\n",
        "min_MSE=5000\n",
        "params_FFT = B96_calibration_short_FFT()"
      ],
      "metadata": {
        "colab": {
          "base_uri": "https://localhost:8080/"
        },
        "id": "9k2c1sXTUy42",
        "outputId": "fcf16692-dc38-4e08-e0fb-e8f5836faf40"
      },
      "execution_count": 259,
      "outputs": [
        {
          "output_type": "stream",
          "name": "stdout",
          "text": [
            "   0 | [ 0.  -0.5  0. ] |   2.440 |   2.440\n",
            "  25 | [ 0.2  -0.5   0.25] |   2.209 |   1.587\n",
            "  50 | [ 0.4 -0.5  0.5] |  10.221 |   1.587\n",
            "  75 | [ 4.0e-01 -2.0e-01  2.5e-04] |   1.582 |   1.582\n",
            " 100 | [ 3.99869655e-01 -1.99759712e-01  1.28818256e-04] |   1.582 |   1.582\n",
            " 125 | [ 4.00000568e-01 -1.99984552e-01  9.49259232e-06] |   1.582 |   1.582\n",
            " 150 | [ 4.00000317e-01 -1.99999129e-01  6.55330370e-07] |   1.582 |   1.582\n",
            "Optimization terminated successfully.\n",
            "         Current function value: 1.582206\n",
            "         Iterations: 70\n",
            "         Function evaluations: 125\n"
          ]
        }
      ]
    },
    {
      "cell_type": "code",
      "source": [
        "params"
      ],
      "metadata": {
        "colab": {
          "base_uri": "https://localhost:8080/"
        },
        "id": "Eu-N-9ZoAjEa",
        "outputId": "dac51ac9-73ba-40f0-88a0-d7d0791c68f8"
      },
      "execution_count": 260,
      "outputs": [
        {
          "output_type": "execute_result",
          "data": {
            "text/plain": [
              "array([ 0.4, -0.2,  0. ])"
            ]
          },
          "metadata": {},
          "execution_count": 260
        }
      ]
    },
    {
      "cell_type": "code",
      "source": [
        "params_FFT"
      ],
      "metadata": {
        "colab": {
          "base_uri": "https://localhost:8080/"
        },
        "id": "7LRRGgVaAket",
        "outputId": "3109b89e-e467-440a-ab65-3c880f4f6c51"
      },
      "execution_count": 261,
      "outputs": [
        {
          "output_type": "execute_result",
          "data": {
            "text/plain": [
              "array([ 0.4, -0.2,  0. ])"
            ]
          },
          "metadata": {},
          "execution_count": 261
        }
      ]
    },
    {
      "cell_type": "markdown",
      "source": [
        "We can repeat the process of using the previously calibrated values as inputs for the full calibration of the model.\n",
        "\n",
        "In this case, our inputs will not only consist on the parameters from the stochastic volatility model ($\\kappa_\\nu$, $\\theta_\\nu$, $\\sigma_\\nu$, $\\rho$, $\\nu_0$), but also those from the jump component ($λ$, $\\mu$, $\\delta$)."
      ],
      "metadata": {
        "id": "XRzFecKwFWLc"
      }
    },
    {
      "cell_type": "code",
      "source": [
        "i = 0\n",
        "min_MSE = 5000.0\n",
        "\n",
        "\n",
        "def B96_full_error_function(p0):\n",
        "    global i, min_MSE\n",
        "    kappa_v, theta_v, sigma_v, rho, v0, lamb, mu, delta = p0\n",
        "\n",
        "    if (\n",
        "        kappa_v < 0.0\n",
        "        or theta_v < 0.005\n",
        "        or sigma_v < 0.0\n",
        "        or rho < -1.0\n",
        "        or rho > 1.0\n",
        "        or v0 < 0.0\n",
        "        or lamb < 0.0\n",
        "        or mu < -0.6\n",
        "        or mu > 0.0\n",
        "        or delta < 0.0\n",
        "    ):\n",
        "        return 5000.0\n",
        "\n",
        "    if 2 * kappa_v * theta_v < sigma_v**2:\n",
        "        return 5000.0\n",
        "\n",
        "    se = []\n",
        "    for row, option in options.iterrows():\n",
        "      if option[\"Type\"] == \"C\":\n",
        "          model_value = B96_call_value(\n",
        "              S0,\n",
        "              option[\"Strike\"],\n",
        "              option[\"Days to maturity\"] / days_per_year,\n",
        "              r,\n",
        "              kappa_v,\n",
        "              theta_v,\n",
        "              sigma_v,\n",
        "              rho,\n",
        "              v0,\n",
        "              lamb,\n",
        "              mu,\n",
        "              delta,\n",
        "          )\n",
        "          se.append((model_value - option[\"Price\"]) ** 2)\n",
        "      else:\n",
        "        model_value = B96_put_value(\n",
        "              S0,\n",
        "              option[\"Strike\"],\n",
        "              option[\"Days to maturity\"] / days_per_year,\n",
        "              r,\n",
        "              kappa_v,\n",
        "              theta_v,\n",
        "              sigma_v,\n",
        "              rho,\n",
        "              v0,\n",
        "              lamb,\n",
        "              mu,\n",
        "              delta,\n",
        "          )\n",
        "        se.append((model_value - option[\"Price\"]) ** 2)\n",
        "    MSE = sum(se) / len(se)\n",
        "    min_MSE = min(min_MSE, MSE)\n",
        "    if i % 25 == 0:\n",
        "        print(\"%4d |\" % i, np.array(p0), \"| %7.3f | %7.3f\" % (MSE, min_MSE))\n",
        "    i += 1\n",
        "    return MSE"
      ],
      "metadata": {
        "id": "ApMCmlV4ERz4"
      },
      "execution_count": 262,
      "outputs": []
    },
    {
      "cell_type": "code",
      "source": [
        "lamb, mu, delta = params\n",
        "\n",
        "p0 =  [kappa_v, theta_v, sigma_v, rho, v0, lamb, mu, delta]\n",
        "p0"
      ],
      "metadata": {
        "colab": {
          "base_uri": "https://localhost:8080/"
        },
        "id": "858J9-fkGuGI",
        "outputId": "30aa605d-b224-4930-f2d1-236792b92031"
      },
      "execution_count": 263,
      "outputs": [
        {
          "output_type": "execute_result",
          "data": {
            "text/plain": [
              "[19.074355234361363,\n",
              " 0.12035056598539409,\n",
              " 0.09941008896858974,\n",
              " -0.9999999912954931,\n",
              " 4.158522431231629e-10,\n",
              " 0.4,\n",
              " -0.19999999999999996,\n",
              " 0.0]"
            ]
          },
          "metadata": {},
          "execution_count": 263
        }
      ]
    },
    {
      "cell_type": "code",
      "source": [
        "def B96_calibration_full():\n",
        "    opt = fmin(\n",
        "        B96_full_error_function, p0, xtol=0.0000001, ftol=0.0000001, maxiter=1250, maxfun=650\n",
        "    )\n",
        "    return opt"
      ],
      "metadata": {
        "id": "--BmQ9ZdE1V4"
      },
      "execution_count": 264,
      "outputs": []
    },
    {
      "cell_type": "code",
      "source": [
        "params_bates_full = B96_calibration_full()"
      ],
      "metadata": {
        "colab": {
          "base_uri": "https://localhost:8080/"
        },
        "id": "wlpk7HqKVPOB",
        "outputId": "f76abce1-8a1e-4430-a744-f2203e06e872"
      },
      "execution_count": 265,
      "outputs": [
        {
          "output_type": "stream",
          "name": "stdout",
          "text": [
            "   0 | [ 1.90743552e+01  1.20350566e-01  9.94100890e-02 -9.99999991e-01\n",
            "  4.15852243e-10  4.00000000e-01 -2.00000000e-01  0.00000000e+00] |   1.582 |   1.582\n",
            "  25 | [ 1.92278935e+01  1.20497334e-01  1.00070317e-01 -9.94042551e-01\n",
            "  4.23000051e-10  3.99238119e-01 -1.98077343e-01  8.59416730e-05] |   1.581 |   1.578\n",
            "  50 | [ 2.15086536e+01  1.26380712e-01  7.47939435e-02 -9.35961618e-01\n",
            "  4.11889346e-10  3.88581301e-01 -1.41902422e-01  1.47326334e-03] |   1.568 |   1.560\n",
            "  75 | [ 2.45847850e+01  1.28411759e-01  6.03571180e-02 -8.55683432e-01\n",
            "  3.39893078e-10  4.21909558e-01 -5.88906947e-02  2.30808471e-03] |   1.547 |   1.546\n",
            " 100 | [ 2.64078196e+01  1.28352550e-01  4.60835962e-02 -8.03256254e-01\n",
            "  3.43569911e-10  4.73115544e-01 -3.57295516e-03  2.54738792e-03] |   1.544 |   1.543\n",
            " 125 | [ 2.61690216e+01  1.28032316e-01  2.39210708e-02 -7.96811850e-01\n",
            "  3.60271070e-10  4.68981887e-01 -7.44900901e-03  3.19069503e-03] |   1.541 |   1.540\n",
            " 150 | [ 2.50364898e+01  1.28370019e-01  1.16016635e-03 -8.10425154e-01\n",
            "  3.75299977e-10  4.44191061e-01 -3.06732819e-02  3.98064287e-03] |   1.539 |   1.539\n",
            " 175 | [ 2.53742214e+01  1.28434411e-01  5.12005085e-04 -8.01304330e-01\n",
            "  3.62257264e-10  4.61943931e-01 -1.67972035e-02  4.00962174e-03] |   1.539 |   1.538\n",
            " 200 | [ 2.53735962e+01  1.28356106e-01  2.08203635e-04 -8.01002732e-01\n",
            "  3.60430355e-10  4.64309716e-01 -1.63192693e-02  4.01801707e-03] |   1.538 |   1.538\n",
            " 225 | [ 2.56396662e+01  1.28211497e-01  1.22834658e-05 -7.94888983e-01\n",
            "  3.55054989e-10  4.75448455e-01 -8.21551950e-03  3.99077138e-03] |   1.538 |   1.538\n",
            " 250 | [ 2.56805621e+01  1.28222778e-01  1.50894657e-05 -7.94075392e-01\n",
            "  3.53863948e-10  4.76604794e-01 -6.99248551e-03  3.99066827e-03] |   1.538 |   1.538\n",
            " 275 | [ 2.56633577e+01  1.28225527e-01  2.19500132e-05 -7.94456989e-01\n",
            "  3.54444721e-10  4.75913773e-01 -7.54858972e-03  3.99075493e-03] |   1.538 |   1.538\n",
            " 300 | [ 2.56724116e+01  1.28226865e-01  1.82811744e-05 -7.94236620e-01\n",
            "  3.53950271e-10  4.76382883e-01 -7.18724789e-03  3.99184205e-03] |   1.538 |   1.538\n",
            " 325 | [ 2.56741295e+01  1.28224676e-01  1.71987359e-05 -7.94194114e-01\n",
            "  3.53939616e-10  4.76466257e-01 -7.13811815e-03  3.99143618e-03] |   1.538 |   1.538\n",
            " 350 | [ 2.56746615e+01  1.28225074e-01  1.71196490e-05 -7.94182710e-01\n",
            "  3.53914141e-10  4.76481789e-01 -7.11994571e-03  3.99152899e-03] |   1.538 |   1.538\n",
            " 375 | [ 2.56751515e+01  1.28224850e-01  1.72086222e-05 -7.94171465e-01\n",
            "  3.53903519e-10  4.76501702e-01 -7.10494631e-03  3.99147805e-03] |   1.538 |   1.538\n",
            " 400 | [ 2.56749447e+01  1.28224975e-01  1.71280997e-05 -7.94176123e-01\n",
            "  3.53907611e-10  4.76492702e-01 -7.11124193e-03  3.99151032e-03] |   1.538 |   1.538\n",
            " 425 | [ 2.56749331e+01  1.28224988e-01  1.71256558e-05 -7.94176346e-01\n",
            "  3.53907664e-10  4.76492185e-01 -7.11153896e-03  3.99151441e-03] |   1.538 |   1.538\n",
            " 450 | [ 2.56749385e+01  1.28224984e-01  1.71249329e-05 -7.94176220e-01\n",
            "  3.53907569e-10  4.76492433e-01 -7.11137365e-03  3.99151353e-03] |   1.538 |   1.538\n",
            " 475 | [ 2.56749343e+01  1.28224986e-01  1.71233567e-05 -7.94176314e-01\n",
            "  3.53907650e-10  4.76492251e-01 -7.11150011e-03  3.99151420e-03] |   1.538 |   1.538\n",
            " 500 | [ 2.56749323e+01  1.28224987e-01  1.71227081e-05 -7.94176358e-01\n",
            "  3.53907694e-10  4.76492167e-01 -7.11156086e-03  3.99151447e-03] |   1.538 |   1.538\n",
            " 525 | [ 2.56749321e+01  1.28224987e-01  1.71225842e-05 -7.94176363e-01\n",
            "  3.53907702e-10  4.76492158e-01 -7.11156814e-03  3.99151446e-03] |   1.538 |   1.538\n",
            " 550 | [ 2.56749321e+01  1.28224987e-01  1.71225377e-05 -7.94176363e-01\n",
            "  3.53907702e-10  4.76492158e-01 -7.11156830e-03  3.99151447e-03] |   1.538 |   1.538\n",
            " 575 | [ 2.56749321e+01  1.28224987e-01  1.71225065e-05 -7.94176364e-01\n",
            "  3.53907703e-10  4.76492156e-01 -7.11156962e-03  3.99151447e-03] |   1.538 |   1.538\n"
          ]
        }
      ]
    },
    {
      "cell_type": "code",
      "source": [
        "i = 0\n",
        "min_MSE = 5000.0\n",
        "\n",
        "\n",
        "def B96_full_error_function_FFT(p0):\n",
        "    global i, min_MSE\n",
        "    kappa_v, theta_v, sigma_v, rho, v0, lamb, mu, delta = p0\n",
        "\n",
        "    if (\n",
        "        kappa_v < 0.0\n",
        "        or theta_v < 0.005\n",
        "        or sigma_v < 0.0\n",
        "        or rho < -1.0\n",
        "        or rho > 1.0\n",
        "        or v0 < 0.0\n",
        "        or lamb < 0.0\n",
        "        or mu < -0.6\n",
        "        or mu > 0.0\n",
        "        or delta < 0.0\n",
        "    ):\n",
        "        return 5000.0\n",
        "\n",
        "    if 2 * kappa_v * theta_v < sigma_v**2:\n",
        "        return 5000.0\n",
        "\n",
        "    se = []\n",
        "    for row, option in options.iterrows():\n",
        "      if option[\"Type\"] == \"C\":\n",
        "          model_value = B96_call_FFT(\n",
        "              S0,\n",
        "              option[\"Strike\"],\n",
        "              option[\"Days to maturity\"] / days_per_year,\n",
        "              r,\n",
        "              kappa_v,\n",
        "              theta_v,\n",
        "              sigma_v,\n",
        "              rho,\n",
        "              v0,\n",
        "              lamb,\n",
        "              mu,\n",
        "              delta,\n",
        "          )\n",
        "          se.append((model_value - option[\"Price\"]) ** 2)\n",
        "      else:\n",
        "        model_value = B96_put_FFT(\n",
        "              S0,\n",
        "              option[\"Strike\"],\n",
        "              option[\"Days to maturity\"] / days_per_year,\n",
        "              r,\n",
        "              kappa_v,\n",
        "              theta_v,\n",
        "              sigma_v,\n",
        "              rho,\n",
        "              v0,\n",
        "              lamb,\n",
        "              mu,\n",
        "              delta,\n",
        "          )\n",
        "        se.append((model_value - option[\"Price\"]) ** 2)\n",
        "    MSE = sum(se) / len(se)\n",
        "    min_MSE = min(min_MSE, MSE)\n",
        "    if i % 25 == 0:\n",
        "        print(\"%4d |\" % i, np.array(p0), \"| %7.3f | %7.3f\" % (MSE, min_MSE))\n",
        "    i += 1\n",
        "    return MSE"
      ],
      "metadata": {
        "id": "gtyuQSXGXqem"
      },
      "execution_count": 266,
      "outputs": []
    },
    {
      "cell_type": "code",
      "source": [
        "lamb, mu, delta = params_FFT"
      ],
      "metadata": {
        "id": "gyqP8VxfXwmw"
      },
      "execution_count": 267,
      "outputs": []
    },
    {
      "cell_type": "code",
      "source": [
        "kappa_v, theta_v, sigma_v, rho, v0 = h93_params_bates_FFT"
      ],
      "metadata": {
        "id": "s_8P1Ep7Xzl7"
      },
      "execution_count": 268,
      "outputs": []
    },
    {
      "cell_type": "code",
      "source": [
        "\n",
        "p0 =  [kappa_v, theta_v, sigma_v, rho, v0, lamb, mu, delta]\n",
        "p0"
      ],
      "metadata": {
        "colab": {
          "base_uri": "https://localhost:8080/"
        },
        "id": "8pjc12lTX_Je",
        "outputId": "4783ae4a-6e33-4af7-9759-c8f6cc13dedb"
      },
      "execution_count": 269,
      "outputs": [
        {
          "output_type": "execute_result",
          "data": {
            "text/plain": [
              "[19.074355234361363,\n",
              " 0.12035056598539409,\n",
              " 0.09941008896858974,\n",
              " -0.9999999912954931,\n",
              " 4.158522431231629e-10,\n",
              " 0.4,\n",
              " -0.19999999999999996,\n",
              " 0.0]"
            ]
          },
          "metadata": {},
          "execution_count": 269
        }
      ]
    },
    {
      "cell_type": "code",
      "source": [
        "def B96_calibration_full_FFT():\n",
        "    opt = fmin(\n",
        "        B96_full_error_function_FFT, p0, xtol=0.0000001, ftol=0.0000001, maxiter=1250, maxfun=650\n",
        "    )\n",
        "    return opt"
      ],
      "metadata": {
        "id": "nV5U46DMYCA7"
      },
      "execution_count": 270,
      "outputs": []
    },
    {
      "cell_type": "code",
      "source": [
        "i=0\n",
        "params_full_bates_FFT = B96_calibration_full_FFT()"
      ],
      "metadata": {
        "colab": {
          "base_uri": "https://localhost:8080/"
        },
        "id": "eeyJhWMuYJOT",
        "outputId": "6e12292c-5688-46d9-8e05-a8895c43c95d"
      },
      "execution_count": 271,
      "outputs": [
        {
          "output_type": "stream",
          "name": "stdout",
          "text": [
            "   0 | [ 1.90743552e+01  1.20350566e-01  9.94100890e-02 -9.99999991e-01\n",
            "  4.15852243e-10  4.00000000e-01 -2.00000000e-01  0.00000000e+00] |   1.582 |   1.582\n",
            "  25 | [ 1.92278935e+01  1.20497334e-01  1.00070317e-01 -9.94042551e-01\n",
            "  4.23000051e-10  3.99238119e-01 -1.98077343e-01  8.59416730e-05] |   1.581 |   1.578\n",
            "  50 | [ 2.15086536e+01  1.26380712e-01  7.47939435e-02 -9.35961618e-01\n",
            "  4.11889346e-10  3.88581301e-01 -1.41902422e-01  1.47326334e-03] |   1.568 |   1.560\n",
            "  75 | [ 2.45847850e+01  1.28411759e-01  6.03571180e-02 -8.55683432e-01\n",
            "  3.39893078e-10  4.21909558e-01 -5.88906947e-02  2.30808471e-03] |   1.547 |   1.546\n",
            " 100 | [ 2.64078196e+01  1.28352550e-01  4.60835962e-02 -8.03256254e-01\n",
            "  3.43569911e-10  4.73115544e-01 -3.57295516e-03  2.54738792e-03] |   1.544 |   1.543\n",
            " 125 | [ 2.61690216e+01  1.28032316e-01  2.39210708e-02 -7.96811850e-01\n",
            "  3.60271070e-10  4.68981887e-01 -7.44900901e-03  3.19069503e-03] |   1.541 |   1.540\n",
            " 150 | [ 2.50364898e+01  1.28370019e-01  1.16016635e-03 -8.10425154e-01\n",
            "  3.75299977e-10  4.44191061e-01 -3.06732819e-02  3.98064287e-03] |   1.539 |   1.539\n",
            " 175 | [ 2.53742214e+01  1.28434411e-01  5.12005085e-04 -8.01304330e-01\n",
            "  3.62257264e-10  4.61943931e-01 -1.67972035e-02  4.00962174e-03] |   1.539 |   1.538\n",
            " 200 | [ 2.53735962e+01  1.28356106e-01  2.08203635e-04 -8.01002732e-01\n",
            "  3.60430355e-10  4.64309716e-01 -1.63192693e-02  4.01801707e-03] |   1.538 |   1.538\n",
            " 225 | [ 2.55640695e+01  1.28276146e-01  7.44337057e-05 -7.96631237e-01\n",
            "  3.56380581e-10  4.72118824e-01 -1.04197727e-02  4.00149829e-03] |   1.538 |   1.538\n",
            " 250 | [ 2.55965652e+01  1.28243401e-01  5.94775317e-06 -7.95807409e-01\n",
            "  3.56182873e-10  4.73498876e-01 -9.47514810e-03  3.99734991e-03] |   1.538 |   1.538\n",
            " 275 | [ 2.56415870e+01  1.28233000e-01  4.51871029e-06 -7.94902620e-01\n",
            "  3.55106642e-10  4.75015402e-01 -8.20895944e-03  3.99323314e-03] |   1.538 |   1.538\n",
            " 300 | [ 2.56433692e+01  1.28233074e-01  3.03547283e-06 -7.94863312e-01\n",
            "  3.55035255e-10  4.75089714e-01 -8.14815336e-03  3.99330693e-03] |   1.538 |   1.538\n",
            " 325 | [ 2.56427644e+01  1.28233635e-01  1.69081872e-06 -7.94879151e-01\n",
            "  3.55053191e-10  4.75056566e-01 -8.17107520e-03  3.99335275e-03] |   1.538 |   1.538\n",
            " 350 | [ 2.56424304e+01  1.28233835e-01  1.13988897e-06 -7.94887255e-01\n",
            "  3.55063607e-10  4.75040502e-01 -8.18297537e-03  3.99337132e-03] |   1.538 |   1.538\n",
            " 375 | [ 2.56424610e+01  1.28233893e-01  1.14147349e-06 -7.94886847e-01\n",
            "  3.55060932e-10  4.75041439e-01 -8.18182167e-03  3.99337991e-03] |   1.538 |   1.538\n",
            " 400 | [ 2.56424116e+01  1.28233923e-01  1.09459294e-06 -7.94888001e-01\n",
            "  3.55062226e-10  4.75039212e-01 -8.18345600e-03  3.99338435e-03] |   1.539 |   1.538\n",
            " 425 | [ 2.56424197e+01  1.28233909e-01  1.10756542e-06 -7.94887747e-01\n",
            "  3.55062101e-10  4.75039778e-01 -8.18313422e-03  3.99338278e-03] |   1.538 |   1.538\n",
            " 450 | [ 2.56424176e+01  1.28233911e-01  1.10840609e-06 -7.94887799e-01\n",
            "  3.55062128e-10  4.75039681e-01 -8.18319436e-03  3.99338315e-03] |   1.539 |   1.537\n",
            " 475 | [ 2.56424190e+01  1.28233912e-01  1.10769438e-06 -7.94887777e-01\n",
            "  3.55062091e-10  4.75039715e-01 -8.18315977e-03  3.99338298e-03] |   1.537 |   1.537\n",
            " 500 | [ 2.56424192e+01  1.28233912e-01  1.10773962e-06 -7.94887775e-01\n",
            "  3.55062082e-10  4.75039719e-01 -8.18315456e-03  3.99338302e-03] |   1.538 |   1.537\n",
            " 525 | [ 2.56424192e+01  1.28233912e-01  1.10779524e-06 -7.94887774e-01\n",
            "  3.55062080e-10  4.75039720e-01 -8.18315332e-03  3.99338302e-03] |   1.538 |   1.537\n",
            " 550 | [ 2.56424192e+01  1.28233912e-01  1.10778841e-06 -7.94887774e-01\n",
            "  3.55062080e-10  4.75039721e-01 -8.18315289e-03  3.99338302e-03] |   1.537 |   1.537\n",
            " 575 | [ 2.56424192e+01  1.28233912e-01  1.10778604e-06 -7.94887774e-01\n",
            "  3.55062079e-10  4.75039721e-01 -8.18315273e-03  3.99338302e-03] |   1.539 |   1.537\n"
          ]
        }
      ]
    },
    {
      "cell_type": "markdown",
      "source": [
        "We get different values for the estimated parameters using the Lewis and Carr-Madan method."
      ],
      "metadata": {
        "id": "2oaOBvtjYrr6"
      }
    },
    {
      "cell_type": "markdown",
      "source": [
        "We can now use the estimated parameters to price our option."
      ],
      "metadata": {
        "id": "7_9L22UJaT1X"
      }
    },
    {
      "cell_type": "code",
      "source": [
        "kappa_v, theta_v, sigma_v, rho, v0, lamb, mu, delta = params_full_bates_FFT\n",
        "options_carr[\"Model\"] = 0.0\n",
        "for row, option in options_carr.iterrows():\n",
        "      if option[\"Type\"] == \"C\":\n",
        "        options_carr.loc[row, \"Model\"] = B96_call_FFT(\n",
        "            S0,\n",
        "            option[\"Strike\"],\n",
        "            option[\"Days to maturity\"] / days_per_year,\n",
        "            r,\n",
        "            kappa_v,\n",
        "            theta_v,\n",
        "            sigma_v,\n",
        "            rho,\n",
        "            v0, lamb, mu, delta\n",
        "        )\n",
        "      else:\n",
        "        options_carr.loc[row, \"Model\"] = model_value = B96_put_FFT(\n",
        "            S0,\n",
        "            option[\"Strike\"],\n",
        "            option[\"Days to maturity\"] / days_per_year,\n",
        "            r,\n",
        "            kappa_v,\n",
        "            theta_v,\n",
        "            sigma_v,\n",
        "            rho,\n",
        "            v0, lamb, mu, delta\n",
        "        )"
      ],
      "metadata": {
        "id": "XoRNmntgm_0J"
      },
      "execution_count": 293,
      "outputs": []
    },
    {
      "cell_type": "code",
      "source": [
        "options_carr.set_index(\"Strike\", inplace=True)\n",
        "options_carr[options_carr[\"Type\"] == \"C\"][[\"Price\", \"Model\"]].plot(\n",
        "            style=[\"b-\", \"ro\"], title=\"Prices for Call Options on SE (60 days to maturity)\")\n",
        "plt.ylabel(\"Option Value\")\n",
        "plt.xlabel(\"Strike Price\")"
      ],
      "metadata": {
        "colab": {
          "base_uri": "https://localhost:8080/",
          "height": 490
        },
        "id": "ghZCim5InVtt",
        "outputId": "0b92f1e4-e122-4780-e372-4057a5e673e6"
      },
      "execution_count": 294,
      "outputs": [
        {
          "output_type": "execute_result",
          "data": {
            "text/plain": [
              "Text(0.5, 0, 'Strike Price')"
            ]
          },
          "metadata": {},
          "execution_count": 294
        },
        {
          "output_type": "display_data",
          "data": {
            "text/plain": [
              "<Figure size 640x480 with 1 Axes>"
            ],
            "image/png": "[encoded data removed]"
          },
          "metadata": {}
        }
      ]
    },
    {
      "cell_type": "code",
      "source": [
        "kappa_v, theta_v, sigma_v, rho, v0, lamb, mu, delta = params_bates_full\n",
        "options_lewis[\"Model\"] = 0.0\n",
        "for row, option in options_lewis.iterrows():\n",
        "      if option[\"Type\"] == \"C\":\n",
        "        options_lewis.loc[row, \"Model\"] = B96_call_value(\n",
        "            S0,\n",
        "            option[\"Strike\"],\n",
        "            option[\"Days to maturity\"] / days_per_year,\n",
        "            r,\n",
        "            kappa_v,\n",
        "            theta_v,\n",
        "            sigma_v,\n",
        "            rho,\n",
        "            v0, lamb, mu, delta\n",
        "        )\n",
        "      else:\n",
        "        options_lewis.loc[row, \"Model\"] = model_value = B96_put_value(\n",
        "            S0,\n",
        "            option[\"Strike\"],\n",
        "            option[\"Days to maturity\"] / days_per_year,\n",
        "            r,\n",
        "            kappa_v,\n",
        "            theta_v,\n",
        "            sigma_v,\n",
        "            rho,\n",
        "            v0, lamb, mu, delta\n",
        "        )\n"
      ],
      "metadata": {
        "id": "4EGVkq8VtOP4"
      },
      "execution_count": 295,
      "outputs": []
    },
    {
      "cell_type": "code",
      "source": [
        "options_lewis.set_index(\"Strike\", inplace=True)\n",
        "options_lewis[options_lewis[\"Type\"] == \"C\"][[\"Price\", \"Model\"]].plot(\n",
        "            style=[\"b-\", \"ro\"], title=\"Prices for Call Options on SE (60 days to maturity)\")\n",
        "plt.ylabel(\"Option Value\")\n",
        "plt.xlabel(\"Strike Price\")"
      ],
      "metadata": {
        "colab": {
          "base_uri": "https://localhost:8080/",
          "height": 490
        },
        "id": "cOZD61XYthOp",
        "outputId": "1fb48a25-0ee1-4a13-be37-f51e48980e07"
      },
      "execution_count": 297,
      "outputs": [
        {
          "output_type": "execute_result",
          "data": {
            "text/plain": [
              "Text(0.5, 0, 'Strike Price')"
            ]
          },
          "metadata": {},
          "execution_count": 297
        },
        {
          "output_type": "display_data",
          "data": {
            "text/plain": [
              "<Figure size 640x480 with 1 Axes>"
            ],
            "image/png": "[encoded data removed]"
          },
          "metadata": {}
        }
      ]
    },
    {
      "cell_type": "code",
      "source": [
        "p = B96_put_FFT( S0,  S0*0.95,               70 / days_per_year,\n",
        "              r, *params_full_bates_FFT)\n",
        "print(f\"The price of the Put using the Carr-Madan method is {p:.2f}\")"
      ],
      "metadata": {
        "colab": {
          "base_uri": "https://localhost:8080/"
        },
        "id": "w8Y-RmYzaTeD",
        "outputId": "728064bc-657f-40a8-b017-512e34264e9f"
      },
      "execution_count": 298,
      "outputs": [
        {
          "output_type": "stream",
          "name": "stdout",
          "text": [
            "The price of the Put using the Carr-Madan method is 10.34\n"
          ]
        }
      ]
    },
    {
      "cell_type": "code",
      "source": [
        "p = B96_put_value( S0,  S0*0.95,               70 / days_per_year,\n",
        "              r, *params_bates_full)\n",
        "print(f\"The price of the Put using the Lewis method is {p:.2f}\")"
      ],
      "metadata": {
        "colab": {
          "base_uri": "https://localhost:8080/"
        },
        "id": "Xt3JRW5HbQav",
        "outputId": "22dd8f04-2523-4494-9713-01035ac07ab7"
      },
      "execution_count": 299,
      "outputs": [
        {
          "output_type": "stream",
          "name": "stdout",
          "text": [
            "The price of the Put using the Lewis method is 10.37\n"
          ]
        }
      ]
    },
    {
      "cell_type": "markdown",
      "source": [
        "After adding 4% for our fee, we get a price of \\$10.75 using the Carr-Madan method, or \\$10.78 using the Lewis method."
      ],
      "metadata": {
        "id": "8yeXlrvxIYXU"
      }
    },
    {
      "cell_type": "markdown",
      "source": [
        "\n",
        "\n",
        "# Step 3"
      ],
      "metadata": {
        "id": "rOKIDge8DVDK"
      }
    },
    {
      "cell_type": "markdown",
      "source": [
        "The Cox-Ingersoll-Ross (CIR) model is a popular mathematical model used to describe the behavior of interest rates over time. It was developed by economists John C. Cox, Jonathan E. Ingersoll Jr., and Stephen A. Ross in 1985. The CIR model is a variation of the Vasicek model and is widely used in financial modeling and derivatives pricing.\n",
        "\n",
        "The CIR model assumes that interest rates follow a mean-reverting process, meaning they tend to move towards a long-term average level. It addresses one of the limitations of the Vasicek model, which allowed for negative interest rates. The CIR model avoids negative interest rates by incorporating a non-negative parameter called the mean reversion level.\n",
        "\n",
        "The CIR model is defined by the following stochastic differential equation:\n",
        "\n",
        "$dR(t) = \\kappa(\\theta - R(t))dt + \\sigma \\sqrt{R(t)} dW(t)$\n",
        "\n",
        "where $R(t)$ represents the short-term interest rate at time t, $\\kappa$ is the speed of mean reversion, $\\theta$ is the mean reversion level, $\\sigma$ is the volatility parameter, and $dW(t)$ is a standard Wiener process (a mathematical term for random fluctuations).\n",
        "\n",
        "To calibrate the CIR model, a list of interest rates with various terms is typically used. The calibration process involves estimating the model parameters ($\\kappa$, $\\sigma$ and $\\theta$) that best fit the observed interest rate data. This is usually done by minimizing the difference between the model-generated interest rates and the observed rates using least squares regression."
      ],
      "metadata": {
        "id": "rQVeZvaAOvhW"
      }
    },
    {
      "cell_type": "code",
      "source": [
        "def cir(r0, k, theta, sigma, T, N, M):\n",
        "    dt = T / N\n",
        "    rates = np.zeros((N, M))\n",
        "    rates[0, :] = r0\n",
        "    for j in range(M):\n",
        "        for i in range(1, N):\n",
        "            dr = (\n",
        "                k * (theta - rates[i - 1, j]) * dt\n",
        "                + sigma\n",
        "                * np.sqrt(dt)\n",
        "                * np.sqrt(np.maximum(rates[i - 1, j], 0))\n",
        "                * np.random.normal()\n",
        "            )\n",
        "            rates[i, j] = rates[i - 1, j] + dr\n",
        "    return rates"
      ],
      "metadata": {
        "id": "p_OI05RNDVoz"
      },
      "execution_count": null,
      "outputs": []
    },
    {
      "cell_type": "code",
      "source": [
        "def CIR_forward_rate(alpha):\n",
        "    \"\"\"\n",
        "    Forward rates in CIR (1985) model\n",
        "    The set of parameters is called alpha and include Kappa_r, Theta_r and Sigma_r\n",
        "    \"\"\"\n",
        "\n",
        "    kappa_r, theta_r, sigma_r = alpha\n",
        "\n",
        "    t = mat_list_n\n",
        "    g = np.sqrt(kappa_r**2 + 2 * sigma_r**2)\n",
        "\n",
        "    s1 = (kappa_r * theta_r * (np.exp(g * t) - 1)) / (\n",
        "        2 * g + (kappa_r + g) * (np.exp(g * t) - 1)\n",
        "    )\n",
        "\n",
        "    s2 = r0 * (\n",
        "        (4 * g**2 * np.exp(g * t)) / (2 * g + (kappa_r + g) * (np.exp(g * t)) ** 2)\n",
        "    )\n",
        "\n",
        "    return s1 + s2"
      ],
      "metadata": {
        "id": "mOUSkJLWE92L"
      },
      "execution_count": null,
      "outputs": []
    },
    {
      "cell_type": "markdown",
      "source": [
        "We optimize the parameters by minimizing the mean squared error (MSE). This is, given $\\alpha$ equal to the set of parameters to calibrate:\n",
        "\n",
        "$$\n",
        "\\\n",
        "\\begin{equation*}\n",
        "  min \\frac{1}{M} \\sum_{m=0}^{M} \\left( f(0,m\\Delta t) - f^{CIR}(0,m\\Delta t; \\alpha) \\right)^2\n",
        "\\end{equation*}\n",
        "$$\n",
        "\\\n",
        "with $M = T / \\Delta t$, that is, the number of market data points between $0$ and $T$."
      ],
      "metadata": {
        "id": "7sQtAQ2VvPVn"
      }
    },
    {
      "cell_type": "code",
      "source": [
        "def CIR_error_function(alpha):\n",
        "    \"\"\"\n",
        "    Error function to calibrate CIR (1985) model\n",
        "    \"\"\"\n",
        "\n",
        "    kappa_r, theta_r, sigma_r = alpha\n",
        "\n",
        "    # Few remarks to avoid problems for certain values of parameters:\n",
        "    if 2 * kappa_r * theta_r < sigma_r**2:\n",
        "        return 100\n",
        "    if kappa_r < 0 or theta_r < 0 or sigma_r < 0.001:\n",
        "        return 100\n",
        "\n",
        "    forward_rates = CIR_forward_rate(alpha)\n",
        "    MSE = np.sum((f - forward_rates) ** 2) / len(f)\n",
        "\n",
        "    return MSE"
      ],
      "metadata": {
        "id": "UhLBlZKcvl1x"
      },
      "execution_count": null,
      "outputs": []
    },
    {
      "cell_type": "code",
      "source": [
        "mat_list = np.array((7, 30, 90, 180, 360)) / 360\n",
        "rate_list = (\n",
        "    np.array((0.648, 0.679, 1.173, 1.809, 2.556)) / 100\n",
        ")"
      ],
      "metadata": {
        "id": "Aztv-h6xFJTf"
      },
      "execution_count": null,
      "outputs": []
    },
    {
      "cell_type": "code",
      "source": [
        "r0 = rate_list[0]\n",
        "factors = 1 + mat_list * rate_list\n",
        "zero_rates = 1 / mat_list * np.log(factors)"
      ],
      "metadata": {
        "id": "pi4RucVNFafw"
      },
      "execution_count": null,
      "outputs": []
    },
    {
      "cell_type": "code",
      "source": [
        "import matplotlib.pyplot as plt\n",
        "plt.plot(mat_list, zero_rates, \"r.\", markersize=\"15\")\n",
        "plt.xlabel(\"Time Horizon\")\n",
        "plt.ylabel(\"Zero forward rate\")\n",
        "plt.title(\"Term Structure Euribor\")\n",
        "plt.show()"
      ],
      "metadata": {
        "colab": {
          "base_uri": "https://localhost:8080/",
          "height": 472
        },
        "id": "DMxUAJnoFgH-",
        "outputId": "dbb1b4d3-746d-4653-e035-3c4b753d3f97"
      },
      "execution_count": null,
      "outputs": [
        {
          "output_type": "display_data",
          "data": {
            "text/plain": [
              "<Figure size 640x480 with 1 Axes>"
            ],
            "image/png": "[encoded data removed]"
          },
          "metadata": {}
        }
      ]
    },
    {
      "cell_type": "code",
      "source": [
        "from scipy.interpolate import splev, splrep"
      ],
      "metadata": {
        "id": "_bAkIY7iFmda"
      },
      "execution_count": null,
      "outputs": []
    },
    {
      "cell_type": "code",
      "source": [
        "bspline = splrep(mat_list, zero_rates, k=3)  # Cubic spline\n",
        "mat_list_n = np.linspace(\n",
        "    0.0, 1.0, 24\n",
        ")  # Create 24 equally spaced maturities between 0 and 1\n",
        "inter_rates = splev(mat_list_n, bspline, der=0)  # Interpolated rates\n",
        "\n",
        "first_der = splev(mat_list_n, bspline, der=1)  # First derivative of spline\n",
        "f = (\n",
        "    inter_rates + first_der * mat_list_n\n",
        ")  # Forward rate given interpolated ones and first derivative"
      ],
      "metadata": {
        "id": "qtiygBmeFqmm"
      },
      "execution_count": null,
      "outputs": []
    },
    {
      "cell_type": "code",
      "source": [
        "plt.figure(figsize=(12, 6))\n",
        "plt.plot(mat_list, zero_rates, \"r.\", markersize=\"15\", label=\"Market quotes\")\n",
        "plt.plot(mat_list_n, inter_rates, \"--\", markersize=\"10\", label=\"Interpolation\")\n",
        "plt.plot(mat_list_n, first_der, \"g--\", markersize=\"10\", label=\"1st derivative\")\n",
        "plt.xlabel(\"Time Horizon\")\n",
        "plt.ylabel(\"Zero forward rate\")\n",
        "plt.title(\"Term Structure Euribor\")\n",
        "plt.legend()\n",
        "plt.show()"
      ],
      "metadata": {
        "colab": {
          "base_uri": "https://localhost:8080/",
          "height": 564
        },
        "id": "m4CV4mhfFsJZ",
        "outputId": "6bdf692c-f311-437d-ce1a-8c005f278e34"
      },
      "execution_count": null,
      "outputs": [
        {
          "output_type": "display_data",
          "data": {
            "text/plain": [
              "<Figure size 1200x600 with 1 Axes>"
            ],
            "image/png": "[encoded data removed]"
          },
          "metadata": {}
        }
      ]
    },
    {
      "cell_type": "code",
      "source": [
        "def CIR_calibration():\n",
        "    opt = fmin(\n",
        "        CIR_error_function,\n",
        "        [1.0, 0.02, 0.1],\n",
        "        xtol=0.00001,\n",
        "        ftol=0.00001,\n",
        "        maxiter=300,\n",
        "        maxfun=500,\n",
        "    )\n",
        "\n",
        "    return opt"
      ],
      "metadata": {
        "id": "_0L9dt_8Ft5p"
      },
      "execution_count": null,
      "outputs": []
    },
    {
      "cell_type": "code",
      "source": [
        "params = CIR_calibration()\n",
        "params"
      ],
      "metadata": {
        "colab": {
          "base_uri": "https://localhost:8080/"
        },
        "id": "Sduf9crLF5vT",
        "outputId": "25110b6e-8b2d-463e-d5a2-9012373eac83"
      },
      "execution_count": null,
      "outputs": [
        {
          "output_type": "stream",
          "name": "stdout",
          "text": [
            "Optimization terminated successfully.\n",
            "         Current function value: 0.000003\n",
            "         Iterations: 161\n",
            "         Function evaluations: 288\n"
          ]
        },
        {
          "output_type": "execute_result",
          "data": {
            "text/plain": [
              "array([0.98908305, 0.10863186, 0.00100074])"
            ]
          },
          "metadata": {},
          "execution_count": 19
        }
      ]
    },
    {
      "cell_type": "code",
      "source": [
        "def plot_calibrated_frc(opt):\n",
        "    \"\"\"Plots market and calibrated forward rate curves.\"\"\"\n",
        "    forward_rates = CIR_forward_rate(opt)\n",
        "    plt.figure(figsize=(12, 8))\n",
        "    plt.subplot(211)\n",
        "    plt.title(\"CIR model calibration\")\n",
        "    plt.ylabel(\"Forward rate $f(0,T)$\")\n",
        "    plt.plot(mat_list_n, f, \"ro\", label=\"market\")\n",
        "    plt.plot(mat_list_n, forward_rates, \"b--\", label=\"model\")\n",
        "    plt.legend(loc=0)\n",
        "    plt.axis(\n",
        "        [min(mat_list_n) - 0.05, max(mat_list_n) + 0.05, min(f) - 0.005, max(f) * 1.1]\n",
        "    )\n",
        "    plt.subplot(212)\n",
        "    wi = 0.02\n",
        "    plt.bar(mat_list_n - wi / 2, forward_rates - f, width=wi)\n",
        "    plt.xlabel(\"Time horizon\")\n",
        "    plt.ylabel(\"Difference\")\n",
        "    plt.axis(\n",
        "        [\n",
        "            min(mat_list_n) - 0.05,\n",
        "            max(mat_list_n) + 0.05,\n",
        "            min(forward_rates - f) * 1.1,\n",
        "            max(forward_rates - f) * 1.1,\n",
        "        ]\n",
        "    )\n",
        "    plt.tight_layout()"
      ],
      "metadata": {
        "id": "sOnEkUE3F7wj"
      },
      "execution_count": null,
      "outputs": []
    },
    {
      "cell_type": "markdown",
      "source": [
        "Now we can plot the predicted forward rates compared with the market forward rates in order to check the fit of the model."
      ],
      "metadata": {
        "id": "zca0Ay80PfM-"
      }
    },
    {
      "cell_type": "code",
      "source": [
        "plot_calibrated_frc(params)"
      ],
      "metadata": {
        "colab": {
          "base_uri": "https://localhost:8080/",
          "height": 807
        },
        "id": "E5ocKc9EF-RS",
        "outputId": "70acda29-c09c-4861-e9c9-ff438aed822a"
      },
      "execution_count": null,
      "outputs": [
        {
          "output_type": "display_data",
          "data": {
            "text/plain": [
              "<Figure size 1200x800 with 2 Axes>"
            ],
            "image/png": "[encoded data removed]"
          },
          "metadata": {}
        }
      ]
    },
    {
      "cell_type": "markdown",
      "source": [
        "We obtained the values\n",
        "\n",
        "* $\\kappa = 0.98908305$\n",
        "* $\\theta = 0.10863186$\n",
        "* $\\sigma = 0.0010074$\n",
        "\n",
        "Here: $\\kappa$ is the rate at which the interest rate reverts to the mean, $\\theta$ is the long term mean interest rate, $\\sigma$ is the volatility."
      ],
      "metadata": {
        "id": "6uGAykLUPxdg"
      }
    },
    {
      "cell_type": "code",
      "source": [
        "params"
      ],
      "metadata": {
        "colab": {
          "base_uri": "https://localhost:8080/"
        },
        "id": "P5EPzNN-F_0F",
        "outputId": "89c957c3-2b13-42ac-cdb8-d70ed2174861"
      },
      "execution_count": null,
      "outputs": [
        {
          "output_type": "execute_result",
          "data": {
            "text/plain": [
              "array([0.98908305, 0.10863186, 0.00100074])"
            ]
          },
          "metadata": {},
          "execution_count": 22
        }
      ]
    },
    {
      "cell_type": "markdown",
      "source": [
        "We perform a Monte Carlo simulation of the 12 month rate for the next 250 trading days; we calculate 100,000 different paths where each path is a simulation using the CIR stochastic differential equation of the 12-month Euribor rate."
      ],
      "metadata": {
        "id": "QbQNsMcgP_VV"
      }
    },
    {
      "cell_type": "code",
      "source": [
        "rates = cir(2.556/100, 0.98908305, 0.10863186, 0.00100074, 1, 250, 100000)"
      ],
      "metadata": {
        "id": "CYISxXzCGTlt"
      },
      "execution_count": null,
      "outputs": []
    },
    {
      "cell_type": "code",
      "source": [
        "for j in range(10000):\n",
        "    plt.plot(np.linspace(0, 1, 250), rates[:, j])\n",
        "\n",
        "plt.xlabel(\"Time $t$\", fontsize=14)\n",
        "plt.ylabel(\"$r(t)$\", fontsize=14)\n",
        "plt.title(\"CIR Paths\", fontsize=14)\n",
        "axes = plt.gca()\n",
        "axes.set_xlim([0, 1])\n",
        "plt.xticks(fontsize=14)\n",
        "plt.yticks(fontsize=14)\n",
        "plt.tight_layout()\n",
        "plt.show()"
      ],
      "metadata": {
        "colab": {
          "base_uri": "https://localhost:8080/",
          "height": 486
        },
        "id": "edBSG5iZtAC8",
        "outputId": "5548b8be-4e08-4deb-932f-a0f94a61c3fc"
      },
      "execution_count": null,
      "outputs": [
        {
          "output_type": "display_data",
          "data": {
            "text/plain": [
              "<Figure size 640x480 with 1 Axes>"
            ],
            "image/png": "[encoded data removed]"
          },
          "metadata": {}
        }
      ]
    },
    {
      "cell_type": "markdown",
      "source": [
        "To find the expected value of the 12-month Euribor in 1 year, we can look at the values we get after one year in the various Monte Carlo paths, and take the average."
      ],
      "metadata": {
        "id": "v8IN2BQxQhbl"
      }
    },
    {
      "cell_type": "code",
      "source": [
        "np.mean(rates[-1])"
      ],
      "metadata": {
        "colab": {
          "base_uri": "https://localhost:8080/"
        },
        "id": "fSIkFKggGhmw",
        "outputId": "b4ac8fa0-1941-46dd-a6c5-b5d07399b50a"
      },
      "execution_count": null,
      "outputs": [
        {
          "output_type": "execute_result",
          "data": {
            "text/plain": [
              "0.07767427802154023"
            ]
          },
          "metadata": {},
          "execution_count": 36
        }
      ]
    },
    {
      "cell_type": "markdown",
      "source": [
        "To get a confidence interval for the range that the 12-month Euribor takes over the next year, we can look at the minima and maxima over the various paths, and then look at the 99th percentile for each."
      ],
      "metadata": {
        "id": "iCS3uPzbQg_H"
      }
    },
    {
      "cell_type": "code",
      "source": [
        "maxima = np.max(rates, axis=0)\n",
        "minima = np.min(rates, axis=0)"
      ],
      "metadata": {
        "id": "oB12z2EuKb1N"
      },
      "execution_count": null,
      "outputs": []
    },
    {
      "cell_type": "code",
      "source": [
        "np.percentile(maxima,99)"
      ],
      "metadata": {
        "colab": {
          "base_uri": "https://localhost:8080/"
        },
        "id": "ngfpiY87LKj-",
        "outputId": "d78cbbbc-6e72-44ce-c035-4efbf2d51171"
      },
      "execution_count": null,
      "outputs": [
        {
          "output_type": "execute_result",
          "data": {
            "text/plain": [
              "0.07806050875568603"
            ]
          },
          "metadata": {},
          "execution_count": 44
        }
      ]
    },
    {
      "cell_type": "code",
      "source": [
        "np.percentile(minima, 1)"
      ],
      "metadata": {
        "colab": {
          "base_uri": "https://localhost:8080/"
        },
        "id": "7S15v78mLdtN",
        "outputId": "4c70c5ea-c8f1-4dc5-d46e-a67d14ebc53e"
      },
      "execution_count": null,
      "outputs": [
        {
          "output_type": "execute_result",
          "data": {
            "text/plain": [
              "0.02556"
            ]
          },
          "metadata": {},
          "execution_count": 45
        }
      ]
    },
    {
      "cell_type": "code",
      "source": [
        "np.percentile(rates[-1], 99)"
      ],
      "metadata": {
        "colab": {
          "base_uri": "https://localhost:8080/"
        },
        "id": "z8xmDqlKQ2rf",
        "outputId": "8dea37c8-ce9f-4942-cad0-d7f69d580c6b"
      },
      "execution_count": null,
      "outputs": [
        {
          "output_type": "execute_result",
          "data": {
            "text/plain": [
              "0.07806050875568603"
            ]
          },
          "metadata": {},
          "execution_count": 41
        }
      ]
    },
    {
      "cell_type": "code",
      "source": [
        "np.percentile(rates[-1], 1)"
      ],
      "metadata": {
        "colab": {
          "base_uri": "https://localhost:8080/"
        },
        "id": "85Ed_YZQQ7UH",
        "outputId": "7567ca86-ae0c-4cb8-ae74-f4033b34cd74"
      },
      "execution_count": null,
      "outputs": [
        {
          "output_type": "execute_result",
          "data": {
            "text/plain": [
              "0.07728384584380192"
            ]
          },
          "metadata": {},
          "execution_count": 42
        }
      ]
    },
    {
      "cell_type": "markdown",
      "source": [
        "\n",
        "1.  It looks like at a 99% confidence rate, the 12-month Euribor rate will stay in the range (2.5%, 7.8%) over the next 12 months.  The 99% confidence interval for the rate 12 months from now is (7.72%, 7.81%)\n",
        "\n",
        "2. The expected value for the Euribor rate in 1 year is 7.77%.\n",
        "\n",
        "3. The expected value is higher than the current 12-month rate; rho is positive for calls and negative for puts, so we would expect the price of calls to increase and the price of puts to decrease.\n"
      ],
      "metadata": {
        "id": "wVoYz0YhMqbz"
      }
    }
  ]
}